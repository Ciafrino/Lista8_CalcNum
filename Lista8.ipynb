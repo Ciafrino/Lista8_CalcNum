{
 "cells": [
  {
   "cell_type": "markdown",
   "metadata": {},
   "source": [
    "# Lista 8 de Cálculo Numérico"
   ]
  },
  {
   "cell_type": "code",
   "execution_count": 1,
   "metadata": {},
   "outputs": [],
   "source": [
    "using LinearAlgebra # Para uso da função norm\n",
    "using Plots # para plotar gráficos"
   ]
  },
  {
   "cell_type": "markdown",
   "metadata": {},
   "source": [
    "## Questão 1."
   ]
  },
  {
   "cell_type": "markdown",
   "metadata": {},
   "source": [
    "### a. Compressão (Thierry)"
   ]
  },
  {
   "cell_type": "markdown",
   "metadata": {},
   "source": [
    "### Compressão de Dados em Matrizes"
   ]
  },
  {
   "cell_type": "markdown",
   "metadata": {},
   "source": [
    "A ideia da compressão de dados é encontrarmos vetores base dentro da matriz tal que forneçam uma base para a composição de todos os dados. Porém, na vida real precisamos encontrar aproximações, visto que o uso de números reais acabam dificultando uma base L.I de poucos vetores representarem muitos dados.\n",
    "\n",
    "Na ideia simples, transformamos a matriz em uma multiplicação de duas matrizes, tal que a primeira seja os vetores base e a segunda os coeficientes das combinações lineares.\n",
    "\n",
    "Com a preocupação de se adequar aos números reais, começamos a analisar isso pelo erro da matriz original com a nova multiplicação das duas matrizes. Para quantificar o erro, usamos a ideia de norma de matriz, que é dada pela soma das normas de cada vetor (colunas) da matriz.\n",
    "\n",
    "Então, temos que dado a matriz A e o vetor b, precisamos determinar c tal que \n",
    "\n",
    "$$min ||A - [b][c^T]|| \\longrightarrow min ||[(a_1)(a_2)...(a_n)] - [c_1(b) c_2(b) ... c_n(b)]|| \\longrightarrow ||(a_1 - c_1b)(a_2-c_2b)...(a_n-c_nb)||$$\n",
    "\n",
    "Visto que $e_n = a_n - c_nb \\space \\bot \\space c_nb$, pelo produto interno temos que $e_n^Tc_nb = 0 \\longrightarrow (a_n - c_nb)^Tc_nb = 0$. Aplicando a transposta tal que $(M.Q)^T = Q^T.M^T$ e $(M - Q)^T = M^T - Q^T$ obtemos:\n",
    "\n",
    "$$(a_n - c_nb)^Tc_nb = 0 \\longrightarrow (a_n^T - (c_nb)^T)c_nb = 0 \\longrightarrow a_n^Tc_nb - c_n^2b^Tb = 0 \\longrightarrow a_n^Tc_nb = c_n^2b^Tb $$\n",
    "\n",
    "Desconsiderando o caso em que $c_n = 0$ pois é um caso muito trivial, podemos dividir a equação em ambos os lados por $c_n$, resultando em:\n",
    "\n",
    "$$a_n^Tb = c_nb^Tb \\longrightarrow c_n = \\frac{a_n^Tb}{b^Tb}$$\n",
    "\n",
    "A partir da análise feita acima podemos escrever um código em Julia para achar o vetor c:"
   ]
  },
  {
   "cell_type": "code",
   "execution_count": 2,
   "metadata": {},
   "outputs": [
    {
     "data": {
      "text/plain": [
       "melhores_coords (generic function with 1 method)"
      ]
     },
     "execution_count": 2,
     "metadata": {},
     "output_type": "execute_result"
    }
   ],
   "source": [
    "function melhores_coords(A,b) #retorna c tal que norm(A-b*c') é mínima\n",
    "    m, n = size(A)\n",
    "    A = 1.0 * A # multiplica-se por 1.0 para evitar erros de operações matriciais entre inteiros e float's.\n",
    "    c = zeros(n)    \n",
    "    c = A'*(b/(b'*b)) # Operação para achar o vetor c que minimiza a distância perpendicular à reta.\n",
    "    return c\n",
    "end"
   ]
  },
  {
   "cell_type": "code",
   "execution_count": 3,
   "metadata": {},
   "outputs": [
    {
     "data": {
      "text/plain": [
       "3×3 Array{Float64,2}:\n",
       " 1.0001  10.001  3.0\n",
       " 2.01    20.3    6.0\n",
       " 3.003   30.0    9.0"
      ]
     },
     "execution_count": 3,
     "metadata": {},
     "output_type": "execute_result"
    }
   ],
   "source": [
    "A=[1.0001 10.001 3;2.01 20.3 6;3.003 30 9]"
   ]
  },
  {
   "cell_type": "code",
   "execution_count": 4,
   "metadata": {},
   "outputs": [
    {
     "data": {
      "text/plain": [
       "3-element Array{Int64,1}:\n",
       " 1\n",
       " 2\n",
       " 3"
      ]
     },
     "execution_count": 4,
     "metadata": {},
     "output_type": "execute_result"
    }
   ],
   "source": [
    "b=[1;2;3]"
   ]
  },
  {
   "cell_type": "code",
   "execution_count": 5,
   "metadata": {},
   "outputs": [
    {
     "data": {
      "text/plain": [
       "3-element Array{Float64,1}:\n",
       "  1.0020785714285714\n",
       " 10.04292857142857\n",
       "  3.0"
      ]
     },
     "execution_count": 5,
     "metadata": {},
     "output_type": "execute_result"
    }
   ],
   "source": [
    "c=melhores_coords(A,b)"
   ]
  },
  {
   "cell_type": "code",
   "execution_count": 6,
   "metadata": {},
   "outputs": [
    {
     "data": {
      "text/plain": [
       "0.2534747564213406"
      ]
     },
     "execution_count": 6,
     "metadata": {},
     "output_type": "execute_result"
    }
   ],
   "source": [
    "norm(A-b*c')"
   ]
  },
  {
   "cell_type": "code",
   "execution_count": 7,
   "metadata": {},
   "outputs": [
    {
     "data": {
      "text/plain": [
       "acha_melhor_minimizacao (generic function with 1 method)"
      ]
     },
     "execution_count": 7,
     "metadata": {},
     "output_type": "execute_result"
    }
   ],
   "source": [
    "function acha_melhor_minimizacao(A)\n",
    "    n,m = size(A)\n",
    "\n",
    "    bv = randn(n)\n",
    "    cv = randn(m)\n",
    "    \n",
    "    bw = zeros(m)\n",
    "    cw = zeros(n)\n",
    "    \n",
    "    for i in 1:50\n",
    "        cv=melhores_coords(A, bv)\n",
    "        bw=cv\n",
    "        cw=melhores_coords(A', bw)\n",
    "        bv=cw\n",
    "    end\n",
    "    \n",
    "    return bv,cv\n",
    "end"
   ]
  },
  {
   "cell_type": "code",
   "execution_count": 8,
   "metadata": {},
   "outputs": [
    {
     "data": {
      "text/plain": [
       "compressao (generic function with 1 method)"
      ]
     },
     "execution_count": 8,
     "metadata": {},
     "output_type": "execute_result"
    }
   ],
   "source": [
    "function compressao(A,nível)\n",
    "    m,n=size(A)\n",
    "    B=zeros(m,nível)\n",
    "    C=zeros(n,nível)\n",
    "    \n",
    "    for i=1:nível\n",
    "        B[:,i], C[:,i] = acha_melhor_minimizacao(A)\n",
    "        A= A - B[:,i]*C[:,i]'\n",
    "    end\n",
    "    return B,C\n",
    "end"
   ]
  },
  {
   "cell_type": "code",
   "execution_count": 9,
   "metadata": {},
   "outputs": [
    {
     "data": {
      "text/plain": [
       "3×4 Array{Float64,2}:\n",
       " -0.279811   1.34256   0.774817  -0.357642\n",
       " -2.20998   -0.516419  0.318617  -0.843894\n",
       "  1.44253    0.622248  0.785725   0.0192598"
      ]
     },
     "execution_count": 9,
     "metadata": {},
     "output_type": "execute_result"
    }
   ],
   "source": [
    "A = randn(3,4)"
   ]
  },
  {
   "cell_type": "code",
   "execution_count": 10,
   "metadata": {},
   "outputs": [
    {
     "data": {
      "text/plain": [
       "([-0.01776039833256679 4.301253886598786 -1.2166342962410077; 0.46851074713316354 1.3118068011256332 1.2942657495204664; -0.30919996217714674 1.7406328200838934 2.031000646317074], [-4.680896527595124 -0.06845511992632569 0.056304985407706745; -1.4526281745256646 0.2658056145364806 -0.14257730070845331; -0.34059553021144695 0.22012878135388475 0.14635596467964979; -1.2522152142733944 -0.11232914986199045 -0.08488492457397774])"
      ]
     },
     "execution_count": 10,
     "metadata": {},
     "output_type": "execute_result"
    }
   ],
   "source": [
    "B,C = compressao(A,3)"
   ]
  },
  {
   "cell_type": "code",
   "execution_count": 11,
   "metadata": {},
   "outputs": [
    {
     "data": {
      "text/plain": [
       "1.4033044459902308e-16"
      ]
     },
     "execution_count": 11,
     "metadata": {},
     "output_type": "execute_result"
    }
   ],
   "source": [
    "norm(A-B*C')"
   ]
  },
  {
   "cell_type": "code",
   "execution_count": 12,
   "metadata": {},
   "outputs": [
    {
     "name": "stdout",
     "output_type": "stream",
     "text": [
      "1: 18.64801167401555\n",
      "2: 16.584175656384232\n",
      "3: 14.944560307195143\n",
      "4: 13.572386622364675\n",
      "5: 12.24376334380863\n",
      "6: 10.78013455999053\n",
      "7: 9.460841545715345\n",
      "8: 8.398931504523599\n",
      "9: 7.39405384757471\n",
      "10: 6.537942563968623\n",
      "11: 5.733057347924555\n",
      "12: 4.840770337253301\n",
      "13: 4.069201595936583\n",
      "14: 3.2157464978575536\n",
      "15: 2.5431920605195097\n",
      "16: 1.920678677181217\n",
      "17: 1.2120190736753238\n",
      "18: 0.4543786980714502\n",
      "19: 0.12236145167022447\n",
      "20: 5.1538926378924265e-15\n"
     ]
    }
   ],
   "source": [
    "# Chance pequena de existirem colunas Linearmente Dependentes\n",
    "N = 20\n",
    "A = randn(N, N)\n",
    "for i in 1:N\n",
    "    B,C = compressao(A, i)\n",
    "    print(i, \": \", norm(A-B*C'), \"\\n\")\n",
    "end"
   ]
  },
  {
   "cell_type": "code",
   "execution_count": 13,
   "metadata": {},
   "outputs": [
    {
     "name": "stdout",
     "output_type": "stream",
     "text": [
      "7.944109290391274e-15\n",
      "0.0\n",
      "NaN\n",
      "NaN\n",
      "NaN\n",
      "NaN\n",
      "NaN\n",
      "NaN\n",
      "NaN\n",
      "NaN\n"
     ]
    }
   ],
   "source": [
    "N = 20\n",
    "A = zeros(N, N)\n",
    "for i in 1:N\n",
    "    A[:, i] .= i\n",
    "end\n",
    "for i in 1:10\n",
    "    B,C = compressao(A, i)\n",
    "    print(norm(A-B*C'), \"\\n\")\n",
    "end"
   ]
  },
  {
   "cell_type": "markdown",
   "metadata": {},
   "source": [
    "### b. Gauss-Jacobi (Vinicius)"
   ]
  },
  {
   "cell_type": "markdown",
   "metadata": {},
   "source": [
    "O método utilizado será o do ponto fixo, em que iniciamos com o sistema linear:\n",
    "\n",
    "$$A.x=b$$\n",
    "\n",
    "Chamaremos $A=M-K$ para um $M$ facilmente invertível e um $K$ resto da matriz.\n",
    "\n",
    "$$M.x-K.x=b \\\\\n",
    "M.x=b+K.x \\\\\n",
    "x=M^{-1}.b+M^{-1}.K.x$$\n",
    "\n",
    "Chamaremos $M^{-1}.b$ de $c$ e o $M^{-1}.K$ de $R$:\n",
    "\n",
    "$$x=R.x+c$$\n",
    "\n",
    "Nosso método numérico a ser implementado em cima dessa equação é dar um chute inicial e ir substituindo nela:\n",
    "\n",
    "$$x^{(0)}=chute_{inicial}$$\n",
    "\n",
    "$$x^{(k+1)}=R.x^{(k)}+c$$\n",
    "\n",
    "No caso específico do **Gauss-Jacobi**, a **matriz $M$ facilmente inversível é uma diagonal.**"
   ]
  },
  {
   "cell_type": "code",
   "execution_count": 14,
   "metadata": {},
   "outputs": [
    {
     "data": {
      "text/plain": [
       "gauss_jacobi (generic function with 1 method)"
      ]
     },
     "execution_count": 14,
     "metadata": {},
     "output_type": "execute_result"
    }
   ],
   "source": [
    "# nao esta funcionando bem\n",
    "function gauss_jacobi(A,b,iteracoes)\n",
    "    M = Diagonal(A)\n",
    "    K = M-A\n",
    "    R = inv(M)*K\n",
    "    c = inv(M)*b\n",
    "    \n",
    "    #println(M)\n",
    "    #println(K)\n",
    "    #println(R)\n",
    "    #println(c)\n",
    "    \n",
    "    lin = length(b)\n",
    "    x = zeros(lin,1)\n",
    "    for i = 1:iteracoes\n",
    "        x = R*x + c\n",
    "    end\n",
    "    \n",
    "    return x\n",
    "end"
   ]
  },
  {
   "cell_type": "code",
   "execution_count": 15,
   "metadata": {},
   "outputs": [
    {
     "name": "stdout",
     "output_type": "stream",
     "text": [
      "Norma: 8.881784197001252e-16\n"
     ]
    }
   ],
   "source": [
    "A = [4 2 1 ; 1 5 1 ; 3 4 10]\n",
    "b = [7 ; 7 ; 17]\n",
    "\n",
    "x = gauss_jacobi(A,b,300)\n",
    "println(\"Norma: \", norm(A*x-b))"
   ]
  },
  {
   "cell_type": "code",
   "execution_count": 16,
   "metadata": {},
   "outputs": [
    {
     "name": "stdout",
     "output_type": "stream",
     "text": [
      "Norma: 1.1102230246251565e-16\n"
     ]
    }
   ],
   "source": [
    "A = [5 2 1 -1 ; 1 3 -1 1 ; 2 0 4 1 ; 1 1 1 8]\n",
    "b = [1 ; -1 ; 1 ; -3]\n",
    "\n",
    "x = gauss_jacobi(A,b,300)\n",
    "println(\"Norma: \", norm(A*x-b))"
   ]
  },
  {
   "cell_type": "markdown",
   "metadata": {},
   "source": [
    "### c. Gauss-Seidel (Vinicius)"
   ]
  },
  {
   "cell_type": "code",
   "execution_count": 17,
   "metadata": {},
   "outputs": [
    {
     "data": {
      "text/plain": [
       "gauss_seidel (generic function with 1 method)"
      ]
     },
     "execution_count": 17,
     "metadata": {},
     "output_type": "execute_result"
    }
   ],
   "source": [
    "# nao esta funcionando bem\n",
    "function gauss_seidel(A,b,iteracoes)\n",
    "    M = UpperTriangular(A)\n",
    "    K = M-A\n",
    "    R = inv(M)*K\n",
    "    c = inv(M)*b\n",
    "    \n",
    "    #println(M)\n",
    "    #println(K)\n",
    "    #println(R)\n",
    "    #println(c)\n",
    "    \n",
    "    lin = length(b)\n",
    "    x = zeros(lin,1)\n",
    "    for i = 1:iteracoes\n",
    "        x = R*x + c\n",
    "    end\n",
    "    \n",
    "    return x\n",
    "end"
   ]
  },
  {
   "cell_type": "code",
   "execution_count": 18,
   "metadata": {},
   "outputs": [
    {
     "name": "stdout",
     "output_type": "stream",
     "text": [
      "Norma: 8.881784197001252e-16\n"
     ]
    }
   ],
   "source": [
    "A = [4 2 1 ; 1 5 1 ; 3 4 10]\n",
    "b = [7 ; 7 ; 17]\n",
    "\n",
    "x = gauss_seidel(A,b,300)\n",
    "println(\"Norma: \", norm(A*x-b))"
   ]
  },
  {
   "cell_type": "code",
   "execution_count": 19,
   "metadata": {},
   "outputs": [
    {
     "name": "stdout",
     "output_type": "stream",
     "text": [
      "Norma: 2.220446049250313e-16\n"
     ]
    }
   ],
   "source": [
    "A = [5 2 1 -1 ; 1 3 -1 1 ; 2 0 4 1 ; 1 1 1 8]\n",
    "b = [1 ; -1 ; 1 ; -3]\n",
    "\n",
    "x = gauss_seidel(A,b,300)\n",
    "println(\"Norma: \", norm(A*x-b))"
   ]
  },
  {
   "cell_type": "markdown",
   "metadata": {},
   "source": [
    "## Questão 2. (Thierry)"
   ]
  },
  {
   "cell_type": "markdown",
   "metadata": {},
   "source": [
    "Equações:\n",
    "\n",
    "$$2x_1 + x_2 = 2$$\n",
    "$$-x_1 + 2x_2 = 2$$\n",
    "\n",
    "Logo,\n",
    "\n",
    "$$x_1 = 1 - \\frac{x_2}{2}$$\n",
    "$$x_1 = 2x_2 - 2$$\n",
    "\n",
    "E então,"
   ]
  },
  {
   "cell_type": "code",
   "execution_count": 20,
   "metadata": {},
   "outputs": [
    {
     "data": {
      "image/svg+xml": [
       "<?xml version=\"1.0\" encoding=\"utf-8\"?>\n",
       "<svg xmlns=\"http://www.w3.org/2000/svg\" xmlns:xlink=\"http://www.w3.org/1999/xlink\" width=\"600\" height=\"400\" viewBox=\"0 0 2400 1600\">\n",
       "<defs>\n",
       "  <clipPath id=\"clip530\">\n",
       "    <rect x=\"0\" y=\"0\" width=\"2400\" height=\"1600\"/>\n",
       "  </clipPath>\n",
       "</defs>\n",
       "<path clip-path=\"url(#clip530)\" d=\"\n",
       "M0 1600 L2400 1600 L2400 0 L0 0  Z\n",
       "  \" fill=\"#ffffff\" fill-rule=\"evenodd\" fill-opacity=\"1\"/>\n",
       "<defs>\n",
       "  <clipPath id=\"clip531\">\n",
       "    <rect x=\"480\" y=\"0\" width=\"1681\" height=\"1600\"/>\n",
       "  </clipPath>\n",
       "</defs>\n",
       "<path clip-path=\"url(#clip530)\" d=\"\n",
       "M178.867 1486.45 L2352.76 1486.45 L2352.76 47.2441 L178.867 47.2441  Z\n",
       "  \" fill=\"#ffffff\" fill-rule=\"evenodd\" fill-opacity=\"1\"/>\n",
       "<defs>\n",
       "  <clipPath id=\"clip532\">\n",
       "    <rect x=\"178\" y=\"47\" width=\"2175\" height=\"1440\"/>\n",
       "  </clipPath>\n",
       "</defs>\n",
       "<polyline clip-path=\"url(#clip532)\" style=\"stroke:#000000; stroke-width:2; stroke-opacity:0.1; fill:none\" points=\"\n",
       "  240.392,1486.45 240.392,47.2441 \n",
       "  \"/>\n",
       "<polyline clip-path=\"url(#clip532)\" style=\"stroke:#000000; stroke-width:2; stroke-opacity:0.1; fill:none\" points=\"\n",
       "  753.102,1486.45 753.102,47.2441 \n",
       "  \"/>\n",
       "<polyline clip-path=\"url(#clip532)\" style=\"stroke:#000000; stroke-width:2; stroke-opacity:0.1; fill:none\" points=\"\n",
       "  1265.81,1486.45 1265.81,47.2441 \n",
       "  \"/>\n",
       "<polyline clip-path=\"url(#clip532)\" style=\"stroke:#000000; stroke-width:2; stroke-opacity:0.1; fill:none\" points=\"\n",
       "  1778.52,1486.45 1778.52,47.2441 \n",
       "  \"/>\n",
       "<polyline clip-path=\"url(#clip532)\" style=\"stroke:#000000; stroke-width:2; stroke-opacity:0.1; fill:none\" points=\"\n",
       "  2291.23,1486.45 2291.23,47.2441 \n",
       "  \"/>\n",
       "<polyline clip-path=\"url(#clip530)\" style=\"stroke:#000000; stroke-width:4; stroke-opacity:1; fill:none\" points=\"\n",
       "  178.867,1486.45 2352.76,1486.45 \n",
       "  \"/>\n",
       "<polyline clip-path=\"url(#clip530)\" style=\"stroke:#000000; stroke-width:4; stroke-opacity:1; fill:none\" points=\"\n",
       "  240.392,1486.45 240.392,1469.18 \n",
       "  \"/>\n",
       "<polyline clip-path=\"url(#clip530)\" style=\"stroke:#000000; stroke-width:4; stroke-opacity:1; fill:none\" points=\"\n",
       "  753.102,1486.45 753.102,1469.18 \n",
       "  \"/>\n",
       "<polyline clip-path=\"url(#clip530)\" style=\"stroke:#000000; stroke-width:4; stroke-opacity:1; fill:none\" points=\"\n",
       "  1265.81,1486.45 1265.81,1469.18 \n",
       "  \"/>\n",
       "<polyline clip-path=\"url(#clip530)\" style=\"stroke:#000000; stroke-width:4; stroke-opacity:1; fill:none\" points=\"\n",
       "  1778.52,1486.45 1778.52,1469.18 \n",
       "  \"/>\n",
       "<polyline clip-path=\"url(#clip530)\" style=\"stroke:#000000; stroke-width:4; stroke-opacity:1; fill:none\" points=\"\n",
       "  2291.23,1486.45 2291.23,1469.18 \n",
       "  \"/>\n",
       "<path clip-path=\"url(#clip530)\" d=\"M 0 0 M194.455 1530.29 L224.13 1530.29 L224.13 1534.23 L194.455 1534.23 L194.455 1530.29 Z\" fill=\"#000000\" fill-rule=\"evenodd\" fill-opacity=\"1\" /><path clip-path=\"url(#clip530)\" d=\"M 0 0 M235.033 1543.18 L242.672 1543.18 L242.672 1516.82 L234.362 1518.49 L234.362 1514.23 L242.626 1512.56 L247.301 1512.56 L247.301 1543.18 L254.94 1543.18 L254.94 1547.12 L235.033 1547.12 L235.033 1543.18 Z\" fill=\"#000000\" fill-rule=\"evenodd\" fill-opacity=\"1\" /><path clip-path=\"url(#clip530)\" d=\"M 0 0 M274.385 1515.64 Q270.774 1515.64 268.945 1519.2 Q267.139 1522.75 267.139 1529.87 Q267.139 1536.98 268.945 1540.55 Q270.774 1544.09 274.385 1544.09 Q278.019 1544.09 279.824 1540.55 Q281.653 1536.98 281.653 1529.87 Q281.653 1522.75 279.824 1519.2 Q278.019 1515.64 274.385 1515.64 M274.385 1511.93 Q280.195 1511.93 283.25 1516.54 Q286.329 1521.12 286.329 1529.87 Q286.329 1538.6 283.25 1543.21 Q280.195 1547.79 274.385 1547.79 Q268.575 1547.79 265.496 1543.21 Q262.44 1538.6 262.44 1529.87 Q262.44 1521.12 265.496 1516.54 Q268.575 1511.93 274.385 1511.93 Z\" fill=\"#000000\" fill-rule=\"evenodd\" fill-opacity=\"1\" /><path clip-path=\"url(#clip530)\" d=\"M 0 0 M722.743 1530.29 L752.419 1530.29 L752.419 1534.23 L722.743 1534.23 L722.743 1530.29 Z\" fill=\"#000000\" fill-rule=\"evenodd\" fill-opacity=\"1\" /><path clip-path=\"url(#clip530)\" d=\"M 0 0 M762.558 1512.56 L780.914 1512.56 L780.914 1516.5 L766.84 1516.5 L766.84 1524.97 Q767.858 1524.62 768.877 1524.46 Q769.895 1524.27 770.914 1524.27 Q776.701 1524.27 780.081 1527.44 Q783.46 1530.62 783.46 1536.03 Q783.46 1541.61 779.988 1544.71 Q776.516 1547.79 770.196 1547.79 Q768.02 1547.79 765.752 1547.42 Q763.507 1547.05 761.099 1546.31 L761.099 1541.61 Q763.183 1542.74 765.405 1543.3 Q767.627 1543.86 770.104 1543.86 Q774.108 1543.86 776.446 1541.75 Q778.784 1539.64 778.784 1536.03 Q778.784 1532.42 776.446 1530.31 Q774.108 1528.21 770.104 1528.21 Q768.229 1528.21 766.354 1528.62 Q764.502 1529.04 762.558 1529.92 L762.558 1512.56 Z\" fill=\"#000000\" fill-rule=\"evenodd\" fill-opacity=\"1\" /><path clip-path=\"url(#clip530)\" d=\"M 0 0 M1265.81 1515.64 Q1262.2 1515.64 1260.37 1519.2 Q1258.57 1522.75 1258.57 1529.87 Q1258.57 1536.98 1260.37 1540.55 Q1262.2 1544.09 1265.81 1544.09 Q1269.45 1544.09 1271.25 1540.55 Q1273.08 1536.98 1273.08 1529.87 Q1273.08 1522.75 1271.25 1519.2 Q1269.45 1515.64 1265.81 1515.64 M1265.81 1511.93 Q1271.62 1511.93 1274.68 1516.54 Q1277.76 1521.12 1277.76 1529.87 Q1277.76 1538.6 1274.68 1543.21 Q1271.62 1547.79 1265.81 1547.79 Q1260 1547.79 1256.92 1543.21 Q1253.87 1538.6 1253.87 1529.87 Q1253.87 1521.12 1256.92 1516.54 Q1260 1511.93 1265.81 1511.93 Z\" fill=\"#000000\" fill-rule=\"evenodd\" fill-opacity=\"1\" /><path clip-path=\"url(#clip530)\" d=\"M 0 0 M1768.8 1512.56 L1787.16 1512.56 L1787.16 1516.5 L1773.08 1516.5 L1773.08 1524.97 Q1774.1 1524.62 1775.12 1524.46 Q1776.14 1524.27 1777.16 1524.27 Q1782.94 1524.27 1786.32 1527.44 Q1789.7 1530.62 1789.7 1536.03 Q1789.7 1541.61 1786.23 1544.71 Q1782.76 1547.79 1776.44 1547.79 Q1774.26 1547.79 1771.99 1547.42 Q1769.75 1547.05 1767.34 1546.31 L1767.34 1541.61 Q1769.42 1542.74 1771.65 1543.3 Q1773.87 1543.86 1776.35 1543.86 Q1780.35 1543.86 1782.69 1541.75 Q1785.03 1539.64 1785.03 1536.03 Q1785.03 1532.42 1782.69 1530.31 Q1780.35 1528.21 1776.35 1528.21 Q1774.47 1528.21 1772.6 1528.62 Q1770.74 1529.04 1768.8 1529.92 L1768.8 1512.56 Z\" fill=\"#000000\" fill-rule=\"evenodd\" fill-opacity=\"1\" /><path clip-path=\"url(#clip530)\" d=\"M 0 0 M2265.92 1543.18 L2273.56 1543.18 L2273.56 1516.82 L2265.25 1518.49 L2265.25 1514.23 L2273.51 1512.56 L2278.19 1512.56 L2278.19 1543.18 L2285.83 1543.18 L2285.83 1547.12 L2265.92 1547.12 L2265.92 1543.18 Z\" fill=\"#000000\" fill-rule=\"evenodd\" fill-opacity=\"1\" /><path clip-path=\"url(#clip530)\" d=\"M 0 0 M2305.27 1515.64 Q2301.66 1515.64 2299.83 1519.2 Q2298.02 1522.75 2298.02 1529.87 Q2298.02 1536.98 2299.83 1540.55 Q2301.66 1544.09 2305.27 1544.09 Q2308.9 1544.09 2310.71 1540.55 Q2312.54 1536.98 2312.54 1529.87 Q2312.54 1522.75 2310.71 1519.2 Q2308.9 1515.64 2305.27 1515.64 M2305.27 1511.93 Q2311.08 1511.93 2314.14 1516.54 Q2317.21 1521.12 2317.21 1529.87 Q2317.21 1538.6 2314.14 1543.21 Q2311.08 1547.79 2305.27 1547.79 Q2299.46 1547.79 2296.38 1543.21 Q2293.33 1538.6 2293.33 1529.87 Q2293.33 1521.12 2296.38 1516.54 Q2299.46 1511.93 2305.27 1511.93 Z\" fill=\"#000000\" fill-rule=\"evenodd\" fill-opacity=\"1\" /><polyline clip-path=\"url(#clip532)\" style=\"stroke:#000000; stroke-width:2; stroke-opacity:0.1; fill:none\" points=\"\n",
       "  178.867,1377.83 2352.76,1377.83 \n",
       "  \"/>\n",
       "<polyline clip-path=\"url(#clip532)\" style=\"stroke:#000000; stroke-width:2; stroke-opacity:0.1; fill:none\" points=\"\n",
       "  178.867,1038.39 2352.76,1038.39 \n",
       "  \"/>\n",
       "<polyline clip-path=\"url(#clip532)\" style=\"stroke:#000000; stroke-width:2; stroke-opacity:0.1; fill:none\" points=\"\n",
       "  178.867,698.959 2352.76,698.959 \n",
       "  \"/>\n",
       "<polyline clip-path=\"url(#clip532)\" style=\"stroke:#000000; stroke-width:2; stroke-opacity:0.1; fill:none\" points=\"\n",
       "  178.867,359.524 2352.76,359.524 \n",
       "  \"/>\n",
       "<polyline clip-path=\"url(#clip530)\" style=\"stroke:#000000; stroke-width:4; stroke-opacity:1; fill:none\" points=\"\n",
       "  178.867,1486.45 178.867,47.2441 \n",
       "  \"/>\n",
       "<polyline clip-path=\"url(#clip530)\" style=\"stroke:#000000; stroke-width:4; stroke-opacity:1; fill:none\" points=\"\n",
       "  178.867,1377.83 204.953,1377.83 \n",
       "  \"/>\n",
       "<polyline clip-path=\"url(#clip530)\" style=\"stroke:#000000; stroke-width:4; stroke-opacity:1; fill:none\" points=\"\n",
       "  178.867,1038.39 204.953,1038.39 \n",
       "  \"/>\n",
       "<polyline clip-path=\"url(#clip530)\" style=\"stroke:#000000; stroke-width:4; stroke-opacity:1; fill:none\" points=\"\n",
       "  178.867,698.959 204.953,698.959 \n",
       "  \"/>\n",
       "<polyline clip-path=\"url(#clip530)\" style=\"stroke:#000000; stroke-width:4; stroke-opacity:1; fill:none\" points=\"\n",
       "  178.867,359.524 204.953,359.524 \n",
       "  \"/>\n",
       "<path clip-path=\"url(#clip530)\" d=\"M 0 0 M50.9921 1378.28 L80.6679 1378.28 L80.6679 1382.22 L50.9921 1382.22 L50.9921 1378.28 Z\" fill=\"#000000\" fill-rule=\"evenodd\" fill-opacity=\"1\" /><path clip-path=\"url(#clip530)\" d=\"M 0 0 M94.7882 1391.17 L111.108 1391.17 L111.108 1395.11 L89.1632 1395.11 L89.1632 1391.17 Q91.8252 1388.42 96.4085 1383.79 Q101.015 1379.14 102.196 1377.79 Q104.441 1375.27 105.321 1373.53 Q106.223 1371.78 106.223 1370.09 Q106.223 1367.33 104.279 1365.59 Q102.358 1363.86 99.2558 1363.86 Q97.0567 1363.86 94.603 1364.62 Q92.1725 1365.39 89.3947 1366.94 L89.3947 1362.22 Q92.2188 1361.08 94.6724 1360.5 Q97.1261 1359.92 99.1632 1359.92 Q104.534 1359.92 107.728 1362.61 Q110.922 1365.29 110.922 1369.78 Q110.922 1371.91 110.112 1373.84 Q109.325 1375.73 107.219 1378.33 Q106.64 1379 103.538 1382.22 Q100.436 1385.41 94.7882 1391.17 Z\" fill=\"#000000\" fill-rule=\"evenodd\" fill-opacity=\"1\" /><path clip-path=\"url(#clip530)\" d=\"M 0 0 M130.922 1363.63 Q127.311 1363.63 125.482 1367.19 Q123.677 1370.73 123.677 1377.86 Q123.677 1384.97 125.482 1388.53 Q127.311 1392.08 130.922 1392.08 Q134.556 1392.08 136.362 1388.53 Q138.191 1384.97 138.191 1377.86 Q138.191 1370.73 136.362 1367.19 Q134.556 1363.63 130.922 1363.63 M130.922 1359.92 Q136.732 1359.92 139.788 1364.53 Q142.867 1369.11 142.867 1377.86 Q142.867 1386.59 139.788 1391.2 Q136.732 1395.78 130.922 1395.78 Q125.112 1395.78 122.033 1391.2 Q118.978 1386.59 118.978 1377.86 Q118.978 1369.11 122.033 1364.53 Q125.112 1359.92 130.922 1359.92 Z\" fill=\"#000000\" fill-rule=\"evenodd\" fill-opacity=\"1\" /><path clip-path=\"url(#clip530)\" d=\"M 0 0 M50.9921 1038.85 L80.6679 1038.85 L80.6679 1042.78 L50.9921 1042.78 L50.9921 1038.85 Z\" fill=\"#000000\" fill-rule=\"evenodd\" fill-opacity=\"1\" /><path clip-path=\"url(#clip530)\" d=\"M 0 0 M91.5706 1051.74 L99.2095 1051.74 L99.2095 1025.37 L90.8993 1027.04 L90.8993 1022.78 L99.1632 1021.11 L103.839 1021.11 L103.839 1051.74 L111.478 1051.74 L111.478 1055.67 L91.5706 1055.67 L91.5706 1051.74 Z\" fill=\"#000000\" fill-rule=\"evenodd\" fill-opacity=\"1\" /><path clip-path=\"url(#clip530)\" d=\"M 0 0 M130.922 1024.19 Q127.311 1024.19 125.482 1027.76 Q123.677 1031.3 123.677 1038.43 Q123.677 1045.54 125.482 1049.1 Q127.311 1052.64 130.922 1052.64 Q134.556 1052.64 136.362 1049.1 Q138.191 1045.54 138.191 1038.43 Q138.191 1031.3 136.362 1027.76 Q134.556 1024.19 130.922 1024.19 M130.922 1020.49 Q136.732 1020.49 139.788 1025.1 Q142.867 1029.68 142.867 1038.43 Q142.867 1047.16 139.788 1051.76 Q136.732 1056.35 130.922 1056.35 Q125.112 1056.35 122.033 1051.76 Q118.978 1047.16 118.978 1038.43 Q118.978 1029.68 122.033 1025.1 Q125.112 1020.49 130.922 1020.49 Z\" fill=\"#000000\" fill-rule=\"evenodd\" fill-opacity=\"1\" /><path clip-path=\"url(#clip530)\" d=\"M 0 0 M130.922 684.758 Q127.311 684.758 125.482 688.322 Q123.677 691.864 123.677 698.994 Q123.677 706.1 125.482 709.665 Q127.311 713.207 130.922 713.207 Q134.556 713.207 136.362 709.665 Q138.191 706.1 138.191 698.994 Q138.191 691.864 136.362 688.322 Q134.556 684.758 130.922 684.758 M130.922 681.054 Q136.732 681.054 139.788 685.66 Q142.867 690.244 142.867 698.994 Q142.867 707.721 139.788 712.327 Q136.732 716.91 130.922 716.91 Q125.112 716.91 122.033 712.327 Q118.978 707.721 118.978 698.994 Q118.978 690.244 122.033 685.66 Q125.112 681.054 130.922 681.054 Z\" fill=\"#000000\" fill-rule=\"evenodd\" fill-opacity=\"1\" /><path clip-path=\"url(#clip530)\" d=\"M 0 0 M91.5706 372.869 L99.2095 372.869 L99.2095 346.503 L90.8993 348.17 L90.8993 343.911 L99.1632 342.244 L103.839 342.244 L103.839 372.869 L111.478 372.869 L111.478 376.804 L91.5706 376.804 L91.5706 372.869 Z\" fill=\"#000000\" fill-rule=\"evenodd\" fill-opacity=\"1\" /><path clip-path=\"url(#clip530)\" d=\"M 0 0 M130.922 345.323 Q127.311 345.323 125.482 348.888 Q123.677 352.429 123.677 359.559 Q123.677 366.665 125.482 370.23 Q127.311 373.772 130.922 373.772 Q134.556 373.772 136.362 370.23 Q138.191 366.665 138.191 359.559 Q138.191 352.429 136.362 348.888 Q134.556 345.323 130.922 345.323 M130.922 341.619 Q136.732 341.619 139.788 346.226 Q142.867 350.809 142.867 359.559 Q142.867 368.286 139.788 372.892 Q136.732 377.475 130.922 377.475 Q125.112 377.475 122.033 372.892 Q118.978 368.286 118.978 359.559 Q118.978 350.809 122.033 346.226 Q125.112 341.619 130.922 341.619 Z\" fill=\"#000000\" fill-rule=\"evenodd\" fill-opacity=\"1\" /><polyline clip-path=\"url(#clip532)\" style=\"stroke:#009af9; stroke-width:4; stroke-opacity:1; fill:none\" points=\"\n",
       "  240.392,495.298 260.42,498.613 445.609,529.264 556.9,547.683 650.995,563.257 753.208,580.174 847.44,595.771 948.466,612.492 1065.52,631.865 1169.53,649.081 \n",
       "  1260.75,664.178 1360.2,680.638 1460.24,697.196 1570.85,715.502 1676.09,732.921 1785.51,751.032 1877.63,766.277 1990.09,784.891 2095.8,802.388 2265.17,830.419 \n",
       "  2291.23,834.733 \n",
       "  \"/>\n",
       "<polyline clip-path=\"url(#clip532)\" style=\"stroke:#e26f46; stroke-width:4; stroke-opacity:1; fill:none\" points=\"\n",
       "  240.392,1445.72 260.42,1432.46 445.609,1309.85 556.9,1236.17 650.995,1173.88 753.208,1106.21 847.44,1043.82 948.466,976.941 1065.52,899.45 1169.53,830.585 \n",
       "  1260.75,770.196 1360.2,704.357 1460.24,638.126 1570.85,564.899 1676.09,495.226 1785.51,422.781 1877.63,361.799 1990.09,287.346 2095.8,217.358 2265.17,105.232 \n",
       "  2291.23,87.9763 \n",
       "  \"/>\n",
       "<path clip-path=\"url(#clip530)\" d=\"\n",
       "M1986.32 276.658 L2280.29 276.658 L2280.29 95.2176 L1986.32 95.2176  Z\n",
       "  \" fill=\"#ffffff\" fill-rule=\"evenodd\" fill-opacity=\"1\"/>\n",
       "<polyline clip-path=\"url(#clip530)\" style=\"stroke:#000000; stroke-width:4; stroke-opacity:1; fill:none\" points=\"\n",
       "  1986.32,276.658 2280.29,276.658 2280.29,95.2176 1986.32,95.2176 1986.32,276.658 \n",
       "  \"/>\n",
       "<polyline clip-path=\"url(#clip530)\" style=\"stroke:#009af9; stroke-width:4; stroke-opacity:1; fill:none\" points=\"\n",
       "  2010.47,155.698 2155.4,155.698 \n",
       "  \"/>\n",
       "<path clip-path=\"url(#clip530)\" d=\"M 0 0 M2193.4 175.385 Q2191.59 180.015 2189.88 181.427 Q2188.17 182.839 2185.29 182.839 L2181.89 182.839 L2181.89 179.274 L2184.39 179.274 Q2186.15 179.274 2187.12 178.44 Q2188.1 177.607 2189.28 174.505 L2190.04 172.561 L2179.55 147.052 L2184.07 147.052 L2192.17 167.329 L2200.27 147.052 L2204.79 147.052 L2193.4 175.385 Z\" fill=\"#000000\" fill-rule=\"evenodd\" fill-opacity=\"1\" /><path clip-path=\"url(#clip530)\" d=\"M 0 0 M2212.08 169.042 L2219.72 169.042 L2219.72 142.677 L2211.41 144.343 L2211.41 140.084 L2219.67 138.418 L2224.35 138.418 L2224.35 169.042 L2231.98 169.042 L2231.98 172.978 L2212.08 172.978 L2212.08 169.042 Z\" fill=\"#000000\" fill-rule=\"evenodd\" fill-opacity=\"1\" /><polyline clip-path=\"url(#clip530)\" style=\"stroke:#e26f46; stroke-width:4; stroke-opacity:1; fill:none\" points=\"\n",
       "  2010.47,216.178 2155.4,216.178 \n",
       "  \"/>\n",
       "<path clip-path=\"url(#clip530)\" d=\"M 0 0 M2193.4 235.865 Q2191.59 240.495 2189.88 241.907 Q2188.17 243.319 2185.29 243.319 L2181.89 243.319 L2181.89 239.754 L2184.39 239.754 Q2186.15 239.754 2187.12 238.92 Q2188.1 238.087 2189.28 234.985 L2190.04 233.041 L2179.55 207.532 L2184.07 207.532 L2192.17 227.809 L2200.27 207.532 L2204.79 207.532 L2193.4 235.865 Z\" fill=\"#000000\" fill-rule=\"evenodd\" fill-opacity=\"1\" /><path clip-path=\"url(#clip530)\" d=\"M 0 0 M2215.29 229.522 L2231.61 229.522 L2231.61 233.458 L2209.67 233.458 L2209.67 229.522 Q2212.33 226.768 2216.91 222.138 Q2221.52 217.485 2222.7 216.143 Q2224.95 213.62 2225.83 211.884 Q2226.73 210.124 2226.73 208.435 Q2226.73 205.68 2224.79 203.944 Q2222.86 202.208 2219.76 202.208 Q2217.56 202.208 2215.11 202.972 Q2212.68 203.735 2209.9 205.286 L2209.9 200.564 Q2212.73 199.43 2215.18 198.851 Q2217.63 198.273 2219.67 198.273 Q2225.04 198.273 2228.23 200.958 Q2231.43 203.643 2231.43 208.134 Q2231.43 210.263 2230.62 212.185 Q2229.83 214.083 2227.73 216.675 Q2227.15 217.347 2224.04 220.564 Q2220.94 223.759 2215.29 229.522 Z\" fill=\"#000000\" fill-rule=\"evenodd\" fill-opacity=\"1\" /></svg>\n"
      ]
     },
     "execution_count": 20,
     "metadata": {},
     "output_type": "execute_result"
    }
   ],
   "source": [
    "f(x) = 1-x/2\n",
    "g(x) = 2x - 2\n",
    "\n",
    "plot([f,g], -10, 10)"
   ]
  },
  {
   "cell_type": "code",
   "execution_count": 21,
   "metadata": {},
   "outputs": [
    {
     "name": "stdout",
     "output_type": "stream",
     "text": [
      "[1.0; 1.0]\n",
      "[0.5; 1.5]\n",
      "[0.25; 1.25]\n",
      "[0.375; 1.125]\n",
      "[0.4375; 1.1875]\n",
      "[0.40625; 1.21875]\n",
      "[0.390625; 1.203125]\n",
      "[0.3984375; 1.1953125]\n",
      "[0.40234375; 1.19921875]\n",
      "[0.400390625; 1.201171875]\n",
      "[0.3994140625; 1.2001953125]\n",
      "[0.39990234375; 1.19970703125]\n",
      "\n",
      "Tolerância: 0.0006905339660024879\n",
      "Tolerância: 0.0006905339660024879"
     ]
    }
   ],
   "source": [
    "A = [2 1; -1 2]\n",
    "b = [2; 2]\n",
    "\n",
    "iterador = 1\n",
    "x_anterior = randn(2)\n",
    "x_atual = randn(2)\n",
    "while (norm(x_atual - x_anterior) >= 1e-3)\n",
    "    x_anterior = x_atual\n",
    "    x_atual = gauss_jacobi(A, b, iterador)\n",
    "    print(x_atual, \"\\n\")\n",
    "    iterador += 1\n",
    "end\n",
    "print(\"\\n\", \"Tolerância: \", norm(A*x_atual - b), \"\\n\")\n",
    "print(\"Tolerância: \", norm(x_atual - x_anterior))"
   ]
  },
  {
   "cell_type": "code",
   "execution_count": 22,
   "metadata": {},
   "outputs": [
    {
     "name": "stdout",
     "output_type": "stream",
     "text": [
      "[0.5; 1.0]\n",
      "[0.375; 1.25]\n",
      "[0.40625; 1.1875]\n",
      "[0.3984375; 1.203125]\n",
      "[0.400390625; 1.19921875]\n",
      "[0.39990234375; 1.2001953125]\n",
      "[0.4000244140625; 1.199951171875]\n",
      "\n",
      "Tolerância: 0.0001220703125\n",
      "Tolerância: 0.0002729575167846423"
     ]
    }
   ],
   "source": [
    "iterador = 1\n",
    "x_anterior = randn(2)\n",
    "x_atual = randn(2)\n",
    "while (norm(x_atual - x_anterior) >= 1e-3)\n",
    "    x_anterior = x_atual\n",
    "    x_atual = gauss_seidel(A, b, iterador)\n",
    "    print(x_atual, \"\\n\")\n",
    "    iterador += 1\n",
    "end\n",
    "print(\"\\n\", \"Tolerância: \", norm(A*x_atual - b), \"\\n\")\n",
    "print(\"Tolerância: \", norm(x_atual - x_anterior))"
   ]
  },
  {
   "cell_type": "markdown",
   "metadata": {},
   "source": [
    "## Questão 3. (Chris)"
   ]
  },
  {
   "cell_type": "code",
   "execution_count": null,
   "metadata": {},
   "outputs": [],
   "source": []
  },
  {
   "cell_type": "markdown",
   "metadata": {},
   "source": [
    "## Questão 4. (Thierry)"
   ]
  },
  {
   "cell_type": "markdown",
   "metadata": {},
   "source": [
    "Equações:\n",
    "\n",
    "$$x_8 = x_6 + x_7 + 500$$\n",
    "$$x_7 = x_5 + 3000$$\n",
    "$$x_6 = x_4 + x_2$$\n",
    "$$x_5 = x_3 + 3000$$\n",
    "$$x_4 = x_1 + 30000$$\n",
    "$$x_3 = 9000$$\n",
    "$$x_2 = 3500$$\n",
    "$$x_1 = 7000$$\n",
    "\n",
    "Logo temos o sistema\n",
    "$$\n",
    "\\begin{bmatrix} \n",
    "    0 & 0 & 0 & 0 & 0 & -1 & -1 & 1 \\\\\n",
    "    0 & 0 & 0 & 0 & -1 & 0 & 1 & 0 \\\\\n",
    "    0 & -1 & 0 & -1 & 0 & 1 & 0 & 0 \\\\\n",
    "    0 & 0 & -1 & 0 & 1 & 0 & 0 & 0 \\\\\n",
    "    -1 & 0 & 0 & 1 & 0 & 0 & 0 & 0 \\\\\n",
    "    0 & 0 & 1 & 0 & 0 & 0 & 0 & 0 \\\\\n",
    "    0 & 1 & 0 & 0 & 0 & 0 & 0 & 0 \\\\\n",
    "    1 & 0 & 0 & 0 & 0 & 0 & 0 & 0 \\\\\n",
    "\\end{bmatrix}\n",
    "\\begin{bmatrix} \n",
    "    x_1 \\\\\n",
    "    x_2 \\\\\n",
    "    x_3 \\\\\n",
    "    x_4 \\\\\n",
    "    x_5 \\\\\n",
    "    x_6 \\\\\n",
    "    x_7 \\\\\n",
    "    x_8 \\\\\n",
    "\\end{bmatrix}\n",
    "=\n",
    "\\begin{bmatrix} \n",
    "    500 \\\\\n",
    "    3000 \\\\\n",
    "    0 \\\\\n",
    "    3000 \\\\\n",
    "    30000 \\\\\n",
    "    9000 \\\\\n",
    "    3500 \\\\\n",
    "    7000 \\\\\n",
    "\\end{bmatrix}\n",
    "$$\n",
    "E então,"
   ]
  },
  {
   "cell_type": "code",
   "execution_count": 23,
   "metadata": {},
   "outputs": [
    {
     "ename": "LoadError",
     "evalue": "\u001b[91mSingularException(1)\u001b[39m",
     "output_type": "error",
     "traceback": [
      "\u001b[91mSingularException(1)\u001b[39m",
      "",
      "Stacktrace:",
      " [1] inv(::Diagonal{Int64,Array{Int64,1}}) at C:\\buildbot\\worker\\package_win64\\build\\usr\\share\\julia\\stdlib\\v1.5\\LinearAlgebra\\src\\diagonal.jl:607",
      " [2] gauss_jacobi(::Array{Int64,2}, ::Array{Int64,1}, ::Int64) at .\\In[14]:5",
      " [3] top-level scope at In[23]:5",
      " [4] include_string(::Function, ::Module, ::String, ::String) at .\\loading.jl:1091"
     ]
    }
   ],
   "source": [
    "A = [0 0 0 0 0 -1 -1 1; 0 0 0 0 -1 0 1 0; 0 -1 0 -1 0 1 0 0; 0 0 -1 0 1 0 0 0; -1 0 0 1 0 0 0 0; 0 0 1 0 0 0 0 0; 0 1 0 0 0 0 0 0; 1 0 0 0 0 0 0 0]\n",
    "b = [500; 3000; 0; 3000; 30000; 9000; 3500; 7000]\n",
    "\n",
    "\n",
    "x = gauss_jacobi(A,b, 5)\n",
    "print(x)"
   ]
  },
  {
   "cell_type": "markdown",
   "metadata": {},
   "source": [
    "## Questão 5. (Chris)"
   ]
  },
  {
   "cell_type": "code",
   "execution_count": null,
   "metadata": {},
   "outputs": [],
   "source": []
  },
  {
   "attachments": {
    "bandeiraGrecia.png": {
     "image/png": "[encoded data removed]"
    }
   },
   "cell_type": "markdown",
   "metadata": {},
   "source": [
    "## Questão 6. (Luan)\n",
    "\n",
    "### Considere a bandeira da Grécia como uma imagem preta e branca e modele com uma matriz A.\n",
    "\n",
    "Para modelarmos a bandeira da grécia como uma matriz, consideraremos a seguinte imagem, que preparei com muito carinho:\n",
    "\n",
    "![bandeiraGrecia.png](attachment:bandeiraGrecia.png)\n",
    "\n",
    "Logo teremos \n",
    "\n",
    "$$A = \n",
    "\\begin{bmatrix} \n",
    "    1 & 1 & 0 & 1 & 1 & 1 & 1 & 1 & 1 & 1 & 1 & 1 & 1 & 1 \\\\\n",
    "    1 & 1 & 0 & 1 & 1 & 0 & 0 & 0 & 0 & 0 & 0 & 0 & 0 & 0 \\\\\n",
    "    0 & 0 & 0 & 0 & 0 & 1 & 1 & 1 & 1 & 1 & 1 & 1 & 1 & 1 \\\\\n",
    "    1 & 1 & 0 & 1 & 1 & 0 & 0 & 0 & 0 & 0 & 0 & 0 & 0 & 0 \\\\\n",
    "    1 & 1 & 0 & 1 & 1 & 1 & 1 & 1 & 1 & 1 & 1 & 1 & 1 & 1 \\\\\n",
    "    0 & 0 & 0 & 0 & 0 & 0 & 0 & 0 & 0 & 0 & 0 & 0 & 0 & 0 \\\\\n",
    "    1 & 1 & 1 & 1 & 1 & 1 & 1 & 1 & 1 & 1 & 1 & 1 & 1 & 1 \\\\\n",
    "    0 & 0 & 0 & 0 & 0 & 0 & 0 & 0 & 0 & 0 & 0 & 0 & 0 & 0 \\\\\n",
    "    1 & 1 & 1 & 1 & 1 & 1 & 1 & 1 & 1 & 1 & 1 & 1 & 1 & 1 \\\\\n",
    "\\end{bmatrix}\n",
    "$$\n",
    "\n",
    "#### (a) Qual é o posto da bandeira da Grécia (tal que $A = BC^t$)? O que a matriz $B$ e matriz $C^t$ representam nesse caso? Explique com as suas próprias palavras.\n",
    "\n",
    "$A = \n",
    "\\begin{bmatrix} \n",
    "    1 & 1 & 0 & 1 & 1 & 1 & 1 & 1 & 1 & 1 & 1 & 1 & 1 & 1 \\\\\n",
    "    1 & 1 & 0 & 1 & 1 & 0 & 0 & 0 & 0 & 0 & 0 & 0 & 0 & 0 \\\\\n",
    "    0 & 0 & 0 & 0 & 0 & 1 & 1 & 1 & 1 & 1 & 1 & 1 & 1 & 1 \\\\\n",
    "    1 & 1 & 0 & 1 & 1 & 0 & 0 & 0 & 0 & 0 & 0 & 0 & 0 & 0 \\\\\n",
    "    1 & 1 & 0 & 1 & 1 & 1 & 1 & 1 & 1 & 1 & 1 & 1 & 1 & 1 \\\\\n",
    "    0 & 0 & 0 & 0 & 0 & 0 & 0 & 0 & 0 & 0 & 0 & 0 & 0 & 0 \\\\\n",
    "    1 & 1 & 1 & 1 & 1 & 1 & 1 & 1 & 1 & 1 & 1 & 1 & 1 & 1 \\\\\n",
    "    0 & 0 & 0 & 0 & 0 & 0 & 0 & 0 & 0 & 0 & 0 & 0 & 0 & 0 \\\\\n",
    "    1 & 1 & 1 & 1 & 1 & 1 & 1 & 1 & 1 & 1 & 1 & 1 & 1 & 1 \\\\\n",
    "\\end{bmatrix} \n",
    "=\n",
    "\\begin{bmatrix}\n",
    "    1 & 0 & 1 \\\\\n",
    "    1 & 0 & 0 \\\\\n",
    "    0 & 0 & 1 \\\\\n",
    "    1 & 0 & 0 \\\\\n",
    "    1 & 0 & 1 \\\\\n",
    "    0 & 0 & 0 \\\\\n",
    "    1 & 1 & 1 \\\\\n",
    "    0 & 0 & 0 \\\\\n",
    "    1 & 1 & 1 \\\\\n",
    "\\end{bmatrix}\n",
    "\\begin{bmatrix}\n",
    "    1 & 1 & 0 & 1 & 1 & 0 & 0 & 0 & 0 & 0 & 0 & 0 & 0 & 0 \\\\\n",
    "    0 & 0 & 1 & 0 & 0 & 0 & 0 & 0 & 0 & 0 & 0 & 0 & 0 & 0 \\\\\n",
    "    0 & 0 & 0 & 0 & 0 & 1 & 1 & 1 & 1 & 1 & 1 & 1 & 1 & 1 \\\\\n",
    "\\end{bmatrix}\n",
    "$\n",
    "\n",
    "A matriz $B$ representaria as diferentes \"colunas\" que a bandeira tem, que, nesse caso, são $3$, o nosso posto. $C^t$ por consequência representaria a ordem das \"colunas\" na bandeira.\n",
    "\n",
    "#### (b) Determine dois países tais quais sua bandeira tem posto = 1?\n",
    "\n",
    "Para posto = 1, podemos pensar em bandeiras horizontais, como Ucrânia, Rússia, Iémen, Indonésia, ...\n",
    "\n",
    "#### (c) Determine dois países tais quais sua bandeira tem posto = 2?\n",
    "\n",
    "Para posto = 2, podemos pensar em bandeiras horizontais, porém com algum detalhe simples vertical, como Dinamarca, Finlândia, Suécia, ...\n",
    "\n",
    "#### (c) Determine dois países tais quais sua bandeira tem posto = 3?\n",
    "\n",
    "Para posto = 3, podemos pensar em bandeiras verticais com três cores, como Bélgica, França, Chade, Guinea, ...\n",
    "\n",
    "##### Super interessante pensar nos postos para bandeiras complicadas como a do Brasil, Japão, Arábia Saudita, ..."
   ]
  },
  {
   "cell_type": "code",
   "execution_count": null,
   "metadata": {},
   "outputs": [],
   "source": []
  },
  {
   "cell_type": "markdown",
   "metadata": {},
   "source": [
    "## Questão 7. (Vinicius)"
   ]
  },
  {
   "cell_type": "markdown",
   "metadata": {},
   "source": [
    "Primeiro, fazemos a inserção da imagem:"
   ]
  },
  {
   "cell_type": "code",
   "execution_count": 24,
   "metadata": {},
   "outputs": [
    {
     "data": {
      "image/svg+xml": [
       "<?xml version=\"1.0\" encoding=\"utf-8\"?>\n",
       "<svg xmlns=\"http://www.w3.org/2000/svg\" xmlns:xlink=\"http://www.w3.org/1999/xlink\" width=\"150\" height=\"150\" viewBox=\"0 0 600 600\">\n",
       "<defs>\n",
       "  <clipPath id=\"clip560\">\n",
       "    <rect x=\"0\" y=\"0\" width=\"600\" height=\"600\"/>\n",
       "  </clipPath>\n",
       "</defs>\n",
       "<path clip-path=\"url(#clip560)\" d=\"\n",
       "M0 600 L600 600 L600 0 L0 0  Z\n",
       "  \" fill=\"#ffffff\" fill-rule=\"evenodd\" fill-opacity=\"1\"/>\n",
       "<defs>\n",
       "  <clipPath id=\"clip561\">\n",
       "    <rect x=\"120\" y=\"60\" width=\"421\" height=\"421\"/>\n",
       "  </clipPath>\n",
       "</defs>\n",
       "<path clip-path=\"url(#clip560)\" d=\"\n",
       "M47.2441 552.756 L552.756 552.756 L552.756 47.2441 L47.2441 47.2441  Z\n",
       "  \" fill=\"#ffffff\" fill-rule=\"evenodd\" fill-opacity=\"1\"/>\n",
       "<defs>\n",
       "  <clipPath id=\"clip562\">\n",
       "    <rect x=\"47\" y=\"47\" width=\"507\" height=\"507\"/>\n",
       "  </clipPath>\n",
       "</defs>\n",
       "<polyline clip-path=\"url(#clip560)\" style=\"stroke:#000000; stroke-width:4; stroke-opacity:1; fill:none\" points=\"\n",
       "  47.2441,552.756 552.756,552.756 \n",
       "  \"/>\n",
       "<polyline clip-path=\"url(#clip560)\" style=\"stroke:#000000; stroke-width:4; stroke-opacity:1; fill:none\" points=\"\n",
       "  47.2441,47.2441 47.2441,552.756 \n",
       "  \"/>\n",
       "<g clip-path=\"url(#clip562)\">\n",
       "<image width=\"506\" height=\"506\" xlink:href=\"data:image/png;base64,\n",
       "iVBORw0KGgoAAAANSUhEUgAAAfoAAAH6CAYAAADvFY5JAAAIR0lEQVR4nO3XQWoEMRAEwZHZj8/L\n",
       "2/fxgvHBSJtEvKBANInWzMzFcdZauyfw4FTO407O407O87V7AADwf4QeAMKEHgDChB4AwoQeAMKE\n",
       "HgDChB4AwoQeAMKEHgDChB4AwoQeAMKEHgDChB4AwoQeAMKEHgDChB4AwoQeAMKEHgDChB4AwoQe\n",
       "AMKEHgDChB4AwoQeAMKEHgDChB4AwoQeAMKEHgDChB4AwoQeAMKEHgDChB4AwoQeAMKEHgDChB4A\n",
       "woQeAMKEHgDChB4AwoQeAMKEHgDChB4AwoQeAMKEHgDChB4AwoQeAMKEHgDChB4AwoQeAMKEHgDC\n",
       "hB4AwoQeAMKEHgDChB4AwoQeAMKEHgDChB4AwoQeAMKEHgDChB4AwoQeAMKEHgDChB4AwoQeAMKE\n",
       "HgDChB4AwoQeAMKEHgDChB4AwoQeAMKEHgDChB4AwoQeAMKEHgDChB4AwoQeAMKEHgDChB4AwoQe\n",
       "AMKEHgDChB4AwoQeAMKEHgDChB4AwoQeAMKEHgDChB4AwoQeAMKEHgDChB4AwoQeAMKEHgDChB4A\n",
       "woQeAMKEHgDChB4AwoQeAMKEHgDChB4AwoQeAMKEHgDChB4AwoQeAMKEHgDChB4AwoQeAMKEHgDC\n",
       "hB4AwoQeAMKEHgDChB4AwoQeAMKEHgDChB4AwoQeAMKEHgDChB4AwoQeAMKEHgDChB4AwoQeAMKE\n",
       "HgDChB4AwoQeAMKEHgDChB4AwoQeAMKEHgDChB4AwoQeAMKEHgDChB4AwoQeAMKEHgDChB4AwoQe\n",
       "AMKEHgDChB4AwoQeAMKEHgDChB4AwoQeAMKEHgDChB4AwoQeAMKEHgDChB4AwoQeAMKEHgDChB4A\n",
       "woQeAMKEHgDChB4AwoQeAMKEHgDChB4AwoQeAMKEHgDChB4AwoQeAMKEHgDChB4AwoQeAMKEHgDC\n",
       "hB4AwoQeAMKEHgDChB4AwoQeAMKEHgDChB4AwoQeAMKEHgDChB4AwoQeAMKEHgDChB4AwoQeAMKE\n",
       "HgDChB4AwoQeAMKEHgDChB4AwoQeAMKEHgDChB4AwoQeAMKEHgDChB4AwoQeAMKEHgDChB4AwoQe\n",
       "AMKEHgDChB4AwoQeAMKEHgDChB4AwoQeAMKEHgDChB4AwoQeAMKEHgDChB4Awl67B/DezOyewMN9\n",
       "37sn8OBO4Hd+9AAQJvQAECb0ABAm9AAQJvQAECb0ABAm9AAQJvQAECb0ABAm9AAQJvQAECb0ABAm\n",
       "9AAQJvQAECb0ABAm9AAQJvQAECb0ABAm9AAQJvQAECb0ABAm9AAQJvQAECb0ABAm9AAQJvQAECb0\n",
       "ABAm9AAQJvQAECb0ABAm9AAQJvQAECb0ABAm9AAQJvQAECb0ABAm9AAQJvQAECb0ABAm9AAQJvQA\n",
       "ECb0ABAm9AAQJvQAECb0ABAm9AAQJvQAECb0ABAm9AAQJvQAECb0ABAm9AAQJvQAECb0ABAm9AAQ\n",
       "JvQAECb0ABAm9AAQJvQAECb0ABAm9AAQJvQAECb0ABAm9AAQJvQAECb0ABAm9AAQJvQAECb0ABAm\n",
       "9AAQJvQAECb0ABAm9AAQJvQAECb0ABAm9AAQJvQAECb0ABAm9AAQJvQAECb0ABAm9AAQJvQAECb0\n",
       "ABAm9AAQJvQAECb0ABAm9AAQJvQAECb0ABAm9AAQJvQAECb0ABAm9AAQJvQAECb0ABAm9AAQJvQA\n",
       "ECb0ABAm9AAQtq7rmt0j+GnGswCfZ621ewIPfvQAECb0ABAm9AAQJvQAECb0ABAm9AAQJvQAECb0\n",
       "ABAm9AAQJvQAECb0ABAm9AAQJvQAECb0ABAm9AAQJvQAECb0ABAm9AAQJvQAECb0ABAm9AAQJvQA\n",
       "ECb0ABAm9AAQJvQAECb0ABAm9AAQJvQAECb0ABAm9AAQJvQAECb0ABAm9AAQJvQAECb0ABAm9AAQ\n",
       "JvQAECb0ABAm9AAQJvQAECb0ABAm9AAQJvQAECb0ABAm9AAQJvQAECb0ABAm9AAQJvQAECb0ABAm\n",
       "9AAQJvQAECb0ABAm9AAQJvQAECb0ABAm9AAQJvQAECb0ABAm9AAQJvQAECb0ABAm9AAQJvQAECb0\n",
       "ABAm9AAQJvQAECb0ABAm9AAQJvQAECb0ABAm9AAQJvQAECb0ABAm9AAQJvQAECb0ABAm9AAQJvQA\n",
       "ECb0ABAm9AAQJvQAECb0ABAm9AAQJvQAECb0ABAm9AAQJvQAECb0ABAm9AAQJvQAECb0ABAm9AAQ\n",
       "JvQAECb0ABAm9AAQJvQAECb0ABAm9AAQJvQAEPaamd0beGOttXsCwJ9pynn86AEgTOgBIEzoASBM\n",
       "6AEgTOgBIEzoASBM6AEgTOgBIEzoASBM6AEgTOgBIEzoASBM6AEgTOgBIEzoASBM6AEgTOgBIEzo\n",
       "ASBM6AEgTOgBIEzoASBM6AEgTOgBIEzoASBM6AEgTOgBIEzoASBM6AEgTOgBIEzoASBM6AEgTOgB\n",
       "IEzoASBM6AEgTOgBIEzoASBM6AEgTOgBIEzoASBM6AEgTOgBIEzoASBM6AEgTOgBIEzoASBM6AEg\n",
       "TOgBIEzoASBM6AEgTOgBIEzoASBM6AEgTOgBIEzoASBM6AEgTOgBIEzoASBM6AEgTOgBIEzoASBM\n",
       "6AEgTOgBIEzoASBM6AEgTOgBIEzoASBM6AEgTOgBIEzoASBM6AEgTOgBIEzoASBM6AEgTOgBIEzo\n",
       "ASBM6AEgTOgBIEzoASBM6AEgTOgBIEzoASBM6AEgTOgBIEzoASBM6AEgTOgBIEzoASBM6AEgTOgB\n",
       "IEzoASBM6AEgTOgBIEzoASBM6AEgTOgBIEzoASBM6AEgTOgBIEzoASBM6AEg7Bv8Dh9sZx/SMQAA\n",
       "AABJRU5ErkJggg==\n",
       "\" transform=\"translate(47, 47)\"/>\n",
       "</g>\n",
       "</svg>\n"
      ]
     },
     "execution_count": 24,
     "metadata": {},
     "output_type": "execute_result"
    }
   ],
   "source": [
    "imagem = [0 1 0 1 0 ; 0 1 0 1 0 ; 0 0 0.5 0 0 ; 1 0 0 0 1 ; 0 1 1 1 0]\n",
    "plot(Gray.(1 .- imagem), size=(150,150), axis=nothing)"
   ]
  },
  {
   "cell_type": "markdown",
   "metadata": {},
   "source": [
    "Podemos descobrir o posto da imagem através da função rank:"
   ]
  },
  {
   "cell_type": "code",
   "execution_count": 25,
   "metadata": {},
   "outputs": [
    {
     "data": {
      "text/plain": [
       "3"
      ]
     },
     "execution_count": 25,
     "metadata": {},
     "output_type": "execute_result"
    }
   ],
   "source": [
    "rank(imagem)"
   ]
  },
  {
   "cell_type": "markdown",
   "metadata": {},
   "source": [
    "Para níveis de compressão abaixo do posto da imagem, a nitidez é prejudicada:"
   ]
  },
  {
   "cell_type": "code",
   "execution_count": 26,
   "metadata": {},
   "outputs": [
    {
     "data": {
      "image/svg+xml": [
       "<?xml version=\"1.0\" encoding=\"utf-8\"?>\n",
       "<svg xmlns=\"http://www.w3.org/2000/svg\" xmlns:xlink=\"http://www.w3.org/1999/xlink\" width=\"150\" height=\"150\" viewBox=\"0 0 600 600\">\n",
       "<defs>\n",
       "  <clipPath id=\"clip590\">\n",
       "    <rect x=\"0\" y=\"0\" width=\"600\" height=\"600\"/>\n",
       "  </clipPath>\n",
       "</defs>\n",
       "<path clip-path=\"url(#clip590)\" d=\"\n",
       "M0 600 L600 600 L600 0 L0 0  Z\n",
       "  \" fill=\"#ffffff\" fill-rule=\"evenodd\" fill-opacity=\"1\"/>\n",
       "<defs>\n",
       "  <clipPath id=\"clip591\">\n",
       "    <rect x=\"120\" y=\"60\" width=\"421\" height=\"421\"/>\n",
       "  </clipPath>\n",
       "</defs>\n",
       "<path clip-path=\"url(#clip590)\" d=\"\n",
       "M47.2441 552.756 L552.756 552.756 L552.756 47.2441 L47.2441 47.2441  Z\n",
       "  \" fill=\"#ffffff\" fill-rule=\"evenodd\" fill-opacity=\"1\"/>\n",
       "<defs>\n",
       "  <clipPath id=\"clip592\">\n",
       "    <rect x=\"47\" y=\"47\" width=\"507\" height=\"507\"/>\n",
       "  </clipPath>\n",
       "</defs>\n",
       "<polyline clip-path=\"url(#clip590)\" style=\"stroke:#000000; stroke-width:4; stroke-opacity:1; fill:none\" points=\"\n",
       "  47.2441,552.756 552.756,552.756 \n",
       "  \"/>\n",
       "<polyline clip-path=\"url(#clip590)\" style=\"stroke:#000000; stroke-width:4; stroke-opacity:1; fill:none\" points=\"\n",
       "  47.2441,47.2441 47.2441,552.756 \n",
       "  \"/>\n",
       "<g clip-path=\"url(#clip592)\">\n",
       "<image width=\"506\" height=\"506\" xlink:href=\"data:image/png;base64,\n",
       "iVBORw0KGgoAAAANSUhEUgAAAfoAAAH6CAYAAADvFY5JAAAIY0lEQVR4nO3XsU0DURREURYRO3Hg\n",
       "MreWLdOBEzfwyT+k6KGrcyqY7GqOtdb64N+53+/TE9hc1zU9gc15ntMT2Lxer+kJbD6nBwAAf0fo\n",
       "ASBM6AEgTOgBIEzoASBM6AEgTOgBIEzoASBM6AEgTOgBIEzoASBM6AEgTOgBIEzoASBM6AEgTOgB\n",
       "IEzoASBM6AEgTOgBIEzoASBM6AEgTOgBIEzoASBM6AEgTOgBIEzoASBM6AEgTOgBIEzoASBM6AEg\n",
       "TOgBIEzoASBM6AEgTOgBIEzoASBM6AEgTOgBIEzoASBM6AEgTOgBIEzoASBM6AEgTOgBIEzoASBM\n",
       "6AEgTOgBIEzoASBM6AEgTOgBIEzoASBM6AEgTOgBIEzoASBM6AEgTOgBIEzoASBM6AEgTOgBIEzo\n",
       "ASBM6AEgTOgBIEzoASBM6AEgTOgBIEzoASBM6AEgTOgBIEzoASBM6AEgTOgBIEzoASBM6AEgTOgB\n",
       "IEzoASBM6AEgTOgBIEzoASBM6AEgTOgBIEzoASBM6AEgTOgBIEzoASBM6AEgTOgBIEzoASBM6AEg\n",
       "TOgBIEzoASBM6AEgTOgBIEzoASBM6AEgTOgBIEzoASBM6AEgTOgBIEzoASBM6AEgTOgBIEzoASBM\n",
       "6AEgTOgBIEzoASBM6AEgTOgBIEzoASBM6AEgTOgBIEzoASBM6AEgTOgBIEzoASBM6AEgTOgBIEzo\n",
       "ASBM6AEgTOgBIEzoASBM6AEgTOgBIEzoASBM6AEgTOgBIEzoASBM6AEgTOgBIEzoASBM6AEgTOgB\n",
       "IEzoASBM6AEgTOgBIEzoASBM6AEgTOgBIEzoASBM6AEgTOgBIEzoASBM6AEgTOgBIEzoASBM6AEg\n",
       "TOgBIEzoASBM6AEgTOgBIEzoASBM6AEgTOgBIEzoASBM6AEgTOgBIEzoASBM6AEgTOgBIEzoASBM\n",
       "6AEgTOgBIEzoASBM6AEgTOgBIEzoASBM6AEgTOgBIEzoASBM6AEgTOgBIEzoASBM6AEgTOgBIEzo\n",
       "ASBM6AEgTOgBIEzoASBM6AEgTOgBIEzoASBM6AEgTOgBIEzoASBM6AEgTOgBIEzoASBM6AEgTOgB\n",
       "IEzoASBM6AEgTOgBIEzoASBM6AEgTOgBIEzoASBM6AEgTOgBIEzoASBM6AEgTOgBIEzoASBM6AEg\n",
       "TOgBIOxYa63pEfz0fD6nJ7C53W7TE9i83+/pCWwej8f0BDYePQCECT0AhAk9AIQJPQCECT0AhAk9\n",
       "AIQJPQCECT0AhAk9AIQJPQCECT0AhAk9AIQJPQCECT0AhAk9AIQJPQCECT0AhAk9AIQJPQCECT0A\n",
       "hAk9AIQJPQCECT0AhAk9AIQJPQCECT0AhAk9AIQJPQCECT0AhAk9AIQJPQCECT0AhAk9AIQJPQCE\n",
       "CT0AhAk9AIQJPQCECT0AhAk9AIQJPQCECT0AhAk9AIQJPQCECT0AhAk9AIQJPQCECT0AhAk9AIQJ\n",
       "PQCECT0AhAk9AIQJPQCECT0AhAk9AIQJPQCECT0AhAk9AIQJPQCECT0AhAk9AIQJPQCECT0AhAk9\n",
       "AIQJPQCECT0AhAk9AIQJPQCECT0AhAk9AIQJPQCECT0AhAk9AIQJPQCECT0AhAk9AIQJPQCECT0A\n",
       "hAk9AIQJPQCECT0AhAk9AIQJPQCECT0AhAk9AIQJPQCECT0AhAk9AIQJPQCECT0AhAk9AIQJPQCE\n",
       "CT0AhAk9AIQJPQCECT0AhAk9AIQJPQCECT0AhAk9AIQJPQCEHWutNT0CAPgbHj0AhAk9AIQJPQCE\n",
       "CT0AhAk9AIQJPQCECT0AhAk9AIQJPQCECT0AhAk9AIQJPQCECT0AhAk9AIQJPQCECT0AhAk9AIQJ\n",
       "PQCECT0AhAk9AIQJPQCECT0AhAk9AIQJPQCECT0AhAk9AIQJPQCECT0AhAk9AIQJPQCECT0AhAk9\n",
       "AIQJPQCECT0AhAk9AIQJPQCECT0AhAk9AIQJPQCECT0AhAk9AIQJPQCECT0AhAk9AIQJPQCECT0A\n",
       "hAk9AIQJPQCECT0AhAk9AIQJPQCECT0AhAk9AIQJPQCECT0AhAk9AIQJPQCECT0AhAk9AIQJPQCE\n",
       "CT0AhAk9AIQJPQCECT0AhAk9AIQJPQCECT0AhAk9AIQJPQCECT0AhAk9AIQJPQCECT0AhAk9AIQJ\n",
       "PQCECT0AhAk9AIQJPQCECT0AhAk9AIQJPQCECT0AhAk9AIQJPQCECT0AhAk9AIQJPQCECT0AhAk9\n",
       "AIQJPQCECT0AhAk9AIQJPQCECT0AhAk9AIQJPQCECT0AhAk9AIQJPQCECT0AhH1ND+B3x3FMT2Bz\n",
       "Xdf0BDbneU5PYLPWmp7AxqMHgDChB4AwoQeAMKEHgDChB4AwoQeAMKEHgDChB4AwoQeAMKEHgDCh\n",
       "B4AwoQeAMKEHgDChB4AwoQeAMKEHgDChB4AwoQeAMKEHgDChB4AwoQeAMKEHgDChB4AwoQeAMKEH\n",
       "gDChB4AwoQeAMKEHgDChB4AwoQeAMKEHgDChB4AwoQeAMKEHgDChB4AwoQeAMKEHgDChB4AwoQeA\n",
       "MKEHgDChB4AwoQeAMKEHgDChB4AwoQeAMKEHgDChB4AwoQeAMKEHgDChB4AwoQeAMKEHgDChB4Aw\n",
       "oQeAMKEHgDChB4AwoQeAMKEHgDChB4AwoQeAMKEHgDChB4AwoQeAMKEHgDChB4AwoQeAMKEHgDCh\n",
       "B4AwoQeAMKEHgDChB4AwoQeAMKEHgDChB4AwoQeAMKEHgDChB4AwoQeAMKEHgDChB4AwoQeAMKEH\n",
       "gDChB4AwoQeAMKEHgDChB4AwoQeAMKEHgDChB4AwoQeAMKEHgDChB4AwoQeAMKEHgDChB4AwoQeA\n",
       "MKEHgDChB4AwoQeAMKEHgLBvYpAh6ILrj2UAAAAASUVORK5CYII=\n",
       "\" transform=\"translate(47, 47)\"/>\n",
       "</g>\n",
       "</svg>\n"
      ]
     },
     "execution_count": 26,
     "metadata": {},
     "output_type": "execute_result"
    }
   ],
   "source": [
    "B,c = compressao(imagem, 1)\n",
    "plot(Gray.(1 .- B*c'), size=(150,150), axis=nothing)"
   ]
  },
  {
   "cell_type": "code",
   "execution_count": 27,
   "metadata": {},
   "outputs": [
    {
     "data": {
      "image/svg+xml": [
       "<?xml version=\"1.0\" encoding=\"utf-8\"?>\n",
       "<svg xmlns=\"http://www.w3.org/2000/svg\" xmlns:xlink=\"http://www.w3.org/1999/xlink\" width=\"150\" height=\"150\" viewBox=\"0 0 600 600\">\n",
       "<defs>\n",
       "  <clipPath id=\"clip620\">\n",
       "    <rect x=\"0\" y=\"0\" width=\"600\" height=\"600\"/>\n",
       "  </clipPath>\n",
       "</defs>\n",
       "<path clip-path=\"url(#clip620)\" d=\"\n",
       "M0 600 L600 600 L600 0 L0 0  Z\n",
       "  \" fill=\"#ffffff\" fill-rule=\"evenodd\" fill-opacity=\"1\"/>\n",
       "<defs>\n",
       "  <clipPath id=\"clip621\">\n",
       "    <rect x=\"120\" y=\"60\" width=\"421\" height=\"421\"/>\n",
       "  </clipPath>\n",
       "</defs>\n",
       "<path clip-path=\"url(#clip620)\" d=\"\n",
       "M47.2441 552.756 L552.756 552.756 L552.756 47.2441 L47.2441 47.2441  Z\n",
       "  \" fill=\"#ffffff\" fill-rule=\"evenodd\" fill-opacity=\"1\"/>\n",
       "<defs>\n",
       "  <clipPath id=\"clip622\">\n",
       "    <rect x=\"47\" y=\"47\" width=\"507\" height=\"507\"/>\n",
       "  </clipPath>\n",
       "</defs>\n",
       "<polyline clip-path=\"url(#clip620)\" style=\"stroke:#000000; stroke-width:4; stroke-opacity:1; fill:none\" points=\"\n",
       "  47.2441,552.756 552.756,552.756 \n",
       "  \"/>\n",
       "<polyline clip-path=\"url(#clip620)\" style=\"stroke:#000000; stroke-width:4; stroke-opacity:1; fill:none\" points=\"\n",
       "  47.2441,47.2441 47.2441,552.756 \n",
       "  \"/>\n",
       "<g clip-path=\"url(#clip622)\">\n",
       "<image width=\"506\" height=\"506\" xlink:href=\"data:image/png;base64,\n",
       "iVBORw0KGgoAAAANSUhEUgAAAfoAAAH6CAYAAADvFY5JAAAIb0lEQVR4nO3XsW1CQRRFQdZyTEJA\n",
       "mb+WXyYBCQ2s88WptfhopoIrveDojTnnvPBxbrfb7gkszvPcPYHFcRy7J7B4Pp+7J7D42j0AAPg7\n",
       "Qg8AYUIPAGFCDwBhQg8AYUIPAGFCDwBhQg8AYUIPAGFCDwBhQg8AYUIPAGFCDwBhQg8AYUIPAGFC\n",
       "DwBhQg8AYUIPAGFCDwBhQg8AYUIPAGFCDwBhQg8AYUIPAGFCDwBhQg8AYUIPAGFCDwBhQg8AYUIP\n",
       "AGFCDwBhQg8AYUIPAGFCDwBhQg8AYUIPAGFCDwBhQg8AYUIPAGFCDwBhQg8AYUIPAGFCDwBhQg8A\n",
       "YUIPAGFCDwBhQg8AYUIPAGFCDwBhQg8AYUIPAGFCDwBhQg8AYUIPAGFCDwBhQg8AYUIPAGFCDwBh\n",
       "Qg8AYUIPAGFCDwBhQg8AYUIPAGFCDwBhQg8AYUIPAGFCDwBhQg8AYUIPAGFCDwBhQg8AYUIPAGFC\n",
       "DwBhQg8AYUIPAGFCDwBhQg8AYUIPAGFCDwBhQg8AYUIPAGFCDwBhQg8AYUIPAGFCDwBhQg8AYUIP\n",
       "AGFCDwBhQg8AYUIPAGFCDwBhQg8AYUIPAGFCDwBhQg8AYUIPAGFCDwBhQg8AYUIPAGFCDwBhQg8A\n",
       "YUIPAGFCDwBhQg8AYUIPAGFCDwBhQg8AYUIPAGFCDwBhQg8AYUIPAGFCDwBhQg8AYUIPAGFCDwBh\n",
       "Qg8AYUIPAGFCDwBhQg8AYUIPAGFCDwBhQg8AYUIPAGFCDwBhQg8AYUIPAGFCDwBhQg8AYUIPAGFC\n",
       "DwBhQg8AYUIPAGFCDwBhQg8AYUIPAGFCDwBhQg8AYUIPAGFCDwBhQg8AYUIPAGFCDwBhQg8AYUIP\n",
       "AGFCDwBhQg8AYUIPAGFCDwBhQg8AYUIPAGFCDwBhQg8AYUIPAGFCDwBhQg8AYUIPAGFCDwBhQg8A\n",
       "YUIPAGFCDwBhQg8AYUIPAGFCDwBhQg8AYUIPAGFCDwBhQg8AYUIPAGFCDwBhQg8AYUIPAGFCDwBh\n",
       "Qg8AYUIPAGFCDwBhQg8AYUIPAGFCDwBhQg8AYUIPAGFCDwBhQg8AYUIPAGFCDwBhQg8AYUIPAGFC\n",
       "DwBhQg8AYUIPAGFCDwBhQg8AYUIPAGFCDwBhQg8AYUIPAGFCDwBhQg8AYUIPAGFCDwBhQg8AYUIP\n",
       "AGFCDwBhY845d4/g3ePx2D2BxfV63T2Bxev12j2Bxf1+3z2BhY8eAMKEHgDChB4AwoQeAMKEHgDC\n",
       "hB4AwoQeAMKEHgDChB4AwoQeAMKEHgDChB4AwoQeAMKEHgDChB4AwoQeAMKEHgDChB4AwoQeAMKE\n",
       "HgDChB4AwoQeAMKEHgDChB4AwoQeAMKEHgDChB4AwoQeAMKEHgDChB4AwoQeAMKEHgDChB4AwoQe\n",
       "AMKEHgDChB4AwoQeAMKEHgDChB4AwoQeAMKEHgDChB4AwoQeAMKEHgDChB4AwoQeAMKEHgDChB4A\n",
       "woQeAMKEHgDChB4AwoQeAMKEHgDChB4AwoQeAMKEHgDChB4AwoQeAMKEHgDChB4AwoQeAMKEHgDC\n",
       "hB4AwoQeAMKEHgDChB4AwoQeAMKEHgDChB4AwoQeAMKEHgDChB4AwoQeAMKEHgDChB4AwoQeAMKE\n",
       "HgDChB4AwoQeAMKEHgDChB4AwoQeAMKEHgDChB4AwoQeAMKEHgDChB4AwoQeAMKEHgDChB4AwoQe\n",
       "AMKEHgDChB4AwoQeAMKEHgDChB4AwoQeAMKEHgDChB4AwoQeAMLG5XKZu0fwbk5nAf6fMcbuCSx8\n",
       "9AAQJvQAECb0ABAm9AAQJvQAECb0ABAm9AAQJvQAECb0ABAm9AAQJvQAECb0ABAm9AAQJvQAECb0\n",
       "ABAm9AAQJvQAECb0ABAm9AAQJvQAECb0ABAm9AAQJvQAECb0ABAm9AAQJvQAECb0ABAm9AAQJvQA\n",
       "ECb0ABAm9AAQJvQAECb0ABAm9AAQJvQAECb0ABAm9AAQJvQAECb0ABAm9AAQJvQAECb0ABAm9AAQ\n",
       "JvQAECb0ABAm9AAQJvQAECb0ABAm9AAQJvQAECb0ABAm9AAQJvQAECb0ABAm9AAQJvQAECb0ABAm\n",
       "9AAQJvQAECb0ABAm9AAQJvQAECb0ABAm9AAQJvQAECb0ABAm9AAQJvQAECb0ABAm9AAQJvQAECb0\n",
       "ABAm9AAQJvQAECb0ABAm9AAQJvQAECb0ABAm9AAQJvQAECb0ABAm9AAQJvQAECb0ABAm9AAQJvQA\n",
       "ECb0ABAm9AAQJvQAECb0ABAm9AAQJvQAECb0ABAm9AAQJvQAECb0ABAm9AAQJvQAECb0ABAm9AAQ\n",
       "9j3n3L2BX4wxdk9gcZ7n7gksjuPYPYGFpnweHz0AhAk9AIQJPQCECT0AhAk9AIQJPQCECT0AhAk9\n",
       "AIQJPQCECT0AhAk9AIQJPQCECT0AhAk9AIQJPQCECT0AhAk9AIQJPQCECT0AhAk9AIQJPQCECT0A\n",
       "hAk9AIQJPQCECT0AhAk9AIQJPQCECT0AhAk9AIQJPQCECT0AhAk9AIQJPQCECT0AhAk9AIQJPQCE\n",
       "CT0AhAk9AIQJPQCECT0AhAk9AIQJPQCECT0AhAk9AIQJPQCECT0AhAk9AIQJPQCECT0AhAk9AIQJ\n",
       "PQCECT0AhAk9AIQJPQCECT0AhAk9AIQJPQCECT0AhAk9AIQJPQCECT0AhAk9AIQJPQCECT0AhAk9\n",
       "AIQJPQCECT0AhAk9AIQJPQCECT0AhAk9AIQJPQCECT0AhAk9AIQJPQCECT0AhAk9AIQJPQCECT0A\n",
       "hAk9AIQJPQCECT0AhAk9AIQJPQCECT0AhAk9AIQJPQCECT0AhAk9AIQJPQCECT0AhAk9AIQJPQCE\n",
       "CT0AhAk9AIQJPQCECT0AhAk9AIQJPQCECT0AhP0ANuEk6BAFMUgAAAAASUVORK5CYII=\n",
       "\" transform=\"translate(47, 47)\"/>\n",
       "</g>\n",
       "</svg>\n"
      ]
     },
     "execution_count": 27,
     "metadata": {},
     "output_type": "execute_result"
    }
   ],
   "source": [
    "B,c = compressao(imagem, 2)\n",
    "plot(Gray.(1 .- B*c'), size=(150,150), axis=nothing)"
   ]
  },
  {
   "cell_type": "markdown",
   "metadata": {},
   "source": [
    "A partir do nível de compressão igual ao posto da imagem a nitidez é mantida como a original."
   ]
  },
  {
   "cell_type": "code",
   "execution_count": 28,
   "metadata": {},
   "outputs": [
    {
     "data": {
      "image/svg+xml": [
       "<?xml version=\"1.0\" encoding=\"utf-8\"?>\n",
       "<svg xmlns=\"http://www.w3.org/2000/svg\" xmlns:xlink=\"http://www.w3.org/1999/xlink\" width=\"150\" height=\"150\" viewBox=\"0 0 600 600\">\n",
       "<defs>\n",
       "  <clipPath id=\"clip650\">\n",
       "    <rect x=\"0\" y=\"0\" width=\"600\" height=\"600\"/>\n",
       "  </clipPath>\n",
       "</defs>\n",
       "<path clip-path=\"url(#clip650)\" d=\"\n",
       "M0 600 L600 600 L600 0 L0 0  Z\n",
       "  \" fill=\"#ffffff\" fill-rule=\"evenodd\" fill-opacity=\"1\"/>\n",
       "<defs>\n",
       "  <clipPath id=\"clip651\">\n",
       "    <rect x=\"120\" y=\"60\" width=\"421\" height=\"421\"/>\n",
       "  </clipPath>\n",
       "</defs>\n",
       "<path clip-path=\"url(#clip650)\" d=\"\n",
       "M47.2441 552.756 L552.756 552.756 L552.756 47.2441 L47.2441 47.2441  Z\n",
       "  \" fill=\"#ffffff\" fill-rule=\"evenodd\" fill-opacity=\"1\"/>\n",
       "<defs>\n",
       "  <clipPath id=\"clip652\">\n",
       "    <rect x=\"47\" y=\"47\" width=\"507\" height=\"507\"/>\n",
       "  </clipPath>\n",
       "</defs>\n",
       "<polyline clip-path=\"url(#clip650)\" style=\"stroke:#000000; stroke-width:4; stroke-opacity:1; fill:none\" points=\"\n",
       "  47.2441,552.756 552.756,552.756 \n",
       "  \"/>\n",
       "<polyline clip-path=\"url(#clip650)\" style=\"stroke:#000000; stroke-width:4; stroke-opacity:1; fill:none\" points=\"\n",
       "  47.2441,47.2441 47.2441,552.756 \n",
       "  \"/>\n",
       "<g clip-path=\"url(#clip652)\">\n",
       "<image width=\"506\" height=\"506\" xlink:href=\"data:image/png;base64,\n",
       "iVBORw0KGgoAAAANSUhEUgAAAfoAAAH6CAYAAADvFY5JAAAIR0lEQVR4nO3XQWoEMRAEwZHZj8/L\n",
       "2/fxgvHBSJtEvKBANInWzMzFcdZauyfw4FTO407O407O87V7AADwf4QeAMKEHgDChB4AwoQeAMKE\n",
       "HgDChB4AwoQeAMKEHgDChB4AwoQeAMKEHgDChB4AwoQeAMKEHgDChB4AwoQeAMKEHgDChB4AwoQe\n",
       "AMKEHgDChB4AwoQeAMKEHgDChB4AwoQeAMKEHgDChB4AwoQeAMKEHgDChB4AwoQeAMKEHgDChB4A\n",
       "woQeAMKEHgDChB4AwoQeAMKEHgDChB4AwoQeAMKEHgDChB4AwoQeAMKEHgDChB4AwoQeAMKEHgDC\n",
       "hB4AwoQeAMKEHgDChB4AwoQeAMKEHgDChB4AwoQeAMKEHgDChB4AwoQeAMKEHgDChB4AwoQeAMKE\n",
       "HgDChB4AwoQeAMKEHgDChB4AwoQeAMKEHgDChB4AwoQeAMKEHgDChB4AwoQeAMKEHgDChB4AwoQe\n",
       "AMKEHgDChB4AwoQeAMKEHgDChB4AwoQeAMKEHgDChB4AwoQeAMKEHgDChB4AwoQeAMKEHgDChB4A\n",
       "woQeAMKEHgDChB4AwoQeAMKEHgDChB4AwoQeAMKEHgDChB4AwoQeAMKEHgDChB4AwoQeAMKEHgDC\n",
       "hB4AwoQeAMKEHgDChB4AwoQeAMKEHgDChB4AwoQeAMKEHgDChB4AwoQeAMKEHgDChB4AwoQeAMKE\n",
       "HgDChB4AwoQeAMKEHgDChB4AwoQeAMKEHgDChB4AwoQeAMKEHgDChB4AwoQeAMKEHgDChB4AwoQe\n",
       "AMKEHgDChB4AwoQeAMKEHgDChB4AwoQeAMKEHgDChB4AwoQeAMKEHgDChB4AwoQeAMKEHgDChB4A\n",
       "woQeAMKEHgDChB4AwoQeAMKEHgDChB4AwoQeAMKEHgDChB4AwoQeAMKEHgDChB4AwoQeAMKEHgDC\n",
       "hB4AwoQeAMKEHgDChB4AwoQeAMKEHgDChB4AwoQeAMKEHgDChB4AwoQeAMKEHgDChB4AwoQeAMKE\n",
       "HgDChB4AwoQeAMKEHgDChB4AwoQeAMKEHgDChB4AwoQeAMKEHgDChB4AwoQeAMKEHgDChB4AwoQe\n",
       "AMKEHgDChB4AwoQeAMKEHgDChB4AwoQeAMKEHgDChB4AwoQeAMKEHgDChB4Awl67B/DezOyewMN9\n",
       "37sn8OBO4Hd+9AAQJvQAECb0ABAm9AAQJvQAECb0ABAm9AAQJvQAECb0ABAm9AAQJvQAECb0ABAm\n",
       "9AAQJvQAECb0ABAm9AAQJvQAECb0ABAm9AAQJvQAECb0ABAm9AAQJvQAECb0ABAm9AAQJvQAECb0\n",
       "ABAm9AAQJvQAECb0ABAm9AAQJvQAECb0ABAm9AAQJvQAECb0ABAm9AAQJvQAECb0ABAm9AAQJvQA\n",
       "ECb0ABAm9AAQJvQAECb0ABAm9AAQJvQAECb0ABAm9AAQJvQAECb0ABAm9AAQJvQAECb0ABAm9AAQ\n",
       "JvQAECb0ABAm9AAQJvQAECb0ABAm9AAQJvQAECb0ABAm9AAQJvQAECb0ABAm9AAQJvQAECb0ABAm\n",
       "9AAQJvQAECb0ABAm9AAQJvQAECb0ABAm9AAQJvQAECb0ABAm9AAQJvQAECb0ABAm9AAQJvQAECb0\n",
       "ABAm9AAQJvQAECb0ABAm9AAQJvQAECb0ABAm9AAQJvQAECb0ABAm9AAQJvQAECb0ABAm9AAQJvQA\n",
       "ECb0ABAm9AAQtq7rmt0j+GnGswCfZ621ewIPfvQAECb0ABAm9AAQJvQAECb0ABAm9AAQJvQAECb0\n",
       "ABAm9AAQJvQAECb0ABAm9AAQJvQAECb0ABAm9AAQJvQAECb0ABAm9AAQJvQAECb0ABAm9AAQJvQA\n",
       "ECb0ABAm9AAQJvQAECb0ABAm9AAQJvQAECb0ABAm9AAQJvQAECb0ABAm9AAQJvQAECb0ABAm9AAQ\n",
       "JvQAECb0ABAm9AAQJvQAECb0ABAm9AAQJvQAECb0ABAm9AAQJvQAECb0ABAm9AAQJvQAECb0ABAm\n",
       "9AAQJvQAECb0ABAm9AAQJvQAECb0ABAm9AAQJvQAECb0ABAm9AAQJvQAECb0ABAm9AAQJvQAECb0\n",
       "ABAm9AAQJvQAECb0ABAm9AAQJvQAECb0ABAm9AAQJvQAECb0ABAm9AAQJvQAECb0ABAm9AAQJvQA\n",
       "ECb0ABAm9AAQJvQAECb0ABAm9AAQJvQAECb0ABAm9AAQJvQAECb0ABAm9AAQJvQAECb0ABAm9AAQ\n",
       "JvQAECb0ABAm9AAQJvQAECb0ABAm9AAQJvQAEPaamd0beGOttXsCwJ9pynn86AEgTOgBIEzoASBM\n",
       "6AEgTOgBIEzoASBM6AEgTOgBIEzoASBM6AEgTOgBIEzoASBM6AEgTOgBIEzoASBM6AEgTOgBIEzo\n",
       "ASBM6AEgTOgBIEzoASBM6AEgTOgBIEzoASBM6AEgTOgBIEzoASBM6AEgTOgBIEzoASBM6AEgTOgB\n",
       "IEzoASBM6AEgTOgBIEzoASBM6AEgTOgBIEzoASBM6AEgTOgBIEzoASBM6AEgTOgBIEzoASBM6AEg\n",
       "TOgBIEzoASBM6AEgTOgBIEzoASBM6AEgTOgBIEzoASBM6AEgTOgBIEzoASBM6AEgTOgBIEzoASBM\n",
       "6AEgTOgBIEzoASBM6AEgTOgBIEzoASBM6AEgTOgBIEzoASBM6AEgTOgBIEzoASBM6AEgTOgBIEzo\n",
       "ASBM6AEgTOgBIEzoASBM6AEgTOgBIEzoASBM6AEgTOgBIEzoASBM6AEgTOgBIEzoASBM6AEgTOgB\n",
       "IEzoASBM6AEgTOgBIEzoASBM6AEgTOgBIEzoASBM6AEgTOgBIEzoASBM6AEg7Bv8Dh9sZx/SMQAA\n",
       "AABJRU5ErkJggg==\n",
       "\" transform=\"translate(47, 47)\"/>\n",
       "</g>\n",
       "</svg>\n"
      ]
     },
     "execution_count": 28,
     "metadata": {},
     "output_type": "execute_result"
    }
   ],
   "source": [
    "B,c = compressao(imagem, 3)\n",
    "plot(Gray.(1 .- B*c'), size=(150,150), axis=nothing)"
   ]
  },
  {
   "cell_type": "code",
   "execution_count": 29,
   "metadata": {},
   "outputs": [
    {
     "data": {
      "image/svg+xml": [
       "<?xml version=\"1.0\" encoding=\"utf-8\"?>\n",
       "<svg xmlns=\"http://www.w3.org/2000/svg\" xmlns:xlink=\"http://www.w3.org/1999/xlink\" width=\"150\" height=\"150\" viewBox=\"0 0 600 600\">\n",
       "<defs>\n",
       "  <clipPath id=\"clip680\">\n",
       "    <rect x=\"0\" y=\"0\" width=\"600\" height=\"600\"/>\n",
       "  </clipPath>\n",
       "</defs>\n",
       "<path clip-path=\"url(#clip680)\" d=\"\n",
       "M0 600 L600 600 L600 0 L0 0  Z\n",
       "  \" fill=\"#ffffff\" fill-rule=\"evenodd\" fill-opacity=\"1\"/>\n",
       "<defs>\n",
       "  <clipPath id=\"clip681\">\n",
       "    <rect x=\"120\" y=\"60\" width=\"421\" height=\"421\"/>\n",
       "  </clipPath>\n",
       "</defs>\n",
       "<path clip-path=\"url(#clip680)\" d=\"\n",
       "M47.2441 552.756 L552.756 552.756 L552.756 47.2441 L47.2441 47.2441  Z\n",
       "  \" fill=\"#ffffff\" fill-rule=\"evenodd\" fill-opacity=\"1\"/>\n",
       "<defs>\n",
       "  <clipPath id=\"clip682\">\n",
       "    <rect x=\"47\" y=\"47\" width=\"507\" height=\"507\"/>\n",
       "  </clipPath>\n",
       "</defs>\n",
       "<polyline clip-path=\"url(#clip680)\" style=\"stroke:#000000; stroke-width:4; stroke-opacity:1; fill:none\" points=\"\n",
       "  47.2441,552.756 552.756,552.756 \n",
       "  \"/>\n",
       "<polyline clip-path=\"url(#clip680)\" style=\"stroke:#000000; stroke-width:4; stroke-opacity:1; fill:none\" points=\"\n",
       "  47.2441,47.2441 47.2441,552.756 \n",
       "  \"/>\n",
       "<g clip-path=\"url(#clip682)\">\n",
       "<image width=\"506\" height=\"506\" xlink:href=\"data:image/png;base64,\n",
       "iVBORw0KGgoAAAANSUhEUgAAAfoAAAH6CAYAAADvFY5JAAAIR0lEQVR4nO3XQWoEMRAEwZHZj8/L\n",
       "2/fxgvHBSJtEvKBANInWzMzFcdZauyfw4FTO407O407O87V7AADwf4QeAMKEHgDChB4AwoQeAMKE\n",
       "HgDChB4AwoQeAMKEHgDChB4AwoQeAMKEHgDChB4AwoQeAMKEHgDChB4AwoQeAMKEHgDChB4AwoQe\n",
       "AMKEHgDChB4AwoQeAMKEHgDChB4AwoQeAMKEHgDChB4AwoQeAMKEHgDChB4AwoQeAMKEHgDChB4A\n",
       "woQeAMKEHgDChB4AwoQeAMKEHgDChB4AwoQeAMKEHgDChB4AwoQeAMKEHgDChB4AwoQeAMKEHgDC\n",
       "hB4AwoQeAMKEHgDChB4AwoQeAMKEHgDChB4AwoQeAMKEHgDChB4AwoQeAMKEHgDChB4AwoQeAMKE\n",
       "HgDChB4AwoQeAMKEHgDChB4AwoQeAMKEHgDChB4AwoQeAMKEHgDChB4AwoQeAMKEHgDChB4AwoQe\n",
       "AMKEHgDChB4AwoQeAMKEHgDChB4AwoQeAMKEHgDChB4AwoQeAMKEHgDChB4AwoQeAMKEHgDChB4A\n",
       "woQeAMKEHgDChB4AwoQeAMKEHgDChB4AwoQeAMKEHgDChB4AwoQeAMKEHgDChB4AwoQeAMKEHgDC\n",
       "hB4AwoQeAMKEHgDChB4AwoQeAMKEHgDChB4AwoQeAMKEHgDChB4AwoQeAMKEHgDChB4AwoQeAMKE\n",
       "HgDChB4AwoQeAMKEHgDChB4AwoQeAMKEHgDChB4AwoQeAMKEHgDChB4AwoQeAMKEHgDChB4AwoQe\n",
       "AMKEHgDChB4AwoQeAMKEHgDChB4AwoQeAMKEHgDChB4AwoQeAMKEHgDChB4AwoQeAMKEHgDChB4A\n",
       "woQeAMKEHgDChB4AwoQeAMKEHgDChB4AwoQeAMKEHgDChB4AwoQeAMKEHgDChB4AwoQeAMKEHgDC\n",
       "hB4AwoQeAMKEHgDChB4AwoQeAMKEHgDChB4AwoQeAMKEHgDChB4AwoQeAMKEHgDChB4AwoQeAMKE\n",
       "HgDChB4AwoQeAMKEHgDChB4AwoQeAMKEHgDChB4AwoQeAMKEHgDChB4AwoQeAMKEHgDChB4AwoQe\n",
       "AMKEHgDChB4AwoQeAMKEHgDChB4AwoQeAMKEHgDChB4AwoQeAMKEHgDChB4Awl67B/DezOyewMN9\n",
       "37sn8OBO4Hd+9AAQJvQAECb0ABAm9AAQJvQAECb0ABAm9AAQJvQAECb0ABAm9AAQJvQAECb0ABAm\n",
       "9AAQJvQAECb0ABAm9AAQJvQAECb0ABAm9AAQJvQAECb0ABAm9AAQJvQAECb0ABAm9AAQJvQAECb0\n",
       "ABAm9AAQJvQAECb0ABAm9AAQJvQAECb0ABAm9AAQJvQAECb0ABAm9AAQJvQAECb0ABAm9AAQJvQA\n",
       "ECb0ABAm9AAQJvQAECb0ABAm9AAQJvQAECb0ABAm9AAQJvQAECb0ABAm9AAQJvQAECb0ABAm9AAQ\n",
       "JvQAECb0ABAm9AAQJvQAECb0ABAm9AAQJvQAECb0ABAm9AAQJvQAECb0ABAm9AAQJvQAECb0ABAm\n",
       "9AAQJvQAECb0ABAm9AAQJvQAECb0ABAm9AAQJvQAECb0ABAm9AAQJvQAECb0ABAm9AAQJvQAECb0\n",
       "ABAm9AAQJvQAECb0ABAm9AAQJvQAECb0ABAm9AAQJvQAECb0ABAm9AAQJvQAECb0ABAm9AAQJvQA\n",
       "ECb0ABAm9AAQtq7rmt0j+GnGswCfZ621ewIPfvQAECb0ABAm9AAQJvQAECb0ABAm9AAQJvQAECb0\n",
       "ABAm9AAQJvQAECb0ABAm9AAQJvQAECb0ABAm9AAQJvQAECb0ABAm9AAQJvQAECb0ABAm9AAQJvQA\n",
       "ECb0ABAm9AAQJvQAECb0ABAm9AAQJvQAECb0ABAm9AAQJvQAECb0ABAm9AAQJvQAECb0ABAm9AAQ\n",
       "JvQAECb0ABAm9AAQJvQAECb0ABAm9AAQJvQAECb0ABAm9AAQJvQAECb0ABAm9AAQJvQAECb0ABAm\n",
       "9AAQJvQAECb0ABAm9AAQJvQAECb0ABAm9AAQJvQAECb0ABAm9AAQJvQAECb0ABAm9AAQJvQAECb0\n",
       "ABAm9AAQJvQAECb0ABAm9AAQJvQAECb0ABAm9AAQJvQAECb0ABAm9AAQJvQAECb0ABAm9AAQJvQA\n",
       "ECb0ABAm9AAQJvQAECb0ABAm9AAQJvQAECb0ABAm9AAQJvQAECb0ABAm9AAQJvQAECb0ABAm9AAQ\n",
       "JvQAECb0ABAm9AAQJvQAECb0ABAm9AAQJvQAEPaamd0beGOttXsCwJ9pynn86AEgTOgBIEzoASBM\n",
       "6AEgTOgBIEzoASBM6AEgTOgBIEzoASBM6AEgTOgBIEzoASBM6AEgTOgBIEzoASBM6AEgTOgBIEzo\n",
       "ASBM6AEgTOgBIEzoASBM6AEgTOgBIEzoASBM6AEgTOgBIEzoASBM6AEgTOgBIEzoASBM6AEgTOgB\n",
       "IEzoASBM6AEgTOgBIEzoASBM6AEgTOgBIEzoASBM6AEgTOgBIEzoASBM6AEgTOgBIEzoASBM6AEg\n",
       "TOgBIEzoASBM6AEgTOgBIEzoASBM6AEgTOgBIEzoASBM6AEgTOgBIEzoASBM6AEgTOgBIEzoASBM\n",
       "6AEgTOgBIEzoASBM6AEgTOgBIEzoASBM6AEgTOgBIEzoASBM6AEgTOgBIEzoASBM6AEgTOgBIEzo\n",
       "ASBM6AEgTOgBIEzoASBM6AEgTOgBIEzoASBM6AEgTOgBIEzoASBM6AEgTOgBIEzoASBM6AEgTOgB\n",
       "IEzoASBM6AEgTOgBIEzoASBM6AEgTOgBIEzoASBM6AEgTOgBIEzoASBM6AEg7Bv8Dh9sZx/SMQAA\n",
       "AABJRU5ErkJggg==\n",
       "\" transform=\"translate(47, 47)\"/>\n",
       "</g>\n",
       "</svg>\n"
      ]
     },
     "execution_count": 29,
     "metadata": {},
     "output_type": "execute_result"
    }
   ],
   "source": [
    "B,c = compressao(imagem, 4)\n",
    "plot(Gray.(1 .- B*c'), size=(150,150), axis=nothing)"
   ]
  },
  {
   "cell_type": "code",
   "execution_count": 30,
   "metadata": {},
   "outputs": [
    {
     "data": {
      "image/svg+xml": [
       "<?xml version=\"1.0\" encoding=\"utf-8\"?>\n",
       "<svg xmlns=\"http://www.w3.org/2000/svg\" xmlns:xlink=\"http://www.w3.org/1999/xlink\" width=\"150\" height=\"150\" viewBox=\"0 0 600 600\">\n",
       "<defs>\n",
       "  <clipPath id=\"clip710\">\n",
       "    <rect x=\"0\" y=\"0\" width=\"600\" height=\"600\"/>\n",
       "  </clipPath>\n",
       "</defs>\n",
       "<path clip-path=\"url(#clip710)\" d=\"\n",
       "M0 600 L600 600 L600 0 L0 0  Z\n",
       "  \" fill=\"#ffffff\" fill-rule=\"evenodd\" fill-opacity=\"1\"/>\n",
       "<defs>\n",
       "  <clipPath id=\"clip711\">\n",
       "    <rect x=\"120\" y=\"60\" width=\"421\" height=\"421\"/>\n",
       "  </clipPath>\n",
       "</defs>\n",
       "<path clip-path=\"url(#clip710)\" d=\"\n",
       "M47.2441 552.756 L552.756 552.756 L552.756 47.2441 L47.2441 47.2441  Z\n",
       "  \" fill=\"#ffffff\" fill-rule=\"evenodd\" fill-opacity=\"1\"/>\n",
       "<defs>\n",
       "  <clipPath id=\"clip712\">\n",
       "    <rect x=\"47\" y=\"47\" width=\"507\" height=\"507\"/>\n",
       "  </clipPath>\n",
       "</defs>\n",
       "<polyline clip-path=\"url(#clip710)\" style=\"stroke:#000000; stroke-width:4; stroke-opacity:1; fill:none\" points=\"\n",
       "  47.2441,552.756 552.756,552.756 \n",
       "  \"/>\n",
       "<polyline clip-path=\"url(#clip710)\" style=\"stroke:#000000; stroke-width:4; stroke-opacity:1; fill:none\" points=\"\n",
       "  47.2441,47.2441 47.2441,552.756 \n",
       "  \"/>\n",
       "<g clip-path=\"url(#clip712)\">\n",
       "<image width=\"506\" height=\"506\" xlink:href=\"data:image/png;base64,\n",
       "iVBORw0KGgoAAAANSUhEUgAAAfoAAAH6CAYAAADvFY5JAAAIR0lEQVR4nO3XQWoEMRAEwZHZj8/L\n",
       "2/fxgvHBSJtEvKBANInWzMzFcdZauyfw4FTO407O407O87V7AADwf4QeAMKEHgDChB4AwoQeAMKE\n",
       "HgDChB4AwoQeAMKEHgDChB4AwoQeAMKEHgDChB4AwoQeAMKEHgDChB4AwoQeAMKEHgDChB4AwoQe\n",
       "AMKEHgDChB4AwoQeAMKEHgDChB4AwoQeAMKEHgDChB4AwoQeAMKEHgDChB4AwoQeAMKEHgDChB4A\n",
       "woQeAMKEHgDChB4AwoQeAMKEHgDChB4AwoQeAMKEHgDChB4AwoQeAMKEHgDChB4AwoQeAMKEHgDC\n",
       "hB4AwoQeAMKEHgDChB4AwoQeAMKEHgDChB4AwoQeAMKEHgDChB4AwoQeAMKEHgDChB4AwoQeAMKE\n",
       "HgDChB4AwoQeAMKEHgDChB4AwoQeAMKEHgDChB4AwoQeAMKEHgDChB4AwoQeAMKEHgDChB4AwoQe\n",
       "AMKEHgDChB4AwoQeAMKEHgDChB4AwoQeAMKEHgDChB4AwoQeAMKEHgDChB4AwoQeAMKEHgDChB4A\n",
       "woQeAMKEHgDChB4AwoQeAMKEHgDChB4AwoQeAMKEHgDChB4AwoQeAMKEHgDChB4AwoQeAMKEHgDC\n",
       "hB4AwoQeAMKEHgDChB4AwoQeAMKEHgDChB4AwoQeAMKEHgDChB4AwoQeAMKEHgDChB4AwoQeAMKE\n",
       "HgDChB4AwoQeAMKEHgDChB4AwoQeAMKEHgDChB4AwoQeAMKEHgDChB4AwoQeAMKEHgDChB4AwoQe\n",
       "AMKEHgDChB4AwoQeAMKEHgDChB4AwoQeAMKEHgDChB4AwoQeAMKEHgDChB4AwoQeAMKEHgDChB4A\n",
       "woQeAMKEHgDChB4AwoQeAMKEHgDChB4AwoQeAMKEHgDChB4AwoQeAMKEHgDChB4AwoQeAMKEHgDC\n",
       "hB4AwoQeAMKEHgDChB4AwoQeAMKEHgDChB4AwoQeAMKEHgDChB4AwoQeAMKEHgDChB4AwoQeAMKE\n",
       "HgDChB4AwoQeAMKEHgDChB4AwoQeAMKEHgDChB4AwoQeAMKEHgDChB4AwoQeAMKEHgDChB4AwoQe\n",
       "AMKEHgDChB4AwoQeAMKEHgDChB4AwoQeAMKEHgDChB4AwoQeAMKEHgDChB4Awl67B/DezOyewMN9\n",
       "37sn8OBO4Hd+9AAQJvQAECb0ABAm9AAQJvQAECb0ABAm9AAQJvQAECb0ABAm9AAQJvQAECb0ABAm\n",
       "9AAQJvQAECb0ABAm9AAQJvQAECb0ABAm9AAQJvQAECb0ABAm9AAQJvQAECb0ABAm9AAQJvQAECb0\n",
       "ABAm9AAQJvQAECb0ABAm9AAQJvQAECb0ABAm9AAQJvQAECb0ABAm9AAQJvQAECb0ABAm9AAQJvQA\n",
       "ECb0ABAm9AAQJvQAECb0ABAm9AAQJvQAECb0ABAm9AAQJvQAECb0ABAm9AAQJvQAECb0ABAm9AAQ\n",
       "JvQAECb0ABAm9AAQJvQAECb0ABAm9AAQJvQAECb0ABAm9AAQJvQAECb0ABAm9AAQJvQAECb0ABAm\n",
       "9AAQJvQAECb0ABAm9AAQJvQAECb0ABAm9AAQJvQAECb0ABAm9AAQJvQAECb0ABAm9AAQJvQAECb0\n",
       "ABAm9AAQJvQAECb0ABAm9AAQJvQAECb0ABAm9AAQJvQAECb0ABAm9AAQJvQAECb0ABAm9AAQJvQA\n",
       "ECb0ABAm9AAQtq7rmt0j+GnGswCfZ621ewIPfvQAECb0ABAm9AAQJvQAECb0ABAm9AAQJvQAECb0\n",
       "ABAm9AAQJvQAECb0ABAm9AAQJvQAECb0ABAm9AAQJvQAECb0ABAm9AAQJvQAECb0ABAm9AAQJvQA\n",
       "ECb0ABAm9AAQJvQAECb0ABAm9AAQJvQAECb0ABAm9AAQJvQAECb0ABAm9AAQJvQAECb0ABAm9AAQ\n",
       "JvQAECb0ABAm9AAQJvQAECb0ABAm9AAQJvQAECb0ABAm9AAQJvQAECb0ABAm9AAQJvQAECb0ABAm\n",
       "9AAQJvQAECb0ABAm9AAQJvQAECb0ABAm9AAQJvQAECb0ABAm9AAQJvQAECb0ABAm9AAQJvQAECb0\n",
       "ABAm9AAQJvQAECb0ABAm9AAQJvQAECb0ABAm9AAQJvQAECb0ABAm9AAQJvQAECb0ABAm9AAQJvQA\n",
       "ECb0ABAm9AAQJvQAECb0ABAm9AAQJvQAECb0ABAm9AAQJvQAECb0ABAm9AAQJvQAECb0ABAm9AAQ\n",
       "JvQAECb0ABAm9AAQJvQAECb0ABAm9AAQJvQAEPaamd0beGOttXsCwJ9pynn86AEgTOgBIEzoASBM\n",
       "6AEgTOgBIEzoASBM6AEgTOgBIEzoASBM6AEgTOgBIEzoASBM6AEgTOgBIEzoASBM6AEgTOgBIEzo\n",
       "ASBM6AEgTOgBIEzoASBM6AEgTOgBIEzoASBM6AEgTOgBIEzoASBM6AEgTOgBIEzoASBM6AEgTOgB\n",
       "IEzoASBM6AEgTOgBIEzoASBM6AEgTOgBIEzoASBM6AEgTOgBIEzoASBM6AEgTOgBIEzoASBM6AEg\n",
       "TOgBIEzoASBM6AEgTOgBIEzoASBM6AEgTOgBIEzoASBM6AEgTOgBIEzoASBM6AEgTOgBIEzoASBM\n",
       "6AEgTOgBIEzoASBM6AEgTOgBIEzoASBM6AEgTOgBIEzoASBM6AEgTOgBIEzoASBM6AEgTOgBIEzo\n",
       "ASBM6AEgTOgBIEzoASBM6AEgTOgBIEzoASBM6AEgTOgBIEzoASBM6AEgTOgBIEzoASBM6AEgTOgB\n",
       "IEzoASBM6AEgTOgBIEzoASBM6AEgTOgBIEzoASBM6AEgTOgBIEzoASBM6AEg7Bv8Dh9sZx/SMQAA\n",
       "AABJRU5ErkJggg==\n",
       "\" transform=\"translate(47, 47)\"/>\n",
       "</g>\n",
       "</svg>\n"
      ]
     },
     "execution_count": 30,
     "metadata": {},
     "output_type": "execute_result"
    }
   ],
   "source": [
    "B,c = compressao(imagem, 5)\n",
    "plot(Gray.(1 .- B*c'), size=(150,150), axis=nothing)"
   ]
  },
  {
   "cell_type": "code",
   "execution_count": 31,
   "metadata": {},
   "outputs": [],
   "source": [
    "using LinearAlgebra\n",
    "using Images\n",
    "using JLD"
   ]
  },
  {
   "attachments": {},
   "cell_type": "markdown",
   "metadata": {},
   "source": [
    "## Questão 8. (Luan) \n",
    "\n",
    "### Encontre (ou desenhe) uma imagem A, com mais ou menos $200 × 200$ pixels (pode ser um pouco maior), que\n",
    "\n",
    "#### (a) exija um nível de compressão maior que 3 e menor que 6 para recuperar pelo menos 99% de sua norma total.\n",
    "\n",
    "Escolhemos o logo da Xiaomi levemente modificado para que fique sem curvas, o que justifica o posto 4~5."
   ]
  },
  {
   "cell_type": "code",
   "execution_count": 32,
   "metadata": {},
   "outputs": [
    {
     "data": {
      "image/png": "[encoded data removed]",
      "text/plain": [
       "200×200 Array{Gray{N0f8},2} with eltype Gray{Normed{UInt8,8}}:\n",
       " Gray{N0f8}(0.541)  Gray{N0f8}(0.541)  …  Gray{N0f8}(0.541)\n",
       " Gray{N0f8}(0.541)  Gray{N0f8}(0.541)     Gray{N0f8}(0.541)\n",
       " Gray{N0f8}(0.541)  Gray{N0f8}(0.541)     Gray{N0f8}(0.541)\n",
       " Gray{N0f8}(0.541)  Gray{N0f8}(0.541)     Gray{N0f8}(0.541)\n",
       " Gray{N0f8}(0.541)  Gray{N0f8}(0.541)     Gray{N0f8}(0.541)\n",
       " Gray{N0f8}(0.541)  Gray{N0f8}(0.541)  …  Gray{N0f8}(0.541)\n",
       " Gray{N0f8}(0.541)  Gray{N0f8}(0.541)     Gray{N0f8}(0.541)\n",
       " Gray{N0f8}(0.541)  Gray{N0f8}(0.541)     Gray{N0f8}(0.541)\n",
       " Gray{N0f8}(0.541)  Gray{N0f8}(0.541)     Gray{N0f8}(0.541)\n",
       " Gray{N0f8}(0.541)  Gray{N0f8}(0.541)     Gray{N0f8}(0.541)\n",
       " Gray{N0f8}(0.541)  Gray{N0f8}(0.541)  …  Gray{N0f8}(0.541)\n",
       " Gray{N0f8}(0.541)  Gray{N0f8}(0.541)     Gray{N0f8}(0.541)\n",
       " Gray{N0f8}(0.541)  Gray{N0f8}(0.541)     Gray{N0f8}(0.541)\n",
       " ⋮                                     ⋱  \n",
       " Gray{N0f8}(0.541)  Gray{N0f8}(0.541)     Gray{N0f8}(0.541)\n",
       " Gray{N0f8}(0.541)  Gray{N0f8}(0.541)     Gray{N0f8}(0.541)\n",
       " Gray{N0f8}(0.541)  Gray{N0f8}(0.541)  …  Gray{N0f8}(0.541)\n",
       " Gray{N0f8}(0.541)  Gray{N0f8}(0.541)     Gray{N0f8}(0.541)\n",
       " Gray{N0f8}(0.541)  Gray{N0f8}(0.541)     Gray{N0f8}(0.541)\n",
       " Gray{N0f8}(0.541)  Gray{N0f8}(0.541)     Gray{N0f8}(0.541)\n",
       " Gray{N0f8}(0.541)  Gray{N0f8}(0.541)     Gray{N0f8}(0.541)\n",
       " Gray{N0f8}(0.541)  Gray{N0f8}(0.541)  …  Gray{N0f8}(0.541)\n",
       " Gray{N0f8}(0.541)  Gray{N0f8}(0.541)     Gray{N0f8}(0.541)\n",
       " Gray{N0f8}(0.541)  Gray{N0f8}(0.541)     Gray{N0f8}(0.541)\n",
       " Gray{N0f8}(0.541)  Gray{N0f8}(0.541)     Gray{N0f8}(0.541)\n",
       " Gray{N0f8}(0.541)  Gray{N0f8}(0.541)     Gray{N0f8}(0.541)"
      ]
     },
     "metadata": {},
     "output_type": "display_data"
    }
   ],
   "source": [
    "img = load(\"xiaomi.png\");\n",
    "display(Gray.(img))\n",
    "raw = channelview(Gray.(img[:,:]));"
   ]
  },
  {
   "cell_type": "code",
   "execution_count": 33,
   "metadata": {},
   "outputs": [
    {
     "data": {
      "image/png": "[encoded data removed]",
      "text/plain": [
       "200×200 Array{Gray{Float64},2} with eltype Gray{Float64}:\n",
       " Gray{Float64}(0.540323)  Gray{Float64}(0.540323)  …  Gray{Float64}(0.540323)\n",
       " Gray{Float64}(0.540323)  Gray{Float64}(0.540323)     Gray{Float64}(0.540323)\n",
       " Gray{Float64}(0.540323)  Gray{Float64}(0.540323)     Gray{Float64}(0.540323)\n",
       " Gray{Float64}(0.540323)  Gray{Float64}(0.540323)     Gray{Float64}(0.540323)\n",
       " Gray{Float64}(0.540323)  Gray{Float64}(0.540323)     Gray{Float64}(0.540323)\n",
       " Gray{Float64}(0.540323)  Gray{Float64}(0.540323)  …  Gray{Float64}(0.540323)\n",
       " Gray{Float64}(0.540323)  Gray{Float64}(0.540323)     Gray{Float64}(0.540323)\n",
       " Gray{Float64}(0.540323)  Gray{Float64}(0.540323)     Gray{Float64}(0.540323)\n",
       " Gray{Float64}(0.540323)  Gray{Float64}(0.540323)     Gray{Float64}(0.540323)\n",
       " Gray{Float64}(0.540323)  Gray{Float64}(0.540323)     Gray{Float64}(0.540323)\n",
       " Gray{Float64}(0.540323)  Gray{Float64}(0.540323)  …  Gray{Float64}(0.540323)\n",
       " Gray{Float64}(0.540323)  Gray{Float64}(0.540323)     Gray{Float64}(0.540323)\n",
       " Gray{Float64}(0.540323)  Gray{Float64}(0.540323)     Gray{Float64}(0.540323)\n",
       " ⋮                                                 ⋱  \n",
       " Gray{Float64}(0.540323)  Gray{Float64}(0.540323)     Gray{Float64}(0.540323)\n",
       " Gray{Float64}(0.540323)  Gray{Float64}(0.540323)     Gray{Float64}(0.540323)\n",
       " Gray{Float64}(0.540323)  Gray{Float64}(0.540323)  …  Gray{Float64}(0.540323)\n",
       " Gray{Float64}(0.540323)  Gray{Float64}(0.540323)     Gray{Float64}(0.540323)\n",
       " Gray{Float64}(0.540323)  Gray{Float64}(0.540323)     Gray{Float64}(0.540323)\n",
       " Gray{Float64}(0.540323)  Gray{Float64}(0.540323)     Gray{Float64}(0.540323)\n",
       " Gray{Float64}(0.540323)  Gray{Float64}(0.540323)     Gray{Float64}(0.540323)\n",
       " Gray{Float64}(0.540323)  Gray{Float64}(0.540323)  …  Gray{Float64}(0.540323)\n",
       " Gray{Float64}(0.540323)  Gray{Float64}(0.540323)     Gray{Float64}(0.540323)\n",
       " Gray{Float64}(0.540323)  Gray{Float64}(0.540323)     Gray{Float64}(0.540323)\n",
       " Gray{Float64}(0.540323)  Gray{Float64}(0.540323)     Gray{Float64}(0.540323)\n",
       " Gray{Float64}(0.540323)  Gray{Float64}(0.540323)     Gray{Float64}(0.540323)"
      ]
     },
     "metadata": {},
     "output_type": "display_data"
    }
   ],
   "source": [
    "B,C=compressao(raw,2)\n",
    "display(Gray.(B*C'))"
   ]
  },
  {
   "cell_type": "code",
   "execution_count": 34,
   "metadata": {},
   "outputs": [
    {
     "data": {
      "image/png": "[encoded data removed]",
      "text/plain": [
       "200×200 Array{Gray{Float64},2} with eltype Gray{Float64}:\n",
       " Gray{Float64}(0.541183)  Gray{Float64}(0.541183)  …  Gray{Float64}(0.541183)\n",
       " Gray{Float64}(0.541183)  Gray{Float64}(0.541183)     Gray{Float64}(0.541183)\n",
       " Gray{Float64}(0.541183)  Gray{Float64}(0.541183)     Gray{Float64}(0.541183)\n",
       " Gray{Float64}(0.541183)  Gray{Float64}(0.541183)     Gray{Float64}(0.541183)\n",
       " Gray{Float64}(0.541183)  Gray{Float64}(0.541183)     Gray{Float64}(0.541183)\n",
       " Gray{Float64}(0.541183)  Gray{Float64}(0.541183)  …  Gray{Float64}(0.541183)\n",
       " Gray{Float64}(0.541183)  Gray{Float64}(0.541183)     Gray{Float64}(0.541183)\n",
       " Gray{Float64}(0.541183)  Gray{Float64}(0.541183)     Gray{Float64}(0.541183)\n",
       " Gray{Float64}(0.541183)  Gray{Float64}(0.541183)     Gray{Float64}(0.541183)\n",
       " Gray{Float64}(0.541183)  Gray{Float64}(0.541183)     Gray{Float64}(0.541183)\n",
       " Gray{Float64}(0.541183)  Gray{Float64}(0.541183)  …  Gray{Float64}(0.541183)\n",
       " Gray{Float64}(0.541183)  Gray{Float64}(0.541183)     Gray{Float64}(0.541183)\n",
       " Gray{Float64}(0.541183)  Gray{Float64}(0.541183)     Gray{Float64}(0.541183)\n",
       " ⋮                                                 ⋱  \n",
       " Gray{Float64}(0.541183)  Gray{Float64}(0.541183)     Gray{Float64}(0.541183)\n",
       " Gray{Float64}(0.541183)  Gray{Float64}(0.541183)     Gray{Float64}(0.541183)\n",
       " Gray{Float64}(0.541183)  Gray{Float64}(0.541183)  …  Gray{Float64}(0.541183)\n",
       " Gray{Float64}(0.541183)  Gray{Float64}(0.541183)     Gray{Float64}(0.541183)\n",
       " Gray{Float64}(0.541183)  Gray{Float64}(0.541183)     Gray{Float64}(0.541183)\n",
       " Gray{Float64}(0.541183)  Gray{Float64}(0.541183)     Gray{Float64}(0.541183)\n",
       " Gray{Float64}(0.541183)  Gray{Float64}(0.541183)     Gray{Float64}(0.541183)\n",
       " Gray{Float64}(0.541183)  Gray{Float64}(0.541183)  …  Gray{Float64}(0.541183)\n",
       " Gray{Float64}(0.541183)  Gray{Float64}(0.541183)     Gray{Float64}(0.541183)\n",
       " Gray{Float64}(0.541183)  Gray{Float64}(0.541183)     Gray{Float64}(0.541183)\n",
       " Gray{Float64}(0.541183)  Gray{Float64}(0.541183)     Gray{Float64}(0.541183)\n",
       " Gray{Float64}(0.541183)  Gray{Float64}(0.541183)     Gray{Float64}(0.541183)"
      ]
     },
     "metadata": {},
     "output_type": "display_data"
    }
   ],
   "source": [
    "B,C=compressao(raw,4)\n",
    "display(Gray.(B*C'))"
   ]
  },
  {
   "cell_type": "markdown",
   "metadata": {},
   "source": [
    "#### (b) exija um nível de compressão maior que 40 para recuperar pelo menos 99% de sua norma total.\n",
    "\n",
    "Escolhemos um qr code bem complicado para que necessite bastantes postos para restaurar a imagem."
   ]
  },
  {
   "cell_type": "code",
   "execution_count": 35,
   "metadata": {},
   "outputs": [
    {
     "data": {
      "image/png": "[encoded data removed]",
      "text/plain": [
       "200×200 Array{Gray{N0f8},2} with eltype Gray{Normed{UInt8,8}}:\n",
       " Gray{N0f8}(1.0)  Gray{N0f8}(1.0)  …  Gray{N0f8}(1.0)  Gray{N0f8}(1.0)\n",
       " Gray{N0f8}(1.0)  Gray{N0f8}(1.0)     Gray{N0f8}(1.0)  Gray{N0f8}(1.0)\n",
       " Gray{N0f8}(1.0)  Gray{N0f8}(1.0)     Gray{N0f8}(1.0)  Gray{N0f8}(1.0)\n",
       " Gray{N0f8}(1.0)  Gray{N0f8}(1.0)     Gray{N0f8}(1.0)  Gray{N0f8}(1.0)\n",
       " Gray{N0f8}(1.0)  Gray{N0f8}(1.0)     Gray{N0f8}(1.0)  Gray{N0f8}(1.0)\n",
       " Gray{N0f8}(1.0)  Gray{N0f8}(1.0)  …  Gray{N0f8}(1.0)  Gray{N0f8}(1.0)\n",
       " Gray{N0f8}(1.0)  Gray{N0f8}(1.0)     Gray{N0f8}(1.0)  Gray{N0f8}(1.0)\n",
       " Gray{N0f8}(1.0)  Gray{N0f8}(1.0)     Gray{N0f8}(1.0)  Gray{N0f8}(1.0)\n",
       " Gray{N0f8}(1.0)  Gray{N0f8}(1.0)     Gray{N0f8}(1.0)  Gray{N0f8}(1.0)\n",
       " Gray{N0f8}(1.0)  Gray{N0f8}(1.0)     Gray{N0f8}(1.0)  Gray{N0f8}(1.0)\n",
       " Gray{N0f8}(1.0)  Gray{N0f8}(1.0)  …  Gray{N0f8}(1.0)  Gray{N0f8}(1.0)\n",
       " Gray{N0f8}(1.0)  Gray{N0f8}(1.0)     Gray{N0f8}(1.0)  Gray{N0f8}(1.0)\n",
       " Gray{N0f8}(1.0)  Gray{N0f8}(1.0)     Gray{N0f8}(1.0)  Gray{N0f8}(1.0)\n",
       " ⋮                                 ⋱                   \n",
       " Gray{N0f8}(1.0)  Gray{N0f8}(1.0)     Gray{N0f8}(1.0)  Gray{N0f8}(1.0)\n",
       " Gray{N0f8}(1.0)  Gray{N0f8}(1.0)     Gray{N0f8}(1.0)  Gray{N0f8}(1.0)\n",
       " Gray{N0f8}(1.0)  Gray{N0f8}(1.0)  …  Gray{N0f8}(1.0)  Gray{N0f8}(1.0)\n",
       " Gray{N0f8}(1.0)  Gray{N0f8}(1.0)     Gray{N0f8}(1.0)  Gray{N0f8}(1.0)\n",
       " Gray{N0f8}(1.0)  Gray{N0f8}(1.0)     Gray{N0f8}(1.0)  Gray{N0f8}(1.0)\n",
       " Gray{N0f8}(1.0)  Gray{N0f8}(1.0)     Gray{N0f8}(1.0)  Gray{N0f8}(1.0)\n",
       " Gray{N0f8}(1.0)  Gray{N0f8}(1.0)     Gray{N0f8}(1.0)  Gray{N0f8}(1.0)\n",
       " Gray{N0f8}(1.0)  Gray{N0f8}(1.0)  …  Gray{N0f8}(1.0)  Gray{N0f8}(1.0)\n",
       " Gray{N0f8}(1.0)  Gray{N0f8}(1.0)     Gray{N0f8}(1.0)  Gray{N0f8}(1.0)\n",
       " Gray{N0f8}(1.0)  Gray{N0f8}(1.0)     Gray{N0f8}(1.0)  Gray{N0f8}(1.0)\n",
       " Gray{N0f8}(1.0)  Gray{N0f8}(1.0)     Gray{N0f8}(1.0)  Gray{N0f8}(1.0)\n",
       " Gray{N0f8}(1.0)  Gray{N0f8}(1.0)     Gray{N0f8}(1.0)  Gray{N0f8}(1.0)"
      ]
     },
     "metadata": {},
     "output_type": "display_data"
    }
   ],
   "source": [
    "img = load(\"qrCode.png\");\n",
    "display(Gray.(img))\n",
    "raw = channelview(Gray.(img[:,:]));"
   ]
  },
  {
   "cell_type": "code",
   "execution_count": 36,
   "metadata": {},
   "outputs": [
    {
     "data": {
      "image/png": "[encoded data removed]",
      "text/plain": [
       "200×200 Array{Gray{Float64},2} with eltype Gray{Float64}:\n",
       " Gray{Float64}(1.11499)  Gray{Float64}(1.11499)  …  Gray{Float64}(1.11499)\n",
       " Gray{Float64}(1.11499)  Gray{Float64}(1.11499)     Gray{Float64}(1.11499)\n",
       " Gray{Float64}(1.11499)  Gray{Float64}(1.11499)     Gray{Float64}(1.11499)\n",
       " Gray{Float64}(1.11499)  Gray{Float64}(1.11499)     Gray{Float64}(1.11499)\n",
       " Gray{Float64}(1.11499)  Gray{Float64}(1.11499)     Gray{Float64}(1.11499)\n",
       " Gray{Float64}(1.11499)  Gray{Float64}(1.11499)  …  Gray{Float64}(1.11499)\n",
       " Gray{Float64}(1.11499)  Gray{Float64}(1.11499)     Gray{Float64}(1.11499)\n",
       " Gray{Float64}(1.11499)  Gray{Float64}(1.11499)     Gray{Float64}(1.11499)\n",
       " Gray{Float64}(1.11499)  Gray{Float64}(1.11499)     Gray{Float64}(1.11499)\n",
       " Gray{Float64}(1.11499)  Gray{Float64}(1.11499)     Gray{Float64}(1.11499)\n",
       " Gray{Float64}(1.11499)  Gray{Float64}(1.11499)  …  Gray{Float64}(1.11499)\n",
       " Gray{Float64}(1.11499)  Gray{Float64}(1.11499)     Gray{Float64}(1.11499)\n",
       " Gray{Float64}(1.11499)  Gray{Float64}(1.11499)     Gray{Float64}(1.11499)\n",
       " ⋮                                               ⋱  \n",
       " Gray{Float64}(1.11499)  Gray{Float64}(1.11499)     Gray{Float64}(1.11499)\n",
       " Gray{Float64}(1.11499)  Gray{Float64}(1.11499)     Gray{Float64}(1.11499)\n",
       " Gray{Float64}(1.11499)  Gray{Float64}(1.11499)  …  Gray{Float64}(1.11499)\n",
       " Gray{Float64}(1.11499)  Gray{Float64}(1.11499)     Gray{Float64}(1.11499)\n",
       " Gray{Float64}(1.11499)  Gray{Float64}(1.11499)     Gray{Float64}(1.11499)\n",
       " Gray{Float64}(1.11499)  Gray{Float64}(1.11499)     Gray{Float64}(1.11499)\n",
       " Gray{Float64}(1.11499)  Gray{Float64}(1.11499)     Gray{Float64}(1.11499)\n",
       " Gray{Float64}(1.11499)  Gray{Float64}(1.11499)  …  Gray{Float64}(1.11499)\n",
       " Gray{Float64}(1.11499)  Gray{Float64}(1.11499)     Gray{Float64}(1.11499)\n",
       " Gray{Float64}(1.11499)  Gray{Float64}(1.11499)     Gray{Float64}(1.11499)\n",
       " Gray{Float64}(1.11499)  Gray{Float64}(1.11499)     Gray{Float64}(1.11499)\n",
       " Gray{Float64}(1.11499)  Gray{Float64}(1.11499)     Gray{Float64}(1.11499)"
      ]
     },
     "metadata": {},
     "output_type": "display_data"
    }
   ],
   "source": [
    "B,C=compressao(raw,2)\n",
    "display(Gray.(B*C'))"
   ]
  },
  {
   "cell_type": "code",
   "execution_count": 37,
   "metadata": {},
   "outputs": [
    {
     "data": {
      "image/png": "[encoded data removed]",
      "text/plain": [
       "200×200 Array{Gray{Float64},2} with eltype Gray{Float64}:\n",
       " Gray{Float64}(1.00199)  Gray{Float64}(1.00199)  …  Gray{Float64}(1.00199)\n",
       " Gray{Float64}(1.00199)  Gray{Float64}(1.00199)     Gray{Float64}(1.00199)\n",
       " Gray{Float64}(1.00199)  Gray{Float64}(1.00199)     Gray{Float64}(1.00199)\n",
       " Gray{Float64}(1.00199)  Gray{Float64}(1.00199)     Gray{Float64}(1.00199)\n",
       " Gray{Float64}(1.00199)  Gray{Float64}(1.00199)     Gray{Float64}(1.00199)\n",
       " Gray{Float64}(1.00199)  Gray{Float64}(1.00199)  …  Gray{Float64}(1.00199)\n",
       " Gray{Float64}(1.00199)  Gray{Float64}(1.00199)     Gray{Float64}(1.00199)\n",
       " Gray{Float64}(1.00199)  Gray{Float64}(1.00199)     Gray{Float64}(1.00199)\n",
       " Gray{Float64}(1.00199)  Gray{Float64}(1.00199)     Gray{Float64}(1.00199)\n",
       " Gray{Float64}(1.00199)  Gray{Float64}(1.00199)     Gray{Float64}(1.00199)\n",
       " Gray{Float64}(1.00199)  Gray{Float64}(1.00199)  …  Gray{Float64}(1.00199)\n",
       " Gray{Float64}(1.00199)  Gray{Float64}(1.00199)     Gray{Float64}(1.00199)\n",
       " Gray{Float64}(1.00199)  Gray{Float64}(1.00199)     Gray{Float64}(1.00199)\n",
       " ⋮                                               ⋱  \n",
       " Gray{Float64}(1.00199)  Gray{Float64}(1.00199)     Gray{Float64}(1.00199)\n",
       " Gray{Float64}(1.00199)  Gray{Float64}(1.00199)     Gray{Float64}(1.00199)\n",
       " Gray{Float64}(1.00199)  Gray{Float64}(1.00199)  …  Gray{Float64}(1.00199)\n",
       " Gray{Float64}(1.00199)  Gray{Float64}(1.00199)     Gray{Float64}(1.00199)\n",
       " Gray{Float64}(1.00199)  Gray{Float64}(1.00199)     Gray{Float64}(1.00199)\n",
       " Gray{Float64}(1.00199)  Gray{Float64}(1.00199)     Gray{Float64}(1.00199)\n",
       " Gray{Float64}(1.00199)  Gray{Float64}(1.00199)     Gray{Float64}(1.00199)\n",
       " Gray{Float64}(1.00199)  Gray{Float64}(1.00199)  …  Gray{Float64}(1.00199)\n",
       " Gray{Float64}(1.00199)  Gray{Float64}(1.00199)     Gray{Float64}(1.00199)\n",
       " Gray{Float64}(1.00199)  Gray{Float64}(1.00199)     Gray{Float64}(1.00199)\n",
       " Gray{Float64}(1.00199)  Gray{Float64}(1.00199)     Gray{Float64}(1.00199)\n",
       " Gray{Float64}(1.00199)  Gray{Float64}(1.00199)     Gray{Float64}(1.00199)"
      ]
     },
     "metadata": {},
     "output_type": "display_data"
    }
   ],
   "source": [
    "B,C=compressao(raw,20)\n",
    "display(Gray.(B*C'))"
   ]
  },
  {
   "cell_type": "code",
   "execution_count": 39,
   "metadata": {},
   "outputs": [
    {
     "data": {
      "image/png": "[encoded data removed]",
      "text/plain": [
       "200×200 Array{Gray{Float64},2} with eltype Gray{Float64}:\n",
       " Gray{Float64}(1.0002)  Gray{Float64}(1.0002)  …  Gray{Float64}(1.0002)\n",
       " Gray{Float64}(1.0002)  Gray{Float64}(1.0002)     Gray{Float64}(1.0002)\n",
       " Gray{Float64}(1.0002)  Gray{Float64}(1.0002)     Gray{Float64}(1.0002)\n",
       " Gray{Float64}(1.0002)  Gray{Float64}(1.0002)     Gray{Float64}(1.0002)\n",
       " Gray{Float64}(1.0002)  Gray{Float64}(1.0002)     Gray{Float64}(1.0002)\n",
       " Gray{Float64}(1.0002)  Gray{Float64}(1.0002)  …  Gray{Float64}(1.0002)\n",
       " Gray{Float64}(1.0002)  Gray{Float64}(1.0002)     Gray{Float64}(1.0002)\n",
       " Gray{Float64}(1.0002)  Gray{Float64}(1.0002)     Gray{Float64}(1.0002)\n",
       " Gray{Float64}(1.0002)  Gray{Float64}(1.0002)     Gray{Float64}(1.0002)\n",
       " Gray{Float64}(1.0002)  Gray{Float64}(1.0002)     Gray{Float64}(1.0002)\n",
       " Gray{Float64}(1.0002)  Gray{Float64}(1.0002)  …  Gray{Float64}(1.0002)\n",
       " Gray{Float64}(1.0002)  Gray{Float64}(1.0002)     Gray{Float64}(1.0002)\n",
       " Gray{Float64}(1.0002)  Gray{Float64}(1.0002)     Gray{Float64}(1.0002)\n",
       " ⋮                                             ⋱  \n",
       " Gray{Float64}(1.0002)  Gray{Float64}(1.0002)     Gray{Float64}(1.0002)\n",
       " Gray{Float64}(1.0002)  Gray{Float64}(1.0002)     Gray{Float64}(1.0002)\n",
       " Gray{Float64}(1.0002)  Gray{Float64}(1.0002)  …  Gray{Float64}(1.0002)\n",
       " Gray{Float64}(1.0002)  Gray{Float64}(1.0002)     Gray{Float64}(1.0002)\n",
       " Gray{Float64}(1.0002)  Gray{Float64}(1.0002)     Gray{Float64}(1.0002)\n",
       " Gray{Float64}(1.0002)  Gray{Float64}(1.0002)     Gray{Float64}(1.0002)\n",
       " Gray{Float64}(1.0002)  Gray{Float64}(1.0002)     Gray{Float64}(1.0002)\n",
       " Gray{Float64}(1.0002)  Gray{Float64}(1.0002)  …  Gray{Float64}(1.0002)\n",
       " Gray{Float64}(1.0002)  Gray{Float64}(1.0002)     Gray{Float64}(1.0002)\n",
       " Gray{Float64}(1.0002)  Gray{Float64}(1.0002)     Gray{Float64}(1.0002)\n",
       " Gray{Float64}(1.0002)  Gray{Float64}(1.0002)     Gray{Float64}(1.0002)\n",
       " Gray{Float64}(1.0002)  Gray{Float64}(1.0002)     Gray{Float64}(1.0002)"
      ]
     },
     "metadata": {},
     "output_type": "display_data"
    }
   ],
   "source": [
    "B,C=compressao(raw,41)\n",
    "display(Gray.(B*C'))"
   ]
  },
  {
   "cell_type": "code",
   "execution_count": 40,
   "metadata": {},
   "outputs": [
    {
     "data": {
      "image/png": "[encoded data removed]",
      "text/plain": [
       "200×200 Array{Gray{Float64},2} with eltype Gray{Float64}:\n",
       " Gray{Float64}(1.0)  Gray{Float64}(1.0)  …  Gray{Float64}(1.0)\n",
       " Gray{Float64}(1.0)  Gray{Float64}(1.0)     Gray{Float64}(1.0)\n",
       " Gray{Float64}(1.0)  Gray{Float64}(1.0)     Gray{Float64}(1.0)\n",
       " Gray{Float64}(1.0)  Gray{Float64}(1.0)     Gray{Float64}(1.0)\n",
       " Gray{Float64}(1.0)  Gray{Float64}(1.0)     Gray{Float64}(1.0)\n",
       " Gray{Float64}(1.0)  Gray{Float64}(1.0)  …  Gray{Float64}(1.0)\n",
       " Gray{Float64}(1.0)  Gray{Float64}(1.0)     Gray{Float64}(1.0)\n",
       " Gray{Float64}(1.0)  Gray{Float64}(1.0)     Gray{Float64}(1.0)\n",
       " Gray{Float64}(1.0)  Gray{Float64}(1.0)     Gray{Float64}(1.0)\n",
       " Gray{Float64}(1.0)  Gray{Float64}(1.0)     Gray{Float64}(1.0)\n",
       " Gray{Float64}(1.0)  Gray{Float64}(1.0)  …  Gray{Float64}(1.0)\n",
       " Gray{Float64}(1.0)  Gray{Float64}(1.0)     Gray{Float64}(1.0)\n",
       " Gray{Float64}(1.0)  Gray{Float64}(1.0)     Gray{Float64}(1.0)\n",
       " ⋮                                       ⋱  \n",
       " Gray{Float64}(1.0)  Gray{Float64}(1.0)     Gray{Float64}(1.0)\n",
       " Gray{Float64}(1.0)  Gray{Float64}(1.0)     Gray{Float64}(1.0)\n",
       " Gray{Float64}(1.0)  Gray{Float64}(1.0)  …  Gray{Float64}(1.0)\n",
       " Gray{Float64}(1.0)  Gray{Float64}(1.0)     Gray{Float64}(1.0)\n",
       " Gray{Float64}(1.0)  Gray{Float64}(1.0)     Gray{Float64}(1.0)\n",
       " Gray{Float64}(1.0)  Gray{Float64}(1.0)     Gray{Float64}(1.0)\n",
       " Gray{Float64}(1.0)  Gray{Float64}(1.0)     Gray{Float64}(1.0)\n",
       " Gray{Float64}(1.0)  Gray{Float64}(1.0)  …  Gray{Float64}(1.0)\n",
       " Gray{Float64}(1.0)  Gray{Float64}(1.0)     Gray{Float64}(1.0)\n",
       " Gray{Float64}(1.0)  Gray{Float64}(1.0)     Gray{Float64}(1.0)\n",
       " Gray{Float64}(1.0)  Gray{Float64}(1.0)     Gray{Float64}(1.0)\n",
       " Gray{Float64}(1.0)  Gray{Float64}(1.0)     Gray{Float64}(1.0)"
      ]
     },
     "metadata": {},
     "output_type": "display_data"
    }
   ],
   "source": [
    "B,C=compressao(raw,100)\n",
    "display(Gray.(B*C'))"
   ]
  },
  {
   "cell_type": "code",
   "execution_count": null,
   "metadata": {},
   "outputs": [],
   "source": []
  }
 ],
 "metadata": {
  "kernelspec": {
   "display_name": "Julia 1.5.4",
   "language": "julia",
   "name": "julia-1.5"
  },
  "language_info": {
   "file_extension": ".jl",
   "mimetype": "application/julia",
   "name": "julia",
   "version": "1.5.4"
  }
 },
 "nbformat": 4,
 "nbformat_minor": 5
}
