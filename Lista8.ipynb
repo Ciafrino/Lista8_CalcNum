{
 "cells": [
  {
   "cell_type": "markdown",
   "id": "96defe6f",
   "metadata": {},
   "source": [
    "# Lista 8 de Cálculo Numérico"
   ]
  },
  {
   "cell_type": "code",
   "execution_count": 10,
   "id": "03a911b2",
   "metadata": {},
   "outputs": [],
   "source": [
    "using LinearAlgebra\n",
    "using Plots"
   ]
  },
  {
   "cell_type": "markdown",
   "id": "d5611535",
   "metadata": {},
   "source": [
    "## Questão 1."
   ]
  },
  {
   "cell_type": "markdown",
   "id": "1e4b3023",
   "metadata": {},
   "source": [
    "### a. Compressão (Thierry)"
   ]
  },
  {
   "cell_type": "markdown",
   "id": "432cff3f",
   "metadata": {},
   "source": [
    "### Compressão de Dados em Matrizes"
   ]
  },
  {
   "cell_type": "markdown",
   "id": "1d838155",
   "metadata": {},
   "source": [
    "A ideia da compressão de dados é encontrarmos vetores base dentro da matriz tal que forneçam uma base para a composição de todos os dados. Porém, na vida real precisamos encontrar aproximações, visto que o uso de números reais acabam dificultando uma base L.I de poucos vetores representarem muitos dados.\n",
    "\n",
    "Na ideia simples, transformamos a matriz em uma multiplicação de duas matrizes, tal que a primeira seja os vetores base e a segunda os coeficientes das combinações lineares.\n",
    "\n",
    "Com a preocupação de se adequar aos números reais, começamos a analisar isso pelo erro da matriz original com a nova multiplicação das duas matrizes. Para quantificar o erro, usamos a ideia de norma de matriz, que é dada pela soma das normas de cada vetor (colunas) da matriz.\n",
    "\n",
    "Então, temos que dado a matriz A e o vetor b, precisamos determinar c tal que \n",
    "\n",
    "$$min ||A - [b][c^T]|| \\longrightarrow min ||[(a_1)(a_2)...(a_n)] - [c_1(b) c_2(b) ... c_n(b)]|| \\longrightarrow ||(a_1 - c_1b)(a_2-c_2b)...(a_n-c_nb)||$$\n",
    "\n",
    "Visto que $e_n = a_n - c_nb \\space \\bot \\space c_nb$, pelo produto interno temos que $e_n^Tc_nb = 0 \\longrightarrow (a_n - c_nb)^Tc_nb = 0$. Aplicando a transposta tal que $(M.Q)^T = Q^T.M^T$ e $(M - Q)^T = M^T - Q^T$ obtemos:\n",
    "\n",
    "$$(a_n - c_nb)^Tc_nb = 0 \\longrightarrow (a_n^T - (c_nb)^T)c_nb = 0 \\longrightarrow a_n^Tc_nb - c_n^2b^Tb = 0 \\longrightarrow a_n^Tc_nb = c_n^2b^Tb $$\n",
    "\n",
    "Desconsiderando o caso em que $c_n = 0$ pois é um caso muito trivial, podemos dividir a equação em ambos os lados por $c_n$, resultando em:\n",
    "\n",
    "$$a_n^Tb = c_nb^Tb \\longrightarrow c_n = \\frac{a_n^Tb}{b^Tb}$$\n",
    "\n",
    "A partir da análise feita acima podemos escrever um código em Julia para achar o vetor c:"
   ]
  },
  {
   "cell_type": "code",
   "execution_count": 2,
   "id": "f2e06b0c",
   "metadata": {},
   "outputs": [
    {
     "data": {
      "text/plain": [
       "melhores_coords (generic function with 1 method)"
      ]
     },
     "execution_count": 2,
     "metadata": {},
     "output_type": "execute_result"
    }
   ],
   "source": [
    "function melhores_coords(A,b) #retorna c tal que norm(A-b*c') é mínima\n",
    "    m, n = size(A)\n",
    "    A = 1.0 * A # multiplica-se por 1.0 para evitar erros de operações matriciais entre inteiros e float's.\n",
    "    c = zeros(n)    \n",
    "    c = A'*(b/(b'*b)) # Operação para achar o vetor c que minimiza a distância perpendicular à reta.\n",
    "    return c\n",
    "end"
   ]
  },
  {
   "cell_type": "code",
   "execution_count": 3,
   "id": "e98a19f2",
   "metadata": {},
   "outputs": [
    {
     "data": {
      "text/plain": [
       "3×3 Array{Float64,2}:\n",
       " 1.0001  10.001  3.0\n",
       " 2.01    20.3    6.0\n",
       " 3.003   30.0    9.0"
      ]
     },
     "execution_count": 3,
     "metadata": {},
     "output_type": "execute_result"
    }
   ],
   "source": [
    "A=[1.0001 10.001 3;2.01 20.3 6;3.003 30 9]"
   ]
  },
  {
   "cell_type": "code",
   "execution_count": 4,
   "id": "ae57cdca",
   "metadata": {},
   "outputs": [
    {
     "data": {
      "text/plain": [
       "3-element Array{Int64,1}:\n",
       " 1\n",
       " 2\n",
       " 3"
      ]
     },
     "execution_count": 4,
     "metadata": {},
     "output_type": "execute_result"
    }
   ],
   "source": [
    "b=[1;2;3]"
   ]
  },
  {
   "cell_type": "code",
   "execution_count": 5,
   "id": "303cb67b",
   "metadata": {},
   "outputs": [
    {
     "data": {
      "text/plain": [
       "3-element Array{Float64,1}:\n",
       "  1.0020785714285714\n",
       " 10.04292857142857\n",
       "  3.0"
      ]
     },
     "execution_count": 5,
     "metadata": {},
     "output_type": "execute_result"
    }
   ],
   "source": [
    "c=melhores_coords(A,b)"
   ]
  },
  {
   "cell_type": "code",
   "execution_count": 6,
   "id": "4b34493c",
   "metadata": {},
   "outputs": [
    {
     "data": {
      "text/plain": [
       "0.2534747564213406"
      ]
     },
     "execution_count": 6,
     "metadata": {},
     "output_type": "execute_result"
    }
   ],
   "source": [
    "norm(A-b*c')"
   ]
  },
  {
   "cell_type": "code",
   "execution_count": 7,
   "id": "55462b91",
   "metadata": {},
   "outputs": [
    {
     "data": {
      "text/plain": [
       "acha_melhor_minimizacao (generic function with 1 method)"
      ]
     },
     "execution_count": 7,
     "metadata": {},
     "output_type": "execute_result"
    }
   ],
   "source": [
    "function acha_melhor_minimizacao(A)\n",
    "    n,m = size(A)\n",
    "\n",
    "    bv = randn(n)\n",
    "    cv = randn(m)\n",
    "    \n",
    "    bw = zeros(m)\n",
    "    cw = zeros(n)\n",
    "    \n",
    "    for i in 1:50\n",
    "        cv=melhores_coords(A, bv)\n",
    "        bw=cv\n",
    "        cw=melhores_coords(A', bw)\n",
    "        bv=cw\n",
    "    end\n",
    "    \n",
    "    return bv,cv\n",
    "end"
   ]
  },
  {
   "cell_type": "code",
   "execution_count": 8,
   "id": "c3099057",
   "metadata": {},
   "outputs": [
    {
     "data": {
      "text/plain": [
       "compressao (generic function with 1 method)"
      ]
     },
     "execution_count": 8,
     "metadata": {},
     "output_type": "execute_result"
    }
   ],
   "source": [
    "function compressao(A,nível)\n",
    "    m,n=size(A)\n",
    "    B=zeros(m,nível)\n",
    "    C=zeros(n,nível)\n",
    "    \n",
    "    for i=1:nível\n",
    "        B[:,i], C[:,i] = acha_melhor_minimizacao(A)\n",
    "        A= A - B[:,i]*C[:,i]'\n",
    "    end\n",
    "    return B,C\n",
    "end"
   ]
  },
  {
   "cell_type": "code",
   "execution_count": 9,
   "id": "3349db93",
   "metadata": {},
   "outputs": [
    {
     "data": {
      "text/plain": [
       "3×4 Array{Float64,2}:\n",
       " -0.867921   0.729232   0.636824   0.773167\n",
       "  1.50675   -0.583123  -0.628017  -0.696862\n",
       " -0.564579  -0.209221  -0.918863   0.170046"
      ]
     },
     "execution_count": 9,
     "metadata": {},
     "output_type": "execute_result"
    }
   ],
   "source": [
    "A = randn(3,4)"
   ]
  },
  {
   "cell_type": "code",
   "execution_count": 10,
   "id": "62699d64",
   "metadata": {},
   "outputs": [
    {
     "data": {
      "text/plain": [
       "([1.4594045800403683 0.6658116213408708 2.0498492834014854; -1.8297472732644469 0.3951901430440631 1.6591724616830124; 0.07383257677754097 -3.36694794930585 0.6000989940369601], [-0.7413991087447237 0.1607337737384804 0.052229183520261534; 0.3858569015708124 0.08039015019824038 0.054924043646862944; 0.366687649733562 0.2739304481333043 -0.03937244620297684; 0.4406116071621139 -0.02791149777712898 0.07255196652079315])"
      ]
     },
     "execution_count": 10,
     "metadata": {},
     "output_type": "execute_result"
    }
   ],
   "source": [
    "B,C = compressao(A,3)"
   ]
  },
  {
   "cell_type": "code",
   "execution_count": 11,
   "id": "445f7cf4",
   "metadata": {},
   "outputs": [
    {
     "data": {
      "text/plain": [
       "2.5133742693021536e-16"
      ]
     },
     "execution_count": 11,
     "metadata": {},
     "output_type": "execute_result"
    }
   ],
   "source": [
    "norm(A-B*C')"
   ]
  },
  {
   "cell_type": "code",
   "execution_count": 12,
   "id": "3c01059a",
   "metadata": {},
   "outputs": [
    {
     "name": "stdout",
     "output_type": "stream",
     "text": [
      "1: 17.477867788294454\n",
      "2: 15.917113906517825\n",
      "3: 14.539287883598526\n",
      "4: 13.12521568959602\n",
      "5: 12.012455977803825\n",
      "6: 10.990145731163594\n",
      "7: 9.826811305441288\n",
      "8: 8.72635013194298\n",
      "9: 7.6549732447122665\n",
      "10: 6.6125986552548754\n",
      "11: 5.534326480870969\n",
      "12: 4.70488847047757\n",
      "13: 3.8539889744039346\n",
      "14: 3.04095775633891\n",
      "15: 2.27833785075065\n",
      "16: 1.6418188881587894\n",
      "17: 1.0053534889018871\n",
      "18: 0.4958453692459277\n",
      "19: 0.09010538151859981\n",
      "20: 4.536444272245912e-15\n"
     ]
    }
   ],
   "source": [
    "# Chance pequena de existirem colunas Linearmente Dependentes\n",
    "N = 20\n",
    "A = randn(N, N)\n",
    "for i in 1:N\n",
    "    B,C = compressao(A, i)\n",
    "    print(i, \": \", norm(A-B*C'), \"\\n\")\n",
    "end"
   ]
  },
  {
   "cell_type": "code",
   "execution_count": 13,
   "id": "eb6ff8ae",
   "metadata": {},
   "outputs": [
    {
     "name": "stdout",
     "output_type": "stream",
     "text": [
      "4.479856523024851e-14\n",
      "0.0\n",
      "0.0\n",
      "NaN\n",
      "NaN\n",
      "NaN\n",
      "NaN\n",
      "NaN\n",
      "NaN\n",
      "NaN\n"
     ]
    }
   ],
   "source": [
    "N = 20\n",
    "A = zeros(N, N)\n",
    "for i in 1:N\n",
    "    A[:, i] .= i\n",
    "end\n",
    "for i in 1:10\n",
    "    B,C = compressao(A, i)\n",
    "    print(norm(A-B*C'), \"\\n\")\n",
    "end"
   ]
  },
  {
   "cell_type": "markdown",
   "id": "3c2073e9",
   "metadata": {},
   "source": [
    "### b. Gauss-Jacobi (Vinicius)"
   ]
  },
  {
   "cell_type": "markdown",
   "id": "0baf687c",
   "metadata": {},
   "source": [
    "O método utilizado será o do ponto fixo, em que iniciamos com o sistema linear:\n",
    "\n",
    "$$A.x=b$$\n",
    "\n",
    "Chamaremos $A=M-K$ para um $M$ facilmente invertível e um $K$ resto da matriz.\n",
    "\n",
    "$$M.x-K.x=b \\\\\n",
    "M.x=b+K.x \\\\\n",
    "x=M^{-1}.b+M^{-1}.K.x$$\n",
    "\n",
    "Chamaremos $M^{-1}.b$ de $c$ e o $M^{-1}.K$ de $R$:\n",
    "\n",
    "$$x=R.x+c$$\n",
    "\n",
    "Nosso método numérico a ser implementado em cima dessa equação é dar um chute inicial e ir substituindo nela:\n",
    "\n",
    "$$x^{(0)}=chute_{inicial}$$\n",
    "\n",
    "$$x^{(k+1)}=R.x^{(k)}+c$$\n",
    "\n",
    "No caso específico do **Gauss-Jacobi**, a **matriz $M$ facilmente inversível é uma diagonal.**"
   ]
  },
  {
   "cell_type": "code",
   "execution_count": 14,
   "id": "0c3f4d25",
   "metadata": {},
   "outputs": [
    {
     "data": {
      "text/plain": [
       "gauss_jacobi (generic function with 1 method)"
      ]
     },
     "execution_count": 14,
     "metadata": {},
     "output_type": "execute_result"
    }
   ],
   "source": [
    "# nao esta funcionando bem\n",
    "function gauss_jacobi(A,b,iteracoes)\n",
    "    M = Diagonal(A)\n",
    "    K = M-A\n",
    "    R = inv(M)*K\n",
    "    c = inv(M)*b\n",
    "    \n",
    "    lin = length(b)\n",
    "    x = zeros(lin,1)\n",
    "    for i = 1:iteracoes\n",
    "        x = R*x + c\n",
    "    end\n",
    "    \n",
    "    return x\n",
    "end"
   ]
  },
  {
   "cell_type": "code",
   "execution_count": 15,
   "id": "d61797c0",
   "metadata": {},
   "outputs": [
    {
     "name": "stdout",
     "output_type": "stream",
     "text": [
      "Norma: 8.881784197001252e-16\n"
     ]
    }
   ],
   "source": [
    "A = [4 2 1 ; 1 5 1 ; 3 4 10]\n",
    "b = [7 ; 7 ; 17]\n",
    "\n",
    "x = gauss_jacobi(A,b,300)\n",
    "println(\"Norma: \", norm(A*x-b))"
   ]
  },
  {
   "cell_type": "code",
   "execution_count": 16,
   "id": "ab0de0d6",
   "metadata": {},
   "outputs": [
    {
     "name": "stdout",
     "output_type": "stream",
     "text": [
      "Norma: 1.1102230246251565e-16\n"
     ]
    }
   ],
   "source": [
    "A = [5 2 1 -1 ; 1 3 -1 1 ; 2 0 4 1 ; 1 1 1 8]\n",
    "b = [1 ; -1 ; 1 ; -3]\n",
    "\n",
    "x = gauss_jacobi(A,b,300)\n",
    "println(\"Norma: \", norm(A*x-b))"
   ]
  },
  {
   "cell_type": "markdown",
   "id": "6c63c9af",
   "metadata": {},
   "source": [
    "### c. Gauss-Seidel (Vinicius)"
   ]
  },
  {
   "cell_type": "code",
   "execution_count": 17,
   "id": "592af367",
   "metadata": {},
   "outputs": [
    {
     "data": {
      "text/plain": [
       "gauss_seidel (generic function with 1 method)"
      ]
     },
     "execution_count": 17,
     "metadata": {},
     "output_type": "execute_result"
    }
   ],
   "source": [
    "# nao esta funcionando bem\n",
    "function gauss_seidel(A,b,iteracoes)\n",
    "    M = UpperTriangular(A)\n",
    "    K = M-A\n",
    "    R = inv(M)*K\n",
    "    c = inv(M)*b\n",
    "    \n",
    "    lin = length(b)\n",
    "    x = zeros(lin,1)\n",
    "    for i = 1:iteracoes\n",
    "        x = R*x + c\n",
    "    end\n",
    "    \n",
    "    return x\n",
    "end"
   ]
  },
  {
   "cell_type": "code",
   "execution_count": 18,
   "id": "7b778015",
   "metadata": {},
   "outputs": [
    {
     "name": "stdout",
     "output_type": "stream",
     "text": [
      "Norma: 8.881784197001252e-16\n"
     ]
    }
   ],
   "source": [
    "A = [4 2 1 ; 1 5 1 ; 3 4 10]\n",
    "b = [7 ; 7 ; 17]\n",
    "\n",
    "x = gauss_seidel(A,b,300)\n",
    "println(\"Norma: \", norm(A*x-b))"
   ]
  },
  {
   "cell_type": "code",
   "execution_count": 19,
   "id": "36da6b61",
   "metadata": {},
   "outputs": [
    {
     "name": "stdout",
     "output_type": "stream",
     "text": [
      "Norma: 2.220446049250313e-16\n"
     ]
    }
   ],
   "source": [
    "A = [5 2 1 -1 ; 1 3 -1 1 ; 2 0 4 1 ; 1 1 1 8]\n",
    "b = [1 ; -1 ; 1 ; -3]\n",
    "\n",
    "x = gauss_seidel(A,b,300)\n",
    "println(\"Norma: \", norm(A*x-b))"
   ]
  },
  {
   "cell_type": "markdown",
   "id": "27c4f6b0",
   "metadata": {},
   "source": [
    "## Questão 2. (Thierry)"
   ]
  },
  {
   "cell_type": "markdown",
   "id": "83abeaaf",
   "metadata": {},
   "source": [
    "Equações:\n",
    "\n",
    "$$2x_1 + x_2 = 2$$\n",
    "$$-x_1 + 2x_2 = 2$$\n",
    "\n",
    "Logo,\n",
    "\n",
    "$$x_1 = 1 - \\frac{x_2}{2}$$\n",
    "$$x_1 = 2x_2 - 2$$\n",
    "\n",
    "E então,"
   ]
  },
  {
   "cell_type": "code",
   "execution_count": 20,
   "id": "c7878f63",
   "metadata": {},
   "outputs": [
    {
     "data": {
      "image/svg+xml": [
       "<?xml version=\"1.0\" encoding=\"utf-8\"?>\n",
       "<svg xmlns=\"http://www.w3.org/2000/svg\" xmlns:xlink=\"http://www.w3.org/1999/xlink\" width=\"600\" height=\"400\" viewBox=\"0 0 2400 1600\">\n",
       "<defs>\n",
       "  <clipPath id=\"clip500\">\n",
       "    <rect x=\"0\" y=\"0\" width=\"2400\" height=\"1600\"/>\n",
       "  </clipPath>\n",
       "</defs>\n",
       "<path clip-path=\"url(#clip500)\" d=\"\n",
       "M0 1600 L2400 1600 L2400 0 L0 0  Z\n",
       "  \" fill=\"#ffffff\" fill-rule=\"evenodd\" fill-opacity=\"1\"/>\n",
       "<defs>\n",
       "  <clipPath id=\"clip501\">\n",
       "    <rect x=\"480\" y=\"0\" width=\"1681\" height=\"1600\"/>\n",
       "  </clipPath>\n",
       "</defs>\n",
       "<path clip-path=\"url(#clip500)\" d=\"\n",
       "M169.469 1486.45 L2352.76 1486.45 L2352.76 47.2441 L169.469 47.2441  Z\n",
       "  \" fill=\"#ffffff\" fill-rule=\"evenodd\" fill-opacity=\"1\"/>\n",
       "<defs>\n",
       "  <clipPath id=\"clip502\">\n",
       "    <rect x=\"169\" y=\"47\" width=\"2184\" height=\"1440\"/>\n",
       "  </clipPath>\n",
       "</defs>\n",
       "<polyline clip-path=\"url(#clip502)\" style=\"stroke:#000000; stroke-width:2; stroke-opacity:0.1; fill:none\" points=\"\n",
       "  231.26,1486.45 231.26,47.2441 \n",
       "  \"/>\n",
       "<polyline clip-path=\"url(#clip502)\" style=\"stroke:#000000; stroke-width:2; stroke-opacity:0.1; fill:none\" points=\"\n",
       "  746.186,1486.45 746.186,47.2441 \n",
       "  \"/>\n",
       "<polyline clip-path=\"url(#clip502)\" style=\"stroke:#000000; stroke-width:2; stroke-opacity:0.1; fill:none\" points=\"\n",
       "  1261.11,1486.45 1261.11,47.2441 \n",
       "  \"/>\n",
       "<polyline clip-path=\"url(#clip502)\" style=\"stroke:#000000; stroke-width:2; stroke-opacity:0.1; fill:none\" points=\"\n",
       "  1776.04,1486.45 1776.04,47.2441 \n",
       "  \"/>\n",
       "<polyline clip-path=\"url(#clip502)\" style=\"stroke:#000000; stroke-width:2; stroke-opacity:0.1; fill:none\" points=\"\n",
       "  2290.96,1486.45 2290.96,47.2441 \n",
       "  \"/>\n",
       "<polyline clip-path=\"url(#clip500)\" style=\"stroke:#000000; stroke-width:4; stroke-opacity:1; fill:none\" points=\"\n",
       "  169.469,1486.45 2352.76,1486.45 \n",
       "  \"/>\n",
       "<polyline clip-path=\"url(#clip500)\" style=\"stroke:#000000; stroke-width:4; stroke-opacity:1; fill:none\" points=\"\n",
       "  231.26,1486.45 231.26,1469.18 \n",
       "  \"/>\n",
       "<polyline clip-path=\"url(#clip500)\" style=\"stroke:#000000; stroke-width:4; stroke-opacity:1; fill:none\" points=\"\n",
       "  746.186,1486.45 746.186,1469.18 \n",
       "  \"/>\n",
       "<polyline clip-path=\"url(#clip500)\" style=\"stroke:#000000; stroke-width:4; stroke-opacity:1; fill:none\" points=\"\n",
       "  1261.11,1486.45 1261.11,1469.18 \n",
       "  \"/>\n",
       "<polyline clip-path=\"url(#clip500)\" style=\"stroke:#000000; stroke-width:4; stroke-opacity:1; fill:none\" points=\"\n",
       "  1776.04,1486.45 1776.04,1469.18 \n",
       "  \"/>\n",
       "<polyline clip-path=\"url(#clip500)\" style=\"stroke:#000000; stroke-width:4; stroke-opacity:1; fill:none\" points=\"\n",
       "  2290.96,1486.45 2290.96,1469.18 \n",
       "  \"/>\n",
       "<path clip-path=\"url(#clip500)\" d=\"M 0 0 M190.021 1530.29 L219.697 1530.29 L219.697 1534.23 L190.021 1534.23 L190.021 1530.29 Z\" fill=\"#000000\" fill-rule=\"evenodd\" fill-opacity=\"1\" /><path clip-path=\"url(#clip500)\" d=\"M 0 0 M225.577 1543.18 L233.216 1543.18 L233.216 1516.82 L224.906 1518.49 L224.906 1514.23 L233.169 1512.56 L237.845 1512.56 L237.845 1543.18 L245.484 1543.18 L245.484 1547.12 L225.577 1547.12 L225.577 1543.18 Z\" fill=\"#000000\" fill-rule=\"evenodd\" fill-opacity=\"1\" /><path clip-path=\"url(#clip500)\" d=\"M 0 0 M260.554 1515.64 Q256.942 1515.64 255.114 1519.2 Q253.308 1522.75 253.308 1529.87 Q253.308 1536.98 255.114 1540.55 Q256.942 1544.09 260.554 1544.09 Q264.188 1544.09 265.993 1540.55 Q267.822 1536.98 267.822 1529.87 Q267.822 1522.75 265.993 1519.2 Q264.188 1515.64 260.554 1515.64 M260.554 1511.93 Q266.364 1511.93 269.419 1516.54 Q272.498 1521.12 272.498 1529.87 Q272.498 1538.6 269.419 1543.21 Q266.364 1547.79 260.554 1547.79 Q254.743 1547.79 251.665 1543.21 Q248.609 1538.6 248.609 1529.87 Q248.609 1521.12 251.665 1516.54 Q254.743 1511.93 260.554 1511.93 Z\" fill=\"#000000\" fill-rule=\"evenodd\" fill-opacity=\"1\" /><path clip-path=\"url(#clip500)\" d=\"M 0 0 M718.339 1530.29 L748.015 1530.29 L748.015 1534.23 L718.339 1534.23 L718.339 1530.29 Z\" fill=\"#000000\" fill-rule=\"evenodd\" fill-opacity=\"1\" /><path clip-path=\"url(#clip500)\" d=\"M 0 0 M753.13 1512.56 L771.487 1512.56 L771.487 1516.5 L757.413 1516.5 L757.413 1524.97 Q758.431 1524.62 759.45 1524.46 Q760.468 1524.27 761.487 1524.27 Q767.274 1524.27 770.653 1527.44 Q774.033 1530.62 774.033 1536.03 Q774.033 1541.61 770.561 1544.71 Q767.089 1547.79 760.769 1547.79 Q758.593 1547.79 756.325 1547.42 Q754.079 1547.05 751.672 1546.31 L751.672 1541.61 Q753.755 1542.74 755.978 1543.3 Q758.2 1543.86 760.677 1543.86 Q764.681 1543.86 767.019 1541.75 Q769.357 1539.64 769.357 1536.03 Q769.357 1532.42 767.019 1530.31 Q764.681 1528.21 760.677 1528.21 Q758.802 1528.21 756.927 1528.62 Q755.075 1529.04 753.13 1529.92 L753.13 1512.56 Z\" fill=\"#000000\" fill-rule=\"evenodd\" fill-opacity=\"1\" /><path clip-path=\"url(#clip500)\" d=\"M 0 0 M1261.11 1515.64 Q1257.5 1515.64 1255.67 1519.2 Q1253.87 1522.75 1253.87 1529.87 Q1253.87 1536.98 1255.67 1540.55 Q1257.5 1544.09 1261.11 1544.09 Q1264.75 1544.09 1266.55 1540.55 Q1268.38 1536.98 1268.38 1529.87 Q1268.38 1522.75 1266.55 1519.2 Q1264.75 1515.64 1261.11 1515.64 M1261.11 1511.93 Q1266.92 1511.93 1269.98 1516.54 Q1273.06 1521.12 1273.06 1529.87 Q1273.06 1538.6 1269.98 1543.21 Q1266.92 1547.79 1261.11 1547.79 Q1255.3 1547.79 1252.22 1543.21 Q1249.17 1538.6 1249.17 1529.87 Q1249.17 1521.12 1252.22 1516.54 Q1255.3 1511.93 1261.11 1511.93 Z\" fill=\"#000000\" fill-rule=\"evenodd\" fill-opacity=\"1\" /><path clip-path=\"url(#clip500)\" d=\"M 0 0 M1766.32 1512.56 L1784.67 1512.56 L1784.67 1516.5 L1770.6 1516.5 L1770.6 1524.97 Q1771.62 1524.62 1772.64 1524.46 Q1773.65 1524.27 1774.67 1524.27 Q1780.46 1524.27 1783.84 1527.44 Q1787.22 1530.62 1787.22 1536.03 Q1787.22 1541.61 1783.75 1544.71 Q1780.27 1547.79 1773.96 1547.79 Q1771.78 1547.79 1769.51 1547.42 Q1767.27 1547.05 1764.86 1546.31 L1764.86 1541.61 Q1766.94 1542.74 1769.16 1543.3 Q1771.39 1543.86 1773.86 1543.86 Q1777.87 1543.86 1780.21 1541.75 Q1782.54 1539.64 1782.54 1536.03 Q1782.54 1532.42 1780.21 1530.31 Q1777.87 1528.21 1773.86 1528.21 Q1771.99 1528.21 1770.11 1528.62 Q1768.26 1529.04 1766.32 1529.92 L1766.32 1512.56 Z\" fill=\"#000000\" fill-rule=\"evenodd\" fill-opacity=\"1\" /><path clip-path=\"url(#clip500)\" d=\"M 0 0 M2267.84 1543.18 L2275.48 1543.18 L2275.48 1516.82 L2267.17 1518.49 L2267.17 1514.23 L2275.43 1512.56 L2280.11 1512.56 L2280.11 1543.18 L2287.75 1543.18 L2287.75 1547.12 L2267.84 1547.12 L2267.84 1543.18 Z\" fill=\"#000000\" fill-rule=\"evenodd\" fill-opacity=\"1\" /><path clip-path=\"url(#clip500)\" d=\"M 0 0 M2302.82 1515.64 Q2299.21 1515.64 2297.38 1519.2 Q2295.57 1522.75 2295.57 1529.87 Q2295.57 1536.98 2297.38 1540.55 Q2299.21 1544.09 2302.82 1544.09 Q2306.45 1544.09 2308.26 1540.55 Q2310.09 1536.98 2310.09 1529.87 Q2310.09 1522.75 2308.26 1519.2 Q2306.45 1515.64 2302.82 1515.64 M2302.82 1511.93 Q2308.63 1511.93 2311.68 1516.54 Q2314.76 1521.12 2314.76 1529.87 Q2314.76 1538.6 2311.68 1543.21 Q2308.63 1547.79 2302.82 1547.79 Q2297.01 1547.79 2293.93 1543.21 Q2290.87 1538.6 2290.87 1529.87 Q2290.87 1521.12 2293.93 1516.54 Q2297.01 1511.93 2302.82 1511.93 Z\" fill=\"#000000\" fill-rule=\"evenodd\" fill-opacity=\"1\" /><polyline clip-path=\"url(#clip502)\" style=\"stroke:#000000; stroke-width:2; stroke-opacity:0.1; fill:none\" points=\"\n",
       "  169.469,1377.83 2352.76,1377.83 \n",
       "  \"/>\n",
       "<polyline clip-path=\"url(#clip502)\" style=\"stroke:#000000; stroke-width:2; stroke-opacity:0.1; fill:none\" points=\"\n",
       "  169.469,1038.39 2352.76,1038.39 \n",
       "  \"/>\n",
       "<polyline clip-path=\"url(#clip502)\" style=\"stroke:#000000; stroke-width:2; stroke-opacity:0.1; fill:none\" points=\"\n",
       "  169.469,698.959 2352.76,698.959 \n",
       "  \"/>\n",
       "<polyline clip-path=\"url(#clip502)\" style=\"stroke:#000000; stroke-width:2; stroke-opacity:0.1; fill:none\" points=\"\n",
       "  169.469,359.524 2352.76,359.524 \n",
       "  \"/>\n",
       "<polyline clip-path=\"url(#clip500)\" style=\"stroke:#000000; stroke-width:4; stroke-opacity:1; fill:none\" points=\"\n",
       "  169.469,1486.45 169.469,47.2441 \n",
       "  \"/>\n",
       "<polyline clip-path=\"url(#clip500)\" style=\"stroke:#000000; stroke-width:4; stroke-opacity:1; fill:none\" points=\"\n",
       "  169.469,1377.83 195.668,1377.83 \n",
       "  \"/>\n",
       "<polyline clip-path=\"url(#clip500)\" style=\"stroke:#000000; stroke-width:4; stroke-opacity:1; fill:none\" points=\"\n",
       "  169.469,1038.39 195.668,1038.39 \n",
       "  \"/>\n",
       "<polyline clip-path=\"url(#clip500)\" style=\"stroke:#000000; stroke-width:4; stroke-opacity:1; fill:none\" points=\"\n",
       "  169.469,698.959 195.668,698.959 \n",
       "  \"/>\n",
       "<polyline clip-path=\"url(#clip500)\" style=\"stroke:#000000; stroke-width:4; stroke-opacity:1; fill:none\" points=\"\n",
       "  169.469,359.524 195.668,359.524 \n",
       "  \"/>\n",
       "<path clip-path=\"url(#clip500)\" d=\"M 0 0 M51.3625 1378.28 L81.0383 1378.28 L81.0383 1382.22 L51.3625 1382.22 L51.3625 1378.28 Z\" fill=\"#000000\" fill-rule=\"evenodd\" fill-opacity=\"1\" /><path clip-path=\"url(#clip500)\" d=\"M 0 0 M90.1354 1391.17 L106.455 1391.17 L106.455 1395.11 L84.5105 1395.11 L84.5105 1391.17 Q87.1725 1388.42 91.7558 1383.79 Q96.3623 1379.14 97.5428 1377.79 Q99.7882 1375.27 100.668 1373.53 Q101.571 1371.78 101.571 1370.09 Q101.571 1367.33 99.6261 1365.59 Q97.7048 1363.86 94.603 1363.86 Q92.4039 1363.86 89.9503 1364.62 Q87.5197 1365.39 84.7419 1366.94 L84.7419 1362.22 Q87.566 1361.08 90.0197 1360.5 Q92.4734 1359.92 94.5104 1359.92 Q99.8808 1359.92 103.075 1362.61 Q106.27 1365.29 106.27 1369.78 Q106.27 1371.91 105.459 1373.84 Q104.672 1375.73 102.566 1378.33 Q101.987 1379 98.8854 1382.22 Q95.7836 1385.41 90.1354 1391.17 Z\" fill=\"#000000\" fill-rule=\"evenodd\" fill-opacity=\"1\" /><path clip-path=\"url(#clip500)\" d=\"M 0 0 M121.524 1363.63 Q117.913 1363.63 116.084 1367.19 Q114.279 1370.73 114.279 1377.86 Q114.279 1384.97 116.084 1388.53 Q117.913 1392.08 121.524 1392.08 Q125.158 1392.08 126.964 1388.53 Q128.793 1384.97 128.793 1377.86 Q128.793 1370.73 126.964 1367.19 Q125.158 1363.63 121.524 1363.63 M121.524 1359.92 Q127.334 1359.92 130.39 1364.53 Q133.469 1369.11 133.469 1377.86 Q133.469 1386.59 130.39 1391.2 Q127.334 1395.78 121.524 1395.78 Q115.714 1395.78 112.635 1391.2 Q109.58 1386.59 109.58 1377.86 Q109.58 1369.11 112.635 1364.53 Q115.714 1359.92 121.524 1359.92 Z\" fill=\"#000000\" fill-rule=\"evenodd\" fill-opacity=\"1\" /><path clip-path=\"url(#clip500)\" d=\"M 0 0 M50.9921 1038.85 L80.6679 1038.85 L80.6679 1042.78 L50.9921 1042.78 L50.9921 1038.85 Z\" fill=\"#000000\" fill-rule=\"evenodd\" fill-opacity=\"1\" /><path clip-path=\"url(#clip500)\" d=\"M 0 0 M86.5475 1051.74 L94.1863 1051.74 L94.1863 1025.37 L85.8762 1027.04 L85.8762 1022.78 L94.14 1021.11 L98.8159 1021.11 L98.8159 1051.74 L106.455 1051.74 L106.455 1055.67 L86.5475 1055.67 L86.5475 1051.74 Z\" fill=\"#000000\" fill-rule=\"evenodd\" fill-opacity=\"1\" /><path clip-path=\"url(#clip500)\" d=\"M 0 0 M121.524 1024.19 Q117.913 1024.19 116.084 1027.76 Q114.279 1031.3 114.279 1038.43 Q114.279 1045.54 116.084 1049.1 Q117.913 1052.64 121.524 1052.64 Q125.158 1052.64 126.964 1049.1 Q128.793 1045.54 128.793 1038.43 Q128.793 1031.3 126.964 1027.76 Q125.158 1024.19 121.524 1024.19 M121.524 1020.49 Q127.334 1020.49 130.39 1025.1 Q133.469 1029.68 133.469 1038.43 Q133.469 1047.16 130.39 1051.76 Q127.334 1056.35 121.524 1056.35 Q115.714 1056.35 112.635 1051.76 Q109.58 1047.16 109.58 1038.43 Q109.58 1029.68 112.635 1025.1 Q115.714 1020.49 121.524 1020.49 Z\" fill=\"#000000\" fill-rule=\"evenodd\" fill-opacity=\"1\" /><path clip-path=\"url(#clip500)\" d=\"M 0 0 M121.524 684.758 Q117.913 684.758 116.084 688.322 Q114.279 691.864 114.279 698.994 Q114.279 706.1 116.084 709.665 Q117.913 713.207 121.524 713.207 Q125.158 713.207 126.964 709.665 Q128.793 706.1 128.793 698.994 Q128.793 691.864 126.964 688.322 Q125.158 684.758 121.524 684.758 M121.524 681.054 Q127.334 681.054 130.39 685.66 Q133.469 690.244 133.469 698.994 Q133.469 707.721 130.39 712.327 Q127.334 716.91 121.524 716.91 Q115.714 716.91 112.635 712.327 Q109.58 707.721 109.58 698.994 Q109.58 690.244 112.635 685.66 Q115.714 681.054 121.524 681.054 Z\" fill=\"#000000\" fill-rule=\"evenodd\" fill-opacity=\"1\" /><path clip-path=\"url(#clip500)\" d=\"M 0 0 M86.5475 372.869 L94.1863 372.869 L94.1863 346.503 L85.8762 348.17 L85.8762 343.911 L94.14 342.244 L98.8159 342.244 L98.8159 372.869 L106.455 372.869 L106.455 376.804 L86.5475 376.804 L86.5475 372.869 Z\" fill=\"#000000\" fill-rule=\"evenodd\" fill-opacity=\"1\" /><path clip-path=\"url(#clip500)\" d=\"M 0 0 M121.524 345.323 Q117.913 345.323 116.084 348.888 Q114.279 352.429 114.279 359.559 Q114.279 366.665 116.084 370.23 Q117.913 373.772 121.524 373.772 Q125.158 373.772 126.964 370.23 Q128.793 366.665 128.793 359.559 Q128.793 352.429 126.964 348.888 Q125.158 345.323 121.524 345.323 M121.524 341.619 Q127.334 341.619 130.39 346.226 Q133.469 350.809 133.469 359.559 Q133.469 368.286 130.39 372.892 Q127.334 377.475 121.524 377.475 Q115.714 377.475 112.635 372.892 Q109.58 368.286 109.58 359.559 Q109.58 350.809 112.635 346.226 Q115.714 341.619 121.524 341.619 Z\" fill=\"#000000\" fill-rule=\"evenodd\" fill-opacity=\"1\" /><polyline clip-path=\"url(#clip502)\" style=\"stroke:#009af9; stroke-width:4; stroke-opacity:1; fill:none\" points=\"\n",
       "  231.26,495.298 251.374,498.613 437.364,529.264 549.136,547.683 643.638,563.257 746.293,580.174 840.932,595.771 942.395,612.492 1059.95,631.865 1164.42,649.081 \n",
       "  1256.03,664.178 1355.91,680.638 1456.38,697.196 1567.47,715.502 1673.16,732.921 1783.06,751.032 1875.57,766.277 1988.52,784.891 2094.69,802.388 2264.79,830.419 \n",
       "  2290.96,834.733 \n",
       "  \"/>\n",
       "<polyline clip-path=\"url(#clip502)\" style=\"stroke:#e26f46; stroke-width:4; stroke-opacity:1; fill:none\" points=\"\n",
       "  231.26,1445.72 251.374,1432.46 437.364,1309.85 549.136,1236.17 643.638,1173.88 746.293,1106.21 840.932,1043.82 942.395,976.941 1059.95,899.45 1164.42,830.585 \n",
       "  1256.03,770.196 1355.91,704.357 1456.38,638.126 1567.47,564.899 1673.16,495.226 1783.06,422.781 1875.57,361.799 1988.52,287.346 2094.69,217.358 2264.79,105.232 \n",
       "  2290.96,87.9763 \n",
       "  \"/>\n",
       "<path clip-path=\"url(#clip500)\" d=\"\n",
       "M1986.37 276.658 L2279.98 276.658 L2279.98 95.2176 L1986.37 95.2176  Z\n",
       "  \" fill=\"#ffffff\" fill-rule=\"evenodd\" fill-opacity=\"1\"/>\n",
       "<polyline clip-path=\"url(#clip500)\" style=\"stroke:#000000; stroke-width:4; stroke-opacity:1; fill:none\" points=\"\n",
       "  1986.37,276.658 2279.98,276.658 2279.98,95.2176 1986.37,95.2176 1986.37,276.658 \n",
       "  \"/>\n",
       "<polyline clip-path=\"url(#clip500)\" style=\"stroke:#009af9; stroke-width:4; stroke-opacity:1; fill:none\" points=\"\n",
       "  2010.63,155.698 2156.19,155.698 \n",
       "  \"/>\n",
       "<path clip-path=\"url(#clip500)\" d=\"M 0 0 M2194.29 175.385 Q2192.48 180.015 2190.77 181.427 Q2189.05 182.839 2186.18 182.839 L2182.78 182.839 L2182.78 179.274 L2185.28 179.274 Q2187.04 179.274 2188.01 178.44 Q2188.99 177.607 2190.17 174.505 L2190.93 172.561 L2180.44 147.052 L2184.96 147.052 L2193.06 167.329 L2201.16 147.052 L2205.68 147.052 L2194.29 175.385 Z\" fill=\"#000000\" fill-rule=\"evenodd\" fill-opacity=\"1\" /><path clip-path=\"url(#clip500)\" d=\"M 0 0 M2211.55 169.042 L2219.19 169.042 L2219.19 142.677 L2210.88 144.343 L2210.88 140.084 L2219.15 138.418 L2223.82 138.418 L2223.82 169.042 L2231.46 169.042 L2231.46 172.978 L2211.55 172.978 L2211.55 169.042 Z\" fill=\"#000000\" fill-rule=\"evenodd\" fill-opacity=\"1\" /><polyline clip-path=\"url(#clip500)\" style=\"stroke:#e26f46; stroke-width:4; stroke-opacity:1; fill:none\" points=\"\n",
       "  2010.63,216.178 2156.19,216.178 \n",
       "  \"/>\n",
       "<path clip-path=\"url(#clip500)\" d=\"M 0 0 M2194.29 235.865 Q2192.48 240.495 2190.77 241.907 Q2189.05 243.319 2186.18 243.319 L2182.78 243.319 L2182.78 239.754 L2185.28 239.754 Q2187.04 239.754 2188.01 238.92 Q2188.99 238.087 2190.17 234.985 L2190.93 233.041 L2180.44 207.532 L2184.96 207.532 L2193.06 227.809 L2201.16 207.532 L2205.68 207.532 L2194.29 235.865 Z\" fill=\"#000000\" fill-rule=\"evenodd\" fill-opacity=\"1\" /><path clip-path=\"url(#clip500)\" d=\"M 0 0 M2214.77 229.522 L2231.09 229.522 L2231.09 233.458 L2209.15 233.458 L2209.15 229.522 Q2211.81 226.768 2216.39 222.138 Q2221 217.485 2222.18 216.143 Q2224.43 213.62 2225.3 211.884 Q2226.21 210.124 2226.21 208.435 Q2226.21 205.68 2224.26 203.944 Q2222.34 202.208 2219.24 202.208 Q2217.04 202.208 2214.59 202.972 Q2212.16 203.735 2209.38 205.286 L2209.38 200.564 Q2212.2 199.43 2214.66 198.851 Q2217.11 198.273 2219.15 198.273 Q2224.52 198.273 2227.71 200.958 Q2230.91 203.643 2230.91 208.134 Q2230.91 210.263 2230.1 212.185 Q2229.31 214.083 2227.2 216.675 Q2226.62 217.347 2223.52 220.564 Q2220.42 223.759 2214.77 229.522 Z\" fill=\"#000000\" fill-rule=\"evenodd\" fill-opacity=\"1\" /></svg>\n"
      ]
     },
     "execution_count": 20,
     "metadata": {},
     "output_type": "execute_result"
    }
   ],
   "source": [
    "f(x) = 1-x/2\n",
    "g(x) = 2x - 2\n",
    "\n",
    "plot([f,g], -10, 10)"
   ]
  },
  {
   "cell_type": "code",
   "execution_count": 21,
   "id": "ae73aa4d",
   "metadata": {},
   "outputs": [
    {
     "name": "stdout",
     "output_type": "stream",
     "text": [
      "[1.0; 1.0]\n",
      "[0.5; 1.5]\n",
      "[0.25; 1.25]\n",
      "[0.375; 1.125]\n",
      "[0.4375; 1.1875]\n",
      "[0.40625; 1.21875]\n",
      "[0.390625; 1.203125]\n",
      "[0.3984375; 1.1953125]\n",
      "[0.40234375; 1.19921875]\n",
      "[0.400390625; 1.201171875]\n",
      "[0.3994140625; 1.2001953125]\n",
      "[0.39990234375; 1.19970703125]\n",
      "\n",
      "Tolerância: 0.0006905339660024879\n",
      "Tolerância: 0.0006905339660024879"
     ]
    }
   ],
   "source": [
    "A = [2 1; -1 2]\n",
    "b = [2; 2]\n",
    "\n",
    "iterador = 1\n",
    "x_anterior = randn(2)\n",
    "x_atual = randn(2)\n",
    "while (norm(x_atual - x_anterior) >= 1e-3)\n",
    "    x_anterior = x_atual\n",
    "    x_atual = gauss_jacobi(A, b, iterador)\n",
    "    print(x_atual, \"\\n\")\n",
    "    iterador += 1\n",
    "end\n",
    "print(\"\\n\", \"Tolerância: \", norm(A*x_atual - b), \"\\n\")\n",
    "print(\"Tolerância: \", norm(x_atual - x_anterior))"
   ]
  },
  {
   "cell_type": "code",
   "execution_count": 22,
   "id": "6a78288a",
   "metadata": {},
   "outputs": [
    {
     "name": "stdout",
     "output_type": "stream",
     "text": [
      "[0.5; 1.0]\n",
      "[0.375; 1.25]\n",
      "[0.40625; 1.1875]\n",
      "[0.3984375; 1.203125]\n",
      "[0.400390625; 1.19921875]\n",
      "[0.39990234375; 1.2001953125]\n",
      "[0.4000244140625; 1.199951171875]\n",
      "\n",
      "Tolerância: 0.0001220703125\n",
      "Tolerância: 0.0002729575167846423"
     ]
    }
   ],
   "source": [
    "iterador = 1\n",
    "x_anterior = randn(2)\n",
    "x_atual = randn(2)\n",
    "while (norm(x_atual - x_anterior) >= 1e-3)\n",
    "    x_anterior = x_atual\n",
    "    x_atual = gauss_seidel(A, b, iterador)\n",
    "    print(x_atual, \"\\n\")\n",
    "    iterador += 1\n",
    "end\n",
    "print(\"\\n\", \"Tolerância: \", norm(A*x_atual - b), \"\\n\")\n",
    "print(\"Tolerância: \", norm(x_atual - x_anterior))"
   ]
  },
  {
   "cell_type": "markdown",
   "id": "c8862173",
   "metadata": {},
   "source": [
    "## Questão 3. (Chris)"
   ]
  },
  {
   "cell_type": "markdown",
   "id": "5404374a",
   "metadata": {},
   "source": [
    "**(A)** (**TODO:** Talvez melhorar a explicação) Podemos modelar o problema levando em consideração as quatro direções e suas respectivas temperaturas, montando o seguinte sistema"
   ]
  },
  {
   "cell_type": "markdown",
   "id": "c4d61d63",
   "metadata": {},
   "source": [
    "\\begin{align*}\n",
    "x_1 &= \\frac{1}{4} (5 + 15 + x_2 + x_3) &\\implies 4x_1 - x_2 - x_3 &= 20\\\\\n",
    "x_2 &= \\frac{1}{4} (x_1 + 15 + 35 + x_4) &\\implies 4x_2 - x_1 - x_4 &= 50\\\\\n",
    "x_3 &= \\frac{1}{4} (5 + x_1 + x_4 + 10) &\\implies 4x_3 - x_1 - x_4 &= 15\\\\\n",
    "x_4 &= \\frac{1}{4} (x_3 + x_2 + 35 + 10) &\\implies 4x_4 - x_2 - x_3 &= 45\n",
    "\\end{align*}"
   ]
  },
  {
   "cell_type": "markdown",
   "id": "c375477b",
   "metadata": {},
   "source": [
    "**(B)** Vendo linha a linha temos:"
   ]
  },
  {
   "cell_type": "markdown",
   "id": "b8a83382",
   "metadata": {},
   "source": [
    "\\begin{align*}\n",
    "|A_{11}| = 4 \\geq \\sum_{i\\ne j} |A_{ij}| = 2\\\\\n",
    "|A_{22}| = 4 \\geq \\sum_{i\\ne j} |A_{ij}| = 2\\\\\n",
    "|A_{33}| = 4 \\geq \\sum_{i\\ne j} |A_{ij}| = 2\\\\\n",
    "|A_{44}| = 4 \\geq \\sum_{i\\ne j} |A_{ij}| = 2\\\\\n",
    "\\end{align*}"
   ]
  },
  {
   "cell_type": "markdown",
   "id": "b80277a6",
   "metadata": {},
   "source": [
    "Como a desigualdade é satisfeita para todas as linhas, temos que ela é\n",
    "diagonal dominante, consequentemente, temos que ambos os métodos de Gauss-Jacobi\n",
    "e Gauss-Seidel convergem."
   ]
  },
  {
   "cell_type": "markdown",
   "id": "143cf10e",
   "metadata": {},
   "source": [
    "**(C)** Montando o sistema em Julia temos, podemos aproximar a temperatura nos quatro vértices"
   ]
  },
  {
   "cell_type": "code",
   "execution_count": 21,
   "id": "1f7092cf",
   "metadata": {},
   "outputs": [
    {
     "data": {
      "text/plain": [
       "4×1 Matrix{Float64}:\n",
       " 13.124534606933594\n",
       " 20.624534606933594\n",
       " 11.874534606933594\n",
       " 19.374534606933594"
      ]
     },
     "metadata": {},
     "output_type": "display_data"
    },
    {
     "data": {
      "text/plain": [
       "4-element Vector{Float64}:\n",
       " 13.124849319458008\n",
       " 20.624698638916016\n",
       " 11.874698638916016\n",
       " 19.37439727783203"
      ]
     },
     "metadata": {},
     "output_type": "display_data"
    }
   ],
   "source": [
    "A = [4 -1 -1 0; -1 4 0 -1; -1 0 4 -1; 0 -1 -1 4] * 1.0\n",
    "b = [20; 50;  15; 45] * 1.0\n",
    "\n",
    "function gauss_seidel(A, b, EPS)\n",
    "    U = UpperTriangular(A)\n",
    "    L = U - A\n",
    "    \n",
    "    Uinv = inv(U)\n",
    "    \n",
    "    T = Uinv * L\n",
    "    C = Uinv * b\n",
    "\n",
    "    basis = ones(length(b))\n",
    "\n",
    "    error = 1.0\n",
    "\n",
    "    iter = 1\n",
    "\n",
    "    while true\n",
    "        basis = T * basis + C\n",
    "        error = norm(T * basis + C - basis)\n",
    "        if (error < EPS)\n",
    "            break\n",
    "        end\n",
    "        iter += 1\n",
    "    end\n",
    "\n",
    "    return basis\n",
    "end\n",
    "\n",
    "function jacobi(A, b, EPS) \n",
    "    D = Diagonal(A)\n",
    "    K = D - A\n",
    "    iD = inv(D)\n",
    "\n",
    "    T = iD * K\n",
    "    C = iD * b\n",
    "\n",
    "    basis = ones(size(A)[1], 1)\n",
    "    iter = 1\n",
    "    error = 1.0\n",
    "\n",
    "    while true\n",
    "        error = norm(T * basis + C - basis)\n",
    "        basis = T * basis + C\n",
    "        if error < 10^(-3)\n",
    "            break\n",
    "        end\n",
    "\n",
    "        iter += 1\n",
    "    end\n",
    "    \n",
    "    return basis\n",
    "end\n",
    "\n",
    "display(jacobi(A, b, 10^(-3)))\n",
    "display(gauss_seidel(A, b, 10^(-3)))"
   ]
  },
  {
   "cell_type": "markdown",
   "id": "7a71e6ca",
   "metadata": {},
   "source": [
    "**(D)** Para este item vamos generalizar o método acima para que seja viável construir\n",
    "sistemas maiores de mesmo formato (temperatura somente nos quatro lados do grid), podemos alterar o tamanho do grid e "
   ]
  },
  {
   "cell_type": "code",
   "execution_count": 20,
   "id": "8b4038d6",
   "metadata": {},
   "outputs": [
    {
     "data": {
      "text/plain": [
       "25-element Vector{Float64}:\n",
       " 1.8814400535262978\n",
       " 0.9136378565452907\n",
       " 0.8743911277977362\n",
       " 0.9048503160706224\n",
       " 1.6724112917214005\n",
       " 1.122363481612154\n",
       " 0.08513731962737954\n",
       " 0.04156518274377449\n",
       " 0.07579847651858843\n",
       " 0.9050429008052224\n",
       " 1.092531754469316\n",
       " 0.05141865276188393\n",
       " 0.007892951215112194\n",
       " 0.0424006110806016\n",
       " 0.87510445146112\n",
       " 1.1397887499211952\n",
       " 0.10404115395090843\n",
       " 0.060904545032601606\n",
       " 0.09505903083520001\n",
       " 0.92283932672\n",
       " 2.2995353875329845\n",
       " 1.3486157621428223\n",
       " 1.31022976090112\n",
       " 1.34019919872\n",
       " 2.090856448"
      ]
     },
     "metadata": {},
     "output_type": "display_data"
    },
    {
     "data": {
      "text/plain": [
       "25×1 Matrix{Float64}:\n",
       " 1.8814487552\n",
       " 0.9136544768\n",
       " 0.8744296448000001\n",
       " 0.9049166848000001\n",
       " 1.6724022272\n",
       " 1.1223789568\n",
       " 0.08519946240000001\n",
       " 0.0417562624\n",
       " 0.0757750784\n",
       " 0.9049310208000001\n",
       " 1.0925677568\n",
       " 0.0516097024\n",
       " 0.0078792704\n",
       " 0.042146918400000004\n",
       " 0.8747952128\n",
       " 1.1398545408\n",
       " 0.1040482304\n",
       " 0.0606818304\n",
       " 0.0946238464\n",
       " 0.9224066048\n",
       " 2.2995418112\n",
       " 1.3485503488\n",
       " 1.3099747328\n",
       " 1.3398125567999999\n",
       " 2.0904952832"
      ]
     },
     "metadata": {},
     "output_type": "display_data"
    }
   ],
   "source": [
    "# quantidade de variaveis no sistema\n",
    "num_var = 25\n",
    "\n",
    "# dimensão do grid (Testado com matrizes quadradas)\n",
    "dim = 5\n",
    "\n",
    "A = zeros((num_var, num_var))\n",
    "b = zeros(num_var)\n",
    "\n",
    "# arrays direção para facilitar na iteração -> [esq, cima, direita, baixo]\n",
    "dx = [-1 0 1 0]\n",
    "dy = [0 1 0 -1]\n",
    "\n",
    "# temperatura em cada lado do grid -> [esq, cima, dir, baixo]\n",
    "temperature = [25 20 20 30]\n",
    "\n",
    "for i in 1 : dim\n",
    "    # temperatura de cima\n",
    "    b[i] += temperature[2]\n",
    "\n",
    "    # temperatura da dir\n",
    "    b[i * dim] += temperature[3]\n",
    "\n",
    "    # temperatura da esq\n",
    "    b[(i - 1) * dim + 1] += temperature[1]\n",
    "\n",
    "    # temperatura de baixo\n",
    "    b[(dim - 1) * dim + i] += temperature[4]\n",
    "end\n",
    "\n",
    "# checa se o vértice está dentro do grid\n",
    "function check(i, j, id)\n",
    "    return (i >= 1 && j >= 1 && i <= dim && j <= dim && id >= 1 && id <= num_var)\n",
    "end\n",
    "\n",
    "# constroi a nossa matriz do sistema levando em consideração\n",
    "# as direções possíveis\n",
    "for i in 1 : dim\n",
    "    for j in 1 : dim\n",
    "        new_var = (i - 1) * dim + j\n",
    "        A[new_var, new_var] = num_var\n",
    "        \n",
    "        for k in 1 : 4\n",
    "            new_i = i + dx[k]\n",
    "            new_j = j + dy[k]\n",
    "            \n",
    "            loc = (new_i - 1) * dim + new_j\n",
    "\n",
    "            if check(new_i, new_j, loc)\n",
    "                A[new_var, loc] = -1\n",
    "            end\n",
    "        end\n",
    "    end\n",
    "end\n",
    "\n",
    "display(gauss_seidel(A, b, 10^(-3)))\n",
    "display(jacobi(A, b, 10^(-3)))"
   ]
  },
  {
   "cell_type": "markdown",
   "id": "079451cb",
   "metadata": {},
   "source": [
    "**(E)** **TODO!**"
   ]
  },
  {
   "cell_type": "markdown",
   "id": "4005e88a",
   "metadata": {},
   "source": [
    "## Questão 4. (Thierry)"
   ]
  },
  {
   "cell_type": "markdown",
   "id": "6c01cfde",
   "metadata": {},
   "source": [
    "Equações:\n",
    "\n",
    "$$x_8 = x_6 + x_7 + 500$$\n",
    "$$x_7 = x_5 + 3000$$\n",
    "$$x_6 = x_4 + x_2$$\n",
    "$$x_5 = x_3 + 3000$$\n",
    "$$x_4 = x_1 + 30000$$\n",
    "$$x_3 = 9000$$\n",
    "$$x_2 = 3500$$\n",
    "$$x_1 = 7000$$\n",
    "\n",
    "Logo temos o sistema\n",
    "$$\n",
    "\\begin{bmatrix} \n",
    "    0 & 0 & 0 & 0 & 0 & -1 & -1 & 1 \\\\\n",
    "    0 & 0 & 0 & 0 & -1 & 0 & 1 & 0 \\\\\n",
    "    0 & -1 & 0 & -1 & 0 & 1 & 0 & 0 \\\\\n",
    "    0 & 0 & -1 & 0 & 1 & 0 & 0 & 0 \\\\\n",
    "    -1 & 0 & 0 & 1 & 0 & 0 & 0 & 0 \\\\\n",
    "    0 & 0 & 1 & 0 & 0 & 0 & 0 & 0 \\\\\n",
    "    0 & 1 & 0 & 0 & 0 & 0 & 0 & 0 \\\\\n",
    "    1 & 0 & 0 & 0 & 0 & 0 & 0 & 0 \\\\\n",
    "\\end{bmatrix}\n",
    "\\begin{bmatrix} \n",
    "    x_1 \\\\\n",
    "    x_2 \\\\\n",
    "    x_3 \\\\\n",
    "    x_4 \\\\\n",
    "    x_5 \\\\\n",
    "    x_6 \\\\\n",
    "    x_7 \\\\\n",
    "    x_8 \\\\\n",
    "\\end{bmatrix}\n",
    "=\n",
    "\\begin{bmatrix} \n",
    "    500 \\\\\n",
    "    3000 \\\\\n",
    "    0 \\\\\n",
    "    3000 \\\\\n",
    "    30000 \\\\\n",
    "    9000 \\\\\n",
    "    3500 \\\\\n",
    "    7000 \\\\\n",
    "\\end{bmatrix}\n",
    "$$\n",
    "E então,"
   ]
  },
  {
   "cell_type": "code",
   "execution_count": 23,
   "id": "c3d720c7",
   "metadata": {},
   "outputs": [
    {
     "ename": "LoadError",
     "evalue": "\u001b[91mSingularException(1)\u001b[39m",
     "output_type": "error",
     "traceback": [
      "\u001b[91mSingularException(1)\u001b[39m",
      "",
      "Stacktrace:",
      " [1] inv(::Diagonal{Int64,Array{Int64,1}}) at C:\\buildbot\\worker\\package_win64\\build\\usr\\share\\julia\\stdlib\\v1.5\\LinearAlgebra\\src\\diagonal.jl:607",
      " [2] gauss_jacobi(::Array{Int64,2}, ::Array{Int64,1}, ::Int64) at .\\In[14]:5",
      " [3] top-level scope at In[23]:5",
      " [4] include_string(::Function, ::Module, ::String, ::String) at .\\loading.jl:1091"
     ]
    }
   ],
   "source": [
    "A = [0 0 0 0 0 -1 -1 1; 0 0 0 0 -1 0 1 0; 0 -1 0 -1 0 1 0 0; 0 0 -1 0 1 0 0 0; -1 0 0 1 0 0 0 0; 0 0 1 0 0 0 0 0; 0 1 0 0 0 0 0 0; 1 0 0 0 0 0 0 0]\n",
    "b = [500; 3000; 0; 3000; 30000; 9000; 3500; 7000]\n",
    "\n",
    "\n",
    "x = gauss_jacobi(A,b, 5)\n",
    "print(x)"
   ]
  },
  {
   "cell_type": "markdown",
   "id": "f1a5b314",
   "metadata": {},
   "source": [
    "## Questão 5. (Chris)"
   ]
  },
  {
   "cell_type": "code",
   "execution_count": null,
   "id": "441754d8",
   "metadata": {},
   "outputs": [],
   "source": []
  },
  {
   "attachments": {
    "bandeiraGrecia.png": {
     "image/png": "[encoded data removed]"
    }
   },
   "cell_type": "markdown",
   "id": "f1ae4fa5",
   "metadata": {},
   "source": [
    "## Questão 6. (Luan)\n",
    "\n",
    "### Considere a bandeira da Grécia como uma imagem preta e branca e modele com uma matriz A.\n",
    "\n",
    "Para modelarmos a bandeira da grécia como uma matriz, consideraremos a seguinte imagem, que preparei com muito carinho:\n",
    "\n",
    "![bandeiraGrecia.png](attachment:bandeiraGrecia.png)\n",
    "\n",
    "Logo teremos \n",
    "\n",
    "$$A = \n",
    "\\begin{bmatrix} \n",
    "    1 & 1 & 0 & 1 & 1 & 1 & 1 & 1 & 1 & 1 & 1 & 1 & 1 & 1 \\\\\n",
    "    1 & 1 & 0 & 1 & 1 & 0 & 0 & 0 & 0 & 0 & 0 & 0 & 0 & 0 \\\\\n",
    "    0 & 0 & 0 & 0 & 0 & 1 & 1 & 1 & 1 & 1 & 1 & 1 & 1 & 1 \\\\\n",
    "    1 & 1 & 0 & 1 & 1 & 0 & 0 & 0 & 0 & 0 & 0 & 0 & 0 & 0 \\\\\n",
    "    1 & 1 & 0 & 1 & 1 & 1 & 1 & 1 & 1 & 1 & 1 & 1 & 1 & 1 \\\\\n",
    "    0 & 0 & 0 & 0 & 0 & 0 & 0 & 0 & 0 & 0 & 0 & 0 & 0 & 0 \\\\\n",
    "    1 & 1 & 1 & 1 & 1 & 1 & 1 & 1 & 1 & 1 & 1 & 1 & 1 & 1 \\\\\n",
    "    0 & 0 & 0 & 0 & 0 & 0 & 0 & 0 & 0 & 0 & 0 & 0 & 0 & 0 \\\\\n",
    "    1 & 1 & 1 & 1 & 1 & 1 & 1 & 1 & 1 & 1 & 1 & 1 & 1 & 1 \\\\\n",
    "\\end{bmatrix}\n",
    "$$\n",
    "\n",
    "#### (a) Qual é o posto da bandeira da Grécia (tal que $A = BC^t$)? O que a matriz $B$ e matriz $C^t$ representam nesse caso? Explique com as suas próprias palavras.\n",
    "\n",
    "$A = \n",
    "\\begin{bmatrix} \n",
    "    1 & 1 & 0 & 1 & 1 & 1 & 1 & 1 & 1 & 1 & 1 & 1 & 1 & 1 \\\\\n",
    "    1 & 1 & 0 & 1 & 1 & 0 & 0 & 0 & 0 & 0 & 0 & 0 & 0 & 0 \\\\\n",
    "    0 & 0 & 0 & 0 & 0 & 1 & 1 & 1 & 1 & 1 & 1 & 1 & 1 & 1 \\\\\n",
    "    1 & 1 & 0 & 1 & 1 & 0 & 0 & 0 & 0 & 0 & 0 & 0 & 0 & 0 \\\\\n",
    "    1 & 1 & 0 & 1 & 1 & 1 & 1 & 1 & 1 & 1 & 1 & 1 & 1 & 1 \\\\\n",
    "    0 & 0 & 0 & 0 & 0 & 0 & 0 & 0 & 0 & 0 & 0 & 0 & 0 & 0 \\\\\n",
    "    1 & 1 & 1 & 1 & 1 & 1 & 1 & 1 & 1 & 1 & 1 & 1 & 1 & 1 \\\\\n",
    "    0 & 0 & 0 & 0 & 0 & 0 & 0 & 0 & 0 & 0 & 0 & 0 & 0 & 0 \\\\\n",
    "    1 & 1 & 1 & 1 & 1 & 1 & 1 & 1 & 1 & 1 & 1 & 1 & 1 & 1 \\\\\n",
    "\\end{bmatrix} \n",
    "=\n",
    "\\begin{bmatrix}\n",
    "    1 & 0 & 1 \\\\\n",
    "    1 & 0 & 0 \\\\\n",
    "    0 & 0 & 1 \\\\\n",
    "    1 & 0 & 0 \\\\\n",
    "    1 & 0 & 1 \\\\\n",
    "    0 & 0 & 0 \\\\\n",
    "    1 & 1 & 1 \\\\\n",
    "    0 & 0 & 0 \\\\\n",
    "    1 & 1 & 1 \\\\\n",
    "\\end{bmatrix}\n",
    "\\begin{bmatrix}\n",
    "    1 & 1 & 0 & 1 & 1 & 0 & 0 & 0 & 0 & 0 & 0 & 0 & 0 & 0 \\\\\n",
    "    0 & 0 & 1 & 0 & 0 & 0 & 0 & 0 & 0 & 0 & 0 & 0 & 0 & 0 \\\\\n",
    "    0 & 0 & 0 & 0 & 0 & 1 & 1 & 1 & 1 & 1 & 1 & 1 & 1 & 1 \\\\\n",
    "\\end{bmatrix}\n",
    "$\n",
    "\n",
    "A matriz $B$ representaria as diferentes \"colunas\" que a bandeira tem, que, nesse caso, são $3$, o nosso posto. $C^t$ por consequência representaria a ordem das \"colunas\" na bandeira.\n",
    "\n",
    "#### (b) Determine dois países tais quais sua bandeira tem posto = 1?\n",
    "\n",
    "Para posto = 1, podemos pensar em bandeiras horizontais, como Ucrânia, Rússia, Iémen, Indonésia, ...\n",
    "\n",
    "#### (c) Determine dois países tais quais sua bandeira tem posto = 2?\n",
    "\n",
    "Para posto = 2, podemos pensar em bandeiras horizontais, porém com algum detalhe simples vertical, como Dinamarca, Finlândia, Suécia, ...\n",
    "\n",
    "#### (c) Determine dois países tais quais sua bandeira tem posto = 3?\n",
    "\n",
    "Para posto = 3, podemos pensar em bandeiras verticais com três cores, como Bélgica, França, Chade, Guinea, ...\n",
    "\n",
    "##### Super interessante pensar nos postos para bandeiras complicadas como a do Brasil, Japão, Arábia Saudita, ..."
   ]
  },
  {
   "cell_type": "code",
   "execution_count": null,
   "id": "021a8e5d",
   "metadata": {},
   "outputs": [],
   "source": []
  },
  {
   "cell_type": "markdown",
   "id": "36f55bfd",
   "metadata": {},
   "source": [
    "## Questão 7. (Vinicius)"
   ]
  },
  {
   "cell_type": "markdown",
   "id": "cf342309",
   "metadata": {},
   "source": [
    "Primeiro, fazemos a inserção da imagem:"
   ]
  },
  {
   "cell_type": "code",
   "execution_count": 24,
   "id": "a4742580",
   "metadata": {},
   "outputs": [
    {
     "data": {
      "image/svg+xml": [
       "<?xml version=\"1.0\" encoding=\"utf-8\"?>\n",
       "<svg xmlns=\"http://www.w3.org/2000/svg\" xmlns:xlink=\"http://www.w3.org/1999/xlink\" width=\"150\" height=\"150\" viewBox=\"0 0 600 600\">\n",
       "<defs>\n",
       "  <clipPath id=\"clip530\">\n",
       "    <rect x=\"0\" y=\"0\" width=\"600\" height=\"600\"/>\n",
       "  </clipPath>\n",
       "</defs>\n",
       "<path clip-path=\"url(#clip530)\" d=\"\n",
       "M0 600 L600 600 L600 0 L0 0  Z\n",
       "  \" fill=\"#ffffff\" fill-rule=\"evenodd\" fill-opacity=\"1\"/>\n",
       "<defs>\n",
       "  <clipPath id=\"clip531\">\n",
       "    <rect x=\"120\" y=\"60\" width=\"421\" height=\"421\"/>\n",
       "  </clipPath>\n",
       "</defs>\n",
       "<path clip-path=\"url(#clip530)\" d=\"\n",
       "M47.2441 552.756 L552.756 552.756 L552.756 47.2441 L47.2441 47.2441  Z\n",
       "  \" fill=\"#ffffff\" fill-rule=\"evenodd\" fill-opacity=\"1\"/>\n",
       "<defs>\n",
       "  <clipPath id=\"clip532\">\n",
       "    <rect x=\"47\" y=\"47\" width=\"507\" height=\"507\"/>\n",
       "  </clipPath>\n",
       "</defs>\n",
       "<polyline clip-path=\"url(#clip530)\" style=\"stroke:#000000; stroke-width:4; stroke-opacity:1; fill:none\" points=\"\n",
       "  47.2441,552.756 552.756,552.756 \n",
       "  \"/>\n",
       "<polyline clip-path=\"url(#clip530)\" style=\"stroke:#000000; stroke-width:4; stroke-opacity:1; fill:none\" points=\"\n",
       "  47.2441,47.2441 47.2441,552.756 \n",
       "  \"/>\n",
       "<g clip-path=\"url(#clip532)\">\n",
       "<image width=\"506\" height=\"506\" xlink:href=\"data:image/png;base64,\n",
       "iVBORw0KGgoAAAANSUhEUgAAAfoAAAH6CAYAAADvFY5JAAAIR0lEQVR4nO3XQWoEMRAEwZHZj8/L\n",
       "2/fxgvHBSJtEvKBANInWzMzFcdZauyfw4FTO407O407O87V7AADwf4QeAMKEHgDChB4AwoQeAMKE\n",
       "HgDChB4AwoQeAMKEHgDChB4AwoQeAMKEHgDChB4AwoQeAMKEHgDChB4AwoQeAMKEHgDChB4AwoQe\n",
       "AMKEHgDChB4AwoQeAMKEHgDChB4AwoQeAMKEHgDChB4AwoQeAMKEHgDChB4AwoQeAMKEHgDChB4A\n",
       "woQeAMKEHgDChB4AwoQeAMKEHgDChB4AwoQeAMKEHgDChB4AwoQeAMKEHgDChB4AwoQeAMKEHgDC\n",
       "hB4AwoQeAMKEHgDChB4AwoQeAMKEHgDChB4AwoQeAMKEHgDChB4AwoQeAMKEHgDChB4AwoQeAMKE\n",
       "HgDChB4AwoQeAMKEHgDChB4AwoQeAMKEHgDChB4AwoQeAMKEHgDChB4AwoQeAMKEHgDChB4AwoQe\n",
       "AMKEHgDChB4AwoQeAMKEHgDChB4AwoQeAMKEHgDChB4AwoQeAMKEHgDChB4AwoQeAMKEHgDChB4A\n",
       "woQeAMKEHgDChB4AwoQeAMKEHgDChB4AwoQeAMKEHgDChB4AwoQeAMKEHgDChB4AwoQeAMKEHgDC\n",
       "hB4AwoQeAMKEHgDChB4AwoQeAMKEHgDChB4AwoQeAMKEHgDChB4AwoQeAMKEHgDChB4AwoQeAMKE\n",
       "HgDChB4AwoQeAMKEHgDChB4AwoQeAMKEHgDChB4AwoQeAMKEHgDChB4AwoQeAMKEHgDChB4AwoQe\n",
       "AMKEHgDChB4AwoQeAMKEHgDChB4AwoQeAMKEHgDChB4AwoQeAMKEHgDChB4AwoQeAMKEHgDChB4A\n",
       "woQeAMKEHgDChB4AwoQeAMKEHgDChB4AwoQeAMKEHgDChB4AwoQeAMKEHgDChB4AwoQeAMKEHgDC\n",
       "hB4AwoQeAMKEHgDChB4AwoQeAMKEHgDChB4AwoQeAMKEHgDChB4AwoQeAMKEHgDChB4AwoQeAMKE\n",
       "HgDChB4AwoQeAMKEHgDChB4AwoQeAMKEHgDChB4AwoQeAMKEHgDChB4AwoQeAMKEHgDChB4AwoQe\n",
       "AMKEHgDChB4AwoQeAMKEHgDChB4AwoQeAMKEHgDChB4AwoQeAMKEHgDChB4Awl67B/DezOyewMN9\n",
       "37sn8OBO4Hd+9AAQJvQAECb0ABAm9AAQJvQAECb0ABAm9AAQJvQAECb0ABAm9AAQJvQAECb0ABAm\n",
       "9AAQJvQAECb0ABAm9AAQJvQAECb0ABAm9AAQJvQAECb0ABAm9AAQJvQAECb0ABAm9AAQJvQAECb0\n",
       "ABAm9AAQJvQAECb0ABAm9AAQJvQAECb0ABAm9AAQJvQAECb0ABAm9AAQJvQAECb0ABAm9AAQJvQA\n",
       "ECb0ABAm9AAQJvQAECb0ABAm9AAQJvQAECb0ABAm9AAQJvQAECb0ABAm9AAQJvQAECb0ABAm9AAQ\n",
       "JvQAECb0ABAm9AAQJvQAECb0ABAm9AAQJvQAECb0ABAm9AAQJvQAECb0ABAm9AAQJvQAECb0ABAm\n",
       "9AAQJvQAECb0ABAm9AAQJvQAECb0ABAm9AAQJvQAECb0ABAm9AAQJvQAECb0ABAm9AAQJvQAECb0\n",
       "ABAm9AAQJvQAECb0ABAm9AAQJvQAECb0ABAm9AAQJvQAECb0ABAm9AAQJvQAECb0ABAm9AAQJvQA\n",
       "ECb0ABAm9AAQtq7rmt0j+GnGswCfZ621ewIPfvQAECb0ABAm9AAQJvQAECb0ABAm9AAQJvQAECb0\n",
       "ABAm9AAQJvQAECb0ABAm9AAQJvQAECb0ABAm9AAQJvQAECb0ABAm9AAQJvQAECb0ABAm9AAQJvQA\n",
       "ECb0ABAm9AAQJvQAECb0ABAm9AAQJvQAECb0ABAm9AAQJvQAECb0ABAm9AAQJvQAECb0ABAm9AAQ\n",
       "JvQAECb0ABAm9AAQJvQAECb0ABAm9AAQJvQAECb0ABAm9AAQJvQAECb0ABAm9AAQJvQAECb0ABAm\n",
       "9AAQJvQAECb0ABAm9AAQJvQAECb0ABAm9AAQJvQAECb0ABAm9AAQJvQAECb0ABAm9AAQJvQAECb0\n",
       "ABAm9AAQJvQAECb0ABAm9AAQJvQAECb0ABAm9AAQJvQAECb0ABAm9AAQJvQAECb0ABAm9AAQJvQA\n",
       "ECb0ABAm9AAQJvQAECb0ABAm9AAQJvQAECb0ABAm9AAQJvQAECb0ABAm9AAQJvQAECb0ABAm9AAQ\n",
       "JvQAECb0ABAm9AAQJvQAECb0ABAm9AAQJvQAEPaamd0beGOttXsCwJ9pynn86AEgTOgBIEzoASBM\n",
       "6AEgTOgBIEzoASBM6AEgTOgBIEzoASBM6AEgTOgBIEzoASBM6AEgTOgBIEzoASBM6AEgTOgBIEzo\n",
       "ASBM6AEgTOgBIEzoASBM6AEgTOgBIEzoASBM6AEgTOgBIEzoASBM6AEgTOgBIEzoASBM6AEgTOgB\n",
       "IEzoASBM6AEgTOgBIEzoASBM6AEgTOgBIEzoASBM6AEgTOgBIEzoASBM6AEgTOgBIEzoASBM6AEg\n",
       "TOgBIEzoASBM6AEgTOgBIEzoASBM6AEgTOgBIEzoASBM6AEgTOgBIEzoASBM6AEgTOgBIEzoASBM\n",
       "6AEgTOgBIEzoASBM6AEgTOgBIEzoASBM6AEgTOgBIEzoASBM6AEgTOgBIEzoASBM6AEgTOgBIEzo\n",
       "ASBM6AEgTOgBIEzoASBM6AEgTOgBIEzoASBM6AEgTOgBIEzoASBM6AEgTOgBIEzoASBM6AEgTOgB\n",
       "IEzoASBM6AEgTOgBIEzoASBM6AEgTOgBIEzoASBM6AEgTOgBIEzoASBM6AEg7Bv8Dh9sZx/SMQAA\n",
       "AABJRU5ErkJggg==\n",
       "\" transform=\"translate(47, 47)\"/>\n",
       "</g>\n",
       "</svg>\n"
      ]
     },
     "execution_count": 24,
     "metadata": {},
     "output_type": "execute_result"
    }
   ],
   "source": [
    "imagem = [0 1 0 1 0 ; 0 1 0 1 0 ; 0 0 0.5 0 0 ; 1 0 0 0 1 ; 0 1 1 1 0]\n",
    "plot(Gray.(1 .- imagem), size=(150,150), axis=nothing)"
   ]
  },
  {
   "cell_type": "markdown",
   "id": "ab85e53a",
   "metadata": {},
   "source": [
    "Podemos descobrir o posto da imagem através da função rank:"
   ]
  },
  {
   "cell_type": "code",
   "execution_count": 25,
   "id": "cbb0109d",
   "metadata": {},
   "outputs": [
    {
     "data": {
      "text/plain": [
       "3"
      ]
     },
     "execution_count": 25,
     "metadata": {},
     "output_type": "execute_result"
    }
   ],
   "source": [
    "rank(imagem)"
   ]
  },
  {
   "cell_type": "markdown",
   "id": "7499ed5d",
   "metadata": {},
   "source": [
    "Para níveis de compressão abaixo do posto da imagem, a nitidez é prejudicada:"
   ]
  },
  {
   "cell_type": "code",
   "execution_count": 26,
   "id": "a55b4cf9",
   "metadata": {},
   "outputs": [
    {
     "data": {
      "image/svg+xml": [
       "<?xml version=\"1.0\" encoding=\"utf-8\"?>\n",
       "<svg xmlns=\"http://www.w3.org/2000/svg\" xmlns:xlink=\"http://www.w3.org/1999/xlink\" width=\"150\" height=\"150\" viewBox=\"0 0 600 600\">\n",
       "<defs>\n",
       "  <clipPath id=\"clip560\">\n",
       "    <rect x=\"0\" y=\"0\" width=\"600\" height=\"600\"/>\n",
       "  </clipPath>\n",
       "</defs>\n",
       "<path clip-path=\"url(#clip560)\" d=\"\n",
       "M0 600 L600 600 L600 0 L0 0  Z\n",
       "  \" fill=\"#ffffff\" fill-rule=\"evenodd\" fill-opacity=\"1\"/>\n",
       "<defs>\n",
       "  <clipPath id=\"clip561\">\n",
       "    <rect x=\"120\" y=\"60\" width=\"421\" height=\"421\"/>\n",
       "  </clipPath>\n",
       "</defs>\n",
       "<path clip-path=\"url(#clip560)\" d=\"\n",
       "M47.2441 552.756 L552.756 552.756 L552.756 47.2441 L47.2441 47.2441  Z\n",
       "  \" fill=\"#ffffff\" fill-rule=\"evenodd\" fill-opacity=\"1\"/>\n",
       "<defs>\n",
       "  <clipPath id=\"clip562\">\n",
       "    <rect x=\"47\" y=\"47\" width=\"507\" height=\"507\"/>\n",
       "  </clipPath>\n",
       "</defs>\n",
       "<polyline clip-path=\"url(#clip560)\" style=\"stroke:#000000; stroke-width:4; stroke-opacity:1; fill:none\" points=\"\n",
       "  47.2441,552.756 552.756,552.756 \n",
       "  \"/>\n",
       "<polyline clip-path=\"url(#clip560)\" style=\"stroke:#000000; stroke-width:4; stroke-opacity:1; fill:none\" points=\"\n",
       "  47.2441,47.2441 47.2441,552.756 \n",
       "  \"/>\n",
       "<g clip-path=\"url(#clip562)\">\n",
       "<image width=\"506\" height=\"506\" xlink:href=\"data:image/png;base64,\n",
       "iVBORw0KGgoAAAANSUhEUgAAAfoAAAH6CAYAAADvFY5JAAAIY0lEQVR4nO3XsU0DURREURYRO3Hg\n",
       "MreWLdOBEzfwyT+k6KGrcyqY7GqOtdb64N+53+/TE9hc1zU9gc15ntMT2Lxer+kJbD6nBwAAf0fo\n",
       "ASBM6AEgTOgBIEzoASBM6AEgTOgBIEzoASBM6AEgTOgBIEzoASBM6AEgTOgBIEzoASBM6AEgTOgB\n",
       "IEzoASBM6AEgTOgBIEzoASBM6AEgTOgBIEzoASBM6AEgTOgBIEzoASBM6AEgTOgBIEzoASBM6AEg\n",
       "TOgBIEzoASBM6AEgTOgBIEzoASBM6AEgTOgBIEzoASBM6AEgTOgBIEzoASBM6AEgTOgBIEzoASBM\n",
       "6AEgTOgBIEzoASBM6AEgTOgBIEzoASBM6AEgTOgBIEzoASBM6AEgTOgBIEzoASBM6AEgTOgBIEzo\n",
       "ASBM6AEgTOgBIEzoASBM6AEgTOgBIEzoASBM6AEgTOgBIEzoASBM6AEgTOgBIEzoASBM6AEgTOgB\n",
       "IEzoASBM6AEgTOgBIEzoASBM6AEgTOgBIEzoASBM6AEgTOgBIEzoASBM6AEgTOgBIEzoASBM6AEg\n",
       "TOgBIEzoASBM6AEgTOgBIEzoASBM6AEgTOgBIEzoASBM6AEgTOgBIEzoASBM6AEgTOgBIEzoASBM\n",
       "6AEgTOgBIEzoASBM6AEgTOgBIEzoASBM6AEgTOgBIEzoASBM6AEgTOgBIEzoASBM6AEgTOgBIEzo\n",
       "ASBM6AEgTOgBIEzoASBM6AEgTOgBIEzoASBM6AEgTOgBIEzoASBM6AEgTOgBIEzoASBM6AEgTOgB\n",
       "IEzoASBM6AEgTOgBIEzoASBM6AEgTOgBIEzoASBM6AEgTOgBIEzoASBM6AEgTOgBIEzoASBM6AEg\n",
       "TOgBIEzoASBM6AEgTOgBIEzoASBM6AEgTOgBIEzoASBM6AEgTOgBIEzoASBM6AEgTOgBIEzoASBM\n",
       "6AEgTOgBIEzoASBM6AEgTOgBIEzoASBM6AEgTOgBIEzoASBM6AEgTOgBIEzoASBM6AEgTOgBIEzo\n",
       "ASBM6AEgTOgBIEzoASBM6AEgTOgBIEzoASBM6AEgTOgBIEzoASBM6AEgTOgBIEzoASBM6AEgTOgB\n",
       "IEzoASBM6AEgTOgBIEzoASBM6AEgTOgBIEzoASBM6AEgTOgBIEzoASBM6AEgTOgBIEzoASBM6AEg\n",
       "TOgBIOxYa63pEfz0fD6nJ7C53W7TE9i83+/pCWwej8f0BDYePQCECT0AhAk9AIQJPQCECT0AhAk9\n",
       "AIQJPQCECT0AhAk9AIQJPQCECT0AhAk9AIQJPQCECT0AhAk9AIQJPQCECT0AhAk9AIQJPQCECT0A\n",
       "hAk9AIQJPQCECT0AhAk9AIQJPQCECT0AhAk9AIQJPQCECT0AhAk9AIQJPQCECT0AhAk9AIQJPQCE\n",
       "CT0AhAk9AIQJPQCECT0AhAk9AIQJPQCECT0AhAk9AIQJPQCECT0AhAk9AIQJPQCECT0AhAk9AIQJ\n",
       "PQCECT0AhAk9AIQJPQCECT0AhAk9AIQJPQCECT0AhAk9AIQJPQCECT0AhAk9AIQJPQCECT0AhAk9\n",
       "AIQJPQCECT0AhAk9AIQJPQCECT0AhAk9AIQJPQCECT0AhAk9AIQJPQCECT0AhAk9AIQJPQCECT0A\n",
       "hAk9AIQJPQCECT0AhAk9AIQJPQCECT0AhAk9AIQJPQCECT0AhAk9AIQJPQCECT0AhAk9AIQJPQCE\n",
       "CT0AhAk9AIQJPQCECT0AhAk9AIQJPQCECT0AhAk9AIQJPQCEHWutNT0CAPgbHj0AhAk9AIQJPQCE\n",
       "CT0AhAk9AIQJPQCECT0AhAk9AIQJPQCECT0AhAk9AIQJPQCECT0AhAk9AIQJPQCECT0AhAk9AIQJ\n",
       "PQCECT0AhAk9AIQJPQCECT0AhAk9AIQJPQCECT0AhAk9AIQJPQCECT0AhAk9AIQJPQCECT0AhAk9\n",
       "AIQJPQCECT0AhAk9AIQJPQCECT0AhAk9AIQJPQCECT0AhAk9AIQJPQCECT0AhAk9AIQJPQCECT0A\n",
       "hAk9AIQJPQCECT0AhAk9AIQJPQCECT0AhAk9AIQJPQCECT0AhAk9AIQJPQCECT0AhAk9AIQJPQCE\n",
       "CT0AhAk9AIQJPQCECT0AhAk9AIQJPQCECT0AhAk9AIQJPQCECT0AhAk9AIQJPQCECT0AhAk9AIQJ\n",
       "PQCECT0AhAk9AIQJPQCECT0AhAk9AIQJPQCECT0AhAk9AIQJPQCECT0AhAk9AIQJPQCECT0AhAk9\n",
       "AIQJPQCECT0AhAk9AIQJPQCECT0AhAk9AIQJPQCECT0AhAk9AIQJPQCECT0AhH1ND+B3x3FMT2Bz\n",
       "Xdf0BDbneU5PYLPWmp7AxqMHgDChB4AwoQeAMKEHgDChB4AwoQeAMKEHgDChB4AwoQeAMKEHgDCh\n",
       "B4AwoQeAMKEHgDChB4AwoQeAMKEHgDChB4AwoQeAMKEHgDChB4AwoQeAMKEHgDChB4AwoQeAMKEH\n",
       "gDChB4AwoQeAMKEHgDChB4AwoQeAMKEHgDChB4AwoQeAMKEHgDChB4AwoQeAMKEHgDChB4AwoQeA\n",
       "MKEHgDChB4AwoQeAMKEHgDChB4AwoQeAMKEHgDChB4AwoQeAMKEHgDChB4AwoQeAMKEHgDChB4Aw\n",
       "oQeAMKEHgDChB4AwoQeAMKEHgDChB4AwoQeAMKEHgDChB4AwoQeAMKEHgDChB4AwoQeAMKEHgDCh\n",
       "B4AwoQeAMKEHgDChB4AwoQeAMKEHgDChB4AwoQeAMKEHgDChB4AwoQeAMKEHgDChB4AwoQeAMKEH\n",
       "gDChB4AwoQeAMKEHgDChB4AwoQeAMKEHgDChB4AwoQeAMKEHgDChB4AwoQeAMKEHgDChB4AwoQeA\n",
       "MKEHgDChB4AwoQeAMKEHgLBvYpAh6ILrj2UAAAAASUVORK5CYII=\n",
       "\" transform=\"translate(47, 47)\"/>\n",
       "</g>\n",
       "</svg>\n"
      ]
     },
     "execution_count": 26,
     "metadata": {},
     "output_type": "execute_result"
    }
   ],
   "source": [
    "B,c = compressao(imagem, 1)\n",
    "plot(Gray.(1 .- B*c'), size=(150,150), axis=nothing)"
   ]
  },
  {
   "cell_type": "code",
   "execution_count": 27,
   "id": "1c2cccc0",
   "metadata": {},
   "outputs": [
    {
     "data": {
      "image/svg+xml": [
       "<?xml version=\"1.0\" encoding=\"utf-8\"?>\n",
       "<svg xmlns=\"http://www.w3.org/2000/svg\" xmlns:xlink=\"http://www.w3.org/1999/xlink\" width=\"150\" height=\"150\" viewBox=\"0 0 600 600\">\n",
       "<defs>\n",
       "  <clipPath id=\"clip590\">\n",
       "    <rect x=\"0\" y=\"0\" width=\"600\" height=\"600\"/>\n",
       "  </clipPath>\n",
       "</defs>\n",
       "<path clip-path=\"url(#clip590)\" d=\"\n",
       "M0 600 L600 600 L600 0 L0 0  Z\n",
       "  \" fill=\"#ffffff\" fill-rule=\"evenodd\" fill-opacity=\"1\"/>\n",
       "<defs>\n",
       "  <clipPath id=\"clip591\">\n",
       "    <rect x=\"120\" y=\"60\" width=\"421\" height=\"421\"/>\n",
       "  </clipPath>\n",
       "</defs>\n",
       "<path clip-path=\"url(#clip590)\" d=\"\n",
       "M47.2441 552.756 L552.756 552.756 L552.756 47.2441 L47.2441 47.2441  Z\n",
       "  \" fill=\"#ffffff\" fill-rule=\"evenodd\" fill-opacity=\"1\"/>\n",
       "<defs>\n",
       "  <clipPath id=\"clip592\">\n",
       "    <rect x=\"47\" y=\"47\" width=\"507\" height=\"507\"/>\n",
       "  </clipPath>\n",
       "</defs>\n",
       "<polyline clip-path=\"url(#clip590)\" style=\"stroke:#000000; stroke-width:4; stroke-opacity:1; fill:none\" points=\"\n",
       "  47.2441,552.756 552.756,552.756 \n",
       "  \"/>\n",
       "<polyline clip-path=\"url(#clip590)\" style=\"stroke:#000000; stroke-width:4; stroke-opacity:1; fill:none\" points=\"\n",
       "  47.2441,47.2441 47.2441,552.756 \n",
       "  \"/>\n",
       "<g clip-path=\"url(#clip592)\">\n",
       "<image width=\"506\" height=\"506\" xlink:href=\"data:image/png;base64,\n",
       "iVBORw0KGgoAAAANSUhEUgAAAfoAAAH6CAYAAADvFY5JAAAIb0lEQVR4nO3XsW1CQRRFQdZyTEJA\n",
       "mb+WXyYBCQ2s88WptfhopoIrveDojTnnvPBxbrfb7gkszvPcPYHFcRy7J7B4Pp+7J7D42j0AAPg7\n",
       "Qg8AYUIPAGFCDwBhQg8AYUIPAGFCDwBhQg8AYUIPAGFCDwBhQg8AYUIPAGFCDwBhQg8AYUIPAGFC\n",
       "DwBhQg8AYUIPAGFCDwBhQg8AYUIPAGFCDwBhQg8AYUIPAGFCDwBhQg8AYUIPAGFCDwBhQg8AYUIP\n",
       "AGFCDwBhQg8AYUIPAGFCDwBhQg8AYUIPAGFCDwBhQg8AYUIPAGFCDwBhQg8AYUIPAGFCDwBhQg8A\n",
       "YUIPAGFCDwBhQg8AYUIPAGFCDwBhQg8AYUIPAGFCDwBhQg8AYUIPAGFCDwBhQg8AYUIPAGFCDwBh\n",
       "Qg8AYUIPAGFCDwBhQg8AYUIPAGFCDwBhQg8AYUIPAGFCDwBhQg8AYUIPAGFCDwBhQg8AYUIPAGFC\n",
       "DwBhQg8AYUIPAGFCDwBhQg8AYUIPAGFCDwBhQg8AYUIPAGFCDwBhQg8AYUIPAGFCDwBhQg8AYUIP\n",
       "AGFCDwBhQg8AYUIPAGFCDwBhQg8AYUIPAGFCDwBhQg8AYUIPAGFCDwBhQg8AYUIPAGFCDwBhQg8A\n",
       "YUIPAGFCDwBhQg8AYUIPAGFCDwBhQg8AYUIPAGFCDwBhQg8AYUIPAGFCDwBhQg8AYUIPAGFCDwBh\n",
       "Qg8AYUIPAGFCDwBhQg8AYUIPAGFCDwBhQg8AYUIPAGFCDwBhQg8AYUIPAGFCDwBhQg8AYUIPAGFC\n",
       "DwBhQg8AYUIPAGFCDwBhQg8AYUIPAGFCDwBhQg8AYUIPAGFCDwBhQg8AYUIPAGFCDwBhQg8AYUIP\n",
       "AGFCDwBhQg8AYUIPAGFCDwBhQg8AYUIPAGFCDwBhQg8AYUIPAGFCDwBhQg8AYUIPAGFCDwBhQg8A\n",
       "YUIPAGFCDwBhQg8AYUIPAGFCDwBhQg8AYUIPAGFCDwBhQg8AYUIPAGFCDwBhQg8AYUIPAGFCDwBh\n",
       "Qg8AYUIPAGFCDwBhQg8AYUIPAGFCDwBhQg8AYUIPAGFCDwBhQg8AYUIPAGFCDwBhQg8AYUIPAGFC\n",
       "DwBhQg8AYUIPAGFCDwBhQg8AYUIPAGFCDwBhQg8AYUIPAGFCDwBhQg8AYUIPAGFCDwBhQg8AYUIP\n",
       "AGFCDwBhY845d4/g3ePx2D2BxfV63T2Bxev12j2Bxf1+3z2BhY8eAMKEHgDChB4AwoQeAMKEHgDC\n",
       "hB4AwoQeAMKEHgDChB4AwoQeAMKEHgDChB4AwoQeAMKEHgDChB4AwoQeAMKEHgDChB4AwoQeAMKE\n",
       "HgDChB4AwoQeAMKEHgDChB4AwoQeAMKEHgDChB4AwoQeAMKEHgDChB4AwoQeAMKEHgDChB4AwoQe\n",
       "AMKEHgDChB4AwoQeAMKEHgDChB4AwoQeAMKEHgDChB4AwoQeAMKEHgDChB4AwoQeAMKEHgDChB4A\n",
       "woQeAMKEHgDChB4AwoQeAMKEHgDChB4AwoQeAMKEHgDChB4AwoQeAMKEHgDChB4AwoQeAMKEHgDC\n",
       "hB4AwoQeAMKEHgDChB4AwoQeAMKEHgDChB4AwoQeAMKEHgDChB4AwoQeAMKEHgDChB4AwoQeAMKE\n",
       "HgDChB4AwoQeAMKEHgDChB4AwoQeAMKEHgDChB4AwoQeAMKEHgDChB4AwoQeAMKEHgDChB4AwoQe\n",
       "AMKEHgDChB4AwoQeAMKEHgDChB4AwoQeAMKEHgDChB4AwoQeAMLG5XKZu0fwbk5nAf6fMcbuCSx8\n",
       "9AAQJvQAECb0ABAm9AAQJvQAECb0ABAm9AAQJvQAECb0ABAm9AAQJvQAECb0ABAm9AAQJvQAECb0\n",
       "ABAm9AAQJvQAECb0ABAm9AAQJvQAECb0ABAm9AAQJvQAECb0ABAm9AAQJvQAECb0ABAm9AAQJvQA\n",
       "ECb0ABAm9AAQJvQAECb0ABAm9AAQJvQAECb0ABAm9AAQJvQAECb0ABAm9AAQJvQAECb0ABAm9AAQ\n",
       "JvQAECb0ABAm9AAQJvQAECb0ABAm9AAQJvQAECb0ABAm9AAQJvQAECb0ABAm9AAQJvQAECb0ABAm\n",
       "9AAQJvQAECb0ABAm9AAQJvQAECb0ABAm9AAQJvQAECb0ABAm9AAQJvQAECb0ABAm9AAQJvQAECb0\n",
       "ABAm9AAQJvQAECb0ABAm9AAQJvQAECb0ABAm9AAQJvQAECb0ABAm9AAQJvQAECb0ABAm9AAQJvQA\n",
       "ECb0ABAm9AAQJvQAECb0ABAm9AAQJvQAECb0ABAm9AAQJvQAECb0ABAm9AAQJvQAECb0ABAm9AAQ\n",
       "9j3n3L2BX4wxdk9gcZ7n7gksjuPYPYGFpnweHz0AhAk9AIQJPQCECT0AhAk9AIQJPQCECT0AhAk9\n",
       "AIQJPQCECT0AhAk9AIQJPQCECT0AhAk9AIQJPQCECT0AhAk9AIQJPQCECT0AhAk9AIQJPQCECT0A\n",
       "hAk9AIQJPQCECT0AhAk9AIQJPQCECT0AhAk9AIQJPQCECT0AhAk9AIQJPQCECT0AhAk9AIQJPQCE\n",
       "CT0AhAk9AIQJPQCECT0AhAk9AIQJPQCECT0AhAk9AIQJPQCECT0AhAk9AIQJPQCECT0AhAk9AIQJ\n",
       "PQCECT0AhAk9AIQJPQCECT0AhAk9AIQJPQCECT0AhAk9AIQJPQCECT0AhAk9AIQJPQCECT0AhAk9\n",
       "AIQJPQCECT0AhAk9AIQJPQCECT0AhAk9AIQJPQCECT0AhAk9AIQJPQCECT0AhAk9AIQJPQCECT0A\n",
       "hAk9AIQJPQCECT0AhAk9AIQJPQCECT0AhAk9AIQJPQCECT0AhAk9AIQJPQCECT0AhAk9AIQJPQCE\n",
       "CT0AhAk9AIQJPQCECT0AhAk9AIQJPQCECT0AhP0ANuEk6BAFMUgAAAAASUVORK5CYII=\n",
       "\" transform=\"translate(47, 47)\"/>\n",
       "</g>\n",
       "</svg>\n"
      ]
     },
     "execution_count": 27,
     "metadata": {},
     "output_type": "execute_result"
    }
   ],
   "source": [
    "B,c = compressao(imagem, 2)\n",
    "plot(Gray.(1 .- B*c'), size=(150,150), axis=nothing)"
   ]
  },
  {
   "cell_type": "markdown",
   "id": "d22efb67",
   "metadata": {},
   "source": [
    "A partir do nível de compressão igual ao posto da imagem a nitidez é mantida como a original."
   ]
  },
  {
   "cell_type": "code",
   "execution_count": 28,
   "id": "7046eecd",
   "metadata": {},
   "outputs": [
    {
     "data": {
      "image/svg+xml": [
       "<?xml version=\"1.0\" encoding=\"utf-8\"?>\n",
       "<svg xmlns=\"http://www.w3.org/2000/svg\" xmlns:xlink=\"http://www.w3.org/1999/xlink\" width=\"150\" height=\"150\" viewBox=\"0 0 600 600\">\n",
       "<defs>\n",
       "  <clipPath id=\"clip620\">\n",
       "    <rect x=\"0\" y=\"0\" width=\"600\" height=\"600\"/>\n",
       "  </clipPath>\n",
       "</defs>\n",
       "<path clip-path=\"url(#clip620)\" d=\"\n",
       "M0 600 L600 600 L600 0 L0 0  Z\n",
       "  \" fill=\"#ffffff\" fill-rule=\"evenodd\" fill-opacity=\"1\"/>\n",
       "<defs>\n",
       "  <clipPath id=\"clip621\">\n",
       "    <rect x=\"120\" y=\"60\" width=\"421\" height=\"421\"/>\n",
       "  </clipPath>\n",
       "</defs>\n",
       "<path clip-path=\"url(#clip620)\" d=\"\n",
       "M47.2441 552.756 L552.756 552.756 L552.756 47.2441 L47.2441 47.2441  Z\n",
       "  \" fill=\"#ffffff\" fill-rule=\"evenodd\" fill-opacity=\"1\"/>\n",
       "<defs>\n",
       "  <clipPath id=\"clip622\">\n",
       "    <rect x=\"47\" y=\"47\" width=\"507\" height=\"507\"/>\n",
       "  </clipPath>\n",
       "</defs>\n",
       "<polyline clip-path=\"url(#clip620)\" style=\"stroke:#000000; stroke-width:4; stroke-opacity:1; fill:none\" points=\"\n",
       "  47.2441,552.756 552.756,552.756 \n",
       "  \"/>\n",
       "<polyline clip-path=\"url(#clip620)\" style=\"stroke:#000000; stroke-width:4; stroke-opacity:1; fill:none\" points=\"\n",
       "  47.2441,47.2441 47.2441,552.756 \n",
       "  \"/>\n",
       "<g clip-path=\"url(#clip622)\">\n",
       "<image width=\"506\" height=\"506\" xlink:href=\"data:image/png;base64,\n",
       "iVBORw0KGgoAAAANSUhEUgAAAfoAAAH6CAYAAADvFY5JAAAIR0lEQVR4nO3XQWoEMRAEwZHZj8/L\n",
       "2/fxgvHBSJtEvKBANInWzMzFcdZauyfw4FTO407O407O87V7AADwf4QeAMKEHgDChB4AwoQeAMKE\n",
       "HgDChB4AwoQeAMKEHgDChB4AwoQeAMKEHgDChB4AwoQeAMKEHgDChB4AwoQeAMKEHgDChB4AwoQe\n",
       "AMKEHgDChB4AwoQeAMKEHgDChB4AwoQeAMKEHgDChB4AwoQeAMKEHgDChB4AwoQeAMKEHgDChB4A\n",
       "woQeAMKEHgDChB4AwoQeAMKEHgDChB4AwoQeAMKEHgDChB4AwoQeAMKEHgDChB4AwoQeAMKEHgDC\n",
       "hB4AwoQeAMKEHgDChB4AwoQeAMKEHgDChB4AwoQeAMKEHgDChB4AwoQeAMKEHgDChB4AwoQeAMKE\n",
       "HgDChB4AwoQeAMKEHgDChB4AwoQeAMKEHgDChB4AwoQeAMKEHgDChB4AwoQeAMKEHgDChB4AwoQe\n",
       "AMKEHgDChB4AwoQeAMKEHgDChB4AwoQeAMKEHgDChB4AwoQeAMKEHgDChB4AwoQeAMKEHgDChB4A\n",
       "woQeAMKEHgDChB4AwoQeAMKEHgDChB4AwoQeAMKEHgDChB4AwoQeAMKEHgDChB4AwoQeAMKEHgDC\n",
       "hB4AwoQeAMKEHgDChB4AwoQeAMKEHgDChB4AwoQeAMKEHgDChB4AwoQeAMKEHgDChB4AwoQeAMKE\n",
       "HgDChB4AwoQeAMKEHgDChB4AwoQeAMKEHgDChB4AwoQeAMKEHgDChB4AwoQeAMKEHgDChB4AwoQe\n",
       "AMKEHgDChB4AwoQeAMKEHgDChB4AwoQeAMKEHgDChB4AwoQeAMKEHgDChB4AwoQeAMKEHgDChB4A\n",
       "woQeAMKEHgDChB4AwoQeAMKEHgDChB4AwoQeAMKEHgDChB4AwoQeAMKEHgDChB4AwoQeAMKEHgDC\n",
       "hB4AwoQeAMKEHgDChB4AwoQeAMKEHgDChB4AwoQeAMKEHgDChB4AwoQeAMKEHgDChB4AwoQeAMKE\n",
       "HgDChB4AwoQeAMKEHgDChB4AwoQeAMKEHgDChB4AwoQeAMKEHgDChB4AwoQeAMKEHgDChB4AwoQe\n",
       "AMKEHgDChB4AwoQeAMKEHgDChB4AwoQeAMKEHgDChB4AwoQeAMKEHgDChB4Awl67B/DezOyewMN9\n",
       "37sn8OBO4Hd+9AAQJvQAECb0ABAm9AAQJvQAECb0ABAm9AAQJvQAECb0ABAm9AAQJvQAECb0ABAm\n",
       "9AAQJvQAECb0ABAm9AAQJvQAECb0ABAm9AAQJvQAECb0ABAm9AAQJvQAECb0ABAm9AAQJvQAECb0\n",
       "ABAm9AAQJvQAECb0ABAm9AAQJvQAECb0ABAm9AAQJvQAECb0ABAm9AAQJvQAECb0ABAm9AAQJvQA\n",
       "ECb0ABAm9AAQJvQAECb0ABAm9AAQJvQAECb0ABAm9AAQJvQAECb0ABAm9AAQJvQAECb0ABAm9AAQ\n",
       "JvQAECb0ABAm9AAQJvQAECb0ABAm9AAQJvQAECb0ABAm9AAQJvQAECb0ABAm9AAQJvQAECb0ABAm\n",
       "9AAQJvQAECb0ABAm9AAQJvQAECb0ABAm9AAQJvQAECb0ABAm9AAQJvQAECb0ABAm9AAQJvQAECb0\n",
       "ABAm9AAQJvQAECb0ABAm9AAQJvQAECb0ABAm9AAQJvQAECb0ABAm9AAQJvQAECb0ABAm9AAQJvQA\n",
       "ECb0ABAm9AAQtq7rmt0j+GnGswCfZ621ewIPfvQAECb0ABAm9AAQJvQAECb0ABAm9AAQJvQAECb0\n",
       "ABAm9AAQJvQAECb0ABAm9AAQJvQAECb0ABAm9AAQJvQAECb0ABAm9AAQJvQAECb0ABAm9AAQJvQA\n",
       "ECb0ABAm9AAQJvQAECb0ABAm9AAQJvQAECb0ABAm9AAQJvQAECb0ABAm9AAQJvQAECb0ABAm9AAQ\n",
       "JvQAECb0ABAm9AAQJvQAECb0ABAm9AAQJvQAECb0ABAm9AAQJvQAECb0ABAm9AAQJvQAECb0ABAm\n",
       "9AAQJvQAECb0ABAm9AAQJvQAECb0ABAm9AAQJvQAECb0ABAm9AAQJvQAECb0ABAm9AAQJvQAECb0\n",
       "ABAm9AAQJvQAECb0ABAm9AAQJvQAECb0ABAm9AAQJvQAECb0ABAm9AAQJvQAECb0ABAm9AAQJvQA\n",
       "ECb0ABAm9AAQJvQAECb0ABAm9AAQJvQAECb0ABAm9AAQJvQAECb0ABAm9AAQJvQAECb0ABAm9AAQ\n",
       "JvQAECb0ABAm9AAQJvQAECb0ABAm9AAQJvQAEPaamd0beGOttXsCwJ9pynn86AEgTOgBIEzoASBM\n",
       "6AEgTOgBIEzoASBM6AEgTOgBIEzoASBM6AEgTOgBIEzoASBM6AEgTOgBIEzoASBM6AEgTOgBIEzo\n",
       "ASBM6AEgTOgBIEzoASBM6AEgTOgBIEzoASBM6AEgTOgBIEzoASBM6AEgTOgBIEzoASBM6AEgTOgB\n",
       "IEzoASBM6AEgTOgBIEzoASBM6AEgTOgBIEzoASBM6AEgTOgBIEzoASBM6AEgTOgBIEzoASBM6AEg\n",
       "TOgBIEzoASBM6AEgTOgBIEzoASBM6AEgTOgBIEzoASBM6AEgTOgBIEzoASBM6AEgTOgBIEzoASBM\n",
       "6AEgTOgBIEzoASBM6AEgTOgBIEzoASBM6AEgTOgBIEzoASBM6AEgTOgBIEzoASBM6AEgTOgBIEzo\n",
       "ASBM6AEgTOgBIEzoASBM6AEgTOgBIEzoASBM6AEgTOgBIEzoASBM6AEgTOgBIEzoASBM6AEgTOgB\n",
       "IEzoASBM6AEgTOgBIEzoASBM6AEgTOgBIEzoASBM6AEgTOgBIEzoASBM6AEg7Bv8Dh9sZx/SMQAA\n",
       "AABJRU5ErkJggg==\n",
       "\" transform=\"translate(47, 47)\"/>\n",
       "</g>\n",
       "</svg>\n"
      ]
     },
     "execution_count": 28,
     "metadata": {},
     "output_type": "execute_result"
    }
   ],
   "source": [
    "B,c = compressao(imagem, 3)\n",
    "plot(Gray.(1 .- B*c'), size=(150,150), axis=nothing)"
   ]
  },
  {
   "cell_type": "code",
   "execution_count": 29,
   "id": "6124a25b",
   "metadata": {},
   "outputs": [
    {
     "data": {
      "image/svg+xml": [
       "<?xml version=\"1.0\" encoding=\"utf-8\"?>\n",
       "<svg xmlns=\"http://www.w3.org/2000/svg\" xmlns:xlink=\"http://www.w3.org/1999/xlink\" width=\"150\" height=\"150\" viewBox=\"0 0 600 600\">\n",
       "<defs>\n",
       "  <clipPath id=\"clip650\">\n",
       "    <rect x=\"0\" y=\"0\" width=\"600\" height=\"600\"/>\n",
       "  </clipPath>\n",
       "</defs>\n",
       "<path clip-path=\"url(#clip650)\" d=\"\n",
       "M0 600 L600 600 L600 0 L0 0  Z\n",
       "  \" fill=\"#ffffff\" fill-rule=\"evenodd\" fill-opacity=\"1\"/>\n",
       "<defs>\n",
       "  <clipPath id=\"clip651\">\n",
       "    <rect x=\"120\" y=\"60\" width=\"421\" height=\"421\"/>\n",
       "  </clipPath>\n",
       "</defs>\n",
       "<path clip-path=\"url(#clip650)\" d=\"\n",
       "M47.2441 552.756 L552.756 552.756 L552.756 47.2441 L47.2441 47.2441  Z\n",
       "  \" fill=\"#ffffff\" fill-rule=\"evenodd\" fill-opacity=\"1\"/>\n",
       "<defs>\n",
       "  <clipPath id=\"clip652\">\n",
       "    <rect x=\"47\" y=\"47\" width=\"507\" height=\"507\"/>\n",
       "  </clipPath>\n",
       "</defs>\n",
       "<polyline clip-path=\"url(#clip650)\" style=\"stroke:#000000; stroke-width:4; stroke-opacity:1; fill:none\" points=\"\n",
       "  47.2441,552.756 552.756,552.756 \n",
       "  \"/>\n",
       "<polyline clip-path=\"url(#clip650)\" style=\"stroke:#000000; stroke-width:4; stroke-opacity:1; fill:none\" points=\"\n",
       "  47.2441,47.2441 47.2441,552.756 \n",
       "  \"/>\n",
       "<g clip-path=\"url(#clip652)\">\n",
       "<image width=\"506\" height=\"506\" xlink:href=\"data:image/png;base64,\n",
       "iVBORw0KGgoAAAANSUhEUgAAAfoAAAH6CAYAAADvFY5JAAAIR0lEQVR4nO3XQWoEMRAEwZHZj8/L\n",
       "2/fxgvHBSJtEvKBANInWzMzFcdZauyfw4FTO407O407O87V7AADwf4QeAMKEHgDChB4AwoQeAMKE\n",
       "HgDChB4AwoQeAMKEHgDChB4AwoQeAMKEHgDChB4AwoQeAMKEHgDChB4AwoQeAMKEHgDChB4AwoQe\n",
       "AMKEHgDChB4AwoQeAMKEHgDChB4AwoQeAMKEHgDChB4AwoQeAMKEHgDChB4AwoQeAMKEHgDChB4A\n",
       "woQeAMKEHgDChB4AwoQeAMKEHgDChB4AwoQeAMKEHgDChB4AwoQeAMKEHgDChB4AwoQeAMKEHgDC\n",
       "hB4AwoQeAMKEHgDChB4AwoQeAMKEHgDChB4AwoQeAMKEHgDChB4AwoQeAMKEHgDChB4AwoQeAMKE\n",
       "HgDChB4AwoQeAMKEHgDChB4AwoQeAMKEHgDChB4AwoQeAMKEHgDChB4AwoQeAMKEHgDChB4AwoQe\n",
       "AMKEHgDChB4AwoQeAMKEHgDChB4AwoQeAMKEHgDChB4AwoQeAMKEHgDChB4AwoQeAMKEHgDChB4A\n",
       "woQeAMKEHgDChB4AwoQeAMKEHgDChB4AwoQeAMKEHgDChB4AwoQeAMKEHgDChB4AwoQeAMKEHgDC\n",
       "hB4AwoQeAMKEHgDChB4AwoQeAMKEHgDChB4AwoQeAMKEHgDChB4AwoQeAMKEHgDChB4AwoQeAMKE\n",
       "HgDChB4AwoQeAMKEHgDChB4AwoQeAMKEHgDChB4AwoQeAMKEHgDChB4AwoQeAMKEHgDChB4AwoQe\n",
       "AMKEHgDChB4AwoQeAMKEHgDChB4AwoQeAMKEHgDChB4AwoQeAMKEHgDChB4AwoQeAMKEHgDChB4A\n",
       "woQeAMKEHgDChB4AwoQeAMKEHgDChB4AwoQeAMKEHgDChB4AwoQeAMKEHgDChB4AwoQeAMKEHgDC\n",
       "hB4AwoQeAMKEHgDChB4AwoQeAMKEHgDChB4AwoQeAMKEHgDChB4AwoQeAMKEHgDChB4AwoQeAMKE\n",
       "HgDChB4AwoQeAMKEHgDChB4AwoQeAMKEHgDChB4AwoQeAMKEHgDChB4AwoQeAMKEHgDChB4AwoQe\n",
       "AMKEHgDChB4AwoQeAMKEHgDChB4AwoQeAMKEHgDChB4AwoQeAMKEHgDChB4Awl67B/DezOyewMN9\n",
       "37sn8OBO4Hd+9AAQJvQAECb0ABAm9AAQJvQAECb0ABAm9AAQJvQAECb0ABAm9AAQJvQAECb0ABAm\n",
       "9AAQJvQAECb0ABAm9AAQJvQAECb0ABAm9AAQJvQAECb0ABAm9AAQJvQAECb0ABAm9AAQJvQAECb0\n",
       "ABAm9AAQJvQAECb0ABAm9AAQJvQAECb0ABAm9AAQJvQAECb0ABAm9AAQJvQAECb0ABAm9AAQJvQA\n",
       "ECb0ABAm9AAQJvQAECb0ABAm9AAQJvQAECb0ABAm9AAQJvQAECb0ABAm9AAQJvQAECb0ABAm9AAQ\n",
       "JvQAECb0ABAm9AAQJvQAECb0ABAm9AAQJvQAECb0ABAm9AAQJvQAECb0ABAm9AAQJvQAECb0ABAm\n",
       "9AAQJvQAECb0ABAm9AAQJvQAECb0ABAm9AAQJvQAECb0ABAm9AAQJvQAECb0ABAm9AAQJvQAECb0\n",
       "ABAm9AAQJvQAECb0ABAm9AAQJvQAECb0ABAm9AAQJvQAECb0ABAm9AAQJvQAECb0ABAm9AAQJvQA\n",
       "ECb0ABAm9AAQtq7rmt0j+GnGswCfZ621ewIPfvQAECb0ABAm9AAQJvQAECb0ABAm9AAQJvQAECb0\n",
       "ABAm9AAQJvQAECb0ABAm9AAQJvQAECb0ABAm9AAQJvQAECb0ABAm9AAQJvQAECb0ABAm9AAQJvQA\n",
       "ECb0ABAm9AAQJvQAECb0ABAm9AAQJvQAECb0ABAm9AAQJvQAECb0ABAm9AAQJvQAECb0ABAm9AAQ\n",
       "JvQAECb0ABAm9AAQJvQAECb0ABAm9AAQJvQAECb0ABAm9AAQJvQAECb0ABAm9AAQJvQAECb0ABAm\n",
       "9AAQJvQAECb0ABAm9AAQJvQAECb0ABAm9AAQJvQAECb0ABAm9AAQJvQAECb0ABAm9AAQJvQAECb0\n",
       "ABAm9AAQJvQAECb0ABAm9AAQJvQAECb0ABAm9AAQJvQAECb0ABAm9AAQJvQAECb0ABAm9AAQJvQA\n",
       "ECb0ABAm9AAQJvQAECb0ABAm9AAQJvQAECb0ABAm9AAQJvQAECb0ABAm9AAQJvQAECb0ABAm9AAQ\n",
       "JvQAECb0ABAm9AAQJvQAECb0ABAm9AAQJvQAEPaamd0beGOttXsCwJ9pynn86AEgTOgBIEzoASBM\n",
       "6AEgTOgBIEzoASBM6AEgTOgBIEzoASBM6AEgTOgBIEzoASBM6AEgTOgBIEzoASBM6AEgTOgBIEzo\n",
       "ASBM6AEgTOgBIEzoASBM6AEgTOgBIEzoASBM6AEgTOgBIEzoASBM6AEgTOgBIEzoASBM6AEgTOgB\n",
       "IEzoASBM6AEgTOgBIEzoASBM6AEgTOgBIEzoASBM6AEgTOgBIEzoASBM6AEgTOgBIEzoASBM6AEg\n",
       "TOgBIEzoASBM6AEgTOgBIEzoASBM6AEgTOgBIEzoASBM6AEgTOgBIEzoASBM6AEgTOgBIEzoASBM\n",
       "6AEgTOgBIEzoASBM6AEgTOgBIEzoASBM6AEgTOgBIEzoASBM6AEgTOgBIEzoASBM6AEgTOgBIEzo\n",
       "ASBM6AEgTOgBIEzoASBM6AEgTOgBIEzoASBM6AEgTOgBIEzoASBM6AEgTOgBIEzoASBM6AEgTOgB\n",
       "IEzoASBM6AEgTOgBIEzoASBM6AEgTOgBIEzoASBM6AEgTOgBIEzoASBM6AEg7Bv8Dh9sZx/SMQAA\n",
       "AABJRU5ErkJggg==\n",
       "\" transform=\"translate(47, 47)\"/>\n",
       "</g>\n",
       "</svg>\n"
      ]
     },
     "execution_count": 29,
     "metadata": {},
     "output_type": "execute_result"
    }
   ],
   "source": [
    "B,c = compressao(imagem, 4)\n",
    "plot(Gray.(1 .- B*c'), size=(150,150), axis=nothing)"
   ]
  },
  {
   "cell_type": "code",
   "execution_count": 30,
   "id": "9f36f019",
   "metadata": {},
   "outputs": [
    {
     "data": {
      "image/svg+xml": [
       "<?xml version=\"1.0\" encoding=\"utf-8\"?>\n",
       "<svg xmlns=\"http://www.w3.org/2000/svg\" xmlns:xlink=\"http://www.w3.org/1999/xlink\" width=\"150\" height=\"150\" viewBox=\"0 0 600 600\">\n",
       "<defs>\n",
       "  <clipPath id=\"clip680\">\n",
       "    <rect x=\"0\" y=\"0\" width=\"600\" height=\"600\"/>\n",
       "  </clipPath>\n",
       "</defs>\n",
       "<path clip-path=\"url(#clip680)\" d=\"\n",
       "M0 600 L600 600 L600 0 L0 0  Z\n",
       "  \" fill=\"#ffffff\" fill-rule=\"evenodd\" fill-opacity=\"1\"/>\n",
       "<defs>\n",
       "  <clipPath id=\"clip681\">\n",
       "    <rect x=\"120\" y=\"60\" width=\"421\" height=\"421\"/>\n",
       "  </clipPath>\n",
       "</defs>\n",
       "<path clip-path=\"url(#clip680)\" d=\"\n",
       "M47.2441 552.756 L552.756 552.756 L552.756 47.2441 L47.2441 47.2441  Z\n",
       "  \" fill=\"#ffffff\" fill-rule=\"evenodd\" fill-opacity=\"1\"/>\n",
       "<defs>\n",
       "  <clipPath id=\"clip682\">\n",
       "    <rect x=\"47\" y=\"47\" width=\"507\" height=\"507\"/>\n",
       "  </clipPath>\n",
       "</defs>\n",
       "<polyline clip-path=\"url(#clip680)\" style=\"stroke:#000000; stroke-width:4; stroke-opacity:1; fill:none\" points=\"\n",
       "  47.2441,552.756 552.756,552.756 \n",
       "  \"/>\n",
       "<polyline clip-path=\"url(#clip680)\" style=\"stroke:#000000; stroke-width:4; stroke-opacity:1; fill:none\" points=\"\n",
       "  47.2441,47.2441 47.2441,552.756 \n",
       "  \"/>\n",
       "<g clip-path=\"url(#clip682)\">\n",
       "<image width=\"506\" height=\"506\" xlink:href=\"data:image/png;base64,\n",
       "iVBORw0KGgoAAAANSUhEUgAAAfoAAAH6CAYAAADvFY5JAAAIR0lEQVR4nO3XQWoEMRAEwZHZj8/L\n",
       "2/fxgvHBSJtEvKBANInWzMzFcdZauyfw4FTO407O407O87V7AADwf4QeAMKEHgDChB4AwoQeAMKE\n",
       "HgDChB4AwoQeAMKEHgDChB4AwoQeAMKEHgDChB4AwoQeAMKEHgDChB4AwoQeAMKEHgDChB4AwoQe\n",
       "AMKEHgDChB4AwoQeAMKEHgDChB4AwoQeAMKEHgDChB4AwoQeAMKEHgDChB4AwoQeAMKEHgDChB4A\n",
       "woQeAMKEHgDChB4AwoQeAMKEHgDChB4AwoQeAMKEHgDChB4AwoQeAMKEHgDChB4AwoQeAMKEHgDC\n",
       "hB4AwoQeAMKEHgDChB4AwoQeAMKEHgDChB4AwoQeAMKEHgDChB4AwoQeAMKEHgDChB4AwoQeAMKE\n",
       "HgDChB4AwoQeAMKEHgDChB4AwoQeAMKEHgDChB4AwoQeAMKEHgDChB4AwoQeAMKEHgDChB4AwoQe\n",
       "AMKEHgDChB4AwoQeAMKEHgDChB4AwoQeAMKEHgDChB4AwoQeAMKEHgDChB4AwoQeAMKEHgDChB4A\n",
       "woQeAMKEHgDChB4AwoQeAMKEHgDChB4AwoQeAMKEHgDChB4AwoQeAMKEHgDChB4AwoQeAMKEHgDC\n",
       "hB4AwoQeAMKEHgDChB4AwoQeAMKEHgDChB4AwoQeAMKEHgDChB4AwoQeAMKEHgDChB4AwoQeAMKE\n",
       "HgDChB4AwoQeAMKEHgDChB4AwoQeAMKEHgDChB4AwoQeAMKEHgDChB4AwoQeAMKEHgDChB4AwoQe\n",
       "AMKEHgDChB4AwoQeAMKEHgDChB4AwoQeAMKEHgDChB4AwoQeAMKEHgDChB4AwoQeAMKEHgDChB4A\n",
       "woQeAMKEHgDChB4AwoQeAMKEHgDChB4AwoQeAMKEHgDChB4AwoQeAMKEHgDChB4AwoQeAMKEHgDC\n",
       "hB4AwoQeAMKEHgDChB4AwoQeAMKEHgDChB4AwoQeAMKEHgDChB4AwoQeAMKEHgDChB4AwoQeAMKE\n",
       "HgDChB4AwoQeAMKEHgDChB4AwoQeAMKEHgDChB4AwoQeAMKEHgDChB4AwoQeAMKEHgDChB4AwoQe\n",
       "AMKEHgDChB4AwoQeAMKEHgDChB4AwoQeAMKEHgDChB4AwoQeAMKEHgDChB4Awl67B/DezOyewMN9\n",
       "37sn8OBO4Hd+9AAQJvQAECb0ABAm9AAQJvQAECb0ABAm9AAQJvQAECb0ABAm9AAQJvQAECb0ABAm\n",
       "9AAQJvQAECb0ABAm9AAQJvQAECb0ABAm9AAQJvQAECb0ABAm9AAQJvQAECb0ABAm9AAQJvQAECb0\n",
       "ABAm9AAQJvQAECb0ABAm9AAQJvQAECb0ABAm9AAQJvQAECb0ABAm9AAQJvQAECb0ABAm9AAQJvQA\n",
       "ECb0ABAm9AAQJvQAECb0ABAm9AAQJvQAECb0ABAm9AAQJvQAECb0ABAm9AAQJvQAECb0ABAm9AAQ\n",
       "JvQAECb0ABAm9AAQJvQAECb0ABAm9AAQJvQAECb0ABAm9AAQJvQAECb0ABAm9AAQJvQAECb0ABAm\n",
       "9AAQJvQAECb0ABAm9AAQJvQAECb0ABAm9AAQJvQAECb0ABAm9AAQJvQAECb0ABAm9AAQJvQAECb0\n",
       "ABAm9AAQJvQAECb0ABAm9AAQJvQAECb0ABAm9AAQJvQAECb0ABAm9AAQJvQAECb0ABAm9AAQJvQA\n",
       "ECb0ABAm9AAQtq7rmt0j+GnGswCfZ621ewIPfvQAECb0ABAm9AAQJvQAECb0ABAm9AAQJvQAECb0\n",
       "ABAm9AAQJvQAECb0ABAm9AAQJvQAECb0ABAm9AAQJvQAECb0ABAm9AAQJvQAECb0ABAm9AAQJvQA\n",
       "ECb0ABAm9AAQJvQAECb0ABAm9AAQJvQAECb0ABAm9AAQJvQAECb0ABAm9AAQJvQAECb0ABAm9AAQ\n",
       "JvQAECb0ABAm9AAQJvQAECb0ABAm9AAQJvQAECb0ABAm9AAQJvQAECb0ABAm9AAQJvQAECb0ABAm\n",
       "9AAQJvQAECb0ABAm9AAQJvQAECb0ABAm9AAQJvQAECb0ABAm9AAQJvQAECb0ABAm9AAQJvQAECb0\n",
       "ABAm9AAQJvQAECb0ABAm9AAQJvQAECb0ABAm9AAQJvQAECb0ABAm9AAQJvQAECb0ABAm9AAQJvQA\n",
       "ECb0ABAm9AAQJvQAECb0ABAm9AAQJvQAECb0ABAm9AAQJvQAECb0ABAm9AAQJvQAECb0ABAm9AAQ\n",
       "JvQAECb0ABAm9AAQJvQAECb0ABAm9AAQJvQAEPaamd0beGOttXsCwJ9pynn86AEgTOgBIEzoASBM\n",
       "6AEgTOgBIEzoASBM6AEgTOgBIEzoASBM6AEgTOgBIEzoASBM6AEgTOgBIEzoASBM6AEgTOgBIEzo\n",
       "ASBM6AEgTOgBIEzoASBM6AEgTOgBIEzoASBM6AEgTOgBIEzoASBM6AEgTOgBIEzoASBM6AEgTOgB\n",
       "IEzoASBM6AEgTOgBIEzoASBM6AEgTOgBIEzoASBM6AEgTOgBIEzoASBM6AEgTOgBIEzoASBM6AEg\n",
       "TOgBIEzoASBM6AEgTOgBIEzoASBM6AEgTOgBIEzoASBM6AEgTOgBIEzoASBM6AEgTOgBIEzoASBM\n",
       "6AEgTOgBIEzoASBM6AEgTOgBIEzoASBM6AEgTOgBIEzoASBM6AEgTOgBIEzoASBM6AEgTOgBIEzo\n",
       "ASBM6AEgTOgBIEzoASBM6AEgTOgBIEzoASBM6AEgTOgBIEzoASBM6AEgTOgBIEzoASBM6AEgTOgB\n",
       "IEzoASBM6AEgTOgBIEzoASBM6AEgTOgBIEzoASBM6AEgTOgBIEzoASBM6AEg7Bv8Dh9sZx/SMQAA\n",
       "AABJRU5ErkJggg==\n",
       "\" transform=\"translate(47, 47)\"/>\n",
       "</g>\n",
       "</svg>\n"
      ]
     },
     "execution_count": 30,
     "metadata": {},
     "output_type": "execute_result"
    }
   ],
   "source": [
    "B,c = compressao(imagem, 5)\n",
    "plot(Gray.(1 .- B*c'), size=(150,150), axis=nothing)"
   ]
  },
  {
   "cell_type": "code",
   "execution_count": 31,
   "id": "260a4958",
   "metadata": {},
   "outputs": [],
   "source": [
    "using LinearAlgebra\n",
    "using Images\n",
    "using JLD"
   ]
  },
  {
   "cell_type": "markdown",
   "id": "40378ff9",
   "metadata": {},
   "source": [
    "## Questão 8. (Luan) \n",
    "\n",
    "### Encontre (ou desenhe) uma imagem A, com mais ou menos $200 × 200$ pixels (pode ser um pouco maior), que\n",
    "\n",
    "#### (a) exija um nível de compressão maior que 3 e menor que 6 para recuperar pelo menos 99% de sua norma total.\n",
    "\n",
    "Escolhemos o logo da Xiaomi levemente modificado para que fique sem curvas, o que justifica o posto 4~5."
   ]
  },
  {
   "cell_type": "code",
   "execution_count": 32,
   "id": "d1bed842",
   "metadata": {},
   "outputs": [
    {
     "data": {
      "image/png": "[encoded data removed]",
      "text/plain": [
       "200×200 Array{Gray{N0f8},2} with eltype Gray{Normed{UInt8,8}}:\n",
       " Gray{N0f8}(0.541)  Gray{N0f8}(0.541)  …  Gray{N0f8}(0.541)\n",
       " Gray{N0f8}(0.541)  Gray{N0f8}(0.541)     Gray{N0f8}(0.541)\n",
       " Gray{N0f8}(0.541)  Gray{N0f8}(0.541)     Gray{N0f8}(0.541)\n",
       " Gray{N0f8}(0.541)  Gray{N0f8}(0.541)     Gray{N0f8}(0.541)\n",
       " Gray{N0f8}(0.541)  Gray{N0f8}(0.541)     Gray{N0f8}(0.541)\n",
       " Gray{N0f8}(0.541)  Gray{N0f8}(0.541)  …  Gray{N0f8}(0.541)\n",
       " Gray{N0f8}(0.541)  Gray{N0f8}(0.541)     Gray{N0f8}(0.541)\n",
       " Gray{N0f8}(0.541)  Gray{N0f8}(0.541)     Gray{N0f8}(0.541)\n",
       " Gray{N0f8}(0.541)  Gray{N0f8}(0.541)     Gray{N0f8}(0.541)\n",
       " Gray{N0f8}(0.541)  Gray{N0f8}(0.541)     Gray{N0f8}(0.541)\n",
       " Gray{N0f8}(0.541)  Gray{N0f8}(0.541)  …  Gray{N0f8}(0.541)\n",
       " Gray{N0f8}(0.541)  Gray{N0f8}(0.541)     Gray{N0f8}(0.541)\n",
       " Gray{N0f8}(0.541)  Gray{N0f8}(0.541)     Gray{N0f8}(0.541)\n",
       " ⋮                                     ⋱  \n",
       " Gray{N0f8}(0.541)  Gray{N0f8}(0.541)     Gray{N0f8}(0.541)\n",
       " Gray{N0f8}(0.541)  Gray{N0f8}(0.541)     Gray{N0f8}(0.541)\n",
       " Gray{N0f8}(0.541)  Gray{N0f8}(0.541)  …  Gray{N0f8}(0.541)\n",
       " Gray{N0f8}(0.541)  Gray{N0f8}(0.541)     Gray{N0f8}(0.541)\n",
       " Gray{N0f8}(0.541)  Gray{N0f8}(0.541)     Gray{N0f8}(0.541)\n",
       " Gray{N0f8}(0.541)  Gray{N0f8}(0.541)     Gray{N0f8}(0.541)\n",
       " Gray{N0f8}(0.541)  Gray{N0f8}(0.541)     Gray{N0f8}(0.541)\n",
       " Gray{N0f8}(0.541)  Gray{N0f8}(0.541)  …  Gray{N0f8}(0.541)\n",
       " Gray{N0f8}(0.541)  Gray{N0f8}(0.541)     Gray{N0f8}(0.541)\n",
       " Gray{N0f8}(0.541)  Gray{N0f8}(0.541)     Gray{N0f8}(0.541)\n",
       " Gray{N0f8}(0.541)  Gray{N0f8}(0.541)     Gray{N0f8}(0.541)\n",
       " Gray{N0f8}(0.541)  Gray{N0f8}(0.541)     Gray{N0f8}(0.541)"
      ]
     },
     "metadata": {},
     "output_type": "display_data"
    }
   ],
   "source": [
    "img = load(\"xiaomi.png\");\n",
    "display(Gray.(img))\n",
    "raw = channelview(Gray.(img[:,:]));"
   ]
  },
  {
   "cell_type": "code",
   "execution_count": 33,
   "id": "b197b919",
   "metadata": {},
   "outputs": [
    {
     "data": {
      "image/png": "[encoded data removed]",
      "text/plain": [
       "200×200 Array{Gray{Float64},2} with eltype Gray{Float64}:\n",
       " Gray{Float64}(0.540323)  Gray{Float64}(0.540323)  …  Gray{Float64}(0.540323)\n",
       " Gray{Float64}(0.540323)  Gray{Float64}(0.540323)     Gray{Float64}(0.540323)\n",
       " Gray{Float64}(0.540323)  Gray{Float64}(0.540323)     Gray{Float64}(0.540323)\n",
       " Gray{Float64}(0.540323)  Gray{Float64}(0.540323)     Gray{Float64}(0.540323)\n",
       " Gray{Float64}(0.540323)  Gray{Float64}(0.540323)     Gray{Float64}(0.540323)\n",
       " Gray{Float64}(0.540323)  Gray{Float64}(0.540323)  …  Gray{Float64}(0.540323)\n",
       " Gray{Float64}(0.540323)  Gray{Float64}(0.540323)     Gray{Float64}(0.540323)\n",
       " Gray{Float64}(0.540323)  Gray{Float64}(0.540323)     Gray{Float64}(0.540323)\n",
       " Gray{Float64}(0.540323)  Gray{Float64}(0.540323)     Gray{Float64}(0.540323)\n",
       " Gray{Float64}(0.540323)  Gray{Float64}(0.540323)     Gray{Float64}(0.540323)\n",
       " Gray{Float64}(0.540323)  Gray{Float64}(0.540323)  …  Gray{Float64}(0.540323)\n",
       " Gray{Float64}(0.540323)  Gray{Float64}(0.540323)     Gray{Float64}(0.540323)\n",
       " Gray{Float64}(0.540323)  Gray{Float64}(0.540323)     Gray{Float64}(0.540323)\n",
       " ⋮                                                 ⋱  \n",
       " Gray{Float64}(0.540323)  Gray{Float64}(0.540323)     Gray{Float64}(0.540323)\n",
       " Gray{Float64}(0.540323)  Gray{Float64}(0.540323)     Gray{Float64}(0.540323)\n",
       " Gray{Float64}(0.540323)  Gray{Float64}(0.540323)  …  Gray{Float64}(0.540323)\n",
       " Gray{Float64}(0.540323)  Gray{Float64}(0.540323)     Gray{Float64}(0.540323)\n",
       " Gray{Float64}(0.540323)  Gray{Float64}(0.540323)     Gray{Float64}(0.540323)\n",
       " Gray{Float64}(0.540323)  Gray{Float64}(0.540323)     Gray{Float64}(0.540323)\n",
       " Gray{Float64}(0.540323)  Gray{Float64}(0.540323)     Gray{Float64}(0.540323)\n",
       " Gray{Float64}(0.540323)  Gray{Float64}(0.540323)  …  Gray{Float64}(0.540323)\n",
       " Gray{Float64}(0.540323)  Gray{Float64}(0.540323)     Gray{Float64}(0.540323)\n",
       " Gray{Float64}(0.540323)  Gray{Float64}(0.540323)     Gray{Float64}(0.540323)\n",
       " Gray{Float64}(0.540323)  Gray{Float64}(0.540323)     Gray{Float64}(0.540323)\n",
       " Gray{Float64}(0.540323)  Gray{Float64}(0.540323)     Gray{Float64}(0.540323)"
      ]
     },
     "metadata": {},
     "output_type": "display_data"
    }
   ],
   "source": [
    "B,C=compressao(raw,2)\n",
    "display(Gray.(B*C'))"
   ]
  },
  {
   "cell_type": "code",
   "execution_count": 34,
   "id": "4360c93d",
   "metadata": {},
   "outputs": [
    {
     "data": {
      "image/png": "[encoded data removed]",
      "text/plain": [
       "200×200 Array{Gray{Float64},2} with eltype Gray{Float64}:\n",
       " Gray{Float64}(0.541183)  Gray{Float64}(0.541183)  …  Gray{Float64}(0.541183)\n",
       " Gray{Float64}(0.541183)  Gray{Float64}(0.541183)     Gray{Float64}(0.541183)\n",
       " Gray{Float64}(0.541183)  Gray{Float64}(0.541183)     Gray{Float64}(0.541183)\n",
       " Gray{Float64}(0.541183)  Gray{Float64}(0.541183)     Gray{Float64}(0.541183)\n",
       " Gray{Float64}(0.541183)  Gray{Float64}(0.541183)     Gray{Float64}(0.541183)\n",
       " Gray{Float64}(0.541183)  Gray{Float64}(0.541183)  …  Gray{Float64}(0.541183)\n",
       " Gray{Float64}(0.541183)  Gray{Float64}(0.541183)     Gray{Float64}(0.541183)\n",
       " Gray{Float64}(0.541183)  Gray{Float64}(0.541183)     Gray{Float64}(0.541183)\n",
       " Gray{Float64}(0.541183)  Gray{Float64}(0.541183)     Gray{Float64}(0.541183)\n",
       " Gray{Float64}(0.541183)  Gray{Float64}(0.541183)     Gray{Float64}(0.541183)\n",
       " Gray{Float64}(0.541183)  Gray{Float64}(0.541183)  …  Gray{Float64}(0.541183)\n",
       " Gray{Float64}(0.541183)  Gray{Float64}(0.541183)     Gray{Float64}(0.541183)\n",
       " Gray{Float64}(0.541183)  Gray{Float64}(0.541183)     Gray{Float64}(0.541183)\n",
       " ⋮                                                 ⋱  \n",
       " Gray{Float64}(0.541183)  Gray{Float64}(0.541183)     Gray{Float64}(0.541183)\n",
       " Gray{Float64}(0.541183)  Gray{Float64}(0.541183)     Gray{Float64}(0.541183)\n",
       " Gray{Float64}(0.541183)  Gray{Float64}(0.541183)  …  Gray{Float64}(0.541183)\n",
       " Gray{Float64}(0.541183)  Gray{Float64}(0.541183)     Gray{Float64}(0.541183)\n",
       " Gray{Float64}(0.541183)  Gray{Float64}(0.541183)     Gray{Float64}(0.541183)\n",
       " Gray{Float64}(0.541183)  Gray{Float64}(0.541183)     Gray{Float64}(0.541183)\n",
       " Gray{Float64}(0.541183)  Gray{Float64}(0.541183)     Gray{Float64}(0.541183)\n",
       " Gray{Float64}(0.541183)  Gray{Float64}(0.541183)  …  Gray{Float64}(0.541183)\n",
       " Gray{Float64}(0.541183)  Gray{Float64}(0.541183)     Gray{Float64}(0.541183)\n",
       " Gray{Float64}(0.541183)  Gray{Float64}(0.541183)     Gray{Float64}(0.541183)\n",
       " Gray{Float64}(0.541183)  Gray{Float64}(0.541183)     Gray{Float64}(0.541183)\n",
       " Gray{Float64}(0.541183)  Gray{Float64}(0.541183)     Gray{Float64}(0.541183)"
      ]
     },
     "metadata": {},
     "output_type": "display_data"
    }
   ],
   "source": [
    "B,C=compressao(raw,4)\n",
    "display(Gray.(B*C'))"
   ]
  },
  {
   "cell_type": "markdown",
   "id": "edb20806",
   "metadata": {},
   "source": [
    "#### (b) exija um nível de compressão maior que 40 para recuperar pelo menos 99% de sua norma total.\n",
    "\n",
    "Escolhemos um qr code bem complicado para que necessite bastantes postos para restaurar a imagem."
   ]
  },
  {
   "cell_type": "code",
   "execution_count": 35,
   "id": "a79ed5fb",
   "metadata": {},
   "outputs": [
    {
     "data": {
      "image/png": "[encoded data removed]",
      "text/plain": [
       "200×200 Array{Gray{N0f8},2} with eltype Gray{Normed{UInt8,8}}:\n",
       " Gray{N0f8}(1.0)  Gray{N0f8}(1.0)  …  Gray{N0f8}(1.0)  Gray{N0f8}(1.0)\n",
       " Gray{N0f8}(1.0)  Gray{N0f8}(1.0)     Gray{N0f8}(1.0)  Gray{N0f8}(1.0)\n",
       " Gray{N0f8}(1.0)  Gray{N0f8}(1.0)     Gray{N0f8}(1.0)  Gray{N0f8}(1.0)\n",
       " Gray{N0f8}(1.0)  Gray{N0f8}(1.0)     Gray{N0f8}(1.0)  Gray{N0f8}(1.0)\n",
       " Gray{N0f8}(1.0)  Gray{N0f8}(1.0)     Gray{N0f8}(1.0)  Gray{N0f8}(1.0)\n",
       " Gray{N0f8}(1.0)  Gray{N0f8}(1.0)  …  Gray{N0f8}(1.0)  Gray{N0f8}(1.0)\n",
       " Gray{N0f8}(1.0)  Gray{N0f8}(1.0)     Gray{N0f8}(1.0)  Gray{N0f8}(1.0)\n",
       " Gray{N0f8}(1.0)  Gray{N0f8}(1.0)     Gray{N0f8}(1.0)  Gray{N0f8}(1.0)\n",
       " Gray{N0f8}(1.0)  Gray{N0f8}(1.0)     Gray{N0f8}(1.0)  Gray{N0f8}(1.0)\n",
       " Gray{N0f8}(1.0)  Gray{N0f8}(1.0)     Gray{N0f8}(1.0)  Gray{N0f8}(1.0)\n",
       " Gray{N0f8}(1.0)  Gray{N0f8}(1.0)  …  Gray{N0f8}(1.0)  Gray{N0f8}(1.0)\n",
       " Gray{N0f8}(1.0)  Gray{N0f8}(1.0)     Gray{N0f8}(1.0)  Gray{N0f8}(1.0)\n",
       " Gray{N0f8}(1.0)  Gray{N0f8}(1.0)     Gray{N0f8}(1.0)  Gray{N0f8}(1.0)\n",
       " ⋮                                 ⋱                   \n",
       " Gray{N0f8}(1.0)  Gray{N0f8}(1.0)     Gray{N0f8}(1.0)  Gray{N0f8}(1.0)\n",
       " Gray{N0f8}(1.0)  Gray{N0f8}(1.0)     Gray{N0f8}(1.0)  Gray{N0f8}(1.0)\n",
       " Gray{N0f8}(1.0)  Gray{N0f8}(1.0)  …  Gray{N0f8}(1.0)  Gray{N0f8}(1.0)\n",
       " Gray{N0f8}(1.0)  Gray{N0f8}(1.0)     Gray{N0f8}(1.0)  Gray{N0f8}(1.0)\n",
       " Gray{N0f8}(1.0)  Gray{N0f8}(1.0)     Gray{N0f8}(1.0)  Gray{N0f8}(1.0)\n",
       " Gray{N0f8}(1.0)  Gray{N0f8}(1.0)     Gray{N0f8}(1.0)  Gray{N0f8}(1.0)\n",
       " Gray{N0f8}(1.0)  Gray{N0f8}(1.0)     Gray{N0f8}(1.0)  Gray{N0f8}(1.0)\n",
       " Gray{N0f8}(1.0)  Gray{N0f8}(1.0)  …  Gray{N0f8}(1.0)  Gray{N0f8}(1.0)\n",
       " Gray{N0f8}(1.0)  Gray{N0f8}(1.0)     Gray{N0f8}(1.0)  Gray{N0f8}(1.0)\n",
       " Gray{N0f8}(1.0)  Gray{N0f8}(1.0)     Gray{N0f8}(1.0)  Gray{N0f8}(1.0)\n",
       " Gray{N0f8}(1.0)  Gray{N0f8}(1.0)     Gray{N0f8}(1.0)  Gray{N0f8}(1.0)\n",
       " Gray{N0f8}(1.0)  Gray{N0f8}(1.0)     Gray{N0f8}(1.0)  Gray{N0f8}(1.0)"
      ]
     },
     "metadata": {},
     "output_type": "display_data"
    }
   ],
   "source": [
    "img = load(\"qrCode.png\");\n",
    "display(Gray.(img))\n",
    "raw = channelview(Gray.(img[:,:]));"
   ]
  },
  {
   "cell_type": "code",
   "execution_count": 36,
   "id": "64a4955c",
   "metadata": {},
   "outputs": [
    {
     "data": {
      "image/png": "[encoded data removed]",
      "text/plain": [
       "200×200 Array{Gray{Float64},2} with eltype Gray{Float64}:\n",
       " Gray{Float64}(1.11498)  Gray{Float64}(1.11498)  …  Gray{Float64}(1.11498)\n",
       " Gray{Float64}(1.11498)  Gray{Float64}(1.11498)     Gray{Float64}(1.11498)\n",
       " Gray{Float64}(1.11498)  Gray{Float64}(1.11498)     Gray{Float64}(1.11498)\n",
       " Gray{Float64}(1.11498)  Gray{Float64}(1.11498)     Gray{Float64}(1.11498)\n",
       " Gray{Float64}(1.11498)  Gray{Float64}(1.11498)     Gray{Float64}(1.11498)\n",
       " Gray{Float64}(1.11498)  Gray{Float64}(1.11498)  …  Gray{Float64}(1.11498)\n",
       " Gray{Float64}(1.11498)  Gray{Float64}(1.11498)     Gray{Float64}(1.11498)\n",
       " Gray{Float64}(1.11498)  Gray{Float64}(1.11498)     Gray{Float64}(1.11498)\n",
       " Gray{Float64}(1.11498)  Gray{Float64}(1.11498)     Gray{Float64}(1.11498)\n",
       " Gray{Float64}(1.11498)  Gray{Float64}(1.11498)     Gray{Float64}(1.11498)\n",
       " Gray{Float64}(1.11498)  Gray{Float64}(1.11498)  …  Gray{Float64}(1.11498)\n",
       " Gray{Float64}(1.11498)  Gray{Float64}(1.11498)     Gray{Float64}(1.11498)\n",
       " Gray{Float64}(1.11498)  Gray{Float64}(1.11498)     Gray{Float64}(1.11498)\n",
       " ⋮                                               ⋱  \n",
       " Gray{Float64}(1.11498)  Gray{Float64}(1.11498)     Gray{Float64}(1.11498)\n",
       " Gray{Float64}(1.11498)  Gray{Float64}(1.11498)     Gray{Float64}(1.11498)\n",
       " Gray{Float64}(1.11498)  Gray{Float64}(1.11498)  …  Gray{Float64}(1.11498)\n",
       " Gray{Float64}(1.11498)  Gray{Float64}(1.11498)     Gray{Float64}(1.11498)\n",
       " Gray{Float64}(1.11498)  Gray{Float64}(1.11498)     Gray{Float64}(1.11498)\n",
       " Gray{Float64}(1.11498)  Gray{Float64}(1.11498)     Gray{Float64}(1.11498)\n",
       " Gray{Float64}(1.11498)  Gray{Float64}(1.11498)     Gray{Float64}(1.11498)\n",
       " Gray{Float64}(1.11498)  Gray{Float64}(1.11498)  …  Gray{Float64}(1.11498)\n",
       " Gray{Float64}(1.11498)  Gray{Float64}(1.11498)     Gray{Float64}(1.11498)\n",
       " Gray{Float64}(1.11498)  Gray{Float64}(1.11498)     Gray{Float64}(1.11498)\n",
       " Gray{Float64}(1.11498)  Gray{Float64}(1.11498)     Gray{Float64}(1.11498)\n",
       " Gray{Float64}(1.11498)  Gray{Float64}(1.11498)     Gray{Float64}(1.11498)"
      ]
     },
     "metadata": {},
     "output_type": "display_data"
    }
   ],
   "source": [
    "B,C=compressao(raw,2)\n",
    "display(Gray.(B*C'))"
   ]
  },
  {
   "cell_type": "code",
   "execution_count": 37,
   "id": "20bdb051",
   "metadata": {},
   "outputs": [
    {
     "data": {
      "image/png": "[encoded data removed]",
      "text/plain": [
       "200×200 Array{Gray{Float64},2} with eltype Gray{Float64}:\n",
       " Gray{Float64}(1.00197)  Gray{Float64}(1.00197)  …  Gray{Float64}(1.00197)\n",
       " Gray{Float64}(1.00197)  Gray{Float64}(1.00197)     Gray{Float64}(1.00197)\n",
       " Gray{Float64}(1.00197)  Gray{Float64}(1.00197)     Gray{Float64}(1.00197)\n",
       " Gray{Float64}(1.00197)  Gray{Float64}(1.00197)     Gray{Float64}(1.00197)\n",
       " Gray{Float64}(1.00197)  Gray{Float64}(1.00197)     Gray{Float64}(1.00197)\n",
       " Gray{Float64}(1.00197)  Gray{Float64}(1.00197)  …  Gray{Float64}(1.00197)\n",
       " Gray{Float64}(1.00197)  Gray{Float64}(1.00197)     Gray{Float64}(1.00197)\n",
       " Gray{Float64}(1.00197)  Gray{Float64}(1.00197)     Gray{Float64}(1.00197)\n",
       " Gray{Float64}(1.00197)  Gray{Float64}(1.00197)     Gray{Float64}(1.00197)\n",
       " Gray{Float64}(1.00197)  Gray{Float64}(1.00197)     Gray{Float64}(1.00197)\n",
       " Gray{Float64}(1.00197)  Gray{Float64}(1.00197)  …  Gray{Float64}(1.00197)\n",
       " Gray{Float64}(1.00197)  Gray{Float64}(1.00197)     Gray{Float64}(1.00197)\n",
       " Gray{Float64}(1.00197)  Gray{Float64}(1.00197)     Gray{Float64}(1.00197)\n",
       " ⋮                                               ⋱  \n",
       " Gray{Float64}(1.00197)  Gray{Float64}(1.00197)     Gray{Float64}(1.00197)\n",
       " Gray{Float64}(1.00197)  Gray{Float64}(1.00197)     Gray{Float64}(1.00197)\n",
       " Gray{Float64}(1.00197)  Gray{Float64}(1.00197)  …  Gray{Float64}(1.00197)\n",
       " Gray{Float64}(1.00197)  Gray{Float64}(1.00197)     Gray{Float64}(1.00197)\n",
       " Gray{Float64}(1.00197)  Gray{Float64}(1.00197)     Gray{Float64}(1.00197)\n",
       " Gray{Float64}(1.00197)  Gray{Float64}(1.00197)     Gray{Float64}(1.00197)\n",
       " Gray{Float64}(1.00197)  Gray{Float64}(1.00197)     Gray{Float64}(1.00197)\n",
       " Gray{Float64}(1.00197)  Gray{Float64}(1.00197)  …  Gray{Float64}(1.00197)\n",
       " Gray{Float64}(1.00197)  Gray{Float64}(1.00197)     Gray{Float64}(1.00197)\n",
       " Gray{Float64}(1.00197)  Gray{Float64}(1.00197)     Gray{Float64}(1.00197)\n",
       " Gray{Float64}(1.00197)  Gray{Float64}(1.00197)     Gray{Float64}(1.00197)\n",
       " Gray{Float64}(1.00197)  Gray{Float64}(1.00197)     Gray{Float64}(1.00197)"
      ]
     },
     "metadata": {},
     "output_type": "display_data"
    }
   ],
   "source": [
    "B,C=compressao(raw,20)\n",
    "display(Gray.(B*C'))"
   ]
  },
  {
   "cell_type": "code",
   "execution_count": 38,
   "id": "41a24aed",
   "metadata": {},
   "outputs": [
    {
     "data": {
      "image/png": "[encoded data removed]",
      "text/plain": [
       "200×200 Array{Gray{Float64},2} with eltype Gray{Float64}:\n",
       " Gray{Float64}(1.0002)  Gray{Float64}(1.0002)  …  Gray{Float64}(1.0002)\n",
       " Gray{Float64}(1.0002)  Gray{Float64}(1.0002)     Gray{Float64}(1.0002)\n",
       " Gray{Float64}(1.0002)  Gray{Float64}(1.0002)     Gray{Float64}(1.0002)\n",
       " Gray{Float64}(1.0002)  Gray{Float64}(1.0002)     Gray{Float64}(1.0002)\n",
       " Gray{Float64}(1.0002)  Gray{Float64}(1.0002)     Gray{Float64}(1.0002)\n",
       " Gray{Float64}(1.0002)  Gray{Float64}(1.0002)  …  Gray{Float64}(1.0002)\n",
       " Gray{Float64}(1.0002)  Gray{Float64}(1.0002)     Gray{Float64}(1.0002)\n",
       " Gray{Float64}(1.0002)  Gray{Float64}(1.0002)     Gray{Float64}(1.0002)\n",
       " Gray{Float64}(1.0002)  Gray{Float64}(1.0002)     Gray{Float64}(1.0002)\n",
       " Gray{Float64}(1.0002)  Gray{Float64}(1.0002)     Gray{Float64}(1.0002)\n",
       " Gray{Float64}(1.0002)  Gray{Float64}(1.0002)  …  Gray{Float64}(1.0002)\n",
       " Gray{Float64}(1.0002)  Gray{Float64}(1.0002)     Gray{Float64}(1.0002)\n",
       " Gray{Float64}(1.0002)  Gray{Float64}(1.0002)     Gray{Float64}(1.0002)\n",
       " ⋮                                             ⋱  \n",
       " Gray{Float64}(1.0002)  Gray{Float64}(1.0002)     Gray{Float64}(1.0002)\n",
       " Gray{Float64}(1.0002)  Gray{Float64}(1.0002)     Gray{Float64}(1.0002)\n",
       " Gray{Float64}(1.0002)  Gray{Float64}(1.0002)  …  Gray{Float64}(1.0002)\n",
       " Gray{Float64}(1.0002)  Gray{Float64}(1.0002)     Gray{Float64}(1.0002)\n",
       " Gray{Float64}(1.0002)  Gray{Float64}(1.0002)     Gray{Float64}(1.0002)\n",
       " Gray{Float64}(1.0002)  Gray{Float64}(1.0002)     Gray{Float64}(1.0002)\n",
       " Gray{Float64}(1.0002)  Gray{Float64}(1.0002)     Gray{Float64}(1.0002)\n",
       " Gray{Float64}(1.0002)  Gray{Float64}(1.0002)  …  Gray{Float64}(1.0002)\n",
       " Gray{Float64}(1.0002)  Gray{Float64}(1.0002)     Gray{Float64}(1.0002)\n",
       " Gray{Float64}(1.0002)  Gray{Float64}(1.0002)     Gray{Float64}(1.0002)\n",
       " Gray{Float64}(1.0002)  Gray{Float64}(1.0002)     Gray{Float64}(1.0002)\n",
       " Gray{Float64}(1.0002)  Gray{Float64}(1.0002)     Gray{Float64}(1.0002)"
      ]
     },
     "metadata": {},
     "output_type": "display_data"
    }
   ],
   "source": [
    "B,C=compressao(raw,41)\n",
    "display(Gray.(B*C'))"
   ]
  },
  {
   "cell_type": "code",
   "execution_count": 39,
   "id": "821e683d",
   "metadata": {},
   "outputs": [
    {
     "data": {
      "image/png": "[encoded data removed]",
      "text/plain": [
       "200×200 Array{Gray{Float64},2} with eltype Gray{Float64}:\n",
       " Gray{Float64}(1.0)  Gray{Float64}(1.0)  …  Gray{Float64}(1.0)\n",
       " Gray{Float64}(1.0)  Gray{Float64}(1.0)     Gray{Float64}(1.0)\n",
       " Gray{Float64}(1.0)  Gray{Float64}(1.0)     Gray{Float64}(1.0)\n",
       " Gray{Float64}(1.0)  Gray{Float64}(1.0)     Gray{Float64}(1.0)\n",
       " Gray{Float64}(1.0)  Gray{Float64}(1.0)     Gray{Float64}(1.0)\n",
       " Gray{Float64}(1.0)  Gray{Float64}(1.0)  …  Gray{Float64}(1.0)\n",
       " Gray{Float64}(1.0)  Gray{Float64}(1.0)     Gray{Float64}(1.0)\n",
       " Gray{Float64}(1.0)  Gray{Float64}(1.0)     Gray{Float64}(1.0)\n",
       " Gray{Float64}(1.0)  Gray{Float64}(1.0)     Gray{Float64}(1.0)\n",
       " Gray{Float64}(1.0)  Gray{Float64}(1.0)     Gray{Float64}(1.0)\n",
       " Gray{Float64}(1.0)  Gray{Float64}(1.0)  …  Gray{Float64}(1.0)\n",
       " Gray{Float64}(1.0)  Gray{Float64}(1.0)     Gray{Float64}(1.0)\n",
       " Gray{Float64}(1.0)  Gray{Float64}(1.0)     Gray{Float64}(1.0)\n",
       " ⋮                                       ⋱  \n",
       " Gray{Float64}(1.0)  Gray{Float64}(1.0)     Gray{Float64}(1.0)\n",
       " Gray{Float64}(1.0)  Gray{Float64}(1.0)     Gray{Float64}(1.0)\n",
       " Gray{Float64}(1.0)  Gray{Float64}(1.0)  …  Gray{Float64}(1.0)\n",
       " Gray{Float64}(1.0)  Gray{Float64}(1.0)     Gray{Float64}(1.0)\n",
       " Gray{Float64}(1.0)  Gray{Float64}(1.0)     Gray{Float64}(1.0)\n",
       " Gray{Float64}(1.0)  Gray{Float64}(1.0)     Gray{Float64}(1.0)\n",
       " Gray{Float64}(1.0)  Gray{Float64}(1.0)     Gray{Float64}(1.0)\n",
       " Gray{Float64}(1.0)  Gray{Float64}(1.0)  …  Gray{Float64}(1.0)\n",
       " Gray{Float64}(1.0)  Gray{Float64}(1.0)     Gray{Float64}(1.0)\n",
       " Gray{Float64}(1.0)  Gray{Float64}(1.0)     Gray{Float64}(1.0)\n",
       " Gray{Float64}(1.0)  Gray{Float64}(1.0)     Gray{Float64}(1.0)\n",
       " Gray{Float64}(1.0)  Gray{Float64}(1.0)     Gray{Float64}(1.0)"
      ]
     },
     "metadata": {},
     "output_type": "display_data"
    }
   ],
   "source": [
    "B,C=compressao(raw,100)\n",
    "display(Gray.(B*C'))"
   ]
  },
  {
   "cell_type": "code",
   "execution_count": null,
   "id": "5c036dac",
   "metadata": {},
   "outputs": [],
   "source": []
  }
 ],
 "metadata": {
  "kernelspec": {
   "display_name": "Julia 1.6.0",
   "language": "julia",
   "name": "julia-1.6"
  },
  "language_info": {
   "file_extension": ".jl",
   "mimetype": "application/julia",
   "name": "julia",
   "version": "1.6.1"
  }
 },
 "nbformat": 4,
 "nbformat_minor": 5
}
