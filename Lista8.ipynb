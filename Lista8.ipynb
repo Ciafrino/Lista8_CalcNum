{
 "cells": [
  {
   "cell_type": "markdown",
   "metadata": {},
   "source": [
    "# Lista 8 de Cálculo Numérico"
   ]
  },
  {
   "cell_type": "code",
   "execution_count": 1,
   "metadata": {},
   "outputs": [],
   "source": [
    "using LinearAlgebra # Para uso da função norm\n",
    "using Plots # para plotar gráficos"
   ]
  },
  {
   "cell_type": "markdown",
   "metadata": {},
   "source": [
    "## Questão 1."
   ]
  },
  {
   "cell_type": "markdown",
   "metadata": {},
   "source": [
    "### a. Compressão (Thierry)"
   ]
  },
  {
   "cell_type": "markdown",
   "metadata": {},
   "source": [
    "### Compressão de Dados em Matrizes"
   ]
  },
  {
   "cell_type": "markdown",
   "metadata": {},
   "source": [
    "A ideia da compressão de dados é encontrarmos vetores base dentro da matriz tal que forneçam uma base para a composição de todos os dados. Porém, na vida real precisamos encontrar aproximações, visto que o uso de números reais acabam dificultando uma base L.I de poucos vetores representarem muitos dados.\n",
    "\n",
    "Na ideia simples, transformamos a matriz em uma multiplicação de duas matrizes, tal que a primeira seja os vetores base e a segunda os coeficientes das combinações lineares.\n",
    "\n",
    "Com a preocupação de se adequar aos números reais, começamos a analisar isso pelo erro da matriz original com a nova multiplicação das duas matrizes. Para quantificar o erro, usamos a ideia de norma de matriz, que é dada pela soma das normas de cada vetor (colunas) da matriz.\n",
    "\n",
    "Então, temos que dado a matriz A e o vetor b, precisamos determinar c tal que \n",
    "\n",
    "$$min ||A - [b][c^T]|| \\longrightarrow min ||[(a_1)(a_2)...(a_n)] - [c_1(b) c_2(b) ... c_n(b)]|| \\longrightarrow ||(a_1 - c_1b)(a_2-c_2b)...(a_n-c_nb)||$$\n",
    "\n",
    "Visto que $e_n = a_n - c_nb \\space \\bot \\space c_nb$, pelo produto interno temos que $e_n^Tc_nb = 0 \\longrightarrow (a_n - c_nb)^Tc_nb = 0$. Aplicando a transposta tal que $(M.Q)^T = Q^T.M^T$ e $(M - Q)^T = M^T - Q^T$ obtemos:\n",
    "\n",
    "$$(a_n - c_nb)^Tc_nb = 0 \\longrightarrow (a_n^T - (c_nb)^T)c_nb = 0 \\longrightarrow a_n^Tc_nb - c_n^2b^Tb = 0 \\longrightarrow a_n^Tc_nb = c_n^2b^Tb $$\n",
    "\n",
    "Desconsiderando o caso em que $c_n = 0$ pois é um caso muito trivial, podemos dividir a equação em ambos os lados por $c_n$, resultando em:\n",
    "\n",
    "$$a_n^Tb = c_nb^Tb \\longrightarrow c_n = \\frac{a_n^Tb}{b^Tb}$$\n",
    "\n",
    "A partir da análise feita acima podemos escrever um código em Julia para achar o vetor c:"
   ]
  },
  {
   "cell_type": "code",
   "execution_count": 2,
   "metadata": {},
   "outputs": [
    {
     "data": {
      "text/plain": [
       "melhores_coords (generic function with 1 method)"
      ]
     },
     "execution_count": 2,
     "metadata": {},
     "output_type": "execute_result"
    }
   ],
   "source": [
    "function melhores_coords(A,b) #retorna c tal que norm(A-b*c') é mínima\n",
    "    m, n = size(A)\n",
    "    A = 1.0 * A # multiplica-se por 1.0 para evitar erros de operações matriciais entre inteiros e float's.\n",
    "    c = zeros(n)    \n",
    "    c = A'*(b/(b'*b)) # Operação para achar o vetor c que minimiza a distância perpendicular à reta.\n",
    "    return c\n",
    "end"
   ]
  },
  {
   "cell_type": "code",
   "execution_count": 3,
   "metadata": {},
   "outputs": [
    {
     "data": {
      "text/plain": [
       "3×3 Matrix{Float64}:\n",
       " 1.0001  10.001  3.0\n",
       " 2.01    20.3    6.0\n",
       " 3.003   30.0    9.0"
      ]
     },
     "execution_count": 3,
     "metadata": {},
     "output_type": "execute_result"
    }
   ],
   "source": [
    "A=[1.0001 10.001 3;2.01 20.3 6;3.003 30 9]"
   ]
  },
  {
   "cell_type": "code",
   "execution_count": 4,
   "metadata": {},
   "outputs": [
    {
     "data": {
      "text/plain": [
       "3-element Vector{Int64}:\n",
       " 1\n",
       " 2\n",
       " 3"
      ]
     },
     "execution_count": 4,
     "metadata": {},
     "output_type": "execute_result"
    }
   ],
   "source": [
    "b=[1;2;3]"
   ]
  },
  {
   "cell_type": "code",
   "execution_count": 5,
   "metadata": {},
   "outputs": [
    {
     "data": {
      "text/plain": [
       "3-element Vector{Float64}:\n",
       "  1.0020785714285714\n",
       " 10.04292857142857\n",
       "  3.0"
      ]
     },
     "execution_count": 5,
     "metadata": {},
     "output_type": "execute_result"
    }
   ],
   "source": [
    "c=melhores_coords(A,b)"
   ]
  },
  {
   "cell_type": "code",
   "execution_count": 6,
   "metadata": {},
   "outputs": [
    {
     "data": {
      "text/plain": [
       "0.2534747564213406"
      ]
     },
     "execution_count": 6,
     "metadata": {},
     "output_type": "execute_result"
    }
   ],
   "source": [
    "norm(A-b*c')"
   ]
  },
  {
   "cell_type": "code",
   "execution_count": 7,
   "metadata": {},
   "outputs": [
    {
     "data": {
      "text/plain": [
       "acha_melhor_minimizacao (generic function with 1 method)"
      ]
     },
     "execution_count": 7,
     "metadata": {},
     "output_type": "execute_result"
    }
   ],
   "source": [
    "function acha_melhor_minimizacao(A)\n",
    "    n,m = size(A)\n",
    "\n",
    "    bv = randn(n)\n",
    "    cv = randn(m)\n",
    "    \n",
    "    bw = zeros(m)\n",
    "    cw = zeros(n)\n",
    "    \n",
    "    for i in 1:50\n",
    "        cv=melhores_coords(A, bv)\n",
    "        bw=cv\n",
    "        cw=melhores_coords(A', bw)\n",
    "        bv=cw\n",
    "    end\n",
    "    \n",
    "    return bv,cv\n",
    "end"
   ]
  },
  {
   "cell_type": "code",
   "execution_count": 8,
   "metadata": {},
   "outputs": [
    {
     "data": {
      "text/plain": [
       "compressao (generic function with 1 method)"
      ]
     },
     "execution_count": 8,
     "metadata": {},
     "output_type": "execute_result"
    }
   ],
   "source": [
    "function compressao(A,nível)\n",
    "    m,n=size(A)\n",
    "    B=zeros(m,nível)\n",
    "    C=zeros(n,nível)\n",
    "    \n",
    "    for i=1:nível\n",
    "        B[:,i], C[:,i] = acha_melhor_minimizacao(A)\n",
    "        A= A - B[:,i]*C[:,i]'\n",
    "    end\n",
    "    return B,C\n",
    "end"
   ]
  },
  {
   "cell_type": "code",
   "execution_count": 9,
   "metadata": {},
   "outputs": [
    {
     "data": {
      "text/plain": [
       "3×4 Matrix{Float64}:\n",
       " -1.7673     -0.277941  0.648435   1.06847\n",
       "  0.0682925   0.228917  0.255455  -1.02237\n",
       "  0.321998   -0.824582  0.891538   0.0543769"
      ]
     },
     "execution_count": 9,
     "metadata": {},
     "output_type": "execute_result"
    }
   ],
   "source": [
    "A = randn(3,4)"
   ]
  },
  {
   "cell_type": "code",
   "execution_count": 10,
   "metadata": {},
   "outputs": [
    {
     "data": {
      "text/plain": [
       "([1.333154435476278 -0.03558783342166556 -0.6129878409605616; -0.3763913015616659 0.10916703017270142 -2.0938066737951324; 0.11165885794275343 0.7928936421219668 0.2607660550878557], [-1.2145548362195144 0.5073659219619088 0.21217000231237934; -0.28412636217459813 -0.9642599867070086 -0.10852958983986469; 0.44933366870364966 1.10881000925948 -0.14496785050938374; 0.9398756256685373 -0.16595133766419864 0.3106740008982255])"
      ]
     },
     "execution_count": 10,
     "metadata": {},
     "output_type": "execute_result"
    }
   ],
   "source": [
    "B,C = compressao(A,3)"
   ]
  },
  {
   "cell_type": "code",
   "execution_count": 11,
   "metadata": {},
   "outputs": [
    {
     "data": {
      "text/plain": [
       "1.7291634505335761e-16"
      ]
     },
     "execution_count": 11,
     "metadata": {},
     "output_type": "execute_result"
    }
   ],
   "source": [
    "norm(A-B*C')"
   ]
  },
  {
   "cell_type": "code",
   "execution_count": 12,
   "metadata": {},
   "outputs": [
    {
     "name": "stdout",
     "output_type": "stream",
     "text": [
      "1: 17.57098851056964\n",
      "2: 16.160383851112492\n",
      "3: 14.68563921862958\n",
      "4: 13.272557199993361\n",
      "5: 12.02949158373268\n",
      "6: 10.889917510902878\n",
      "7: 9.698277769799825\n",
      "8: 8.552353394621846\n",
      "9: 7.598899427716194\n",
      "10: 6.679723892405799\n",
      "11: 5.711948041701329\n",
      "12: 4.719347493982419\n",
      "13: 3.79731920398686\n",
      "14: 3.160211935831341\n",
      "15: 2.474280683638202\n",
      "16: 1.8285660445954925\n",
      "17: 1.2126105398091247\n",
      "18: 0.5362008338037308\n",
      "19: 0.16810061658011421\n",
      "20: 4.9118790377660025e-15\n"
     ]
    }
   ],
   "source": [
    "# Chance pequena de existirem colunas Linearmente Dependentes\n",
    "N = 20\n",
    "A = randn(N, N)\n",
    "for i in 1:N\n",
    "    B,C = compressao(A, i)\n",
    "    print(i, \": \", norm(A-B*C'), \"\\n\")\n",
    "end"
   ]
  },
  {
   "cell_type": "code",
   "execution_count": 13,
   "metadata": {},
   "outputs": [
    {
     "name": "stdout",
     "output_type": "stream",
     "text": [
      "4.8900251726869386e-14\n",
      "0.0\n",
      "NaN\n",
      "NaN\n",
      "NaN\n",
      "NaN\n",
      "NaN\n",
      "NaN\n",
      "NaN\n",
      "NaN\n"
     ]
    }
   ],
   "source": [
    "N = 20\n",
    "A = zeros(N, N)\n",
    "for i in 1:N\n",
    "    A[:, i] .= i\n",
    "end\n",
    "for i in 1:10\n",
    "    B,C = compressao(A, i)\n",
    "    print(norm(A-B*C'), \"\\n\")\n",
    "end"
   ]
  },
  {
   "cell_type": "markdown",
   "metadata": {},
   "source": [
    "### b. Gauss-Jacobi (Vinicius)"
   ]
  },
  {
   "cell_type": "markdown",
   "metadata": {},
   "source": [
    "O método utilizado será o do ponto fixo, em que iniciamos com o sistema linear:\n",
    "\n",
    "$$A.x=b$$\n",
    "\n",
    "Chamaremos $A=M-K$ para um $M$ facilmente invertível e um $K$ resto da matriz.\n",
    "\n",
    "$$M.x-K.x=b \\\\\n",
    "M.x=b+K.x \\\\\n",
    "x=M^{-1}.b+M^{-1}.K.x$$\n",
    "\n",
    "Chamaremos $M^{-1}.b$ de $c$ e o $M^{-1}.K$ de $R$:\n",
    "\n",
    "$$x=R.x+c$$\n",
    "\n",
    "Nosso método numérico a ser implementado em cima dessa equação é dar um chute inicial e ir substituindo nela:\n",
    "\n",
    "$$x^{(0)}=chute_{inicial}$$\n",
    "\n",
    "$$x^{(k+1)}=R.x^{(k)}+c$$\n",
    "\n",
    "No caso específico do **Gauss-Jacobi**, a **matriz $M$ facilmente inversível é uma diagonal.**"
   ]
  },
  {
   "cell_type": "code",
   "execution_count": 42,
   "metadata": {},
   "outputs": [
    {
     "data": {
      "text/plain": [
       "gauss_jacobi (generic function with 1 method)"
      ]
     },
     "execution_count": 42,
     "metadata": {},
     "output_type": "execute_result"
    }
   ],
   "source": [
    "# nao esta funcionando bem\n",
    "function gauss_jacobi(A,b,iteracoes)\n",
    "    M = Diagonal(A)\n",
    "    K = M-A\n",
    "    R = inv(M)*K\n",
    "    c = inv(M)*b\n",
    "    \n",
    "    #println(M)\n",
    "    #println(K)\n",
    "    #println(R)\n",
    "    #println(c)\n",
    "    \n",
    "    lin = length(b)\n",
    "    x = zeros(lin,1)\n",
    "    for i = 1:iteracoes\n",
    "        x = R*x + c\n",
    "    end\n",
    "    \n",
    "    return x\n",
    "end"
   ]
  },
  {
   "cell_type": "code",
   "execution_count": 15,
   "metadata": {},
   "outputs": [
    {
     "name": "stdout",
     "output_type": "stream",
     "text": [
      "[4 0 0; 0 5 0; 0 0 10]\n",
      "[0 -2 -1; -1 0 -1; -3 -4 0]\n",
      "[0.0 -0.5 -0.25; -0.2 0.0 -0.2; -0.30000000000000004 -0.4 0.0]\n",
      "[1.75, 1.4000000000000001, 1.7000000000000002]\n",
      "Norma: 8.881784197001252e-16\n"
     ]
    }
   ],
   "source": [
    "A = [4 2 1 ; 1 5 1 ; 3 4 10]\n",
    "b = [7 ; 7 ; 17]\n",
    "\n",
    "x = gauss_jacobi(A,b,300)\n",
    "println(\"Norma: \", norm(A*x-b))"
   ]
  },
  {
   "cell_type": "code",
   "execution_count": 16,
   "metadata": {},
   "outputs": [
    {
     "name": "stdout",
     "output_type": "stream",
     "text": [
      "[5 0 0 0; 0 3 0 0; 0 0 4 0; 0 0 0 8]\n",
      "[0 -2 -1 1; -1 0 1 -1; -2 0 0 -1; -1 -1 -1 0]\n",
      "[0.0 -0.4 -0.2 0.2; -0.3333333333333333 0.0 0.3333333333333333 -0.3333333333333333; -0.5 0.0 0.0 -0.25; -0.125 -0.125 -0.125 0.0]\n",
      "[0.2, -0.3333333333333333, 0.25, -0.375]\n",
      "Norma: 1.1102230246251565e-16\n"
     ]
    }
   ],
   "source": [
    "A = [5 2 1 -1 ; 1 3 -1 1 ; 2 0 4 1 ; 1 1 1 8]\n",
    "b = [1 ; -1 ; 1 ; -3]\n",
    "\n",
    "x = gauss_jacobi(A,b,300)\n",
    "println(\"Norma: \", norm(A*x-b))"
   ]
  },
  {
   "cell_type": "markdown",
   "metadata": {},
   "source": [
    "### c. Gauss-Seidel (Vinicius)"
   ]
  },
  {
   "cell_type": "code",
   "execution_count": 49,
   "metadata": {},
   "outputs": [
    {
     "data": {
      "text/plain": [
       "gauss_seidel (generic function with 1 method)"
      ]
     },
     "execution_count": 49,
     "metadata": {},
     "output_type": "execute_result"
    }
   ],
   "source": [
    "# nao esta funcionando bem\n",
    "function gauss_seidel(A,b,iteracoes)\n",
    "    M = UpperTriangular(A)\n",
    "    K = M-A\n",
    "    R = inv(M)*K\n",
    "    c = inv(M)*b\n",
    "    \n",
    "    #println(M)\n",
    "    #println(K)\n",
    "    #println(R)\n",
    "    #println(c)\n",
    "    \n",
    "    lin = length(b)\n",
    "    x = zeros(lin,1)\n",
    "    for i = 1:iteracoes\n",
    "        x = R*x + c\n",
    "    end\n",
    "    \n",
    "    return x\n",
    "end"
   ]
  },
  {
   "cell_type": "code",
   "execution_count": 18,
   "metadata": {},
   "outputs": [
    {
     "name": "stdout",
     "output_type": "stream",
     "text": [
      "[4 2 1; 0 5 1; 0 0 10]\n",
      "[0 0 0; -1 0 0; -3 -4 0]\n",
      "[0.14500000000000002 0.06 0.0; -0.14 0.08000000000000002 0.0; -0.30000000000000004 -0.4 0.0]\n",
      "[0.7949999999999998, 1.06, 1.7000000000000002]\n",
      "Norma: 8.881784197001252e-16\n"
     ]
    }
   ],
   "source": [
    "A = [4 2 1 ; 1 5 1 ; 3 4 10]\n",
    "b = [7 ; 7 ; 17]\n",
    "\n",
    "x = gauss_seidel(A,b,300)\n",
    "println(\"Norma: \", norm(A*x-b))"
   ]
  },
  {
   "cell_type": "code",
   "execution_count": 19,
   "metadata": {},
   "outputs": [
    {
     "name": "stdout",
     "output_type": "stream",
     "text": [
      "[5 2 1 -1; 0 3 -1 1; 0 0 4 1; 0 0 0 8]\n",
      "[0 0 0 0; -1 0 0 0; -2 0 0 0; -1 -1 -1 0]\n",
      "[0.24791666666666667 -0.05208333333333333 -0.05208333333333333 0.0; -0.4479166666666667 0.05208333333333333 0.05208333333333333 0.0; -0.46875 0.03125 0.03125 0.0; -0.125 -0.125 -0.125 0.0]\n",
      "[0.09375000000000006, -0.09375, 0.34375, -0.375]\n",
      "Norma: 2.220446049250313e-16\n"
     ]
    }
   ],
   "source": [
    "A = [5 2 1 -1 ; 1 3 -1 1 ; 2 0 4 1 ; 1 1 1 8]\n",
    "b = [1 ; -1 ; 1 ; -3]\n",
    "\n",
    "x = gauss_seidel(A,b,300)\n",
    "println(\"Norma: \", norm(A*x-b))"
   ]
  },
  {
   "cell_type": "markdown",
   "metadata": {},
   "source": [
    "## Questão 2. (Thierry)"
   ]
  },
  {
   "cell_type": "markdown",
   "metadata": {},
   "source": [
    "Equações:\n",
    "\n",
    "$$2x_1 + x_2 = 2$$\n",
    "$$-x_1 + 2x_2 = 2$$\n",
    "\n",
    "Logo,\n",
    "\n",
    "$$x_1 = 1 - \\frac{x_2}{2}$$\n",
    "$$x_1 = 2x_2 - 2$$\n",
    "\n",
    "E então,"
   ]
  },
  {
   "cell_type": "code",
   "execution_count": 172,
   "metadata": {},
   "outputs": [
    {
     "data": {
      "image/svg+xml": [
       "<?xml version=\"1.0\" encoding=\"utf-8\"?>\n",
       "<svg xmlns=\"http://www.w3.org/2000/svg\" xmlns:xlink=\"http://www.w3.org/1999/xlink\" width=\"600\" height=\"400\" viewBox=\"0 0 2400 1600\">\n",
       "<defs>\n",
       "  <clipPath id=\"clip410\">\n",
       "    <rect x=\"0\" y=\"0\" width=\"2400\" height=\"1600\"/>\n",
       "  </clipPath>\n",
       "</defs>\n",
       "<path clip-path=\"url(#clip410)\" d=\"\n",
       "M0 1600 L2400 1600 L2400 0 L0 0  Z\n",
       "  \" fill=\"#ffffff\" fill-rule=\"evenodd\" fill-opacity=\"1\"/>\n",
       "<defs>\n",
       "  <clipPath id=\"clip411\">\n",
       "    <rect x=\"480\" y=\"0\" width=\"1681\" height=\"1600\"/>\n",
       "  </clipPath>\n",
       "</defs>\n",
       "<path clip-path=\"url(#clip410)\" d=\"\n",
       "M174.862 1486.45 L2352.76 1486.45 L2352.76 47.2441 L174.862 47.2441  Z\n",
       "  \" fill=\"#ffffff\" fill-rule=\"evenodd\" fill-opacity=\"1\"/>\n",
       "<defs>\n",
       "  <clipPath id=\"clip412\">\n",
       "    <rect x=\"174\" y=\"47\" width=\"2179\" height=\"1440\"/>\n",
       "  </clipPath>\n",
       "</defs>\n",
       "<polyline clip-path=\"url(#clip412)\" style=\"stroke:#000000; stroke-width:2; stroke-opacity:0.1; fill:none\" points=\"\n",
       "  236.501,1486.45 236.501,47.2441 \n",
       "  \"/>\n",
       "<polyline clip-path=\"url(#clip412)\" style=\"stroke:#000000; stroke-width:2; stroke-opacity:0.1; fill:none\" points=\"\n",
       "  647.424,1486.45 647.424,47.2441 \n",
       "  \"/>\n",
       "<polyline clip-path=\"url(#clip412)\" style=\"stroke:#000000; stroke-width:2; stroke-opacity:0.1; fill:none\" points=\"\n",
       "  1058.35,1486.45 1058.35,47.2441 \n",
       "  \"/>\n",
       "<polyline clip-path=\"url(#clip412)\" style=\"stroke:#000000; stroke-width:2; stroke-opacity:0.1; fill:none\" points=\"\n",
       "  1469.27,1486.45 1469.27,47.2441 \n",
       "  \"/>\n",
       "<polyline clip-path=\"url(#clip412)\" style=\"stroke:#000000; stroke-width:2; stroke-opacity:0.1; fill:none\" points=\"\n",
       "  1880.19,1486.45 1880.19,47.2441 \n",
       "  \"/>\n",
       "<polyline clip-path=\"url(#clip412)\" style=\"stroke:#000000; stroke-width:2; stroke-opacity:0.1; fill:none\" points=\"\n",
       "  2291.12,1486.45 2291.12,47.2441 \n",
       "  \"/>\n",
       "<polyline clip-path=\"url(#clip410)\" style=\"stroke:#000000; stroke-width:4; stroke-opacity:1; fill:none\" points=\"\n",
       "  174.862,1486.45 2352.76,1486.45 \n",
       "  \"/>\n",
       "<polyline clip-path=\"url(#clip410)\" style=\"stroke:#000000; stroke-width:4; stroke-opacity:1; fill:none\" points=\"\n",
       "  236.501,1486.45 236.501,1469.18 \n",
       "  \"/>\n",
       "<polyline clip-path=\"url(#clip410)\" style=\"stroke:#000000; stroke-width:4; stroke-opacity:1; fill:none\" points=\"\n",
       "  647.424,1486.45 647.424,1469.18 \n",
       "  \"/>\n",
       "<polyline clip-path=\"url(#clip410)\" style=\"stroke:#000000; stroke-width:4; stroke-opacity:1; fill:none\" points=\"\n",
       "  1058.35,1486.45 1058.35,1469.18 \n",
       "  \"/>\n",
       "<polyline clip-path=\"url(#clip410)\" style=\"stroke:#000000; stroke-width:4; stroke-opacity:1; fill:none\" points=\"\n",
       "  1469.27,1486.45 1469.27,1469.18 \n",
       "  \"/>\n",
       "<polyline clip-path=\"url(#clip410)\" style=\"stroke:#000000; stroke-width:4; stroke-opacity:1; fill:none\" points=\"\n",
       "  1880.19,1486.45 1880.19,1469.18 \n",
       "  \"/>\n",
       "<polyline clip-path=\"url(#clip410)\" style=\"stroke:#000000; stroke-width:4; stroke-opacity:1; fill:none\" points=\"\n",
       "  2291.12,1486.45 2291.12,1469.18 \n",
       "  \"/>\n",
       "<path clip-path=\"url(#clip410)\" d=\"M 0 0 M208.399 1543.18 L216.038 1543.18 L216.038 1516.82 L207.728 1518.49 L207.728 1514.23 L215.991 1512.56 L220.667 1512.56 L220.667 1543.18 L228.306 1543.18 L228.306 1547.12 L208.399 1547.12 L208.399 1543.18 Z\" fill=\"#000000\" fill-rule=\"evenodd\" fill-opacity=\"1\" /><path clip-path=\"url(#clip410)\" d=\"M 0 0 M233.376 1541.24 L238.26 1541.24 L238.26 1547.12 L233.376 1547.12 L233.376 1541.24 Z\" fill=\"#000000\" fill-rule=\"evenodd\" fill-opacity=\"1\" /><path clip-path=\"url(#clip410)\" d=\"M 0 0 M253.329 1515.64 Q249.718 1515.64 247.889 1519.2 Q246.084 1522.75 246.084 1529.87 Q246.084 1536.98 247.889 1540.55 Q249.718 1544.09 253.329 1544.09 Q256.963 1544.09 258.769 1540.55 Q260.598 1536.98 260.598 1529.87 Q260.598 1522.75 258.769 1519.2 Q256.963 1515.64 253.329 1515.64 M253.329 1511.93 Q259.139 1511.93 262.195 1516.54 Q265.274 1521.12 265.274 1529.87 Q265.274 1538.6 262.195 1543.21 Q259.139 1547.79 253.329 1547.79 Q247.519 1547.79 244.44 1543.21 Q241.385 1538.6 241.385 1529.87 Q241.385 1521.12 244.44 1516.54 Q247.519 1511.93 253.329 1511.93 Z\" fill=\"#000000\" fill-rule=\"evenodd\" fill-opacity=\"1\" /><path clip-path=\"url(#clip410)\" d=\"M 0 0 M619.936 1543.18 L627.574 1543.18 L627.574 1516.82 L619.264 1518.49 L619.264 1514.23 L627.528 1512.56 L632.204 1512.56 L632.204 1543.18 L639.843 1543.18 L639.843 1547.12 L619.936 1547.12 L619.936 1543.18 Z\" fill=\"#000000\" fill-rule=\"evenodd\" fill-opacity=\"1\" /><path clip-path=\"url(#clip410)\" d=\"M 0 0 M644.912 1541.24 L649.797 1541.24 L649.797 1547.12 L644.912 1547.12 L644.912 1541.24 Z\" fill=\"#000000\" fill-rule=\"evenodd\" fill-opacity=\"1\" /><path clip-path=\"url(#clip410)\" d=\"M 0 0 M655.676 1543.18 L663.315 1543.18 L663.315 1516.82 L655.005 1518.49 L655.005 1514.23 L663.269 1512.56 L667.945 1512.56 L667.945 1543.18 L675.583 1543.18 L675.583 1547.12 L655.676 1547.12 L655.676 1543.18 Z\" fill=\"#000000\" fill-rule=\"evenodd\" fill-opacity=\"1\" /><path clip-path=\"url(#clip410)\" d=\"M 0 0 M1031.04 1543.18 L1038.68 1543.18 L1038.68 1516.82 L1030.37 1518.49 L1030.37 1514.23 L1038.64 1512.56 L1043.31 1512.56 L1043.31 1543.18 L1050.95 1543.18 L1050.95 1547.12 L1031.04 1547.12 L1031.04 1543.18 Z\" fill=\"#000000\" fill-rule=\"evenodd\" fill-opacity=\"1\" /><path clip-path=\"url(#clip410)\" d=\"M 0 0 M1056.02 1541.24 L1060.91 1541.24 L1060.91 1547.12 L1056.02 1547.12 L1056.02 1541.24 Z\" fill=\"#000000\" fill-rule=\"evenodd\" fill-opacity=\"1\" /><path clip-path=\"url(#clip410)\" d=\"M 0 0 M1070 1543.18 L1086.32 1543.18 L1086.32 1547.12 L1064.38 1547.12 L1064.38 1543.18 Q1067.04 1540.43 1071.62 1535.8 Q1076.23 1531.15 1077.41 1529.81 Q1079.66 1527.28 1080.53 1525.55 Q1081.44 1523.79 1081.44 1522.1 Q1081.44 1519.34 1079.49 1517.61 Q1077.57 1515.87 1074.47 1515.87 Q1072.27 1515.87 1069.82 1516.63 Q1067.39 1517.4 1064.61 1518.95 L1064.61 1514.23 Q1067.43 1513.09 1069.89 1512.51 Q1072.34 1511.93 1074.38 1511.93 Q1079.75 1511.93 1082.94 1514.62 Q1086.14 1517.31 1086.14 1521.8 Q1086.14 1523.93 1085.33 1525.85 Q1084.54 1527.74 1082.43 1530.34 Q1081.85 1531.01 1078.75 1534.23 Q1075.65 1537.42 1070 1543.18 Z\" fill=\"#000000\" fill-rule=\"evenodd\" fill-opacity=\"1\" /><path clip-path=\"url(#clip410)\" d=\"M 0 0 M1441.49 1543.18 L1449.13 1543.18 L1449.13 1516.82 L1440.82 1518.49 L1440.82 1514.23 L1449.09 1512.56 L1453.76 1512.56 L1453.76 1543.18 L1461.4 1543.18 L1461.4 1547.12 L1441.49 1547.12 L1441.49 1543.18 Z\" fill=\"#000000\" fill-rule=\"evenodd\" fill-opacity=\"1\" /><path clip-path=\"url(#clip410)\" d=\"M 0 0 M1466.47 1541.24 L1471.35 1541.24 L1471.35 1547.12 L1466.47 1547.12 L1466.47 1541.24 Z\" fill=\"#000000\" fill-rule=\"evenodd\" fill-opacity=\"1\" /><path clip-path=\"url(#clip410)\" d=\"M 0 0 M1490.59 1528.49 Q1493.95 1529.2 1495.82 1531.47 Q1497.72 1533.74 1497.72 1537.07 Q1497.72 1542.19 1494.2 1544.99 Q1490.68 1547.79 1484.2 1547.79 Q1482.03 1547.79 1479.71 1547.35 Q1477.42 1546.93 1474.97 1546.08 L1474.97 1541.56 Q1476.91 1542.7 1479.22 1543.28 Q1481.54 1543.86 1484.06 1543.86 Q1488.46 1543.86 1490.75 1542.12 Q1493.07 1540.38 1493.07 1537.07 Q1493.07 1534.02 1490.91 1532.31 Q1488.78 1530.57 1484.97 1530.57 L1480.94 1530.57 L1480.94 1526.73 L1485.15 1526.73 Q1488.6 1526.73 1490.43 1525.36 Q1492.26 1523.97 1492.26 1521.38 Q1492.26 1518.72 1490.36 1517.31 Q1488.48 1515.87 1484.97 1515.87 Q1483.04 1515.87 1480.84 1516.29 Q1478.65 1516.7 1476.01 1517.58 L1476.01 1513.42 Q1478.67 1512.68 1480.98 1512.31 Q1483.32 1511.93 1485.38 1511.93 Q1490.71 1511.93 1493.81 1514.37 Q1496.91 1516.77 1496.91 1520.89 Q1496.91 1523.76 1495.27 1525.75 Q1493.62 1527.72 1490.59 1528.49 Z\" fill=\"#000000\" fill-rule=\"evenodd\" fill-opacity=\"1\" /><path clip-path=\"url(#clip410)\" d=\"M 0 0 M1851.85 1543.18 L1859.49 1543.18 L1859.49 1516.82 L1851.18 1518.49 L1851.18 1514.23 L1859.44 1512.56 L1864.12 1512.56 L1864.12 1543.18 L1871.76 1543.18 L1871.76 1547.12 L1851.85 1547.12 L1851.85 1543.18 Z\" fill=\"#000000\" fill-rule=\"evenodd\" fill-opacity=\"1\" /><path clip-path=\"url(#clip410)\" d=\"M 0 0 M1876.83 1541.24 L1881.71 1541.24 L1881.71 1547.12 L1876.83 1547.12 L1876.83 1541.24 Z\" fill=\"#000000\" fill-rule=\"evenodd\" fill-opacity=\"1\" /><path clip-path=\"url(#clip410)\" d=\"M 0 0 M1899.63 1516.63 L1887.82 1535.08 L1899.63 1535.08 L1899.63 1516.63 M1898.4 1512.56 L1904.28 1512.56 L1904.28 1535.08 L1909.21 1535.08 L1909.21 1538.97 L1904.28 1538.97 L1904.28 1547.12 L1899.63 1547.12 L1899.63 1538.97 L1884.03 1538.97 L1884.03 1534.46 L1898.4 1512.56 Z\" fill=\"#000000\" fill-rule=\"evenodd\" fill-opacity=\"1\" /><path clip-path=\"url(#clip410)\" d=\"M 0 0 M2263.51 1543.18 L2271.15 1543.18 L2271.15 1516.82 L2262.84 1518.49 L2262.84 1514.23 L2271.11 1512.56 L2275.78 1512.56 L2275.78 1543.18 L2283.42 1543.18 L2283.42 1547.12 L2263.51 1547.12 L2263.51 1543.18 Z\" fill=\"#000000\" fill-rule=\"evenodd\" fill-opacity=\"1\" /><path clip-path=\"url(#clip410)\" d=\"M 0 0 M2288.49 1541.24 L2293.37 1541.24 L2293.37 1547.12 L2288.49 1547.12 L2288.49 1541.24 Z\" fill=\"#000000\" fill-rule=\"evenodd\" fill-opacity=\"1\" /><path clip-path=\"url(#clip410)\" d=\"M 0 0 M2298.49 1512.56 L2316.85 1512.56 L2316.85 1516.5 L2302.77 1516.5 L2302.77 1524.97 Q2303.79 1524.62 2304.81 1524.46 Q2305.83 1524.27 2306.85 1524.27 Q2312.63 1524.27 2316.01 1527.44 Q2319.39 1530.62 2319.39 1536.03 Q2319.39 1541.61 2315.92 1544.71 Q2312.45 1547.79 2306.13 1547.79 Q2303.95 1547.79 2301.68 1547.42 Q2299.44 1547.05 2297.03 1546.31 L2297.03 1541.61 Q2299.12 1542.74 2301.34 1543.3 Q2303.56 1543.86 2306.04 1543.86 Q2310.04 1543.86 2312.38 1541.75 Q2314.72 1539.64 2314.72 1536.03 Q2314.72 1532.42 2312.38 1530.31 Q2310.04 1528.21 2306.04 1528.21 Q2304.16 1528.21 2302.29 1528.62 Q2300.43 1529.04 2298.49 1529.92 L2298.49 1512.56 Z\" fill=\"#000000\" fill-rule=\"evenodd\" fill-opacity=\"1\" /><polyline clip-path=\"url(#clip412)\" style=\"stroke:#000000; stroke-width:2; stroke-opacity:0.1; fill:none\" points=\"\n",
       "  174.862,1445.72 2352.76,1445.72 \n",
       "  \"/>\n",
       "<polyline clip-path=\"url(#clip412)\" style=\"stroke:#000000; stroke-width:2; stroke-opacity:0.1; fill:none\" points=\"\n",
       "  174.862,1106.28 2352.76,1106.28 \n",
       "  \"/>\n",
       "<polyline clip-path=\"url(#clip412)\" style=\"stroke:#000000; stroke-width:2; stroke-opacity:0.1; fill:none\" points=\"\n",
       "  174.862,766.846 2352.76,766.846 \n",
       "  \"/>\n",
       "<polyline clip-path=\"url(#clip412)\" style=\"stroke:#000000; stroke-width:2; stroke-opacity:0.1; fill:none\" points=\"\n",
       "  174.862,427.411 2352.76,427.411 \n",
       "  \"/>\n",
       "<polyline clip-path=\"url(#clip412)\" style=\"stroke:#000000; stroke-width:2; stroke-opacity:0.1; fill:none\" points=\"\n",
       "  174.862,87.9763 2352.76,87.9763 \n",
       "  \"/>\n",
       "<polyline clip-path=\"url(#clip410)\" style=\"stroke:#000000; stroke-width:4; stroke-opacity:1; fill:none\" points=\"\n",
       "  174.862,1486.45 174.862,47.2441 \n",
       "  \"/>\n",
       "<polyline clip-path=\"url(#clip410)\" style=\"stroke:#000000; stroke-width:4; stroke-opacity:1; fill:none\" points=\"\n",
       "  174.862,1445.72 200.997,1445.72 \n",
       "  \"/>\n",
       "<polyline clip-path=\"url(#clip410)\" style=\"stroke:#000000; stroke-width:4; stroke-opacity:1; fill:none\" points=\"\n",
       "  174.862,1106.28 200.997,1106.28 \n",
       "  \"/>\n",
       "<polyline clip-path=\"url(#clip410)\" style=\"stroke:#000000; stroke-width:4; stroke-opacity:1; fill:none\" points=\"\n",
       "  174.862,766.846 200.997,766.846 \n",
       "  \"/>\n",
       "<polyline clip-path=\"url(#clip410)\" style=\"stroke:#000000; stroke-width:4; stroke-opacity:1; fill:none\" points=\"\n",
       "  174.862,427.411 200.997,427.411 \n",
       "  \"/>\n",
       "<polyline clip-path=\"url(#clip410)\" style=\"stroke:#000000; stroke-width:4; stroke-opacity:1; fill:none\" points=\"\n",
       "  174.862,87.9763 200.997,87.9763 \n",
       "  \"/>\n",
       "<path clip-path=\"url(#clip410)\" d=\"M 0 0 M62.9365 1431.51 Q59.3254 1431.51 57.4967 1435.08 Q55.6912 1438.62 55.6912 1445.75 Q55.6912 1452.86 57.4967 1456.42 Q59.3254 1459.96 62.9365 1459.96 Q66.5707 1459.96 68.3763 1456.42 Q70.205 1452.86 70.205 1445.75 Q70.205 1438.62 68.3763 1435.08 Q66.5707 1431.51 62.9365 1431.51 M62.9365 1427.81 Q68.7467 1427.81 71.8022 1432.42 Q74.8809 1437 74.8809 1445.75 Q74.8809 1454.48 71.8022 1459.08 Q68.7467 1463.67 62.9365 1463.67 Q57.1264 1463.67 54.0477 1459.08 Q50.9921 1454.48 50.9921 1445.75 Q50.9921 1437 54.0477 1432.42 Q57.1264 1427.81 62.9365 1427.81 Z\" fill=\"#000000\" fill-rule=\"evenodd\" fill-opacity=\"1\" /><path clip-path=\"url(#clip410)\" d=\"M 0 0 M79.9503 1457.12 L84.8345 1457.12 L84.8345 1463 L79.9503 1463 L79.9503 1457.12 Z\" fill=\"#000000\" fill-rule=\"evenodd\" fill-opacity=\"1\" /><path clip-path=\"url(#clip410)\" d=\"M 0 0 M99.9039 1431.51 Q96.2928 1431.51 94.4641 1435.08 Q92.6586 1438.62 92.6586 1445.75 Q92.6586 1452.86 94.4641 1456.42 Q96.2928 1459.96 99.9039 1459.96 Q103.538 1459.96 105.344 1456.42 Q107.172 1452.86 107.172 1445.75 Q107.172 1438.62 105.344 1435.08 Q103.538 1431.51 99.9039 1431.51 M99.9039 1427.81 Q105.714 1427.81 108.77 1432.42 Q111.848 1437 111.848 1445.75 Q111.848 1454.48 108.77 1459.08 Q105.714 1463.67 99.9039 1463.67 Q94.0937 1463.67 91.0151 1459.08 Q87.9595 1454.48 87.9595 1445.75 Q87.9595 1437 91.0151 1432.42 Q94.0937 1427.81 99.9039 1427.81 Z\" fill=\"#000000\" fill-rule=\"evenodd\" fill-opacity=\"1\" /><path clip-path=\"url(#clip410)\" d=\"M 0 0 M126.918 1431.51 Q123.307 1431.51 121.478 1435.08 Q119.672 1438.62 119.672 1445.75 Q119.672 1452.86 121.478 1456.42 Q123.307 1459.96 126.918 1459.96 Q130.552 1459.96 132.357 1456.42 Q134.186 1452.86 134.186 1445.75 Q134.186 1438.62 132.357 1435.08 Q130.552 1431.51 126.918 1431.51 M126.918 1427.81 Q132.728 1427.81 135.783 1432.42 Q138.862 1437 138.862 1445.75 Q138.862 1454.48 135.783 1459.08 Q132.728 1463.67 126.918 1463.67 Q121.107 1463.67 118.029 1459.08 Q114.973 1454.48 114.973 1445.75 Q114.973 1437 118.029 1432.42 Q121.107 1427.81 126.918 1427.81 Z\" fill=\"#000000\" fill-rule=\"evenodd\" fill-opacity=\"1\" /><path clip-path=\"url(#clip410)\" d=\"M 0 0 M65.5291 1092.08 Q61.918 1092.08 60.0893 1095.64 Q58.2838 1099.19 58.2838 1106.32 Q58.2838 1113.42 60.0893 1116.99 Q61.918 1120.53 65.5291 1120.53 Q69.1633 1120.53 70.9689 1116.99 Q72.7976 1113.42 72.7976 1106.32 Q72.7976 1099.19 70.9689 1095.64 Q69.1633 1092.08 65.5291 1092.08 M65.5291 1088.38 Q71.3392 1088.38 74.3948 1092.98 Q77.4735 1097.57 77.4735 1106.32 Q77.4735 1115.04 74.3948 1119.65 Q71.3392 1124.23 65.5291 1124.23 Q59.7189 1124.23 56.6402 1119.65 Q53.5847 1115.04 53.5847 1106.32 Q53.5847 1097.57 56.6402 1092.98 Q59.7189 1088.38 65.5291 1088.38 Z\" fill=\"#000000\" fill-rule=\"evenodd\" fill-opacity=\"1\" /><path clip-path=\"url(#clip410)\" d=\"M 0 0 M82.5429 1117.68 L87.4271 1117.68 L87.4271 1123.56 L82.5429 1123.56 L82.5429 1117.68 Z\" fill=\"#000000\" fill-rule=\"evenodd\" fill-opacity=\"1\" /><path clip-path=\"url(#clip410)\" d=\"M 0 0 M96.5243 1119.63 L112.844 1119.63 L112.844 1123.56 L90.8993 1123.56 L90.8993 1119.63 Q93.5613 1116.87 98.1447 1112.24 Q102.751 1107.59 103.932 1106.25 Q106.177 1103.72 107.057 1101.99 Q107.959 1100.23 107.959 1098.54 Q107.959 1095.78 106.015 1094.05 Q104.094 1092.31 100.992 1092.31 Q98.7928 1092.31 96.3391 1093.07 Q93.9086 1093.84 91.1308 1095.39 L91.1308 1090.67 Q93.9549 1089.53 96.4085 1088.95 Q98.8622 1088.38 100.899 1088.38 Q106.27 1088.38 109.464 1091.06 Q112.658 1093.75 112.658 1098.24 Q112.658 1100.37 111.848 1102.29 Q111.061 1104.19 108.955 1106.78 Q108.376 1107.45 105.274 1110.67 Q102.172 1113.86 96.5243 1119.63 Z\" fill=\"#000000\" fill-rule=\"evenodd\" fill-opacity=\"1\" /><path clip-path=\"url(#clip410)\" d=\"M 0 0 M117.959 1089 L136.316 1089 L136.316 1092.94 L122.242 1092.94 L122.242 1101.41 Q123.26 1101.06 124.279 1100.9 Q125.297 1100.71 126.316 1100.71 Q132.103 1100.71 135.482 1103.89 Q138.862 1107.06 138.862 1112.47 Q138.862 1118.05 135.39 1121.15 Q131.918 1124.23 125.598 1124.23 Q123.422 1124.23 121.154 1123.86 Q118.908 1123.49 116.501 1122.75 L116.501 1118.05 Q118.584 1119.19 120.807 1119.74 Q123.029 1120.3 125.506 1120.3 Q129.51 1120.3 131.848 1118.19 Q134.186 1116.08 134.186 1112.47 Q134.186 1108.86 131.848 1106.76 Q129.51 1104.65 125.506 1104.65 Q123.631 1104.65 121.756 1105.07 Q119.904 1105.48 117.959 1106.36 L117.959 1089 Z\" fill=\"#000000\" fill-rule=\"evenodd\" fill-opacity=\"1\" /><path clip-path=\"url(#clip410)\" d=\"M 0 0 M63.9319 752.645 Q60.3208 752.645 58.4921 756.209 Q56.6865 759.751 56.6865 766.881 Q56.6865 773.987 58.4921 777.552 Q60.3208 781.094 63.9319 781.094 Q67.5661 781.094 69.3717 777.552 Q71.2004 773.987 71.2004 766.881 Q71.2004 759.751 69.3717 756.209 Q67.5661 752.645 63.9319 752.645 M63.9319 748.941 Q69.742 748.941 72.7976 753.547 Q75.8763 758.131 75.8763 766.881 Q75.8763 775.608 72.7976 780.214 Q69.742 784.797 63.9319 784.797 Q58.1217 784.797 55.043 780.214 Q51.9875 775.608 51.9875 766.881 Q51.9875 758.131 55.043 753.547 Q58.1217 748.941 63.9319 748.941 Z\" fill=\"#000000\" fill-rule=\"evenodd\" fill-opacity=\"1\" /><path clip-path=\"url(#clip410)\" d=\"M 0 0 M80.9457 778.246 L85.8299 778.246 L85.8299 784.126 L80.9457 784.126 L80.9457 778.246 Z\" fill=\"#000000\" fill-rule=\"evenodd\" fill-opacity=\"1\" /><path clip-path=\"url(#clip410)\" d=\"M 0 0 M90.9456 749.566 L109.302 749.566 L109.302 753.501 L95.228 753.501 L95.228 761.973 Q96.2465 761.626 97.265 761.464 Q98.2835 761.279 99.3021 761.279 Q105.089 761.279 108.469 764.45 Q111.848 767.621 111.848 773.038 Q111.848 778.617 108.376 781.719 Q104.904 784.797 98.5845 784.797 Q96.4085 784.797 94.14 784.427 Q91.8947 784.057 89.4873 783.316 L89.4873 778.617 Q91.5706 779.751 93.7928 780.307 Q96.015 780.862 98.4919 780.862 Q102.496 780.862 104.834 778.756 Q107.172 776.649 107.172 773.038 Q107.172 769.427 104.834 767.321 Q102.496 765.214 98.4919 765.214 Q96.6169 765.214 94.7419 765.631 Q92.89 766.047 90.9456 766.927 L90.9456 749.566 Z\" fill=\"#000000\" fill-rule=\"evenodd\" fill-opacity=\"1\" /><path clip-path=\"url(#clip410)\" d=\"M 0 0 M126.918 752.645 Q123.307 752.645 121.478 756.209 Q119.672 759.751 119.672 766.881 Q119.672 773.987 121.478 777.552 Q123.307 781.094 126.918 781.094 Q130.552 781.094 132.357 777.552 Q134.186 773.987 134.186 766.881 Q134.186 759.751 132.357 756.209 Q130.552 752.645 126.918 752.645 M126.918 748.941 Q132.728 748.941 135.783 753.547 Q138.862 758.131 138.862 766.881 Q138.862 775.608 135.783 780.214 Q132.728 784.797 126.918 784.797 Q121.107 784.797 118.029 780.214 Q114.973 775.608 114.973 766.881 Q114.973 758.131 118.029 753.547 Q121.107 748.941 126.918 748.941 Z\" fill=\"#000000\" fill-rule=\"evenodd\" fill-opacity=\"1\" /><path clip-path=\"url(#clip410)\" d=\"M 0 0 M64.8346 413.21 Q61.2236 413.21 59.3949 416.775 Q57.5893 420.316 57.5893 427.446 Q57.5893 434.552 59.3949 438.117 Q61.2236 441.659 64.8346 441.659 Q68.4689 441.659 70.2744 438.117 Q72.1031 434.552 72.1031 427.446 Q72.1031 420.316 70.2744 416.775 Q68.4689 413.21 64.8346 413.21 M64.8346 409.506 Q70.6448 409.506 73.7003 414.113 Q76.779 418.696 76.779 427.446 Q76.779 436.173 73.7003 440.779 Q70.6448 445.362 64.8346 445.362 Q59.0245 445.362 55.9458 440.779 Q52.8903 436.173 52.8903 427.446 Q52.8903 418.696 55.9458 414.113 Q59.0245 409.506 64.8346 409.506 Z\" fill=\"#000000\" fill-rule=\"evenodd\" fill-opacity=\"1\" /><path clip-path=\"url(#clip410)\" d=\"M 0 0 M81.8484 438.812 L86.7327 438.812 L86.7327 444.691 L81.8484 444.691 L81.8484 438.812 Z\" fill=\"#000000\" fill-rule=\"evenodd\" fill-opacity=\"1\" /><path clip-path=\"url(#clip410)\" d=\"M 0 0 M90.6215 410.131 L112.844 410.131 L112.844 412.122 L100.297 444.691 L95.4132 444.691 L107.219 414.066 L90.6215 414.066 L90.6215 410.131 Z\" fill=\"#000000\" fill-rule=\"evenodd\" fill-opacity=\"1\" /><path clip-path=\"url(#clip410)\" d=\"M 0 0 M117.959 410.131 L136.316 410.131 L136.316 414.066 L122.242 414.066 L122.242 422.538 Q123.26 422.191 124.279 422.029 Q125.297 421.844 126.316 421.844 Q132.103 421.844 135.482 425.015 Q138.862 428.187 138.862 433.603 Q138.862 439.182 135.39 442.284 Q131.918 445.362 125.598 445.362 Q123.422 445.362 121.154 444.992 Q118.908 444.622 116.501 443.881 L116.501 439.182 Q118.584 440.316 120.807 440.872 Q123.029 441.427 125.506 441.427 Q129.51 441.427 131.848 439.321 Q134.186 437.214 134.186 433.603 Q134.186 429.992 131.848 427.886 Q129.51 425.779 125.506 425.779 Q123.631 425.779 121.756 426.196 Q119.904 426.613 117.959 427.492 L117.959 410.131 Z\" fill=\"#000000\" fill-rule=\"evenodd\" fill-opacity=\"1\" /><path clip-path=\"url(#clip410)\" d=\"M 0 0 M54.9736 101.321 L62.6124 101.321 L62.6124 74.9555 L54.3023 76.6222 L54.3023 72.3629 L62.5661 70.6963 L67.242 70.6963 L67.242 101.321 L74.8809 101.321 L74.8809 105.256 L54.9736 105.256 L54.9736 101.321 Z\" fill=\"#000000\" fill-rule=\"evenodd\" fill-opacity=\"1\" /><path clip-path=\"url(#clip410)\" d=\"M 0 0 M79.9503 99.3767 L84.8345 99.3767 L84.8345 105.256 L79.9503 105.256 L79.9503 99.3767 Z\" fill=\"#000000\" fill-rule=\"evenodd\" fill-opacity=\"1\" /><path clip-path=\"url(#clip410)\" d=\"M 0 0 M99.9039 73.775 Q96.2928 73.775 94.4641 77.3398 Q92.6586 80.8814 92.6586 88.011 Q92.6586 95.1174 94.4641 98.6822 Q96.2928 102.224 99.9039 102.224 Q103.538 102.224 105.344 98.6822 Q107.172 95.1174 107.172 88.011 Q107.172 80.8814 105.344 77.3398 Q103.538 73.775 99.9039 73.775 M99.9039 70.0713 Q105.714 70.0713 108.77 74.6777 Q111.848 79.261 111.848 88.011 Q111.848 96.7378 108.77 101.344 Q105.714 105.928 99.9039 105.928 Q94.0937 105.928 91.0151 101.344 Q87.9595 96.7378 87.9595 88.011 Q87.9595 79.261 91.0151 74.6777 Q94.0937 70.0713 99.9039 70.0713 Z\" fill=\"#000000\" fill-rule=\"evenodd\" fill-opacity=\"1\" /><path clip-path=\"url(#clip410)\" d=\"M 0 0 M126.918 73.775 Q123.307 73.775 121.478 77.3398 Q119.672 80.8814 119.672 88.011 Q119.672 95.1174 121.478 98.6822 Q123.307 102.224 126.918 102.224 Q130.552 102.224 132.357 98.6822 Q134.186 95.1174 134.186 88.011 Q134.186 80.8814 132.357 77.3398 Q130.552 73.775 126.918 73.775 M126.918 70.0713 Q132.728 70.0713 135.783 74.6777 Q138.862 79.261 138.862 88.011 Q138.862 96.7378 135.783 101.344 Q132.728 105.928 126.918 105.928 Q121.107 105.928 118.029 101.344 Q114.973 96.7378 114.973 88.011 Q114.973 79.261 118.029 74.6777 Q121.107 70.0713 126.918 70.0713 Z\" fill=\"#000000\" fill-rule=\"evenodd\" fill-opacity=\"1\" /><polyline clip-path=\"url(#clip412)\" style=\"stroke:#009af9; stroke-width:4; stroke-opacity:1; fill:none\" points=\"\n",
       "  236.501,766.846 256.566,770.161 442.096,800.812 553.591,819.231 647.86,834.805 750.262,851.722 844.667,867.319 945.879,884.04 1063.14,903.412 1167.36,920.629 \n",
       "  1258.74,935.726 1358.37,952.186 1458.6,968.743 1569.41,987.05 1674.84,1004.47 1784.47,1022.58 1876.75,1037.83 1989.42,1056.44 2095.33,1073.94 2265,1101.97 \n",
       "  2291.12,1106.28 \n",
       "  \"/>\n",
       "<polyline clip-path=\"url(#clip412)\" style=\"stroke:#e26f46; stroke-width:4; stroke-opacity:1; fill:none\" points=\"\n",
       "  236.501,1445.72 256.566,1432.46 442.096,1309.85 553.591,1236.17 647.86,1173.88 750.262,1106.21 844.667,1043.82 945.879,976.941 1063.14,899.45 1167.36,830.585 \n",
       "  1258.74,770.196 1358.37,704.357 1458.6,638.126 1569.41,564.899 1674.84,495.226 1784.47,422.781 1876.75,361.799 1989.42,287.346 2095.33,217.358 2265,105.232 \n",
       "  2291.12,87.9763 \n",
       "  \"/>\n",
       "<path clip-path=\"url(#clip410)\" d=\"\n",
       "M1987.15 276.658 L2280.16 276.658 L2280.16 95.2176 L1987.15 95.2176  Z\n",
       "  \" fill=\"#ffffff\" fill-rule=\"evenodd\" fill-opacity=\"1\"/>\n",
       "<polyline clip-path=\"url(#clip410)\" style=\"stroke:#000000; stroke-width:4; stroke-opacity:1; fill:none\" points=\"\n",
       "  1987.15,276.658 2280.16,276.658 2280.16,95.2176 1987.15,95.2176 1987.15,276.658 \n",
       "  \"/>\n",
       "<polyline clip-path=\"url(#clip410)\" style=\"stroke:#009af9; stroke-width:4; stroke-opacity:1; fill:none\" points=\"\n",
       "  2011.35,155.698 2156.54,155.698 \n",
       "  \"/>\n",
       "<path clip-path=\"url(#clip410)\" d=\"M 0 0 M2194.59 175.385 Q2192.78 180.015 2191.07 181.427 Q2189.35 182.839 2186.48 182.839 L2183.08 182.839 L2183.08 179.274 L2185.58 179.274 Q2187.34 179.274 2188.31 178.44 Q2189.29 177.607 2190.47 174.505 L2191.23 172.561 L2180.74 147.052 L2185.26 147.052 L2193.36 167.329 L2201.46 147.052 L2205.97 147.052 L2194.59 175.385 Z\" fill=\"#000000\" fill-rule=\"evenodd\" fill-opacity=\"1\" /><path clip-path=\"url(#clip410)\" d=\"M 0 0 M2211.85 169.042 L2219.49 169.042 L2219.49 142.677 L2211.18 144.343 L2211.18 140.084 L2219.45 138.418 L2224.12 138.418 L2224.12 169.042 L2231.76 169.042 L2231.76 172.978 L2211.85 172.978 L2211.85 169.042 Z\" fill=\"#000000\" fill-rule=\"evenodd\" fill-opacity=\"1\" /><polyline clip-path=\"url(#clip410)\" style=\"stroke:#e26f46; stroke-width:4; stroke-opacity:1; fill:none\" points=\"\n",
       "  2011.35,216.178 2156.54,216.178 \n",
       "  \"/>\n",
       "<path clip-path=\"url(#clip410)\" d=\"M 0 0 M2194.59 235.865 Q2192.78 240.495 2191.07 241.907 Q2189.35 243.319 2186.48 243.319 L2183.08 243.319 L2183.08 239.754 L2185.58 239.754 Q2187.34 239.754 2188.31 238.92 Q2189.29 238.087 2190.47 234.985 L2191.23 233.041 L2180.74 207.532 L2185.26 207.532 L2193.36 227.809 L2201.46 207.532 L2205.97 207.532 L2194.59 235.865 Z\" fill=\"#000000\" fill-rule=\"evenodd\" fill-opacity=\"1\" /><path clip-path=\"url(#clip410)\" d=\"M 0 0 M2215.07 229.522 L2231.39 229.522 L2231.39 233.458 L2209.45 233.458 L2209.45 229.522 Q2212.11 226.768 2216.69 222.138 Q2221.3 217.485 2222.48 216.143 Q2224.72 213.62 2225.6 211.884 Q2226.51 210.124 2226.51 208.435 Q2226.51 205.68 2224.56 203.944 Q2222.64 202.208 2219.54 202.208 Q2217.34 202.208 2214.89 202.972 Q2212.46 203.735 2209.68 205.286 L2209.68 200.564 Q2212.5 199.43 2214.96 198.851 Q2217.41 198.273 2219.45 198.273 Q2224.82 198.273 2228.01 200.958 Q2231.21 203.643 2231.21 208.134 Q2231.21 210.263 2230.4 212.185 Q2229.61 214.083 2227.5 216.675 Q2226.92 217.347 2223.82 220.564 Q2220.72 223.759 2215.07 229.522 Z\" fill=\"#000000\" fill-rule=\"evenodd\" fill-opacity=\"1\" /></svg>\n"
      ]
     },
     "execution_count": 172,
     "metadata": {},
     "output_type": "execute_result"
    }
   ],
   "source": [
    "f(x) = 1 - x/2\n",
    "g(x) = 2x - 2\n",
    "\n",
    "P = plot([f,g], 1, 1.5)"
   ]
  },
  {
   "cell_type": "code",
   "execution_count": 173,
   "metadata": {},
   "outputs": [
    {
     "name": "stdout",
     "output_type": "stream",
     "text": [
      "[1.0; 1.0]\n",
      "[0.5; 1.5]\n",
      "[0.25; 1.25]\n",
      "[0.375; 1.125]\n",
      "[0.4375; 1.1875]\n",
      "[0.40625; 1.21875]\n",
      "[0.390625; 1.203125]\n",
      "[0.3984375; 1.1953125]\n",
      "[0.40234375; 1.19921875]\n",
      "[0.400390625; 1.201171875]\n",
      "[0.3994140625; 1.2001953125]\n",
      "[0.39990234375; 1.19970703125]\n",
      "\n",
      "Tolerância: 0.0006905339660024879\n",
      "Tolerância: 0.0006905339660024879"
     ]
    }
   ],
   "source": [
    "A = [2 1; -1 2]\n",
    "b = [2; 2]\n",
    "\n",
    "array_x = []\n",
    "array_y = []\n",
    "iterador = 1\n",
    "x_anterior = randn(2)\n",
    "x_atual = randn(2)\n",
    "\n",
    "while (norm(x_atual - x_anterior) >= 1e-3)\n",
    "    x_anterior = x_atual\n",
    "    x_atual = gauss_jacobi(A, b, iterador)\n",
    "    push!(array_x, x_atual[2])\n",
    "    push!(array_y, x_atual[1])\n",
    "    print(x_atual, \"\\n\")\n",
    "    iterador += 1\n",
    "end\n",
    "\n",
    "print(\"\\n\", \"Tolerância: \", norm(A*x_atual - b), \"\\n\")\n",
    "print(\"Tolerância: \", norm(x_atual - x_anterior))"
   ]
  },
  {
   "cell_type": "code",
   "execution_count": 175,
   "metadata": {},
   "outputs": [
    {
     "data": {
      "image/svg+xml": [
       "<?xml version=\"1.0\" encoding=\"utf-8\"?>\n",
       "<svg xmlns=\"http://www.w3.org/2000/svg\" xmlns:xlink=\"http://www.w3.org/1999/xlink\" width=\"600\" height=\"400\" viewBox=\"0 0 2400 1600\">\n",
       "<defs>\n",
       "  <clipPath id=\"clip490\">\n",
       "    <rect x=\"0\" y=\"0\" width=\"2400\" height=\"1600\"/>\n",
       "  </clipPath>\n",
       "</defs>\n",
       "<path clip-path=\"url(#clip490)\" d=\"\n",
       "M0 1600 L2400 1600 L2400 0 L0 0  Z\n",
       "  \" fill=\"#ffffff\" fill-rule=\"evenodd\" fill-opacity=\"1\"/>\n",
       "<defs>\n",
       "  <clipPath id=\"clip491\">\n",
       "    <rect x=\"480\" y=\"0\" width=\"1681\" height=\"1600\"/>\n",
       "  </clipPath>\n",
       "</defs>\n",
       "<path clip-path=\"url(#clip490)\" d=\"\n",
       "M174.862 1486.45 L2352.76 1486.45 L2352.76 47.2441 L174.862 47.2441  Z\n",
       "  \" fill=\"#ffffff\" fill-rule=\"evenodd\" fill-opacity=\"1\"/>\n",
       "<defs>\n",
       "  <clipPath id=\"clip492\">\n",
       "    <rect x=\"174\" y=\"47\" width=\"2179\" height=\"1440\"/>\n",
       "  </clipPath>\n",
       "</defs>\n",
       "<polyline clip-path=\"url(#clip492)\" style=\"stroke:#000000; stroke-width:2; stroke-opacity:0.1; fill:none\" points=\"\n",
       "  236.501,1486.45 236.501,47.2441 \n",
       "  \"/>\n",
       "<polyline clip-path=\"url(#clip492)\" style=\"stroke:#000000; stroke-width:2; stroke-opacity:0.1; fill:none\" points=\"\n",
       "  647.424,1486.45 647.424,47.2441 \n",
       "  \"/>\n",
       "<polyline clip-path=\"url(#clip492)\" style=\"stroke:#000000; stroke-width:2; stroke-opacity:0.1; fill:none\" points=\"\n",
       "  1058.35,1486.45 1058.35,47.2441 \n",
       "  \"/>\n",
       "<polyline clip-path=\"url(#clip492)\" style=\"stroke:#000000; stroke-width:2; stroke-opacity:0.1; fill:none\" points=\"\n",
       "  1469.27,1486.45 1469.27,47.2441 \n",
       "  \"/>\n",
       "<polyline clip-path=\"url(#clip492)\" style=\"stroke:#000000; stroke-width:2; stroke-opacity:0.1; fill:none\" points=\"\n",
       "  1880.19,1486.45 1880.19,47.2441 \n",
       "  \"/>\n",
       "<polyline clip-path=\"url(#clip492)\" style=\"stroke:#000000; stroke-width:2; stroke-opacity:0.1; fill:none\" points=\"\n",
       "  2291.12,1486.45 2291.12,47.2441 \n",
       "  \"/>\n",
       "<polyline clip-path=\"url(#clip490)\" style=\"stroke:#000000; stroke-width:4; stroke-opacity:1; fill:none\" points=\"\n",
       "  174.862,1486.45 2352.76,1486.45 \n",
       "  \"/>\n",
       "<polyline clip-path=\"url(#clip490)\" style=\"stroke:#000000; stroke-width:4; stroke-opacity:1; fill:none\" points=\"\n",
       "  236.501,1486.45 236.501,1469.18 \n",
       "  \"/>\n",
       "<polyline clip-path=\"url(#clip490)\" style=\"stroke:#000000; stroke-width:4; stroke-opacity:1; fill:none\" points=\"\n",
       "  647.424,1486.45 647.424,1469.18 \n",
       "  \"/>\n",
       "<polyline clip-path=\"url(#clip490)\" style=\"stroke:#000000; stroke-width:4; stroke-opacity:1; fill:none\" points=\"\n",
       "  1058.35,1486.45 1058.35,1469.18 \n",
       "  \"/>\n",
       "<polyline clip-path=\"url(#clip490)\" style=\"stroke:#000000; stroke-width:4; stroke-opacity:1; fill:none\" points=\"\n",
       "  1469.27,1486.45 1469.27,1469.18 \n",
       "  \"/>\n",
       "<polyline clip-path=\"url(#clip490)\" style=\"stroke:#000000; stroke-width:4; stroke-opacity:1; fill:none\" points=\"\n",
       "  1880.19,1486.45 1880.19,1469.18 \n",
       "  \"/>\n",
       "<polyline clip-path=\"url(#clip490)\" style=\"stroke:#000000; stroke-width:4; stroke-opacity:1; fill:none\" points=\"\n",
       "  2291.12,1486.45 2291.12,1469.18 \n",
       "  \"/>\n",
       "<path clip-path=\"url(#clip490)\" d=\"M 0 0 M208.399 1543.18 L216.038 1543.18 L216.038 1516.82 L207.728 1518.49 L207.728 1514.23 L215.991 1512.56 L220.667 1512.56 L220.667 1543.18 L228.306 1543.18 L228.306 1547.12 L208.399 1547.12 L208.399 1543.18 Z\" fill=\"#000000\" fill-rule=\"evenodd\" fill-opacity=\"1\" /><path clip-path=\"url(#clip490)\" d=\"M 0 0 M233.376 1541.24 L238.26 1541.24 L238.26 1547.12 L233.376 1547.12 L233.376 1541.24 Z\" fill=\"#000000\" fill-rule=\"evenodd\" fill-opacity=\"1\" /><path clip-path=\"url(#clip490)\" d=\"M 0 0 M253.329 1515.64 Q249.718 1515.64 247.889 1519.2 Q246.084 1522.75 246.084 1529.87 Q246.084 1536.98 247.889 1540.55 Q249.718 1544.09 253.329 1544.09 Q256.963 1544.09 258.769 1540.55 Q260.598 1536.98 260.598 1529.87 Q260.598 1522.75 258.769 1519.2 Q256.963 1515.64 253.329 1515.64 M253.329 1511.93 Q259.139 1511.93 262.195 1516.54 Q265.274 1521.12 265.274 1529.87 Q265.274 1538.6 262.195 1543.21 Q259.139 1547.79 253.329 1547.79 Q247.519 1547.79 244.44 1543.21 Q241.385 1538.6 241.385 1529.87 Q241.385 1521.12 244.44 1516.54 Q247.519 1511.93 253.329 1511.93 Z\" fill=\"#000000\" fill-rule=\"evenodd\" fill-opacity=\"1\" /><path clip-path=\"url(#clip490)\" d=\"M 0 0 M619.936 1543.18 L627.574 1543.18 L627.574 1516.82 L619.264 1518.49 L619.264 1514.23 L627.528 1512.56 L632.204 1512.56 L632.204 1543.18 L639.843 1543.18 L639.843 1547.12 L619.936 1547.12 L619.936 1543.18 Z\" fill=\"#000000\" fill-rule=\"evenodd\" fill-opacity=\"1\" /><path clip-path=\"url(#clip490)\" d=\"M 0 0 M644.912 1541.24 L649.797 1541.24 L649.797 1547.12 L644.912 1547.12 L644.912 1541.24 Z\" fill=\"#000000\" fill-rule=\"evenodd\" fill-opacity=\"1\" /><path clip-path=\"url(#clip490)\" d=\"M 0 0 M655.676 1543.18 L663.315 1543.18 L663.315 1516.82 L655.005 1518.49 L655.005 1514.23 L663.269 1512.56 L667.945 1512.56 L667.945 1543.18 L675.583 1543.18 L675.583 1547.12 L655.676 1547.12 L655.676 1543.18 Z\" fill=\"#000000\" fill-rule=\"evenodd\" fill-opacity=\"1\" /><path clip-path=\"url(#clip490)\" d=\"M 0 0 M1031.04 1543.18 L1038.68 1543.18 L1038.68 1516.82 L1030.37 1518.49 L1030.37 1514.23 L1038.64 1512.56 L1043.31 1512.56 L1043.31 1543.18 L1050.95 1543.18 L1050.95 1547.12 L1031.04 1547.12 L1031.04 1543.18 Z\" fill=\"#000000\" fill-rule=\"evenodd\" fill-opacity=\"1\" /><path clip-path=\"url(#clip490)\" d=\"M 0 0 M1056.02 1541.24 L1060.91 1541.24 L1060.91 1547.12 L1056.02 1547.12 L1056.02 1541.24 Z\" fill=\"#000000\" fill-rule=\"evenodd\" fill-opacity=\"1\" /><path clip-path=\"url(#clip490)\" d=\"M 0 0 M1070 1543.18 L1086.32 1543.18 L1086.32 1547.12 L1064.38 1547.12 L1064.38 1543.18 Q1067.04 1540.43 1071.62 1535.8 Q1076.23 1531.15 1077.41 1529.81 Q1079.66 1527.28 1080.53 1525.55 Q1081.44 1523.79 1081.44 1522.1 Q1081.44 1519.34 1079.49 1517.61 Q1077.57 1515.87 1074.47 1515.87 Q1072.27 1515.87 1069.82 1516.63 Q1067.39 1517.4 1064.61 1518.95 L1064.61 1514.23 Q1067.43 1513.09 1069.89 1512.51 Q1072.34 1511.93 1074.38 1511.93 Q1079.75 1511.93 1082.94 1514.62 Q1086.14 1517.31 1086.14 1521.8 Q1086.14 1523.93 1085.33 1525.85 Q1084.54 1527.74 1082.43 1530.34 Q1081.85 1531.01 1078.75 1534.23 Q1075.65 1537.42 1070 1543.18 Z\" fill=\"#000000\" fill-rule=\"evenodd\" fill-opacity=\"1\" /><path clip-path=\"url(#clip490)\" d=\"M 0 0 M1441.49 1543.18 L1449.13 1543.18 L1449.13 1516.82 L1440.82 1518.49 L1440.82 1514.23 L1449.09 1512.56 L1453.76 1512.56 L1453.76 1543.18 L1461.4 1543.18 L1461.4 1547.12 L1441.49 1547.12 L1441.49 1543.18 Z\" fill=\"#000000\" fill-rule=\"evenodd\" fill-opacity=\"1\" /><path clip-path=\"url(#clip490)\" d=\"M 0 0 M1466.47 1541.24 L1471.35 1541.24 L1471.35 1547.12 L1466.47 1547.12 L1466.47 1541.24 Z\" fill=\"#000000\" fill-rule=\"evenodd\" fill-opacity=\"1\" /><path clip-path=\"url(#clip490)\" d=\"M 0 0 M1490.59 1528.49 Q1493.95 1529.2 1495.82 1531.47 Q1497.72 1533.74 1497.72 1537.07 Q1497.72 1542.19 1494.2 1544.99 Q1490.68 1547.79 1484.2 1547.79 Q1482.03 1547.79 1479.71 1547.35 Q1477.42 1546.93 1474.97 1546.08 L1474.97 1541.56 Q1476.91 1542.7 1479.22 1543.28 Q1481.54 1543.86 1484.06 1543.86 Q1488.46 1543.86 1490.75 1542.12 Q1493.07 1540.38 1493.07 1537.07 Q1493.07 1534.02 1490.91 1532.31 Q1488.78 1530.57 1484.97 1530.57 L1480.94 1530.57 L1480.94 1526.73 L1485.15 1526.73 Q1488.6 1526.73 1490.43 1525.36 Q1492.26 1523.97 1492.26 1521.38 Q1492.26 1518.72 1490.36 1517.31 Q1488.48 1515.87 1484.97 1515.87 Q1483.04 1515.87 1480.84 1516.29 Q1478.65 1516.7 1476.01 1517.58 L1476.01 1513.42 Q1478.67 1512.68 1480.98 1512.31 Q1483.32 1511.93 1485.38 1511.93 Q1490.71 1511.93 1493.81 1514.37 Q1496.91 1516.77 1496.91 1520.89 Q1496.91 1523.76 1495.27 1525.75 Q1493.62 1527.72 1490.59 1528.49 Z\" fill=\"#000000\" fill-rule=\"evenodd\" fill-opacity=\"1\" /><path clip-path=\"url(#clip490)\" d=\"M 0 0 M1851.85 1543.18 L1859.49 1543.18 L1859.49 1516.82 L1851.18 1518.49 L1851.18 1514.23 L1859.44 1512.56 L1864.12 1512.56 L1864.12 1543.18 L1871.76 1543.18 L1871.76 1547.12 L1851.85 1547.12 L1851.85 1543.18 Z\" fill=\"#000000\" fill-rule=\"evenodd\" fill-opacity=\"1\" /><path clip-path=\"url(#clip490)\" d=\"M 0 0 M1876.83 1541.24 L1881.71 1541.24 L1881.71 1547.12 L1876.83 1547.12 L1876.83 1541.24 Z\" fill=\"#000000\" fill-rule=\"evenodd\" fill-opacity=\"1\" /><path clip-path=\"url(#clip490)\" d=\"M 0 0 M1899.63 1516.63 L1887.82 1535.08 L1899.63 1535.08 L1899.63 1516.63 M1898.4 1512.56 L1904.28 1512.56 L1904.28 1535.08 L1909.21 1535.08 L1909.21 1538.97 L1904.28 1538.97 L1904.28 1547.12 L1899.63 1547.12 L1899.63 1538.97 L1884.03 1538.97 L1884.03 1534.46 L1898.4 1512.56 Z\" fill=\"#000000\" fill-rule=\"evenodd\" fill-opacity=\"1\" /><path clip-path=\"url(#clip490)\" d=\"M 0 0 M2263.51 1543.18 L2271.15 1543.18 L2271.15 1516.82 L2262.84 1518.49 L2262.84 1514.23 L2271.11 1512.56 L2275.78 1512.56 L2275.78 1543.18 L2283.42 1543.18 L2283.42 1547.12 L2263.51 1547.12 L2263.51 1543.18 Z\" fill=\"#000000\" fill-rule=\"evenodd\" fill-opacity=\"1\" /><path clip-path=\"url(#clip490)\" d=\"M 0 0 M2288.49 1541.24 L2293.37 1541.24 L2293.37 1547.12 L2288.49 1547.12 L2288.49 1541.24 Z\" fill=\"#000000\" fill-rule=\"evenodd\" fill-opacity=\"1\" /><path clip-path=\"url(#clip490)\" d=\"M 0 0 M2298.49 1512.56 L2316.85 1512.56 L2316.85 1516.5 L2302.77 1516.5 L2302.77 1524.97 Q2303.79 1524.62 2304.81 1524.46 Q2305.83 1524.27 2306.85 1524.27 Q2312.63 1524.27 2316.01 1527.44 Q2319.39 1530.62 2319.39 1536.03 Q2319.39 1541.61 2315.92 1544.71 Q2312.45 1547.79 2306.13 1547.79 Q2303.95 1547.79 2301.68 1547.42 Q2299.44 1547.05 2297.03 1546.31 L2297.03 1541.61 Q2299.12 1542.74 2301.34 1543.3 Q2303.56 1543.86 2306.04 1543.86 Q2310.04 1543.86 2312.38 1541.75 Q2314.72 1539.64 2314.72 1536.03 Q2314.72 1532.42 2312.38 1530.31 Q2310.04 1528.21 2306.04 1528.21 Q2304.16 1528.21 2302.29 1528.62 Q2300.43 1529.04 2298.49 1529.92 L2298.49 1512.56 Z\" fill=\"#000000\" fill-rule=\"evenodd\" fill-opacity=\"1\" /><polyline clip-path=\"url(#clip492)\" style=\"stroke:#000000; stroke-width:2; stroke-opacity:0.1; fill:none\" points=\"\n",
       "  174.862,1445.72 2352.76,1445.72 \n",
       "  \"/>\n",
       "<polyline clip-path=\"url(#clip492)\" style=\"stroke:#000000; stroke-width:2; stroke-opacity:0.1; fill:none\" points=\"\n",
       "  174.862,1106.28 2352.76,1106.28 \n",
       "  \"/>\n",
       "<polyline clip-path=\"url(#clip492)\" style=\"stroke:#000000; stroke-width:2; stroke-opacity:0.1; fill:none\" points=\"\n",
       "  174.862,766.846 2352.76,766.846 \n",
       "  \"/>\n",
       "<polyline clip-path=\"url(#clip492)\" style=\"stroke:#000000; stroke-width:2; stroke-opacity:0.1; fill:none\" points=\"\n",
       "  174.862,427.411 2352.76,427.411 \n",
       "  \"/>\n",
       "<polyline clip-path=\"url(#clip492)\" style=\"stroke:#000000; stroke-width:2; stroke-opacity:0.1; fill:none\" points=\"\n",
       "  174.862,87.9763 2352.76,87.9763 \n",
       "  \"/>\n",
       "<polyline clip-path=\"url(#clip490)\" style=\"stroke:#000000; stroke-width:4; stroke-opacity:1; fill:none\" points=\"\n",
       "  174.862,1486.45 174.862,47.2441 \n",
       "  \"/>\n",
       "<polyline clip-path=\"url(#clip490)\" style=\"stroke:#000000; stroke-width:4; stroke-opacity:1; fill:none\" points=\"\n",
       "  174.862,1445.72 200.997,1445.72 \n",
       "  \"/>\n",
       "<polyline clip-path=\"url(#clip490)\" style=\"stroke:#000000; stroke-width:4; stroke-opacity:1; fill:none\" points=\"\n",
       "  174.862,1106.28 200.997,1106.28 \n",
       "  \"/>\n",
       "<polyline clip-path=\"url(#clip490)\" style=\"stroke:#000000; stroke-width:4; stroke-opacity:1; fill:none\" points=\"\n",
       "  174.862,766.846 200.997,766.846 \n",
       "  \"/>\n",
       "<polyline clip-path=\"url(#clip490)\" style=\"stroke:#000000; stroke-width:4; stroke-opacity:1; fill:none\" points=\"\n",
       "  174.862,427.411 200.997,427.411 \n",
       "  \"/>\n",
       "<polyline clip-path=\"url(#clip490)\" style=\"stroke:#000000; stroke-width:4; stroke-opacity:1; fill:none\" points=\"\n",
       "  174.862,87.9763 200.997,87.9763 \n",
       "  \"/>\n",
       "<path clip-path=\"url(#clip490)\" d=\"M 0 0 M62.9365 1431.51 Q59.3254 1431.51 57.4967 1435.08 Q55.6912 1438.62 55.6912 1445.75 Q55.6912 1452.86 57.4967 1456.42 Q59.3254 1459.96 62.9365 1459.96 Q66.5707 1459.96 68.3763 1456.42 Q70.205 1452.86 70.205 1445.75 Q70.205 1438.62 68.3763 1435.08 Q66.5707 1431.51 62.9365 1431.51 M62.9365 1427.81 Q68.7467 1427.81 71.8022 1432.42 Q74.8809 1437 74.8809 1445.75 Q74.8809 1454.48 71.8022 1459.08 Q68.7467 1463.67 62.9365 1463.67 Q57.1264 1463.67 54.0477 1459.08 Q50.9921 1454.48 50.9921 1445.75 Q50.9921 1437 54.0477 1432.42 Q57.1264 1427.81 62.9365 1427.81 Z\" fill=\"#000000\" fill-rule=\"evenodd\" fill-opacity=\"1\" /><path clip-path=\"url(#clip490)\" d=\"M 0 0 M79.9503 1457.12 L84.8345 1457.12 L84.8345 1463 L79.9503 1463 L79.9503 1457.12 Z\" fill=\"#000000\" fill-rule=\"evenodd\" fill-opacity=\"1\" /><path clip-path=\"url(#clip490)\" d=\"M 0 0 M99.9039 1431.51 Q96.2928 1431.51 94.4641 1435.08 Q92.6586 1438.62 92.6586 1445.75 Q92.6586 1452.86 94.4641 1456.42 Q96.2928 1459.96 99.9039 1459.96 Q103.538 1459.96 105.344 1456.42 Q107.172 1452.86 107.172 1445.75 Q107.172 1438.62 105.344 1435.08 Q103.538 1431.51 99.9039 1431.51 M99.9039 1427.81 Q105.714 1427.81 108.77 1432.42 Q111.848 1437 111.848 1445.75 Q111.848 1454.48 108.77 1459.08 Q105.714 1463.67 99.9039 1463.67 Q94.0937 1463.67 91.0151 1459.08 Q87.9595 1454.48 87.9595 1445.75 Q87.9595 1437 91.0151 1432.42 Q94.0937 1427.81 99.9039 1427.81 Z\" fill=\"#000000\" fill-rule=\"evenodd\" fill-opacity=\"1\" /><path clip-path=\"url(#clip490)\" d=\"M 0 0 M126.918 1431.51 Q123.307 1431.51 121.478 1435.08 Q119.672 1438.62 119.672 1445.75 Q119.672 1452.86 121.478 1456.42 Q123.307 1459.96 126.918 1459.96 Q130.552 1459.96 132.357 1456.42 Q134.186 1452.86 134.186 1445.75 Q134.186 1438.62 132.357 1435.08 Q130.552 1431.51 126.918 1431.51 M126.918 1427.81 Q132.728 1427.81 135.783 1432.42 Q138.862 1437 138.862 1445.75 Q138.862 1454.48 135.783 1459.08 Q132.728 1463.67 126.918 1463.67 Q121.107 1463.67 118.029 1459.08 Q114.973 1454.48 114.973 1445.75 Q114.973 1437 118.029 1432.42 Q121.107 1427.81 126.918 1427.81 Z\" fill=\"#000000\" fill-rule=\"evenodd\" fill-opacity=\"1\" /><path clip-path=\"url(#clip490)\" d=\"M 0 0 M65.5291 1092.08 Q61.918 1092.08 60.0893 1095.64 Q58.2838 1099.19 58.2838 1106.32 Q58.2838 1113.42 60.0893 1116.99 Q61.918 1120.53 65.5291 1120.53 Q69.1633 1120.53 70.9689 1116.99 Q72.7976 1113.42 72.7976 1106.32 Q72.7976 1099.19 70.9689 1095.64 Q69.1633 1092.08 65.5291 1092.08 M65.5291 1088.38 Q71.3392 1088.38 74.3948 1092.98 Q77.4735 1097.57 77.4735 1106.32 Q77.4735 1115.04 74.3948 1119.65 Q71.3392 1124.23 65.5291 1124.23 Q59.7189 1124.23 56.6402 1119.65 Q53.5847 1115.04 53.5847 1106.32 Q53.5847 1097.57 56.6402 1092.98 Q59.7189 1088.38 65.5291 1088.38 Z\" fill=\"#000000\" fill-rule=\"evenodd\" fill-opacity=\"1\" /><path clip-path=\"url(#clip490)\" d=\"M 0 0 M82.5429 1117.68 L87.4271 1117.68 L87.4271 1123.56 L82.5429 1123.56 L82.5429 1117.68 Z\" fill=\"#000000\" fill-rule=\"evenodd\" fill-opacity=\"1\" /><path clip-path=\"url(#clip490)\" d=\"M 0 0 M96.5243 1119.63 L112.844 1119.63 L112.844 1123.56 L90.8993 1123.56 L90.8993 1119.63 Q93.5613 1116.87 98.1447 1112.24 Q102.751 1107.59 103.932 1106.25 Q106.177 1103.72 107.057 1101.99 Q107.959 1100.23 107.959 1098.54 Q107.959 1095.78 106.015 1094.05 Q104.094 1092.31 100.992 1092.31 Q98.7928 1092.31 96.3391 1093.07 Q93.9086 1093.84 91.1308 1095.39 L91.1308 1090.67 Q93.9549 1089.53 96.4085 1088.95 Q98.8622 1088.38 100.899 1088.38 Q106.27 1088.38 109.464 1091.06 Q112.658 1093.75 112.658 1098.24 Q112.658 1100.37 111.848 1102.29 Q111.061 1104.19 108.955 1106.78 Q108.376 1107.45 105.274 1110.67 Q102.172 1113.86 96.5243 1119.63 Z\" fill=\"#000000\" fill-rule=\"evenodd\" fill-opacity=\"1\" /><path clip-path=\"url(#clip490)\" d=\"M 0 0 M117.959 1089 L136.316 1089 L136.316 1092.94 L122.242 1092.94 L122.242 1101.41 Q123.26 1101.06 124.279 1100.9 Q125.297 1100.71 126.316 1100.71 Q132.103 1100.71 135.482 1103.89 Q138.862 1107.06 138.862 1112.47 Q138.862 1118.05 135.39 1121.15 Q131.918 1124.23 125.598 1124.23 Q123.422 1124.23 121.154 1123.86 Q118.908 1123.49 116.501 1122.75 L116.501 1118.05 Q118.584 1119.19 120.807 1119.74 Q123.029 1120.3 125.506 1120.3 Q129.51 1120.3 131.848 1118.19 Q134.186 1116.08 134.186 1112.47 Q134.186 1108.86 131.848 1106.76 Q129.51 1104.65 125.506 1104.65 Q123.631 1104.65 121.756 1105.07 Q119.904 1105.48 117.959 1106.36 L117.959 1089 Z\" fill=\"#000000\" fill-rule=\"evenodd\" fill-opacity=\"1\" /><path clip-path=\"url(#clip490)\" d=\"M 0 0 M63.9319 752.645 Q60.3208 752.645 58.4921 756.209 Q56.6865 759.751 56.6865 766.881 Q56.6865 773.987 58.4921 777.552 Q60.3208 781.094 63.9319 781.094 Q67.5661 781.094 69.3717 777.552 Q71.2004 773.987 71.2004 766.881 Q71.2004 759.751 69.3717 756.209 Q67.5661 752.645 63.9319 752.645 M63.9319 748.941 Q69.742 748.941 72.7976 753.547 Q75.8763 758.131 75.8763 766.881 Q75.8763 775.608 72.7976 780.214 Q69.742 784.797 63.9319 784.797 Q58.1217 784.797 55.043 780.214 Q51.9875 775.608 51.9875 766.881 Q51.9875 758.131 55.043 753.547 Q58.1217 748.941 63.9319 748.941 Z\" fill=\"#000000\" fill-rule=\"evenodd\" fill-opacity=\"1\" /><path clip-path=\"url(#clip490)\" d=\"M 0 0 M80.9457 778.246 L85.8299 778.246 L85.8299 784.126 L80.9457 784.126 L80.9457 778.246 Z\" fill=\"#000000\" fill-rule=\"evenodd\" fill-opacity=\"1\" /><path clip-path=\"url(#clip490)\" d=\"M 0 0 M90.9456 749.566 L109.302 749.566 L109.302 753.501 L95.228 753.501 L95.228 761.973 Q96.2465 761.626 97.265 761.464 Q98.2835 761.279 99.3021 761.279 Q105.089 761.279 108.469 764.45 Q111.848 767.621 111.848 773.038 Q111.848 778.617 108.376 781.719 Q104.904 784.797 98.5845 784.797 Q96.4085 784.797 94.14 784.427 Q91.8947 784.057 89.4873 783.316 L89.4873 778.617 Q91.5706 779.751 93.7928 780.307 Q96.015 780.862 98.4919 780.862 Q102.496 780.862 104.834 778.756 Q107.172 776.649 107.172 773.038 Q107.172 769.427 104.834 767.321 Q102.496 765.214 98.4919 765.214 Q96.6169 765.214 94.7419 765.631 Q92.89 766.047 90.9456 766.927 L90.9456 749.566 Z\" fill=\"#000000\" fill-rule=\"evenodd\" fill-opacity=\"1\" /><path clip-path=\"url(#clip490)\" d=\"M 0 0 M126.918 752.645 Q123.307 752.645 121.478 756.209 Q119.672 759.751 119.672 766.881 Q119.672 773.987 121.478 777.552 Q123.307 781.094 126.918 781.094 Q130.552 781.094 132.357 777.552 Q134.186 773.987 134.186 766.881 Q134.186 759.751 132.357 756.209 Q130.552 752.645 126.918 752.645 M126.918 748.941 Q132.728 748.941 135.783 753.547 Q138.862 758.131 138.862 766.881 Q138.862 775.608 135.783 780.214 Q132.728 784.797 126.918 784.797 Q121.107 784.797 118.029 780.214 Q114.973 775.608 114.973 766.881 Q114.973 758.131 118.029 753.547 Q121.107 748.941 126.918 748.941 Z\" fill=\"#000000\" fill-rule=\"evenodd\" fill-opacity=\"1\" /><path clip-path=\"url(#clip490)\" d=\"M 0 0 M64.8346 413.21 Q61.2236 413.21 59.3949 416.775 Q57.5893 420.316 57.5893 427.446 Q57.5893 434.552 59.3949 438.117 Q61.2236 441.659 64.8346 441.659 Q68.4689 441.659 70.2744 438.117 Q72.1031 434.552 72.1031 427.446 Q72.1031 420.316 70.2744 416.775 Q68.4689 413.21 64.8346 413.21 M64.8346 409.506 Q70.6448 409.506 73.7003 414.113 Q76.779 418.696 76.779 427.446 Q76.779 436.173 73.7003 440.779 Q70.6448 445.362 64.8346 445.362 Q59.0245 445.362 55.9458 440.779 Q52.8903 436.173 52.8903 427.446 Q52.8903 418.696 55.9458 414.113 Q59.0245 409.506 64.8346 409.506 Z\" fill=\"#000000\" fill-rule=\"evenodd\" fill-opacity=\"1\" /><path clip-path=\"url(#clip490)\" d=\"M 0 0 M81.8484 438.812 L86.7327 438.812 L86.7327 444.691 L81.8484 444.691 L81.8484 438.812 Z\" fill=\"#000000\" fill-rule=\"evenodd\" fill-opacity=\"1\" /><path clip-path=\"url(#clip490)\" d=\"M 0 0 M90.6215 410.131 L112.844 410.131 L112.844 412.122 L100.297 444.691 L95.4132 444.691 L107.219 414.066 L90.6215 414.066 L90.6215 410.131 Z\" fill=\"#000000\" fill-rule=\"evenodd\" fill-opacity=\"1\" /><path clip-path=\"url(#clip490)\" d=\"M 0 0 M117.959 410.131 L136.316 410.131 L136.316 414.066 L122.242 414.066 L122.242 422.538 Q123.26 422.191 124.279 422.029 Q125.297 421.844 126.316 421.844 Q132.103 421.844 135.482 425.015 Q138.862 428.187 138.862 433.603 Q138.862 439.182 135.39 442.284 Q131.918 445.362 125.598 445.362 Q123.422 445.362 121.154 444.992 Q118.908 444.622 116.501 443.881 L116.501 439.182 Q118.584 440.316 120.807 440.872 Q123.029 441.427 125.506 441.427 Q129.51 441.427 131.848 439.321 Q134.186 437.214 134.186 433.603 Q134.186 429.992 131.848 427.886 Q129.51 425.779 125.506 425.779 Q123.631 425.779 121.756 426.196 Q119.904 426.613 117.959 427.492 L117.959 410.131 Z\" fill=\"#000000\" fill-rule=\"evenodd\" fill-opacity=\"1\" /><path clip-path=\"url(#clip490)\" d=\"M 0 0 M54.9736 101.321 L62.6124 101.321 L62.6124 74.9555 L54.3023 76.6222 L54.3023 72.3629 L62.5661 70.6963 L67.242 70.6963 L67.242 101.321 L74.8809 101.321 L74.8809 105.256 L54.9736 105.256 L54.9736 101.321 Z\" fill=\"#000000\" fill-rule=\"evenodd\" fill-opacity=\"1\" /><path clip-path=\"url(#clip490)\" d=\"M 0 0 M79.9503 99.3767 L84.8345 99.3767 L84.8345 105.256 L79.9503 105.256 L79.9503 99.3767 Z\" fill=\"#000000\" fill-rule=\"evenodd\" fill-opacity=\"1\" /><path clip-path=\"url(#clip490)\" d=\"M 0 0 M99.9039 73.775 Q96.2928 73.775 94.4641 77.3398 Q92.6586 80.8814 92.6586 88.011 Q92.6586 95.1174 94.4641 98.6822 Q96.2928 102.224 99.9039 102.224 Q103.538 102.224 105.344 98.6822 Q107.172 95.1174 107.172 88.011 Q107.172 80.8814 105.344 77.3398 Q103.538 73.775 99.9039 73.775 M99.9039 70.0713 Q105.714 70.0713 108.77 74.6777 Q111.848 79.261 111.848 88.011 Q111.848 96.7378 108.77 101.344 Q105.714 105.928 99.9039 105.928 Q94.0937 105.928 91.0151 101.344 Q87.9595 96.7378 87.9595 88.011 Q87.9595 79.261 91.0151 74.6777 Q94.0937 70.0713 99.9039 70.0713 Z\" fill=\"#000000\" fill-rule=\"evenodd\" fill-opacity=\"1\" /><path clip-path=\"url(#clip490)\" d=\"M 0 0 M126.918 73.775 Q123.307 73.775 121.478 77.3398 Q119.672 80.8814 119.672 88.011 Q119.672 95.1174 121.478 98.6822 Q123.307 102.224 126.918 102.224 Q130.552 102.224 132.357 98.6822 Q134.186 95.1174 134.186 88.011 Q134.186 80.8814 132.357 77.3398 Q130.552 73.775 126.918 73.775 M126.918 70.0713 Q132.728 70.0713 135.783 74.6777 Q138.862 79.261 138.862 88.011 Q138.862 96.7378 135.783 101.344 Q132.728 105.928 126.918 105.928 Q121.107 105.928 118.029 101.344 Q114.973 96.7378 114.973 88.011 Q114.973 79.261 118.029 74.6777 Q121.107 70.0713 126.918 70.0713 Z\" fill=\"#000000\" fill-rule=\"evenodd\" fill-opacity=\"1\" /><polyline clip-path=\"url(#clip492)\" style=\"stroke:#009af9; stroke-width:4; stroke-opacity:1; fill:none\" points=\"\n",
       "  236.501,766.846 256.566,770.161 442.096,800.812 553.591,819.231 647.86,834.805 750.262,851.722 844.667,867.319 945.879,884.04 1063.14,903.412 1167.36,920.629 \n",
       "  1258.74,935.726 1358.37,952.186 1458.6,968.743 1569.41,987.05 1674.84,1004.47 1784.47,1022.58 1876.75,1037.83 1989.42,1056.44 2095.33,1073.94 2265,1101.97 \n",
       "  2291.12,1106.28 \n",
       "  \"/>\n",
       "<polyline clip-path=\"url(#clip492)\" style=\"stroke:#e26f46; stroke-width:4; stroke-opacity:1; fill:none\" points=\"\n",
       "  236.501,1445.72 256.566,1432.46 442.096,1309.85 553.591,1236.17 647.86,1173.88 750.262,1106.21 844.667,1043.82 945.879,976.941 1063.14,899.45 1167.36,830.585 \n",
       "  1258.74,770.196 1358.37,704.357 1458.6,638.126 1569.41,564.899 1674.84,495.226 1784.47,422.781 1876.75,361.799 1989.42,287.346 2095.33,217.358 2265,105.232 \n",
       "  2291.12,87.9763 \n",
       "  \"/>\n",
       "<circle clip-path=\"url(#clip492)\" cx=\"236.501\" cy=\"87.9763\" r=\"14\" fill=\"#3da44d\" fill-rule=\"evenodd\" fill-opacity=\"0.5\" stroke=\"#000000\" stroke-opacity=\"0.5\" stroke-width=\"3.2\"/>\n",
       "<circle clip-path=\"url(#clip492)\" cx=\"2291.12\" cy=\"766.846\" r=\"14\" fill=\"#3da44d\" fill-rule=\"evenodd\" fill-opacity=\"0.5\" stroke=\"#000000\" stroke-opacity=\"0.5\" stroke-width=\"3.2\"/>\n",
       "<circle clip-path=\"url(#clip492)\" cx=\"1263.81\" cy=\"1106.28\" r=\"14\" fill=\"#3da44d\" fill-rule=\"evenodd\" fill-opacity=\"0.5\" stroke=\"#000000\" stroke-opacity=\"0.5\" stroke-width=\"3.2\"/>\n",
       "<circle clip-path=\"url(#clip492)\" cx=\"750.155\" cy=\"936.563\" r=\"14\" fill=\"#3da44d\" fill-rule=\"evenodd\" fill-opacity=\"0.5\" stroke=\"#000000\" stroke-opacity=\"0.5\" stroke-width=\"3.2\"/>\n",
       "<circle clip-path=\"url(#clip492)\" cx=\"1006.98\" cy=\"851.705\" r=\"14\" fill=\"#3da44d\" fill-rule=\"evenodd\" fill-opacity=\"0.5\" stroke=\"#000000\" stroke-opacity=\"0.5\" stroke-width=\"3.2\"/>\n",
       "<circle clip-path=\"url(#clip492)\" cx=\"1135.4\" cy=\"894.134\" r=\"14\" fill=\"#3da44d\" fill-rule=\"evenodd\" fill-opacity=\"0.5\" stroke=\"#000000\" stroke-opacity=\"0.5\" stroke-width=\"3.2\"/>\n",
       "<circle clip-path=\"url(#clip492)\" cx=\"1071.19\" cy=\"915.349\" r=\"14\" fill=\"#3da44d\" fill-rule=\"evenodd\" fill-opacity=\"0.5\" stroke=\"#000000\" stroke-opacity=\"0.5\" stroke-width=\"3.2\"/>\n",
       "<circle clip-path=\"url(#clip492)\" cx=\"1039.09\" cy=\"904.741\" r=\"14\" fill=\"#3da44d\" fill-rule=\"evenodd\" fill-opacity=\"0.5\" stroke=\"#000000\" stroke-opacity=\"0.5\" stroke-width=\"3.2\"/>\n",
       "<circle clip-path=\"url(#clip492)\" cx=\"1055.14\" cy=\"899.438\" r=\"14\" fill=\"#3da44d\" fill-rule=\"evenodd\" fill-opacity=\"0.5\" stroke=\"#000000\" stroke-opacity=\"0.5\" stroke-width=\"3.2\"/>\n",
       "<circle clip-path=\"url(#clip492)\" cx=\"1063.16\" cy=\"902.09\" r=\"14\" fill=\"#3da44d\" fill-rule=\"evenodd\" fill-opacity=\"0.5\" stroke=\"#000000\" stroke-opacity=\"0.5\" stroke-width=\"3.2\"/>\n",
       "<circle clip-path=\"url(#clip492)\" cx=\"1059.15\" cy=\"903.415\" r=\"14\" fill=\"#3da44d\" fill-rule=\"evenodd\" fill-opacity=\"0.5\" stroke=\"#000000\" stroke-opacity=\"0.5\" stroke-width=\"3.2\"/>\n",
       "<circle clip-path=\"url(#clip492)\" cx=\"1057.14\" cy=\"902.753\" r=\"14\" fill=\"#3da44d\" fill-rule=\"evenodd\" fill-opacity=\"0.5\" stroke=\"#000000\" stroke-opacity=\"0.5\" stroke-width=\"3.2\"/>\n",
       "<circle clip-path=\"url(#clip492)\" cx=\"236.501\" cy=\"87.9763\" r=\"14\" fill=\"#c271d2\" fill-rule=\"evenodd\" fill-opacity=\"0.5\" stroke=\"#000000\" stroke-opacity=\"0.5\" stroke-width=\"3.2\"/>\n",
       "<circle clip-path=\"url(#clip492)\" cx=\"2291.12\" cy=\"766.846\" r=\"14\" fill=\"#c271d2\" fill-rule=\"evenodd\" fill-opacity=\"0.5\" stroke=\"#000000\" stroke-opacity=\"0.5\" stroke-width=\"3.2\"/>\n",
       "<circle clip-path=\"url(#clip492)\" cx=\"1263.81\" cy=\"1106.28\" r=\"14\" fill=\"#c271d2\" fill-rule=\"evenodd\" fill-opacity=\"0.5\" stroke=\"#000000\" stroke-opacity=\"0.5\" stroke-width=\"3.2\"/>\n",
       "<circle clip-path=\"url(#clip492)\" cx=\"750.155\" cy=\"936.563\" r=\"14\" fill=\"#c271d2\" fill-rule=\"evenodd\" fill-opacity=\"0.5\" stroke=\"#000000\" stroke-opacity=\"0.5\" stroke-width=\"3.2\"/>\n",
       "<circle clip-path=\"url(#clip492)\" cx=\"1006.98\" cy=\"851.705\" r=\"14\" fill=\"#c271d2\" fill-rule=\"evenodd\" fill-opacity=\"0.5\" stroke=\"#000000\" stroke-opacity=\"0.5\" stroke-width=\"3.2\"/>\n",
       "<circle clip-path=\"url(#clip492)\" cx=\"1135.4\" cy=\"894.134\" r=\"14\" fill=\"#c271d2\" fill-rule=\"evenodd\" fill-opacity=\"0.5\" stroke=\"#000000\" stroke-opacity=\"0.5\" stroke-width=\"3.2\"/>\n",
       "<circle clip-path=\"url(#clip492)\" cx=\"1071.19\" cy=\"915.349\" r=\"14\" fill=\"#c271d2\" fill-rule=\"evenodd\" fill-opacity=\"0.5\" stroke=\"#000000\" stroke-opacity=\"0.5\" stroke-width=\"3.2\"/>\n",
       "<circle clip-path=\"url(#clip492)\" cx=\"1039.09\" cy=\"904.741\" r=\"14\" fill=\"#c271d2\" fill-rule=\"evenodd\" fill-opacity=\"0.5\" stroke=\"#000000\" stroke-opacity=\"0.5\" stroke-width=\"3.2\"/>\n",
       "<circle clip-path=\"url(#clip492)\" cx=\"1055.14\" cy=\"899.438\" r=\"14\" fill=\"#c271d2\" fill-rule=\"evenodd\" fill-opacity=\"0.5\" stroke=\"#000000\" stroke-opacity=\"0.5\" stroke-width=\"3.2\"/>\n",
       "<circle clip-path=\"url(#clip492)\" cx=\"1063.16\" cy=\"902.09\" r=\"14\" fill=\"#c271d2\" fill-rule=\"evenodd\" fill-opacity=\"0.5\" stroke=\"#000000\" stroke-opacity=\"0.5\" stroke-width=\"3.2\"/>\n",
       "<circle clip-path=\"url(#clip492)\" cx=\"1059.15\" cy=\"903.415\" r=\"14\" fill=\"#c271d2\" fill-rule=\"evenodd\" fill-opacity=\"0.5\" stroke=\"#000000\" stroke-opacity=\"0.5\" stroke-width=\"3.2\"/>\n",
       "<circle clip-path=\"url(#clip492)\" cx=\"1057.14\" cy=\"902.753\" r=\"14\" fill=\"#c271d2\" fill-rule=\"evenodd\" fill-opacity=\"0.5\" stroke=\"#000000\" stroke-opacity=\"0.5\" stroke-width=\"3.2\"/>\n",
       "<path clip-path=\"url(#clip490)\" d=\"\n",
       "M1985.44 397.618 L2280.16 397.618 L2280.16 95.2176 L1985.44 95.2176  Z\n",
       "  \" fill=\"#ffffff\" fill-rule=\"evenodd\" fill-opacity=\"1\"/>\n",
       "<polyline clip-path=\"url(#clip490)\" style=\"stroke:#000000; stroke-width:4; stroke-opacity:1; fill:none\" points=\"\n",
       "  1985.44,397.618 2280.16,397.618 2280.16,95.2176 1985.44,95.2176 1985.44,397.618 \n",
       "  \"/>\n",
       "<polyline clip-path=\"url(#clip490)\" style=\"stroke:#009af9; stroke-width:4; stroke-opacity:1; fill:none\" points=\"\n",
       "  2009.64,155.698 2154.83,155.698 \n",
       "  \"/>\n",
       "<path clip-path=\"url(#clip490)\" d=\"M 0 0 M2192.87 175.385 Q2191.07 180.015 2189.35 181.427 Q2187.64 182.839 2184.77 182.839 L2181.37 182.839 L2181.37 179.274 L2183.87 179.274 Q2185.63 179.274 2186.6 178.44 Q2187.57 177.607 2188.75 174.505 L2189.52 172.561 L2179.03 147.052 L2183.54 147.052 L2191.65 167.329 L2199.75 147.052 L2204.26 147.052 L2192.87 175.385 Z\" fill=\"#000000\" fill-rule=\"evenodd\" fill-opacity=\"1\" /><path clip-path=\"url(#clip490)\" d=\"M 0 0 M2210.14 169.042 L2217.78 169.042 L2217.78 142.677 L2209.47 144.343 L2209.47 140.084 L2217.73 138.418 L2222.41 138.418 L2222.41 169.042 L2230.05 169.042 L2230.05 172.978 L2210.14 172.978 L2210.14 169.042 Z\" fill=\"#000000\" fill-rule=\"evenodd\" fill-opacity=\"1\" /><polyline clip-path=\"url(#clip490)\" style=\"stroke:#e26f46; stroke-width:4; stroke-opacity:1; fill:none\" points=\"\n",
       "  2009.64,216.178 2154.83,216.178 \n",
       "  \"/>\n",
       "<path clip-path=\"url(#clip490)\" d=\"M 0 0 M2192.87 235.865 Q2191.07 240.495 2189.35 241.907 Q2187.64 243.319 2184.77 243.319 L2181.37 243.319 L2181.37 239.754 L2183.87 239.754 Q2185.63 239.754 2186.6 238.92 Q2187.57 238.087 2188.75 234.985 L2189.52 233.041 L2179.03 207.532 L2183.54 207.532 L2191.65 227.809 L2199.75 207.532 L2204.26 207.532 L2192.87 235.865 Z\" fill=\"#000000\" fill-rule=\"evenodd\" fill-opacity=\"1\" /><path clip-path=\"url(#clip490)\" d=\"M 0 0 M2213.36 229.522 L2229.68 229.522 L2229.68 233.458 L2207.73 233.458 L2207.73 229.522 Q2210.4 226.768 2214.98 222.138 Q2219.59 217.485 2220.77 216.143 Q2223.01 213.62 2223.89 211.884 Q2224.79 210.124 2224.79 208.435 Q2224.79 205.68 2222.85 203.944 Q2220.93 202.208 2217.83 202.208 Q2215.63 202.208 2213.17 202.972 Q2210.74 203.735 2207.97 205.286 L2207.97 200.564 Q2210.79 199.43 2213.24 198.851 Q2215.7 198.273 2217.73 198.273 Q2223.1 198.273 2226.3 200.958 Q2229.49 203.643 2229.49 208.134 Q2229.49 210.263 2228.68 212.185 Q2227.9 214.083 2225.79 216.675 Q2225.21 217.347 2222.11 220.564 Q2219.01 223.759 2213.36 229.522 Z\" fill=\"#000000\" fill-rule=\"evenodd\" fill-opacity=\"1\" /><circle clip-path=\"url(#clip490)\" cx=\"2082.24\" cy=\"276.658\" r=\"23\" fill=\"#3da44d\" fill-rule=\"evenodd\" fill-opacity=\"0.5\" stroke=\"#000000\" stroke-opacity=\"0.5\" stroke-width=\"5.12\"/>\n",
       "<path clip-path=\"url(#clip490)\" d=\"M 0 0 M2192.87 296.345 Q2191.07 300.975 2189.35 302.387 Q2187.64 303.799 2184.77 303.799 L2181.37 303.799 L2181.37 300.234 L2183.87 300.234 Q2185.63 300.234 2186.6 299.4 Q2187.57 298.567 2188.75 295.465 L2189.52 293.521 L2179.03 268.012 L2183.54 268.012 L2191.65 288.289 L2199.75 268.012 L2204.26 268.012 L2192.87 296.345 Z\" fill=\"#000000\" fill-rule=\"evenodd\" fill-opacity=\"1\" /><path clip-path=\"url(#clip490)\" d=\"M 0 0 M2223.5 275.303 Q2226.85 276.021 2228.73 278.289 Q2230.63 280.558 2230.63 283.891 Q2230.63 289.007 2227.11 291.808 Q2223.59 294.609 2217.11 294.609 Q2214.93 294.609 2212.62 294.169 Q2210.33 293.752 2207.87 292.896 L2207.87 288.382 Q2209.82 289.516 2212.13 290.095 Q2214.45 290.674 2216.97 290.674 Q2221.37 290.674 2223.66 288.938 Q2225.97 287.201 2225.97 283.891 Q2225.97 280.836 2223.82 279.123 Q2221.69 277.387 2217.87 277.387 L2213.85 277.387 L2213.85 273.544 L2218.06 273.544 Q2221.51 273.544 2223.34 272.178 Q2225.16 270.79 2225.16 268.197 Q2225.16 265.535 2223.27 264.123 Q2221.39 262.688 2217.87 262.688 Q2215.95 262.688 2213.75 263.104 Q2211.55 263.521 2208.91 264.401 L2208.91 260.234 Q2211.58 259.493 2213.89 259.123 Q2216.23 258.753 2218.29 258.753 Q2223.61 258.753 2226.72 261.183 Q2229.82 263.59 2229.82 267.711 Q2229.82 270.581 2228.17 272.572 Q2226.53 274.54 2223.5 275.303 Z\" fill=\"#000000\" fill-rule=\"evenodd\" fill-opacity=\"1\" /><circle clip-path=\"url(#clip490)\" cx=\"2082.24\" cy=\"337.138\" r=\"23\" fill=\"#c271d2\" fill-rule=\"evenodd\" fill-opacity=\"0.5\" stroke=\"#000000\" stroke-opacity=\"0.5\" stroke-width=\"5.12\"/>\n",
       "<path clip-path=\"url(#clip490)\" d=\"M 0 0 M2192.87 356.825 Q2191.07 361.455 2189.35 362.867 Q2187.64 364.279 2184.77 364.279 L2181.37 364.279 L2181.37 360.714 L2183.87 360.714 Q2185.63 360.714 2186.6 359.88 Q2187.57 359.047 2188.75 355.945 L2189.52 354.001 L2179.03 328.492 L2183.54 328.492 L2191.65 348.769 L2199.75 328.492 L2204.26 328.492 L2192.87 356.825 Z\" fill=\"#000000\" fill-rule=\"evenodd\" fill-opacity=\"1\" /><path clip-path=\"url(#clip490)\" d=\"M 0 0 M2222.18 323.932 L2210.37 342.381 L2222.18 342.381 L2222.18 323.932 M2220.95 319.858 L2226.83 319.858 L2226.83 342.381 L2231.76 342.381 L2231.76 346.269 L2226.83 346.269 L2226.83 354.418 L2222.18 354.418 L2222.18 346.269 L2206.58 346.269 L2206.58 341.756 L2220.95 319.858 Z\" fill=\"#000000\" fill-rule=\"evenodd\" fill-opacity=\"1\" /></svg>\n"
      ]
     },
     "execution_count": 175,
     "metadata": {},
     "output_type": "execute_result"
    }
   ],
   "source": [
    "scatter!(P, array_x, array_y, alpha=0.5)"
   ]
  },
  {
   "cell_type": "code",
   "execution_count": 176,
   "metadata": {},
   "outputs": [
    {
     "name": "stdout",
     "output_type": "stream",
     "text": [
      "[0.5; 1.0]\n",
      "[0.375; 1.25]\n",
      "[0.40625; 1.1875]\n",
      "[0.3984375; 1.203125]\n",
      "[0.400390625; 1.19921875]\n",
      "[0.39990234375; 1.2001953125]\n",
      "[0.4000244140625; 1.199951171875]\n",
      "\n",
      "Tolerância: 0.0001220703125\n",
      "Tolerância: 0.0002729575167846423"
     ]
    }
   ],
   "source": [
    "array_x = []\n",
    "array_y = []\n",
    "\n",
    "iterador = 1\n",
    "x_anterior = randn(2)\n",
    "x_atual = randn(2)\n",
    "\n",
    "while (norm(x_atual - x_anterior) >= 1e-3)\n",
    "    x_anterior = x_atual\n",
    "    x_atual = gauss_seidel(A, b, iterador)\n",
    "    push!(array_x, x_atual[2])\n",
    "    push!(array_y, x_atual[1])\n",
    "    print(x_atual, \"\\n\")\n",
    "    iterador += 1\n",
    "end\n",
    "\n",
    "print(\"\\n\", \"Tolerância: \", norm(A*x_atual - b), \"\\n\")\n",
    "print(\"Tolerância: \", norm(x_atual - x_anterior))"
   ]
  },
  {
   "cell_type": "code",
   "execution_count": 177,
   "metadata": {},
   "outputs": [
    {
     "data": {
      "image/svg+xml": [
       "<?xml version=\"1.0\" encoding=\"utf-8\"?>\n",
       "<svg xmlns=\"http://www.w3.org/2000/svg\" xmlns:xlink=\"http://www.w3.org/1999/xlink\" width=\"600\" height=\"400\" viewBox=\"0 0 2400 1600\">\n",
       "<defs>\n",
       "  <clipPath id=\"clip530\">\n",
       "    <rect x=\"0\" y=\"0\" width=\"2400\" height=\"1600\"/>\n",
       "  </clipPath>\n",
       "</defs>\n",
       "<path clip-path=\"url(#clip530)\" d=\"\n",
       "M0 1600 L2400 1600 L2400 0 L0 0  Z\n",
       "  \" fill=\"#ffffff\" fill-rule=\"evenodd\" fill-opacity=\"1\"/>\n",
       "<defs>\n",
       "  <clipPath id=\"clip531\">\n",
       "    <rect x=\"480\" y=\"0\" width=\"1681\" height=\"1600\"/>\n",
       "  </clipPath>\n",
       "</defs>\n",
       "<path clip-path=\"url(#clip530)\" d=\"\n",
       "M174.862 1486.45 L2352.76 1486.45 L2352.76 47.2441 L174.862 47.2441  Z\n",
       "  \" fill=\"#ffffff\" fill-rule=\"evenodd\" fill-opacity=\"1\"/>\n",
       "<defs>\n",
       "  <clipPath id=\"clip532\">\n",
       "    <rect x=\"174\" y=\"47\" width=\"2179\" height=\"1440\"/>\n",
       "  </clipPath>\n",
       "</defs>\n",
       "<polyline clip-path=\"url(#clip532)\" style=\"stroke:#000000; stroke-width:2; stroke-opacity:0.1; fill:none\" points=\"\n",
       "  236.501,1486.45 236.501,47.2441 \n",
       "  \"/>\n",
       "<polyline clip-path=\"url(#clip532)\" style=\"stroke:#000000; stroke-width:2; stroke-opacity:0.1; fill:none\" points=\"\n",
       "  647.424,1486.45 647.424,47.2441 \n",
       "  \"/>\n",
       "<polyline clip-path=\"url(#clip532)\" style=\"stroke:#000000; stroke-width:2; stroke-opacity:0.1; fill:none\" points=\"\n",
       "  1058.35,1486.45 1058.35,47.2441 \n",
       "  \"/>\n",
       "<polyline clip-path=\"url(#clip532)\" style=\"stroke:#000000; stroke-width:2; stroke-opacity:0.1; fill:none\" points=\"\n",
       "  1469.27,1486.45 1469.27,47.2441 \n",
       "  \"/>\n",
       "<polyline clip-path=\"url(#clip532)\" style=\"stroke:#000000; stroke-width:2; stroke-opacity:0.1; fill:none\" points=\"\n",
       "  1880.19,1486.45 1880.19,47.2441 \n",
       "  \"/>\n",
       "<polyline clip-path=\"url(#clip532)\" style=\"stroke:#000000; stroke-width:2; stroke-opacity:0.1; fill:none\" points=\"\n",
       "  2291.12,1486.45 2291.12,47.2441 \n",
       "  \"/>\n",
       "<polyline clip-path=\"url(#clip530)\" style=\"stroke:#000000; stroke-width:4; stroke-opacity:1; fill:none\" points=\"\n",
       "  174.862,1486.45 2352.76,1486.45 \n",
       "  \"/>\n",
       "<polyline clip-path=\"url(#clip530)\" style=\"stroke:#000000; stroke-width:4; stroke-opacity:1; fill:none\" points=\"\n",
       "  236.501,1486.45 236.501,1469.18 \n",
       "  \"/>\n",
       "<polyline clip-path=\"url(#clip530)\" style=\"stroke:#000000; stroke-width:4; stroke-opacity:1; fill:none\" points=\"\n",
       "  647.424,1486.45 647.424,1469.18 \n",
       "  \"/>\n",
       "<polyline clip-path=\"url(#clip530)\" style=\"stroke:#000000; stroke-width:4; stroke-opacity:1; fill:none\" points=\"\n",
       "  1058.35,1486.45 1058.35,1469.18 \n",
       "  \"/>\n",
       "<polyline clip-path=\"url(#clip530)\" style=\"stroke:#000000; stroke-width:4; stroke-opacity:1; fill:none\" points=\"\n",
       "  1469.27,1486.45 1469.27,1469.18 \n",
       "  \"/>\n",
       "<polyline clip-path=\"url(#clip530)\" style=\"stroke:#000000; stroke-width:4; stroke-opacity:1; fill:none\" points=\"\n",
       "  1880.19,1486.45 1880.19,1469.18 \n",
       "  \"/>\n",
       "<polyline clip-path=\"url(#clip530)\" style=\"stroke:#000000; stroke-width:4; stroke-opacity:1; fill:none\" points=\"\n",
       "  2291.12,1486.45 2291.12,1469.18 \n",
       "  \"/>\n",
       "<path clip-path=\"url(#clip530)\" d=\"M 0 0 M208.399 1543.18 L216.038 1543.18 L216.038 1516.82 L207.728 1518.49 L207.728 1514.23 L215.991 1512.56 L220.667 1512.56 L220.667 1543.18 L228.306 1543.18 L228.306 1547.12 L208.399 1547.12 L208.399 1543.18 Z\" fill=\"#000000\" fill-rule=\"evenodd\" fill-opacity=\"1\" /><path clip-path=\"url(#clip530)\" d=\"M 0 0 M233.376 1541.24 L238.26 1541.24 L238.26 1547.12 L233.376 1547.12 L233.376 1541.24 Z\" fill=\"#000000\" fill-rule=\"evenodd\" fill-opacity=\"1\" /><path clip-path=\"url(#clip530)\" d=\"M 0 0 M253.329 1515.64 Q249.718 1515.64 247.889 1519.2 Q246.084 1522.75 246.084 1529.87 Q246.084 1536.98 247.889 1540.55 Q249.718 1544.09 253.329 1544.09 Q256.963 1544.09 258.769 1540.55 Q260.598 1536.98 260.598 1529.87 Q260.598 1522.75 258.769 1519.2 Q256.963 1515.64 253.329 1515.64 M253.329 1511.93 Q259.139 1511.93 262.195 1516.54 Q265.274 1521.12 265.274 1529.87 Q265.274 1538.6 262.195 1543.21 Q259.139 1547.79 253.329 1547.79 Q247.519 1547.79 244.44 1543.21 Q241.385 1538.6 241.385 1529.87 Q241.385 1521.12 244.44 1516.54 Q247.519 1511.93 253.329 1511.93 Z\" fill=\"#000000\" fill-rule=\"evenodd\" fill-opacity=\"1\" /><path clip-path=\"url(#clip530)\" d=\"M 0 0 M619.936 1543.18 L627.574 1543.18 L627.574 1516.82 L619.264 1518.49 L619.264 1514.23 L627.528 1512.56 L632.204 1512.56 L632.204 1543.18 L639.843 1543.18 L639.843 1547.12 L619.936 1547.12 L619.936 1543.18 Z\" fill=\"#000000\" fill-rule=\"evenodd\" fill-opacity=\"1\" /><path clip-path=\"url(#clip530)\" d=\"M 0 0 M644.912 1541.24 L649.797 1541.24 L649.797 1547.12 L644.912 1547.12 L644.912 1541.24 Z\" fill=\"#000000\" fill-rule=\"evenodd\" fill-opacity=\"1\" /><path clip-path=\"url(#clip530)\" d=\"M 0 0 M655.676 1543.18 L663.315 1543.18 L663.315 1516.82 L655.005 1518.49 L655.005 1514.23 L663.269 1512.56 L667.945 1512.56 L667.945 1543.18 L675.583 1543.18 L675.583 1547.12 L655.676 1547.12 L655.676 1543.18 Z\" fill=\"#000000\" fill-rule=\"evenodd\" fill-opacity=\"1\" /><path clip-path=\"url(#clip530)\" d=\"M 0 0 M1031.04 1543.18 L1038.68 1543.18 L1038.68 1516.82 L1030.37 1518.49 L1030.37 1514.23 L1038.64 1512.56 L1043.31 1512.56 L1043.31 1543.18 L1050.95 1543.18 L1050.95 1547.12 L1031.04 1547.12 L1031.04 1543.18 Z\" fill=\"#000000\" fill-rule=\"evenodd\" fill-opacity=\"1\" /><path clip-path=\"url(#clip530)\" d=\"M 0 0 M1056.02 1541.24 L1060.91 1541.24 L1060.91 1547.12 L1056.02 1547.12 L1056.02 1541.24 Z\" fill=\"#000000\" fill-rule=\"evenodd\" fill-opacity=\"1\" /><path clip-path=\"url(#clip530)\" d=\"M 0 0 M1070 1543.18 L1086.32 1543.18 L1086.32 1547.12 L1064.38 1547.12 L1064.38 1543.18 Q1067.04 1540.43 1071.62 1535.8 Q1076.23 1531.15 1077.41 1529.81 Q1079.66 1527.28 1080.53 1525.55 Q1081.44 1523.79 1081.44 1522.1 Q1081.44 1519.34 1079.49 1517.61 Q1077.57 1515.87 1074.47 1515.87 Q1072.27 1515.87 1069.82 1516.63 Q1067.39 1517.4 1064.61 1518.95 L1064.61 1514.23 Q1067.43 1513.09 1069.89 1512.51 Q1072.34 1511.93 1074.38 1511.93 Q1079.75 1511.93 1082.94 1514.62 Q1086.14 1517.31 1086.14 1521.8 Q1086.14 1523.93 1085.33 1525.85 Q1084.54 1527.74 1082.43 1530.34 Q1081.85 1531.01 1078.75 1534.23 Q1075.65 1537.42 1070 1543.18 Z\" fill=\"#000000\" fill-rule=\"evenodd\" fill-opacity=\"1\" /><path clip-path=\"url(#clip530)\" d=\"M 0 0 M1441.49 1543.18 L1449.13 1543.18 L1449.13 1516.82 L1440.82 1518.49 L1440.82 1514.23 L1449.09 1512.56 L1453.76 1512.56 L1453.76 1543.18 L1461.4 1543.18 L1461.4 1547.12 L1441.49 1547.12 L1441.49 1543.18 Z\" fill=\"#000000\" fill-rule=\"evenodd\" fill-opacity=\"1\" /><path clip-path=\"url(#clip530)\" d=\"M 0 0 M1466.47 1541.24 L1471.35 1541.24 L1471.35 1547.12 L1466.47 1547.12 L1466.47 1541.24 Z\" fill=\"#000000\" fill-rule=\"evenodd\" fill-opacity=\"1\" /><path clip-path=\"url(#clip530)\" d=\"M 0 0 M1490.59 1528.49 Q1493.95 1529.2 1495.82 1531.47 Q1497.72 1533.74 1497.72 1537.07 Q1497.72 1542.19 1494.2 1544.99 Q1490.68 1547.79 1484.2 1547.79 Q1482.03 1547.79 1479.71 1547.35 Q1477.42 1546.93 1474.97 1546.08 L1474.97 1541.56 Q1476.91 1542.7 1479.22 1543.28 Q1481.54 1543.86 1484.06 1543.86 Q1488.46 1543.86 1490.75 1542.12 Q1493.07 1540.38 1493.07 1537.07 Q1493.07 1534.02 1490.91 1532.31 Q1488.78 1530.57 1484.97 1530.57 L1480.94 1530.57 L1480.94 1526.73 L1485.15 1526.73 Q1488.6 1526.73 1490.43 1525.36 Q1492.26 1523.97 1492.26 1521.38 Q1492.26 1518.72 1490.36 1517.31 Q1488.48 1515.87 1484.97 1515.87 Q1483.04 1515.87 1480.84 1516.29 Q1478.65 1516.7 1476.01 1517.58 L1476.01 1513.42 Q1478.67 1512.68 1480.98 1512.31 Q1483.32 1511.93 1485.38 1511.93 Q1490.71 1511.93 1493.81 1514.37 Q1496.91 1516.77 1496.91 1520.89 Q1496.91 1523.76 1495.27 1525.75 Q1493.62 1527.72 1490.59 1528.49 Z\" fill=\"#000000\" fill-rule=\"evenodd\" fill-opacity=\"1\" /><path clip-path=\"url(#clip530)\" d=\"M 0 0 M1851.85 1543.18 L1859.49 1543.18 L1859.49 1516.82 L1851.18 1518.49 L1851.18 1514.23 L1859.44 1512.56 L1864.12 1512.56 L1864.12 1543.18 L1871.76 1543.18 L1871.76 1547.12 L1851.85 1547.12 L1851.85 1543.18 Z\" fill=\"#000000\" fill-rule=\"evenodd\" fill-opacity=\"1\" /><path clip-path=\"url(#clip530)\" d=\"M 0 0 M1876.83 1541.24 L1881.71 1541.24 L1881.71 1547.12 L1876.83 1547.12 L1876.83 1541.24 Z\" fill=\"#000000\" fill-rule=\"evenodd\" fill-opacity=\"1\" /><path clip-path=\"url(#clip530)\" d=\"M 0 0 M1899.63 1516.63 L1887.82 1535.08 L1899.63 1535.08 L1899.63 1516.63 M1898.4 1512.56 L1904.28 1512.56 L1904.28 1535.08 L1909.21 1535.08 L1909.21 1538.97 L1904.28 1538.97 L1904.28 1547.12 L1899.63 1547.12 L1899.63 1538.97 L1884.03 1538.97 L1884.03 1534.46 L1898.4 1512.56 Z\" fill=\"#000000\" fill-rule=\"evenodd\" fill-opacity=\"1\" /><path clip-path=\"url(#clip530)\" d=\"M 0 0 M2263.51 1543.18 L2271.15 1543.18 L2271.15 1516.82 L2262.84 1518.49 L2262.84 1514.23 L2271.11 1512.56 L2275.78 1512.56 L2275.78 1543.18 L2283.42 1543.18 L2283.42 1547.12 L2263.51 1547.12 L2263.51 1543.18 Z\" fill=\"#000000\" fill-rule=\"evenodd\" fill-opacity=\"1\" /><path clip-path=\"url(#clip530)\" d=\"M 0 0 M2288.49 1541.24 L2293.37 1541.24 L2293.37 1547.12 L2288.49 1547.12 L2288.49 1541.24 Z\" fill=\"#000000\" fill-rule=\"evenodd\" fill-opacity=\"1\" /><path clip-path=\"url(#clip530)\" d=\"M 0 0 M2298.49 1512.56 L2316.85 1512.56 L2316.85 1516.5 L2302.77 1516.5 L2302.77 1524.97 Q2303.79 1524.62 2304.81 1524.46 Q2305.83 1524.27 2306.85 1524.27 Q2312.63 1524.27 2316.01 1527.44 Q2319.39 1530.62 2319.39 1536.03 Q2319.39 1541.61 2315.92 1544.71 Q2312.45 1547.79 2306.13 1547.79 Q2303.95 1547.79 2301.68 1547.42 Q2299.44 1547.05 2297.03 1546.31 L2297.03 1541.61 Q2299.12 1542.74 2301.34 1543.3 Q2303.56 1543.86 2306.04 1543.86 Q2310.04 1543.86 2312.38 1541.75 Q2314.72 1539.64 2314.72 1536.03 Q2314.72 1532.42 2312.38 1530.31 Q2310.04 1528.21 2306.04 1528.21 Q2304.16 1528.21 2302.29 1528.62 Q2300.43 1529.04 2298.49 1529.92 L2298.49 1512.56 Z\" fill=\"#000000\" fill-rule=\"evenodd\" fill-opacity=\"1\" /><polyline clip-path=\"url(#clip532)\" style=\"stroke:#000000; stroke-width:2; stroke-opacity:0.1; fill:none\" points=\"\n",
       "  174.862,1445.72 2352.76,1445.72 \n",
       "  \"/>\n",
       "<polyline clip-path=\"url(#clip532)\" style=\"stroke:#000000; stroke-width:2; stroke-opacity:0.1; fill:none\" points=\"\n",
       "  174.862,1106.28 2352.76,1106.28 \n",
       "  \"/>\n",
       "<polyline clip-path=\"url(#clip532)\" style=\"stroke:#000000; stroke-width:2; stroke-opacity:0.1; fill:none\" points=\"\n",
       "  174.862,766.846 2352.76,766.846 \n",
       "  \"/>\n",
       "<polyline clip-path=\"url(#clip532)\" style=\"stroke:#000000; stroke-width:2; stroke-opacity:0.1; fill:none\" points=\"\n",
       "  174.862,427.411 2352.76,427.411 \n",
       "  \"/>\n",
       "<polyline clip-path=\"url(#clip532)\" style=\"stroke:#000000; stroke-width:2; stroke-opacity:0.1; fill:none\" points=\"\n",
       "  174.862,87.9763 2352.76,87.9763 \n",
       "  \"/>\n",
       "<polyline clip-path=\"url(#clip530)\" style=\"stroke:#000000; stroke-width:4; stroke-opacity:1; fill:none\" points=\"\n",
       "  174.862,1486.45 174.862,47.2441 \n",
       "  \"/>\n",
       "<polyline clip-path=\"url(#clip530)\" style=\"stroke:#000000; stroke-width:4; stroke-opacity:1; fill:none\" points=\"\n",
       "  174.862,1445.72 200.997,1445.72 \n",
       "  \"/>\n",
       "<polyline clip-path=\"url(#clip530)\" style=\"stroke:#000000; stroke-width:4; stroke-opacity:1; fill:none\" points=\"\n",
       "  174.862,1106.28 200.997,1106.28 \n",
       "  \"/>\n",
       "<polyline clip-path=\"url(#clip530)\" style=\"stroke:#000000; stroke-width:4; stroke-opacity:1; fill:none\" points=\"\n",
       "  174.862,766.846 200.997,766.846 \n",
       "  \"/>\n",
       "<polyline clip-path=\"url(#clip530)\" style=\"stroke:#000000; stroke-width:4; stroke-opacity:1; fill:none\" points=\"\n",
       "  174.862,427.411 200.997,427.411 \n",
       "  \"/>\n",
       "<polyline clip-path=\"url(#clip530)\" style=\"stroke:#000000; stroke-width:4; stroke-opacity:1; fill:none\" points=\"\n",
       "  174.862,87.9763 200.997,87.9763 \n",
       "  \"/>\n",
       "<path clip-path=\"url(#clip530)\" d=\"M 0 0 M62.9365 1431.51 Q59.3254 1431.51 57.4967 1435.08 Q55.6912 1438.62 55.6912 1445.75 Q55.6912 1452.86 57.4967 1456.42 Q59.3254 1459.96 62.9365 1459.96 Q66.5707 1459.96 68.3763 1456.42 Q70.205 1452.86 70.205 1445.75 Q70.205 1438.62 68.3763 1435.08 Q66.5707 1431.51 62.9365 1431.51 M62.9365 1427.81 Q68.7467 1427.81 71.8022 1432.42 Q74.8809 1437 74.8809 1445.75 Q74.8809 1454.48 71.8022 1459.08 Q68.7467 1463.67 62.9365 1463.67 Q57.1264 1463.67 54.0477 1459.08 Q50.9921 1454.48 50.9921 1445.75 Q50.9921 1437 54.0477 1432.42 Q57.1264 1427.81 62.9365 1427.81 Z\" fill=\"#000000\" fill-rule=\"evenodd\" fill-opacity=\"1\" /><path clip-path=\"url(#clip530)\" d=\"M 0 0 M79.9503 1457.12 L84.8345 1457.12 L84.8345 1463 L79.9503 1463 L79.9503 1457.12 Z\" fill=\"#000000\" fill-rule=\"evenodd\" fill-opacity=\"1\" /><path clip-path=\"url(#clip530)\" d=\"M 0 0 M99.9039 1431.51 Q96.2928 1431.51 94.4641 1435.08 Q92.6586 1438.62 92.6586 1445.75 Q92.6586 1452.86 94.4641 1456.42 Q96.2928 1459.96 99.9039 1459.96 Q103.538 1459.96 105.344 1456.42 Q107.172 1452.86 107.172 1445.75 Q107.172 1438.62 105.344 1435.08 Q103.538 1431.51 99.9039 1431.51 M99.9039 1427.81 Q105.714 1427.81 108.77 1432.42 Q111.848 1437 111.848 1445.75 Q111.848 1454.48 108.77 1459.08 Q105.714 1463.67 99.9039 1463.67 Q94.0937 1463.67 91.0151 1459.08 Q87.9595 1454.48 87.9595 1445.75 Q87.9595 1437 91.0151 1432.42 Q94.0937 1427.81 99.9039 1427.81 Z\" fill=\"#000000\" fill-rule=\"evenodd\" fill-opacity=\"1\" /><path clip-path=\"url(#clip530)\" d=\"M 0 0 M126.918 1431.51 Q123.307 1431.51 121.478 1435.08 Q119.672 1438.62 119.672 1445.75 Q119.672 1452.86 121.478 1456.42 Q123.307 1459.96 126.918 1459.96 Q130.552 1459.96 132.357 1456.42 Q134.186 1452.86 134.186 1445.75 Q134.186 1438.62 132.357 1435.08 Q130.552 1431.51 126.918 1431.51 M126.918 1427.81 Q132.728 1427.81 135.783 1432.42 Q138.862 1437 138.862 1445.75 Q138.862 1454.48 135.783 1459.08 Q132.728 1463.67 126.918 1463.67 Q121.107 1463.67 118.029 1459.08 Q114.973 1454.48 114.973 1445.75 Q114.973 1437 118.029 1432.42 Q121.107 1427.81 126.918 1427.81 Z\" fill=\"#000000\" fill-rule=\"evenodd\" fill-opacity=\"1\" /><path clip-path=\"url(#clip530)\" d=\"M 0 0 M65.5291 1092.08 Q61.918 1092.08 60.0893 1095.64 Q58.2838 1099.19 58.2838 1106.32 Q58.2838 1113.42 60.0893 1116.99 Q61.918 1120.53 65.5291 1120.53 Q69.1633 1120.53 70.9689 1116.99 Q72.7976 1113.42 72.7976 1106.32 Q72.7976 1099.19 70.9689 1095.64 Q69.1633 1092.08 65.5291 1092.08 M65.5291 1088.38 Q71.3392 1088.38 74.3948 1092.98 Q77.4735 1097.57 77.4735 1106.32 Q77.4735 1115.04 74.3948 1119.65 Q71.3392 1124.23 65.5291 1124.23 Q59.7189 1124.23 56.6402 1119.65 Q53.5847 1115.04 53.5847 1106.32 Q53.5847 1097.57 56.6402 1092.98 Q59.7189 1088.38 65.5291 1088.38 Z\" fill=\"#000000\" fill-rule=\"evenodd\" fill-opacity=\"1\" /><path clip-path=\"url(#clip530)\" d=\"M 0 0 M82.5429 1117.68 L87.4271 1117.68 L87.4271 1123.56 L82.5429 1123.56 L82.5429 1117.68 Z\" fill=\"#000000\" fill-rule=\"evenodd\" fill-opacity=\"1\" /><path clip-path=\"url(#clip530)\" d=\"M 0 0 M96.5243 1119.63 L112.844 1119.63 L112.844 1123.56 L90.8993 1123.56 L90.8993 1119.63 Q93.5613 1116.87 98.1447 1112.24 Q102.751 1107.59 103.932 1106.25 Q106.177 1103.72 107.057 1101.99 Q107.959 1100.23 107.959 1098.54 Q107.959 1095.78 106.015 1094.05 Q104.094 1092.31 100.992 1092.31 Q98.7928 1092.31 96.3391 1093.07 Q93.9086 1093.84 91.1308 1095.39 L91.1308 1090.67 Q93.9549 1089.53 96.4085 1088.95 Q98.8622 1088.38 100.899 1088.38 Q106.27 1088.38 109.464 1091.06 Q112.658 1093.75 112.658 1098.24 Q112.658 1100.37 111.848 1102.29 Q111.061 1104.19 108.955 1106.78 Q108.376 1107.45 105.274 1110.67 Q102.172 1113.86 96.5243 1119.63 Z\" fill=\"#000000\" fill-rule=\"evenodd\" fill-opacity=\"1\" /><path clip-path=\"url(#clip530)\" d=\"M 0 0 M117.959 1089 L136.316 1089 L136.316 1092.94 L122.242 1092.94 L122.242 1101.41 Q123.26 1101.06 124.279 1100.9 Q125.297 1100.71 126.316 1100.71 Q132.103 1100.71 135.482 1103.89 Q138.862 1107.06 138.862 1112.47 Q138.862 1118.05 135.39 1121.15 Q131.918 1124.23 125.598 1124.23 Q123.422 1124.23 121.154 1123.86 Q118.908 1123.49 116.501 1122.75 L116.501 1118.05 Q118.584 1119.19 120.807 1119.74 Q123.029 1120.3 125.506 1120.3 Q129.51 1120.3 131.848 1118.19 Q134.186 1116.08 134.186 1112.47 Q134.186 1108.86 131.848 1106.76 Q129.51 1104.65 125.506 1104.65 Q123.631 1104.65 121.756 1105.07 Q119.904 1105.48 117.959 1106.36 L117.959 1089 Z\" fill=\"#000000\" fill-rule=\"evenodd\" fill-opacity=\"1\" /><path clip-path=\"url(#clip530)\" d=\"M 0 0 M63.9319 752.645 Q60.3208 752.645 58.4921 756.209 Q56.6865 759.751 56.6865 766.881 Q56.6865 773.987 58.4921 777.552 Q60.3208 781.094 63.9319 781.094 Q67.5661 781.094 69.3717 777.552 Q71.2004 773.987 71.2004 766.881 Q71.2004 759.751 69.3717 756.209 Q67.5661 752.645 63.9319 752.645 M63.9319 748.941 Q69.742 748.941 72.7976 753.547 Q75.8763 758.131 75.8763 766.881 Q75.8763 775.608 72.7976 780.214 Q69.742 784.797 63.9319 784.797 Q58.1217 784.797 55.043 780.214 Q51.9875 775.608 51.9875 766.881 Q51.9875 758.131 55.043 753.547 Q58.1217 748.941 63.9319 748.941 Z\" fill=\"#000000\" fill-rule=\"evenodd\" fill-opacity=\"1\" /><path clip-path=\"url(#clip530)\" d=\"M 0 0 M80.9457 778.246 L85.8299 778.246 L85.8299 784.126 L80.9457 784.126 L80.9457 778.246 Z\" fill=\"#000000\" fill-rule=\"evenodd\" fill-opacity=\"1\" /><path clip-path=\"url(#clip530)\" d=\"M 0 0 M90.9456 749.566 L109.302 749.566 L109.302 753.501 L95.228 753.501 L95.228 761.973 Q96.2465 761.626 97.265 761.464 Q98.2835 761.279 99.3021 761.279 Q105.089 761.279 108.469 764.45 Q111.848 767.621 111.848 773.038 Q111.848 778.617 108.376 781.719 Q104.904 784.797 98.5845 784.797 Q96.4085 784.797 94.14 784.427 Q91.8947 784.057 89.4873 783.316 L89.4873 778.617 Q91.5706 779.751 93.7928 780.307 Q96.015 780.862 98.4919 780.862 Q102.496 780.862 104.834 778.756 Q107.172 776.649 107.172 773.038 Q107.172 769.427 104.834 767.321 Q102.496 765.214 98.4919 765.214 Q96.6169 765.214 94.7419 765.631 Q92.89 766.047 90.9456 766.927 L90.9456 749.566 Z\" fill=\"#000000\" fill-rule=\"evenodd\" fill-opacity=\"1\" /><path clip-path=\"url(#clip530)\" d=\"M 0 0 M126.918 752.645 Q123.307 752.645 121.478 756.209 Q119.672 759.751 119.672 766.881 Q119.672 773.987 121.478 777.552 Q123.307 781.094 126.918 781.094 Q130.552 781.094 132.357 777.552 Q134.186 773.987 134.186 766.881 Q134.186 759.751 132.357 756.209 Q130.552 752.645 126.918 752.645 M126.918 748.941 Q132.728 748.941 135.783 753.547 Q138.862 758.131 138.862 766.881 Q138.862 775.608 135.783 780.214 Q132.728 784.797 126.918 784.797 Q121.107 784.797 118.029 780.214 Q114.973 775.608 114.973 766.881 Q114.973 758.131 118.029 753.547 Q121.107 748.941 126.918 748.941 Z\" fill=\"#000000\" fill-rule=\"evenodd\" fill-opacity=\"1\" /><path clip-path=\"url(#clip530)\" d=\"M 0 0 M64.8346 413.21 Q61.2236 413.21 59.3949 416.775 Q57.5893 420.316 57.5893 427.446 Q57.5893 434.552 59.3949 438.117 Q61.2236 441.659 64.8346 441.659 Q68.4689 441.659 70.2744 438.117 Q72.1031 434.552 72.1031 427.446 Q72.1031 420.316 70.2744 416.775 Q68.4689 413.21 64.8346 413.21 M64.8346 409.506 Q70.6448 409.506 73.7003 414.113 Q76.779 418.696 76.779 427.446 Q76.779 436.173 73.7003 440.779 Q70.6448 445.362 64.8346 445.362 Q59.0245 445.362 55.9458 440.779 Q52.8903 436.173 52.8903 427.446 Q52.8903 418.696 55.9458 414.113 Q59.0245 409.506 64.8346 409.506 Z\" fill=\"#000000\" fill-rule=\"evenodd\" fill-opacity=\"1\" /><path clip-path=\"url(#clip530)\" d=\"M 0 0 M81.8484 438.812 L86.7327 438.812 L86.7327 444.691 L81.8484 444.691 L81.8484 438.812 Z\" fill=\"#000000\" fill-rule=\"evenodd\" fill-opacity=\"1\" /><path clip-path=\"url(#clip530)\" d=\"M 0 0 M90.6215 410.131 L112.844 410.131 L112.844 412.122 L100.297 444.691 L95.4132 444.691 L107.219 414.066 L90.6215 414.066 L90.6215 410.131 Z\" fill=\"#000000\" fill-rule=\"evenodd\" fill-opacity=\"1\" /><path clip-path=\"url(#clip530)\" d=\"M 0 0 M117.959 410.131 L136.316 410.131 L136.316 414.066 L122.242 414.066 L122.242 422.538 Q123.26 422.191 124.279 422.029 Q125.297 421.844 126.316 421.844 Q132.103 421.844 135.482 425.015 Q138.862 428.187 138.862 433.603 Q138.862 439.182 135.39 442.284 Q131.918 445.362 125.598 445.362 Q123.422 445.362 121.154 444.992 Q118.908 444.622 116.501 443.881 L116.501 439.182 Q118.584 440.316 120.807 440.872 Q123.029 441.427 125.506 441.427 Q129.51 441.427 131.848 439.321 Q134.186 437.214 134.186 433.603 Q134.186 429.992 131.848 427.886 Q129.51 425.779 125.506 425.779 Q123.631 425.779 121.756 426.196 Q119.904 426.613 117.959 427.492 L117.959 410.131 Z\" fill=\"#000000\" fill-rule=\"evenodd\" fill-opacity=\"1\" /><path clip-path=\"url(#clip530)\" d=\"M 0 0 M54.9736 101.321 L62.6124 101.321 L62.6124 74.9555 L54.3023 76.6222 L54.3023 72.3629 L62.5661 70.6963 L67.242 70.6963 L67.242 101.321 L74.8809 101.321 L74.8809 105.256 L54.9736 105.256 L54.9736 101.321 Z\" fill=\"#000000\" fill-rule=\"evenodd\" fill-opacity=\"1\" /><path clip-path=\"url(#clip530)\" d=\"M 0 0 M79.9503 99.3767 L84.8345 99.3767 L84.8345 105.256 L79.9503 105.256 L79.9503 99.3767 Z\" fill=\"#000000\" fill-rule=\"evenodd\" fill-opacity=\"1\" /><path clip-path=\"url(#clip530)\" d=\"M 0 0 M99.9039 73.775 Q96.2928 73.775 94.4641 77.3398 Q92.6586 80.8814 92.6586 88.011 Q92.6586 95.1174 94.4641 98.6822 Q96.2928 102.224 99.9039 102.224 Q103.538 102.224 105.344 98.6822 Q107.172 95.1174 107.172 88.011 Q107.172 80.8814 105.344 77.3398 Q103.538 73.775 99.9039 73.775 M99.9039 70.0713 Q105.714 70.0713 108.77 74.6777 Q111.848 79.261 111.848 88.011 Q111.848 96.7378 108.77 101.344 Q105.714 105.928 99.9039 105.928 Q94.0937 105.928 91.0151 101.344 Q87.9595 96.7378 87.9595 88.011 Q87.9595 79.261 91.0151 74.6777 Q94.0937 70.0713 99.9039 70.0713 Z\" fill=\"#000000\" fill-rule=\"evenodd\" fill-opacity=\"1\" /><path clip-path=\"url(#clip530)\" d=\"M 0 0 M126.918 73.775 Q123.307 73.775 121.478 77.3398 Q119.672 80.8814 119.672 88.011 Q119.672 95.1174 121.478 98.6822 Q123.307 102.224 126.918 102.224 Q130.552 102.224 132.357 98.6822 Q134.186 95.1174 134.186 88.011 Q134.186 80.8814 132.357 77.3398 Q130.552 73.775 126.918 73.775 M126.918 70.0713 Q132.728 70.0713 135.783 74.6777 Q138.862 79.261 138.862 88.011 Q138.862 96.7378 135.783 101.344 Q132.728 105.928 126.918 105.928 Q121.107 105.928 118.029 101.344 Q114.973 96.7378 114.973 88.011 Q114.973 79.261 118.029 74.6777 Q121.107 70.0713 126.918 70.0713 Z\" fill=\"#000000\" fill-rule=\"evenodd\" fill-opacity=\"1\" /><polyline clip-path=\"url(#clip532)\" style=\"stroke:#009af9; stroke-width:4; stroke-opacity:1; fill:none\" points=\"\n",
       "  236.501,766.846 256.566,770.161 442.096,800.812 553.591,819.231 647.86,834.805 750.262,851.722 844.667,867.319 945.879,884.04 1063.14,903.412 1167.36,920.629 \n",
       "  1258.74,935.726 1358.37,952.186 1458.6,968.743 1569.41,987.05 1674.84,1004.47 1784.47,1022.58 1876.75,1037.83 1989.42,1056.44 2095.33,1073.94 2265,1101.97 \n",
       "  2291.12,1106.28 \n",
       "  \"/>\n",
       "<polyline clip-path=\"url(#clip532)\" style=\"stroke:#e26f46; stroke-width:4; stroke-opacity:1; fill:none\" points=\"\n",
       "  236.501,1445.72 256.566,1432.46 442.096,1309.85 553.591,1236.17 647.86,1173.88 750.262,1106.21 844.667,1043.82 945.879,976.941 1063.14,899.45 1167.36,830.585 \n",
       "  1258.74,770.196 1358.37,704.357 1458.6,638.126 1569.41,564.899 1674.84,495.226 1784.47,422.781 1876.75,361.799 1989.42,287.346 2095.33,217.358 2265,105.232 \n",
       "  2291.12,87.9763 \n",
       "  \"/>\n",
       "<circle clip-path=\"url(#clip532)\" cx=\"236.501\" cy=\"766.846\" r=\"14\" fill=\"#3da44d\" fill-rule=\"evenodd\" fill-opacity=\"0.5\" stroke=\"#000000\" stroke-opacity=\"0.5\" stroke-width=\"3.2\"/>\n",
       "<circle clip-path=\"url(#clip532)\" cx=\"1263.81\" cy=\"936.563\" r=\"14\" fill=\"#3da44d\" fill-rule=\"evenodd\" fill-opacity=\"0.5\" stroke=\"#000000\" stroke-opacity=\"0.5\" stroke-width=\"3.2\"/>\n",
       "<circle clip-path=\"url(#clip532)\" cx=\"1006.98\" cy=\"894.134\" r=\"14\" fill=\"#3da44d\" fill-rule=\"evenodd\" fill-opacity=\"0.5\" stroke=\"#000000\" stroke-opacity=\"0.5\" stroke-width=\"3.2\"/>\n",
       "<circle clip-path=\"url(#clip532)\" cx=\"1071.19\" cy=\"904.741\" r=\"14\" fill=\"#3da44d\" fill-rule=\"evenodd\" fill-opacity=\"0.5\" stroke=\"#000000\" stroke-opacity=\"0.5\" stroke-width=\"3.2\"/>\n",
       "<circle clip-path=\"url(#clip532)\" cx=\"1055.14\" cy=\"902.09\" r=\"14\" fill=\"#3da44d\" fill-rule=\"evenodd\" fill-opacity=\"0.5\" stroke=\"#000000\" stroke-opacity=\"0.5\" stroke-width=\"3.2\"/>\n",
       "<circle clip-path=\"url(#clip532)\" cx=\"1059.15\" cy=\"902.753\" r=\"14\" fill=\"#3da44d\" fill-rule=\"evenodd\" fill-opacity=\"0.5\" stroke=\"#000000\" stroke-opacity=\"0.5\" stroke-width=\"3.2\"/>\n",
       "<circle clip-path=\"url(#clip532)\" cx=\"1058.15\" cy=\"902.587\" r=\"14\" fill=\"#3da44d\" fill-rule=\"evenodd\" fill-opacity=\"0.5\" stroke=\"#000000\" stroke-opacity=\"0.5\" stroke-width=\"3.2\"/>\n",
       "<path clip-path=\"url(#clip530)\" d=\"\n",
       "M1986.57 337.138 L2280.16 337.138 L2280.16 95.2176 L1986.57 95.2176  Z\n",
       "  \" fill=\"#ffffff\" fill-rule=\"evenodd\" fill-opacity=\"1\"/>\n",
       "<polyline clip-path=\"url(#clip530)\" style=\"stroke:#000000; stroke-width:4; stroke-opacity:1; fill:none\" points=\"\n",
       "  1986.57,337.138 2280.16,337.138 2280.16,95.2176 1986.57,95.2176 1986.57,337.138 \n",
       "  \"/>\n",
       "<polyline clip-path=\"url(#clip530)\" style=\"stroke:#009af9; stroke-width:4; stroke-opacity:1; fill:none\" points=\"\n",
       "  2010.77,155.698 2155.97,155.698 \n",
       "  \"/>\n",
       "<path clip-path=\"url(#clip530)\" d=\"M 0 0 M2194.01 175.385 Q2192.2 180.015 2190.49 181.427 Q2188.78 182.839 2185.91 182.839 L2182.5 182.839 L2182.5 179.274 L2185 179.274 Q2186.76 179.274 2187.73 178.44 Q2188.71 177.607 2189.89 174.505 L2190.65 172.561 L2180.16 147.052 L2184.68 147.052 L2192.78 167.329 L2200.88 147.052 L2205.4 147.052 L2194.01 175.385 Z\" fill=\"#000000\" fill-rule=\"evenodd\" fill-opacity=\"1\" /><path clip-path=\"url(#clip530)\" d=\"M 0 0 M2211.28 169.042 L2218.91 169.042 L2218.91 142.677 L2210.6 144.343 L2210.6 140.084 L2218.87 138.418 L2223.54 138.418 L2223.54 169.042 L2231.18 169.042 L2231.18 172.978 L2211.28 172.978 L2211.28 169.042 Z\" fill=\"#000000\" fill-rule=\"evenodd\" fill-opacity=\"1\" /><polyline clip-path=\"url(#clip530)\" style=\"stroke:#e26f46; stroke-width:4; stroke-opacity:1; fill:none\" points=\"\n",
       "  2010.77,216.178 2155.97,216.178 \n",
       "  \"/>\n",
       "<path clip-path=\"url(#clip530)\" d=\"M 0 0 M2194.01 235.865 Q2192.2 240.495 2190.49 241.907 Q2188.78 243.319 2185.91 243.319 L2182.5 243.319 L2182.5 239.754 L2185 239.754 Q2186.76 239.754 2187.73 238.92 Q2188.71 238.087 2189.89 234.985 L2190.65 233.041 L2180.16 207.532 L2184.68 207.532 L2192.78 227.809 L2200.88 207.532 L2205.4 207.532 L2194.01 235.865 Z\" fill=\"#000000\" fill-rule=\"evenodd\" fill-opacity=\"1\" /><path clip-path=\"url(#clip530)\" d=\"M 0 0 M2214.49 229.522 L2230.81 229.522 L2230.81 233.458 L2208.87 233.458 L2208.87 229.522 Q2211.53 226.768 2216.11 222.138 Q2220.72 217.485 2221.9 216.143 Q2224.15 213.62 2225.03 211.884 Q2225.93 210.124 2225.93 208.435 Q2225.93 205.68 2223.98 203.944 Q2222.06 202.208 2218.96 202.208 Q2216.76 202.208 2214.31 202.972 Q2211.88 203.735 2209.1 205.286 L2209.1 200.564 Q2211.92 199.43 2214.38 198.851 Q2216.83 198.273 2218.87 198.273 Q2224.24 198.273 2227.43 200.958 Q2230.63 203.643 2230.63 208.134 Q2230.63 210.263 2229.82 212.185 Q2229.03 214.083 2226.92 216.675 Q2226.35 217.347 2223.24 220.564 Q2220.14 223.759 2214.49 229.522 Z\" fill=\"#000000\" fill-rule=\"evenodd\" fill-opacity=\"1\" /><circle clip-path=\"url(#clip530)\" cx=\"2083.37\" cy=\"276.658\" r=\"23\" fill=\"#3da44d\" fill-rule=\"evenodd\" fill-opacity=\"0.5\" stroke=\"#000000\" stroke-opacity=\"0.5\" stroke-width=\"5.12\"/>\n",
       "<path clip-path=\"url(#clip530)\" d=\"M 0 0 M2194.01 296.345 Q2192.2 300.975 2190.49 302.387 Q2188.78 303.799 2185.91 303.799 L2182.5 303.799 L2182.5 300.234 L2185 300.234 Q2186.76 300.234 2187.73 299.4 Q2188.71 298.567 2189.89 295.465 L2190.65 293.521 L2180.16 268.012 L2184.68 268.012 L2192.78 288.289 L2200.88 268.012 L2205.4 268.012 L2194.01 296.345 Z\" fill=\"#000000\" fill-rule=\"evenodd\" fill-opacity=\"1\" /><path clip-path=\"url(#clip530)\" d=\"M 0 0 M2224.63 275.303 Q2227.99 276.021 2229.86 278.289 Q2231.76 280.558 2231.76 283.891 Q2231.76 289.007 2228.24 291.808 Q2224.72 294.609 2218.24 294.609 Q2216.07 294.609 2213.75 294.169 Q2211.46 293.752 2209.01 292.896 L2209.01 288.382 Q2210.95 289.516 2213.27 290.095 Q2215.58 290.674 2218.1 290.674 Q2222.5 290.674 2224.79 288.938 Q2227.11 287.201 2227.11 283.891 Q2227.11 280.836 2224.96 279.123 Q2222.83 277.387 2219.01 277.387 L2214.98 277.387 L2214.98 273.544 L2219.19 273.544 Q2222.64 273.544 2224.47 272.178 Q2226.3 270.79 2226.3 268.197 Q2226.3 265.535 2224.4 264.123 Q2222.53 262.688 2219.01 262.688 Q2217.09 262.688 2214.89 263.104 Q2212.69 263.521 2210.05 264.401 L2210.05 260.234 Q2212.71 259.493 2215.03 259.123 Q2217.36 258.753 2219.42 258.753 Q2224.75 258.753 2227.85 261.183 Q2230.95 263.59 2230.95 267.711 Q2230.95 270.581 2229.31 272.572 Q2227.66 274.54 2224.63 275.303 Z\" fill=\"#000000\" fill-rule=\"evenodd\" fill-opacity=\"1\" /></svg>\n"
      ]
     },
     "execution_count": 177,
     "metadata": {},
     "output_type": "execute_result"
    }
   ],
   "source": [
    "f(x) = 1-x/2\n",
    "g(x) = 2x - 2\n",
    "\n",
    "G = plot([f,g], 1, 1.5)\n",
    "\n",
    "scatter!(G, array_x, array_y, alpha=0.5)"
   ]
  },
  {
   "cell_type": "markdown",
   "metadata": {},
   "source": [
    "## Questão 3. (Chris)"
   ]
  },
  {
   "cell_type": "code",
   "execution_count": null,
   "metadata": {},
   "outputs": [],
   "source": []
  },
  {
   "cell_type": "markdown",
   "metadata": {},
   "source": [
    "## Questão 4. (Thierry)"
   ]
  },
  {
   "cell_type": "markdown",
   "metadata": {},
   "source": [
    "Equações:\n",
    "\n",
    "$$x_8 = x_6 + x_7 + 500$$\n",
    "$$x_7 = x_5 + 3000$$\n",
    "$$x_6 = x_4 + x_2$$\n",
    "$$x_5 = x_3 + 3000$$\n",
    "$$x_4 = x_1 + 30000$$\n",
    "$$x_3 = 9000$$\n",
    "$$x_2 = 3500$$\n",
    "$$x_1 = 7000$$\n",
    "\n",
    "Logo temos o sistema\n",
    "$$\n",
    "\\begin{bmatrix} \n",
    "    0 & 0 & 0 & 0 & 0 & -1 & -1 & 1 \\\\\n",
    "    0 & 0 & 0 & 0 & -1 & 0 & 1 & 0 \\\\\n",
    "    0 & -1 & 0 & -1 & 0 & 1 & 0 & 0 \\\\\n",
    "    0 & 0 & -1 & 0 & 1 & 0 & 0 & 0 \\\\\n",
    "    -1 & 0 & 0 & 1 & 0 & 0 & 0 & 0 \\\\\n",
    "    0 & 0 & 1 & 0 & 0 & 0 & 0 & 0 \\\\\n",
    "    0 & 1 & 0 & 0 & 0 & 0 & 0 & 0 \\\\\n",
    "    1 & 0 & 0 & 0 & 0 & 0 & 0 & 0 \\\\\n",
    "\\end{bmatrix}\n",
    "\\begin{bmatrix} \n",
    "    x_1 \\\\\n",
    "    x_2 \\\\\n",
    "    x_3 \\\\\n",
    "    x_4 \\\\\n",
    "    x_5 \\\\\n",
    "    x_6 \\\\\n",
    "    x_7 \\\\\n",
    "    x_8 \\\\\n",
    "\\end{bmatrix}\n",
    "=\n",
    "\\begin{bmatrix} \n",
    "    500 \\\\\n",
    "    3000 \\\\\n",
    "    0 \\\\\n",
    "    3000 \\\\\n",
    "    30000 \\\\\n",
    "    9000 \\\\\n",
    "    3500 \\\\\n",
    "    7000 \\\\\n",
    "\\end{bmatrix}\n",
    "$$\n",
    "E então,"
   ]
  },
  {
   "cell_type": "code",
   "execution_count": 99,
   "metadata": {},
   "outputs": [
    {
     "name": "stdout",
     "output_type": "stream",
     "text": [
      "35640.566774393475\n",
      "38239.377609997784\n",
      "16000.0\n",
      "0.0\n",
      "0.0\n",
      "0.0\n",
      "0.0\n",
      "0.0\n",
      "0.0\n",
      "0.0\n"
     ]
    }
   ],
   "source": [
    "A = [0 0 0 0 0 -1 -1 1; 0 0 0 0 -1 0 1 0; 0 -1 0 -1 0 1 0 0; 0 0 -1 0 1 0 0 0; -1 0 0 1 0 0 0 0; 0 0 1 0 0 0 0 0; 0 1 0 0 0 0 0 0; 1 0 0 0 0 0 0 0]\n",
    "b = [500; 3000; 0; 3000; 30000; 9000; 3500; 7000]\n",
    "\n",
    "\n",
    "N = 8\n",
    "NewA = zeros(N,N)\n",
    "NewB = zeros(N)\n",
    "for i in 1:N\n",
    "    NewA[i, :] .= A[(N+1)-i, :]\n",
    "    NewB[i] = b[(N+1)-i]\n",
    "end\n",
    "\n",
    "for i in 1:10\n",
    "    x = gauss_jacobi(NewA,NewB, i)\n",
    "    print(norm(NewA*x - NewB), \"\\n\")\n",
    "end\n",
    "#print(x)"
   ]
  },
  {
   "cell_type": "markdown",
   "metadata": {},
   "source": [
    "$$\n",
    "\\begin{bmatrix} \n",
    "    0 & 0 & 0 & 0 & 0 & -1 & -1 & 1 & 0 \\\\\n",
    "    0 & 0 & 0 & 0 & -1 & 0 & 1 & 0 & 0 \\\\\n",
    "    0 & -1 & 0 & -1 & 0 & 1 & 0 & 0 & 0 \\\\\n",
    "    0 & 0 & -1 & 0 & 1 & 0 & 0 & 0 & 1 \\\\\n",
    "    -1 & 0 & 0 & 1 & 0 & 0 & 0 & 0 & -1 \\\\\n",
    "    0 & 0 & 1 & 0 & 0 & 0 & 0 & 0 & 0 \\\\\n",
    "    0 & 1 & 0 & 0 & 0 & 0 & 0 & 0 & 0 \\\\\n",
    "    1 & 0 & 0 & 0 & 0 & 0 & 0 & 0 & 0 \\\\\n",
    "\\end{bmatrix}\n",
    "\\begin{bmatrix} \n",
    "    x_1 \\\\\n",
    "    x_2 \\\\\n",
    "    x_3 \\\\\n",
    "    x_4 \\\\\n",
    "    x_5 \\\\\n",
    "    x_6 \\\\\n",
    "    x_7 \\\\\n",
    "    x_8 \\\\\n",
    "    x_9\\\\\n",
    "\\end{bmatrix}\n",
    "=\n",
    "\\begin{bmatrix} \n",
    "    500 \\\\\n",
    "    3000 \\\\\n",
    "    0 \\\\\n",
    "    3000 \\\\\n",
    "    30000 \\\\\n",
    "    9000 \\\\\n",
    "    3500 \\\\\n",
    "    7000 \\\\\n",
    "\\end{bmatrix}\n",
    "$$"
   ]
  },
  {
   "cell_type": "code",
   "execution_count": 102,
   "metadata": {},
   "outputs": [],
   "source": [
    "A = [0 0 0 0 0 -1 -1 1 0; 0 0 0 0 -1 0 1 0 0; 0 -1 0 -1 0 1 0 0 0; 0 0 -1 0 1 0 0 0 1; -1 0 0 1 0 0 0 0 -1; 0 0 1 0 0 0 0 0 0; 0 1 0 0 0 0 0 0 0; 1 0 0 0 0 0 0 0 0]\n",
    "b = [500; 3000; 0; 3000; 30000; 9000; 3500; 7000]\n",
    "\n",
    "N = 9\n",
    "M = 8\n",
    "NewA = zeros(M,N)\n",
    "NewB = zeros(M)\n",
    "for i in 1:M\n",
    "    NewA[i, :] .= A[(M+1)-i, :]\n",
    "    NewB[i] = b[(M+1)-i]\n",
    "end\n",
    "\n",
    "#NewA\n",
    "#NewB"
   ]
  },
  {
   "cell_type": "markdown",
   "metadata": {},
   "source": [
    "## Questão 5. (Chris)"
   ]
  },
  {
   "cell_type": "code",
   "execution_count": null,
   "metadata": {},
   "outputs": [],
   "source": []
  },
  {
   "cell_type": "markdown",
   "metadata": {},
   "source": [
    "## Questão 6. (Luan)\n",
    "\n",
    "### Considere a bandeira da Grécia como uma imagem preta e branca e modele com uma matriz A.\n",
    "\n",
    "Para modelarmos a bandeira da grécia como uma matriz, consideraremos a seguinte imagem, que preparei com muito carinho:\n",
    "\n",
    "![bandeiraGrecia.png](attachment:bandeiraGrecia.png)\n",
    "\n",
    "Logo teremos \n",
    "\n",
    "$$A = \n",
    "\\begin{bmatrix} \n",
    "    1 & 1 & 0 & 1 & 1 & 1 & 1 & 1 & 1 & 1 & 1 & 1 & 1 & 1 \\\\\n",
    "    1 & 1 & 0 & 1 & 1 & 0 & 0 & 0 & 0 & 0 & 0 & 0 & 0 & 0 \\\\\n",
    "    0 & 0 & 0 & 0 & 0 & 1 & 1 & 1 & 1 & 1 & 1 & 1 & 1 & 1 \\\\\n",
    "    1 & 1 & 0 & 1 & 1 & 0 & 0 & 0 & 0 & 0 & 0 & 0 & 0 & 0 \\\\\n",
    "    1 & 1 & 0 & 1 & 1 & 1 & 1 & 1 & 1 & 1 & 1 & 1 & 1 & 1 \\\\\n",
    "    0 & 0 & 0 & 0 & 0 & 0 & 0 & 0 & 0 & 0 & 0 & 0 & 0 & 0 \\\\\n",
    "    1 & 1 & 1 & 1 & 1 & 1 & 1 & 1 & 1 & 1 & 1 & 1 & 1 & 1 \\\\\n",
    "    0 & 0 & 0 & 0 & 0 & 0 & 0 & 0 & 0 & 0 & 0 & 0 & 0 & 0 \\\\\n",
    "    1 & 1 & 1 & 1 & 1 & 1 & 1 & 1 & 1 & 1 & 1 & 1 & 1 & 1 \\\\\n",
    "\\end{bmatrix}\n",
    "$$\n",
    "\n",
    "#### (a) Qual é o posto da bandeira da Grécia (tal que $A = BC^t$)? O que a matriz $B$ e matriz $C^t$ representam nesse caso? Explique com as suas próprias palavras.\n",
    "\n",
    "$A = \n",
    "\\begin{bmatrix} \n",
    "    1 & 1 & 0 & 1 & 1 & 1 & 1 & 1 & 1 & 1 & 1 & 1 & 1 & 1 \\\\\n",
    "    1 & 1 & 0 & 1 & 1 & 0 & 0 & 0 & 0 & 0 & 0 & 0 & 0 & 0 \\\\\n",
    "    0 & 0 & 0 & 0 & 0 & 1 & 1 & 1 & 1 & 1 & 1 & 1 & 1 & 1 \\\\\n",
    "    1 & 1 & 0 & 1 & 1 & 0 & 0 & 0 & 0 & 0 & 0 & 0 & 0 & 0 \\\\\n",
    "    1 & 1 & 0 & 1 & 1 & 1 & 1 & 1 & 1 & 1 & 1 & 1 & 1 & 1 \\\\\n",
    "    0 & 0 & 0 & 0 & 0 & 0 & 0 & 0 & 0 & 0 & 0 & 0 & 0 & 0 \\\\\n",
    "    1 & 1 & 1 & 1 & 1 & 1 & 1 & 1 & 1 & 1 & 1 & 1 & 1 & 1 \\\\\n",
    "    0 & 0 & 0 & 0 & 0 & 0 & 0 & 0 & 0 & 0 & 0 & 0 & 0 & 0 \\\\\n",
    "    1 & 1 & 1 & 1 & 1 & 1 & 1 & 1 & 1 & 1 & 1 & 1 & 1 & 1 \\\\\n",
    "\\end{bmatrix} \n",
    "=\n",
    "\\begin{bmatrix}\n",
    "    1 & 0 & 1 \\\\\n",
    "    1 & 0 & 0 \\\\\n",
    "    0 & 0 & 1 \\\\\n",
    "    1 & 0 & 0 \\\\\n",
    "    1 & 0 & 1 \\\\\n",
    "    0 & 0 & 0 \\\\\n",
    "    1 & 1 & 1 \\\\\n",
    "    0 & 0 & 0 \\\\\n",
    "    1 & 1 & 1 \\\\\n",
    "\\end{bmatrix}\n",
    "\\begin{bmatrix}\n",
    "    1 & 1 & 0 & 1 & 1 & 0 & 0 & 0 & 0 & 0 & 0 & 0 & 0 & 0 \\\\\n",
    "    0 & 0 & 1 & 0 & 0 & 0 & 0 & 0 & 0 & 0 & 0 & 0 & 0 & 0 \\\\\n",
    "    0 & 0 & 0 & 0 & 0 & 1 & 1 & 1 & 1 & 1 & 1 & 1 & 1 & 1 \\\\\n",
    "\\end{bmatrix}\n",
    "$\n",
    "\n",
    "A matriz $B$ representaria as diferentes \"colunas\" que a bandeira tem, que, nesse caso, são $3$, o nosso posto. $C^t$ por consequência representaria a ordem das \"colunas\" na bandeira.\n",
    "\n",
    "#### (b) Determine dois países tais quais sua bandeira tem posto = 1?\n",
    "\n",
    "Para posto = 1, podemos pensar em bandeiras horizontais, como Ucrânia, Rússia, Iémen, Indonésia, ...\n",
    "\n",
    "#### (c) Determine dois países tais quais sua bandeira tem posto = 2?\n",
    "\n",
    "Para posto = 2, podemos pensar em bandeiras horizontais, porém com algum detalhe simples vertical, como Dinamarca, Finlândia, Suécia, ...\n",
    "\n",
    "#### (c) Determine dois países tais quais sua bandeira tem posto = 3?\n",
    "\n",
    "Para posto = 3, podemos pensar em bandeiras verticais com três cores, como Bélgica, França, Chade, Guinea, ...\n",
    "\n",
    "##### Super interessante pensar nos postos para bandeiras complicadas como a do Brasil, Japão, Arábia Saudita, ..."
   ]
  },
  {
   "cell_type": "code",
   "execution_count": null,
   "metadata": {},
   "outputs": [],
   "source": []
  },
  {
   "cell_type": "markdown",
   "metadata": {},
   "source": [
    "## Questão 7. (Vinicius)"
   ]
  },
  {
   "cell_type": "markdown",
   "metadata": {},
   "source": [
    "Primeiro, fazemos a inserção da imagem:"
   ]
  },
  {
   "cell_type": "code",
   "execution_count": 21,
   "metadata": {},
   "outputs": [
    {
     "data": {
      "image/svg+xml": [
       "<?xml version=\"1.0\" encoding=\"utf-8\"?>\n",
       "<svg xmlns=\"http://www.w3.org/2000/svg\" xmlns:xlink=\"http://www.w3.org/1999/xlink\" width=\"150\" height=\"150\" viewBox=\"0 0 600 600\">\n",
       "<defs>\n",
       "  <clipPath id=\"clip170\">\n",
       "    <rect x=\"0\" y=\"0\" width=\"600\" height=\"600\"/>\n",
       "  </clipPath>\n",
       "</defs>\n",
       "<path clip-path=\"url(#clip170)\" d=\"\n",
       "M0 600 L600 600 L600 0 L0 0  Z\n",
       "  \" fill=\"#ffffff\" fill-rule=\"evenodd\" fill-opacity=\"1\"/>\n",
       "<defs>\n",
       "  <clipPath id=\"clip171\">\n",
       "    <rect x=\"120\" y=\"60\" width=\"421\" height=\"421\"/>\n",
       "  </clipPath>\n",
       "</defs>\n",
       "<path clip-path=\"url(#clip170)\" d=\"\n",
       "M68.9921 531.008 L552.756 531.008 L552.756 47.2441 L68.9921 47.2441  Z\n",
       "  \" fill=\"#ffffff\" fill-rule=\"evenodd\" fill-opacity=\"1\"/>\n",
       "<defs>\n",
       "  <clipPath id=\"clip172\">\n",
       "    <rect x=\"68\" y=\"47\" width=\"485\" height=\"485\"/>\n",
       "  </clipPath>\n",
       "</defs>\n",
       "<polyline clip-path=\"url(#clip170)\" style=\"stroke:#000000; stroke-width:4; stroke-opacity:1; fill:none\" points=\"\n",
       "  68.9921,531.008 552.756,531.008 \n",
       "  \"/>\n",
       "<polyline clip-path=\"url(#clip170)\" style=\"stroke:#000000; stroke-width:4; stroke-opacity:1; fill:none\" points=\"\n",
       "  68.9921,47.2441 68.9921,531.008 \n",
       "  \"/>\n",
       "<g clip-path=\"url(#clip172)\">\n",
       "<image width=\"484\" height=\"484\" xlink:href=\"data:image/png;base64,\n",
       "iVBORw0KGgoAAAANSUhEUgAAAeQAAAHkCAYAAADvrlz5AAAH5ElEQVR4nO3XgYkEMQwEQfu5xDdy\n",
       "fRhqcFUEA0Y0vjMzh1X33u0Jz3MG+9zBPnew6297AAAgyACQIMgAECDIABAgyAAQIMgAECDIABAg\n",
       "yAAQIMgAECDIABAgyAAQIMgAECDIABAgyAAQIMgAECDIABAgyAAQIMgAECDIABAgyAAQIMgAECDI\n",
       "ABAgyAAQIMgAECDIABAgyAAQIMgAECDIABAgyAAQIMgAECDIABAgyAAQIMgAECDIABAgyAAQIMgA\n",
       "ECDIABAgyAAQIMgAECDIABAgyAAQIMgAECDIABAgyAAQIMgAECDIABAgyAAQIMgAECDIABAgyAAQ\n",
       "IMgAECDIABAgyAAQIMgAECDIABAgyAAQIMgAECDIABAgyAAQIMgAECDIABAgyAAQIMgAECDIABAg\n",
       "yAAQIMgAECDIABAgyAAQIMgAECDIABAgyAAQIMgAECDIABAgyAAQIMgAECDIABAgyAAQIMgAECDI\n",
       "ABAgyAAQIMgAECDIABAgyAAQIMgAECDIABAgyAAQIMgAECDIABAgyAAQIMgAECDIABAgyAAQIMgA\n",
       "ECDIABAgyAAQIMgAECDIABAgyAAQIMgAECDIABAgyAAQIMgAECDIABAgyAAQIMgAECDIABAgyAAQ\n",
       "IMgAECDIABAgyAAQIMgAECDIABAgyAAQIMgAECDIABAgyAAQIMgAECDIABAgyAAQIMgAECDIABAg\n",
       "yAAQIMgAECDIABAgyAAQIMgAECDIABAgyAAQIMgAECDIABAgyAAQIMgAECDIABAgyAAQIMgAECDI\n",
       "ABAgyAAQIMgAECDIABAgyAAQIMgAECDIABAgyAAQIMgAECDIABAgyAAQIMgAECDIABAgyAAQIMgA\n",
       "ECDIABAgyAAQIMgAECDIABAgyAAQIMgAECDIABAgyAAQIMgAECDIABAgyAAQIMgAECDIABAgyAAQ\n",
       "IMgAECDIABAgyAAQIMgAECDIABAgyAAQIMgAECDIABAgyAAQIMgAECDIABAgyAAQIMgAECDIABAg\n",
       "yAAQIMgAECDIABAgyAAQIMgAECDIABAgyAAQIMgAECDIABAgyAAQIMgAECDIABAgyAAQIMgAECDI\n",
       "ABDw2x7AOTOzPeF53/dtT3ieO+B1fsgAECDIABAgyAAQIMgAECDIABAgyAAQIMgAECDIABAgyAAQ\n",
       "IMgAECDIABAgyAAQIMgAECDIABAgyAAQIMgAECDIABAgyAAQIMgAECDIABAgyAAQIMgAECDIABAg\n",
       "yAAQIMgAECDIABAgyAAQIMgAECDIABAgyAAQIMgAECDIABAgyAAQIMgAECDIABAgyAAQIMgAECDI\n",
       "ABAgyAAQIMgAECDIABAgyAAQIMgAECDIABAgyAAQIMgAECDIABAgyAAQIMgAECDIABAgyAAQIMgA\n",
       "ECDIABAgyAAQIMgAECDIABAgyAAQIMgAECDIABAgyAAQIMgAECDIABAgyAAQIMgAECDIABAgyAAQ\n",
       "IMgAECDIABAgyAAQIMgAECDIABAgyAAQIMgAECDIABAgyAAQIMgAECDIABAgyAAQIMgAECDIABAg\n",
       "yAAQIMgAECDIABAgyAAQIMgAECDIABAgyAAQIMgAECDIABAgyAAQIMgAECDIABAgyAAQIMgAECDI\n",
       "ABAgyAAQcM85sz3idTOeANh3792e8DQ/ZAAIEGQACBBkAAgQZAAIEGQACBBkAAgQZAAIEGQACBBk\n",
       "AAgQZAAIEGQACBBkAAgQZAAIEGQACBBkAAgQZAAIEGQACBBkAAgQZAAIEGQACBBkAAgQZAAIEGQA\n",
       "CBBkAAgQZAAIEGQACBBkAAgQZAAIEGQACBBkAAgQZAAIEGQACBBkAAgQZAAIEGQACBBkAAgQZAAI\n",
       "EGQACBBkAAgQZAAIEGQACBBkAAgQZAAIEGQACBBkAAgQZAAIEGQACBBkAAgQZAAIEGQACBBkAAgQ\n",
       "ZAAIEGQACBBkAAgQZAAIEGQACBBkAAgQZAAIEGQACBBkAAgQZAAIEGQACBBkAAgQZAAIEGQACBBk\n",
       "AAgQZAAIEGQACBBkAAgQZAAIEGQACBBkAAgQZAAIEGQACBBkAAgQZAAIEGQACBBkAAgQZAAIEGQA\n",
       "CBBkAAgQZAAIEGQACBBkAAgQZAAIEGQACBBkAAgQZAAIEGQACBBkAAgQZAAIEGQACBBkAAgQZAAI\n",
       "EGQACBBkAAj4zcz2hufde7cnABw92OWHDAABggwAAYIMAAGCDAABggwAAYIMAAGCDAABggwAAYIM\n",
       "AAGCDAABggwAAYIMAAGCDAABggwAAYIMAAGCDAABggwAAYIMAAGCDAABggwAAYIMAAGCDAABggwA\n",
       "AYIMAAGCDAABggwAAYIMAAGCDAABggwAAYIMAAGCDAABggwAAYIMAAGCDAABggwAAYIMAAGCDAAB\n",
       "ggwAAYIMAAGCDAABggwAAYIMAAGCDAABggwAAYIMAAGCDAABggwAAYIMAAGCDAABggwAAYIMAAGC\n",
       "DAABggwAAYIMAAGCDAABggwAAYIMAAGCDAABggwAAYIMAAGCDAABggwAAYIMAAGCDAABggwAAYIM\n",
       "AAGCDAABggwAAYIMAAGCDAABggwAAYIMAAGCDAABggwAAYIMAAGCDAABggwAAYIMAAGCDAABggwA\n",
       "AYIMAAGCDAABggwAAYIMAAGCDAABggwAAYIMAAGCDAABggwAAYIMAAGCDAABggwAAYIMAAGCDAAB\n",
       "ggwAAf/8zB9AU5qw8AAAAABJRU5ErkJggg==\n",
       "\" transform=\"translate(69, 47)\"/>\n",
       "</g>\n",
       "</svg>\n"
      ]
     },
     "execution_count": 21,
     "metadata": {},
     "output_type": "execute_result"
    }
   ],
   "source": [
    "imagem = [0 1 0 1 0 ; 0 1 0 1 0 ; 0 0 0.5 0 0 ; 1 0 0 0 1 ; 0 1 1 1 0]\n",
    "plot(Gray.(1 .- imagem), size=(150,150), axis=nothing)"
   ]
  },
  {
   "cell_type": "markdown",
   "metadata": {},
   "source": [
    "Podemos descobrir o posto da imagem através da função rank:"
   ]
  },
  {
   "cell_type": "code",
   "execution_count": 22,
   "metadata": {},
   "outputs": [
    {
     "data": {
      "text/plain": [
       "3"
      ]
     },
     "execution_count": 22,
     "metadata": {},
     "output_type": "execute_result"
    }
   ],
   "source": [
    "rank(imagem)"
   ]
  },
  {
   "cell_type": "markdown",
   "metadata": {},
   "source": [
    "Para níveis de compressão abaixo do posto da imagem, a nitidez é prejudicada:"
   ]
  },
  {
   "cell_type": "code",
   "execution_count": 23,
   "metadata": {},
   "outputs": [
    {
     "data": {
      "image/svg+xml": [
       "<?xml version=\"1.0\" encoding=\"utf-8\"?>\n",
       "<svg xmlns=\"http://www.w3.org/2000/svg\" xmlns:xlink=\"http://www.w3.org/1999/xlink\" width=\"150\" height=\"150\" viewBox=\"0 0 600 600\">\n",
       "<defs>\n",
       "  <clipPath id=\"clip210\">\n",
       "    <rect x=\"0\" y=\"0\" width=\"600\" height=\"600\"/>\n",
       "  </clipPath>\n",
       "</defs>\n",
       "<path clip-path=\"url(#clip210)\" d=\"\n",
       "M0 600 L600 600 L600 0 L0 0  Z\n",
       "  \" fill=\"#ffffff\" fill-rule=\"evenodd\" fill-opacity=\"1\"/>\n",
       "<defs>\n",
       "  <clipPath id=\"clip211\">\n",
       "    <rect x=\"120\" y=\"60\" width=\"421\" height=\"421\"/>\n",
       "  </clipPath>\n",
       "</defs>\n",
       "<path clip-path=\"url(#clip210)\" d=\"\n",
       "M68.9921 531.008 L552.756 531.008 L552.756 47.2441 L68.9921 47.2441  Z\n",
       "  \" fill=\"#ffffff\" fill-rule=\"evenodd\" fill-opacity=\"1\"/>\n",
       "<defs>\n",
       "  <clipPath id=\"clip212\">\n",
       "    <rect x=\"68\" y=\"47\" width=\"485\" height=\"485\"/>\n",
       "  </clipPath>\n",
       "</defs>\n",
       "<polyline clip-path=\"url(#clip210)\" style=\"stroke:#000000; stroke-width:4; stroke-opacity:1; fill:none\" points=\"\n",
       "  68.9921,531.008 552.756,531.008 \n",
       "  \"/>\n",
       "<polyline clip-path=\"url(#clip210)\" style=\"stroke:#000000; stroke-width:4; stroke-opacity:1; fill:none\" points=\"\n",
       "  68.9921,47.2441 68.9921,531.008 \n",
       "  \"/>\n",
       "<g clip-path=\"url(#clip212)\">\n",
       "<image width=\"484\" height=\"484\" xlink:href=\"data:image/png;base64,\n",
       "iVBORw0KGgoAAAANSUhEUgAAAeQAAAHkCAYAAADvrlz5AAAICUlEQVR4nO3XsY3DQBAEQfEhW44M\n",
       "hclYGCYNOUrgPoxt4KoiGK8xx1prPRj1fr+nJ2zvuq7pCds7z3N6wva+3+/0hK39TQ8AAAQZABIE\n",
       "GQACBBkAAgQZAAIEGQACBBkAAgQZAAIEGQACBBkAAgQZAAIEGQACBBkAAgQZAAIEGQACBBkAAgQZ\n",
       "AAIEGQACBBkAAgQZAAIEGQACBBkAAgQZAAIEGQACBBkAAgQZAAIEGQACBBkAAgQZAAIEGQACBBkA\n",
       "AgQZAAIEGQACBBkAAgQZAAIEGQACBBkAAgQZAAIEGQACBBkAAgQZAAIEGQACBBkAAgQZAAIEGQAC\n",
       "BBkAAgQZAAIEGQACBBkAAgQZAAIEGQACBBkAAgQZAAIEGQACBBkAAgQZAAIEGQACBBkAAgQZAAIE\n",
       "GQACBBkAAgQZAAIEGQACBBkAAgQZAAIEGQACBBkAAgQZAAIEGQACBBkAAgQZAAIEGQACBBkAAgQZ\n",
       "AAIEGQACBBkAAgQZAAIEGQACBBkAAgQZAAIEGQACBBkAAgQZAAIEGQACBBkAAgQZAAIEGQACBBkA\n",
       "AgQZAAIEGQACBBkAAgQZAAIEGQACBBkAAgQZAAIEGQACBBkAAgQZAAIEGQACBBkAAgQZAAIEGQAC\n",
       "BBkAAgQZAAIEGQACBBkAAgQZAAIEGQACBBkAAgQZAAIEGQACBBkAAgQZAAIEGQACBBkAAgQZAAIE\n",
       "GQACBBkAAgQZAAIEGQACBBkAAgQZAAIEGQACBBkAAgQZAAIEGQACBBkAAgQZAAIEGQACBBkAAgQZ\n",
       "AAIEGQACBBkAAgQZAAIEGQACBBkAAgQZAAIEGQACBBkAAgQZAAIEGQACBBkAAgQZAAIEGQACBBkA\n",
       "AgQZAAIEGQACBBkAAgQZAAIEGQACBBkAAgQZAAIEGQACBBkAAgQZAAIEGQACBBkAAgQZAAIEGQAC\n",
       "BBkAAgQZAAIEGQACBBkAAgQZAAIEGQACBBkAAgQZAAIEGQACBBkAAgQZAAIEGQACBBkAAgQZAAIE\n",
       "GQACBBkAAgQZAAIEGQACBBkAAgQZAAIEGQACBBkAAgQZAAIEGQACBBkAAgQZAAIEGQACBBkAAgQZ\n",
       "AAIEGQACBBkAAgQZAAIEGQACBBkAAo611poesbv7vqcnbO/1ek1P2N7v95uesL3P5zM9YWseMgAE\n",
       "CDIABAgyAAQIMgAECDIABAgyAAQIMgAECDIABAgyAAQIMgAECDIABAgyAAQIMgAECDIABAgyAAQI\n",
       "MgAECDIABAgyAAQIMgAECDIABAgyAAQIMgAECDIABAgyAAQIMgAECDIABAgyAAQIMgAECDIABAgy\n",
       "AAQIMgAECDIABAgyAAQIMgAECDIABAgyAAQIMgAECDIABAgyAAQIMgAECDIABAgyAAQIMgAECDIA\n",
       "BAgyAAQIMgAECDIABAgyAAQIMgAECDIABAgyAAQIMgAECDIABAgyAAQIMgAECDIABAgyAAQIMgAE\n",
       "CDIABAgyAAQIMgAECDIABAgyAAQIMgAECDIABAgyAAQIMgAECDIABAgyAAQIMgAECDIABAgyAAQI\n",
       "MgAECDIABAgyAAQIMgAECDIABAgyAAQIMgAECDIABAgyAAQIMgAECDIABAgyAAQIMgAECDIABAgy\n",
       "AAQIMgAECDIABAgyAAQIMgAECDIABAgyAAQIMgAECDIABAgyAAQca601PQIAduchA0CAIANAgCAD\n",
       "QIAgA0CAIANAgCADQIAgA0CAIANAgCADQIAgA0CAIANAgCADQIAgA0CAIANAgCADQIAgA0CAIANA\n",
       "gCADQIAgA0CAIANAgCADQIAgA0CAIANAgCADQIAgA0CAIANAgCADQIAgA0CAIANAgCADQIAgA0CA\n",
       "IANAgCADQIAgA0CAIANAgCADQIAgA0CAIANAgCADQIAgA0CAIANAgCADQIAgA0CAIANAgCADQIAg\n",
       "A0CAIANAgCADQIAgA0CAIANAgCADQIAgA0CAIANAgCADQIAgA0CAIANAgCADQIAgA0CAIANAgCAD\n",
       "QIAgA0CAIANAgCADQIAgA0CAIANAgCADQIAgA0CAIANAgCADQIAgA0CAIANAgCADQIAgA0CAIANA\n",
       "gCADQIAgA0CAIANAgCADQIAgA0CAIANAgCADQIAgA0CAIANAgCADQIAgA0CAIANAgCADQIAgA0CA\n",
       "IANAgCADQIAgA0CAIANAgCADQIAgA0CAIANAgCADQMBzegCPx3Ec0xO2d13X9ITtnec5PWF7a63p\n",
       "CVvzkAEgQJABIECQASBAkAEgQJABIECQASBAkAEgQJABIECQASBAkAEgQJABIECQASBAkAEgQJAB\n",
       "IECQASBAkAEgQJABIECQASBAkAEgQJABIECQASBAkAEgQJABIECQASBAkAEgQJABIECQASBAkAEg\n",
       "QJABIECQASBAkAEgQJABIECQASBAkAEgQJABIECQASBAkAEgQJABIECQASBAkAEgQJABIECQASBA\n",
       "kAEgQJABIECQASBAkAEgQJABIECQASBAkAEgQJABIECQASBAkAEgQJABIECQASBAkAEgQJABIECQ\n",
       "ASBAkAEgQJABIECQASBAkAEgQJABIECQASBAkAEgQJABIECQASBAkAEgQJABIECQASBAkAEgQJAB\n",
       "IECQASBAkAEgQJABIECQASBAkAEgQJABIECQASBAkAEgQJABIECQASBAkAEgQJABIECQASBAkAEg\n",
       "QJABIECQASBAkAEgQJABIECQASBAkAEgQJABIECQASBAkAEgQJABIOAfCeghvNB1SO8AAAAASUVO\n",
       "RK5CYII=\n",
       "\" transform=\"translate(69, 47)\"/>\n",
       "</g>\n",
       "</svg>\n"
      ]
     },
     "execution_count": 23,
     "metadata": {},
     "output_type": "execute_result"
    }
   ],
   "source": [
    "B,c = compressao(imagem, 1)\n",
    "plot(Gray.(1 .- B*c'), size=(150,150), axis=nothing)"
   ]
  },
  {
   "cell_type": "code",
   "execution_count": 24,
   "metadata": {},
   "outputs": [
    {
     "data": {
      "image/svg+xml": [
       "<?xml version=\"1.0\" encoding=\"utf-8\"?>\n",
       "<svg xmlns=\"http://www.w3.org/2000/svg\" xmlns:xlink=\"http://www.w3.org/1999/xlink\" width=\"150\" height=\"150\" viewBox=\"0 0 600 600\">\n",
       "<defs>\n",
       "  <clipPath id=\"clip250\">\n",
       "    <rect x=\"0\" y=\"0\" width=\"600\" height=\"600\"/>\n",
       "  </clipPath>\n",
       "</defs>\n",
       "<path clip-path=\"url(#clip250)\" d=\"\n",
       "M0 600 L600 600 L600 0 L0 0  Z\n",
       "  \" fill=\"#ffffff\" fill-rule=\"evenodd\" fill-opacity=\"1\"/>\n",
       "<defs>\n",
       "  <clipPath id=\"clip251\">\n",
       "    <rect x=\"120\" y=\"60\" width=\"421\" height=\"421\"/>\n",
       "  </clipPath>\n",
       "</defs>\n",
       "<path clip-path=\"url(#clip250)\" d=\"\n",
       "M68.9921 531.008 L552.756 531.008 L552.756 47.2441 L68.9921 47.2441  Z\n",
       "  \" fill=\"#ffffff\" fill-rule=\"evenodd\" fill-opacity=\"1\"/>\n",
       "<defs>\n",
       "  <clipPath id=\"clip252\">\n",
       "    <rect x=\"68\" y=\"47\" width=\"485\" height=\"485\"/>\n",
       "  </clipPath>\n",
       "</defs>\n",
       "<polyline clip-path=\"url(#clip250)\" style=\"stroke:#000000; stroke-width:4; stroke-opacity:1; fill:none\" points=\"\n",
       "  68.9921,531.008 552.756,531.008 \n",
       "  \"/>\n",
       "<polyline clip-path=\"url(#clip250)\" style=\"stroke:#000000; stroke-width:4; stroke-opacity:1; fill:none\" points=\"\n",
       "  68.9921,47.2441 68.9921,531.008 \n",
       "  \"/>\n",
       "<g clip-path=\"url(#clip252)\">\n",
       "<image width=\"484\" height=\"484\" xlink:href=\"data:image/png;base64,\n",
       "iVBORw0KGgoAAAANSUhEUgAAAeQAAAHkCAYAAADvrlz5AAAIE0lEQVR4nO3Xsa0jQQwFQc3h23Jk\n",
       "KMyNZcOUIUcJzIXBBqYqggfQaHDtvfeDUa/Xa3rC8e77np5wvOu6picc7/v9Tk842r/pAQCAIANA\n",
       "giADQIAgA0CAIANAgCADQIAgA0CAIANAgCADQIAgA0CAIANAgCADQIAgA0CAIANAgCADQIAgA0CA\n",
       "IANAgCADQIAgA0CAIANAgCADQIAgA0CAIANAgCADQIAgA0CAIANAgCADQIAgA0CAIANAgCADQIAg\n",
       "A0CAIANAgCADQIAgA0CAIANAgCADQIAgA0CAIANAgCADQIAgA0CAIANAgCADQIAgA0CAIANAgCAD\n",
       "QIAgA0CAIANAgCADQIAgA0CAIANAgCADQIAgA0CAIANAgCADQIAgA0CAIANAgCADQIAgA0CAIANA\n",
       "gCADQIAgA0CAIANAgCADQIAgA0CAIANAgCADQIAgA0CAIANAgCADQIAgA0CAIANAgCADQIAgA0CA\n",
       "IANAgCADQIAgA0CAIANAgCADQIAgA0CAIANAgCADQIAgA0CAIANAgCADQIAgA0CAIANAgCADQIAg\n",
       "A0CAIANAgCADQIAgA0CAIANAgCADQIAgA0CAIANAgCADQIAgA0CAIANAgCADQIAgA0CAIANAgCAD\n",
       "QIAgA0CAIANAgCADQIAgA0CAIANAgCADQIAgA0CAIANAgCADQIAgA0CAIANAgCADQIAgA0CAIANA\n",
       "gCADQIAgA0CAIANAgCADQIAgA0CAIANAgCADQIAgA0CAIANAgCADQIAgA0CAIANAgCADQIAgA0CA\n",
       "IANAgCADQIAgA0CAIANAgCADQIAgA0CAIANAgCADQIAgA0CAIANAgCADQIAgA0CAIANAgCADQIAg\n",
       "A0CAIANAgCADQIAgA0CAIANAgCADQIAgA0CAIANAgCADQIAgA0CAIANAgCADQIAgA0CAIANAgCAD\n",
       "QIAgA0CAIANAgCADQIAgA0CAIANAgCADQIAgA0CAIANAgCADQIAgA0CAIANAgCADQIAgA0CAIANA\n",
       "gCADQIAgA0CAIANAgCADQIAgA0CAIANAgCADQIAgA0CAIANAgCADQIAgA0CAIANAgCADQIAgA0CA\n",
       "IANAgCADQIAgA0CAIANAgCADQIAgA0DA2nvv6RGn+3w+0xOO93w+pycc7/f7TU843vv9np5wNB8y\n",
       "AAQIMgAECDIABAgyAAQIMgAECDIABAgyAAQIMgAECDIABAgyAAQIMgAECDIABAgyAAQIMgAECDIA\n",
       "BAgyAAQIMgAECDIABAgyAAQIMgAECDIABAgyAAQIMgAECDIABAgyAAQIMgAECDIABAgyAAQIMgAE\n",
       "CDIABAgyAAQIMgAECDIABAgyAAQIMgAECDIABAgyAAQIMgAECDIABAgyAAQIMgAECDIABAgyAAQI\n",
       "MgAECDIABAgyAAQIMgAECDIABAgyAAQIMgAECDIABAgyAAQIMgAECDIABAgyAAQIMgAECDIABAgy\n",
       "AAQIMgAECDIABAgyAAQIMgAECDIABAgyAAQIMgAECDIABAgyAAQIMgAECDIABAgyAAQIMgAECDIA\n",
       "BAgyAAQIMgAECDIABAgyAAQIMgAECDIABAgyAAQIMgAECDIABAgyAAQIMgAECDIABAgyAAQIMgAE\n",
       "CDIABAgyAAQIMgAECDIABAgyAAQIMgAECDIABAgyAAQIMgAECDIABKzH47GnR5xubycA5q21picc\n",
       "zYcMAAGCDAABggwAAYIMAAGCDAABggwAAYIMAAGCDAABggwAAYIMAAGCDAABggwAAYIMAAGCDAAB\n",
       "ggwAAYIMAAGCDAABggwAAYIMAAGCDAABggwAAYIMAAGCDAABggwAAYIMAAGCDAABggwAAYIMAAGC\n",
       "DAABggwAAYIMAAGCDAABggwAAYIMAAGCDAABggwAAYIMAAGCDAABggwAAYIMAAGCDAABggwAAYIM\n",
       "AAGCDAABggwAAYIMAAGCDAABggwAAYIMAAGCDAABggwAAYIMAAGCDAABggwAAYIMAAGCDAABggwA\n",
       "AYIMAAGCDAABggwAAYIMAAGCDAABggwAAYIMAAGCDAABggwAAYIMAAGCDAABggwAAYIMAAGCDAAB\n",
       "ggwAAYIMAAGCDAABggwAAYIMAAGCDAABggwAAYIMAAGCDAABggwAAYIMAAGCDAABggwAAYIMAAGC\n",
       "DAABggwAAYIMAAGCDAABggwAAYIMAAGCDAABggwAAYIMAAGCDAABggwAAX977+kNx1trTU843n3f\n",
       "0xOOd13X9ITj6cEsHzIABAgyAAQIMgAECDIABAgyAAQIMgAECDIABAgyAAQIMgAECDIABAgyAAQI\n",
       "MgAECDIABAgyAAQIMgAECDIABAgyAAQIMgAECDIABAgyAAQIMgAECDIABAgyAAQIMgAECDIABAgy\n",
       "AAQIMgAECDIABAgyAAQIMgAECDIABAgyAAQIMgAECDIABAgyAAQIMgAECDIABAgyAAQIMgAECDIA\n",
       "BAgyAAQIMgAECDIABAgyAAQIMgAECDIABAgyAAQIMgAECDIABAgyAAQIMgAECDIABAgyAAQIMgAE\n",
       "CDIABAgyAAQIMgAECDIABAgyAAQIMgAECDIABAgyAAQIMgAECDIABAgyAAQIMgAECDIABAgyAAQI\n",
       "MgAECDIABAgyAAQIMgAECDIABAgyAAQIMgAECDIABAgyAAQIMgAECDIABAgyAAQIMgAECDIABAgy\n",
       "AAQIMgAECDIABAgyAAQIMgAECDIABAgyAAQIMgAECDIABAgyAAQIMgAECDIABAgyAAT8B6QAJLxR\n",
       "SGtwAAAAAElFTkSuQmCC\n",
       "\" transform=\"translate(69, 47)\"/>\n",
       "</g>\n",
       "</svg>\n"
      ]
     },
     "execution_count": 24,
     "metadata": {},
     "output_type": "execute_result"
    }
   ],
   "source": [
    "B,c = compressao(imagem, 2)\n",
    "plot(Gray.(1 .- B*c'), size=(150,150), axis=nothing)"
   ]
  },
  {
   "cell_type": "markdown",
   "metadata": {},
   "source": [
    "A partir do nível de compressão igual ao posto da imagem a nitidez é mantida como a original."
   ]
  },
  {
   "cell_type": "code",
   "execution_count": 25,
   "metadata": {},
   "outputs": [
    {
     "data": {
      "image/svg+xml": [
       "<?xml version=\"1.0\" encoding=\"utf-8\"?>\n",
       "<svg xmlns=\"http://www.w3.org/2000/svg\" xmlns:xlink=\"http://www.w3.org/1999/xlink\" width=\"150\" height=\"150\" viewBox=\"0 0 600 600\">\n",
       "<defs>\n",
       "  <clipPath id=\"clip290\">\n",
       "    <rect x=\"0\" y=\"0\" width=\"600\" height=\"600\"/>\n",
       "  </clipPath>\n",
       "</defs>\n",
       "<path clip-path=\"url(#clip290)\" d=\"\n",
       "M0 600 L600 600 L600 0 L0 0  Z\n",
       "  \" fill=\"#ffffff\" fill-rule=\"evenodd\" fill-opacity=\"1\"/>\n",
       "<defs>\n",
       "  <clipPath id=\"clip291\">\n",
       "    <rect x=\"120\" y=\"60\" width=\"421\" height=\"421\"/>\n",
       "  </clipPath>\n",
       "</defs>\n",
       "<path clip-path=\"url(#clip290)\" d=\"\n",
       "M68.9921 531.008 L552.756 531.008 L552.756 47.2441 L68.9921 47.2441  Z\n",
       "  \" fill=\"#ffffff\" fill-rule=\"evenodd\" fill-opacity=\"1\"/>\n",
       "<defs>\n",
       "  <clipPath id=\"clip292\">\n",
       "    <rect x=\"68\" y=\"47\" width=\"485\" height=\"485\"/>\n",
       "  </clipPath>\n",
       "</defs>\n",
       "<polyline clip-path=\"url(#clip290)\" style=\"stroke:#000000; stroke-width:4; stroke-opacity:1; fill:none\" points=\"\n",
       "  68.9921,531.008 552.756,531.008 \n",
       "  \"/>\n",
       "<polyline clip-path=\"url(#clip290)\" style=\"stroke:#000000; stroke-width:4; stroke-opacity:1; fill:none\" points=\"\n",
       "  68.9921,47.2441 68.9921,531.008 \n",
       "  \"/>\n",
       "<g clip-path=\"url(#clip292)\">\n",
       "<image width=\"484\" height=\"484\" xlink:href=\"data:image/png;base64,\n",
       "iVBORw0KGgoAAAANSUhEUgAAAeQAAAHkCAYAAADvrlz5AAAH5ElEQVR4nO3XgYkEMQwEQfu5xDdy\n",
       "fRhqcFUEA0Y0vjMzh1X33u0Jz3MG+9zBPnew6297AAAgyACQIMgAECDIABAgyAAQIMgAECDIABAg\n",
       "yAAQIMgAECDIABAgyAAQIMgAECDIABAgyAAQIMgAECDIABAgyAAQIMgAECDIABAgyAAQIMgAECDI\n",
       "ABAgyAAQIMgAECDIABAgyAAQIMgAECDIABAgyAAQIMgAECDIABAgyAAQIMgAECDIABAgyAAQIMgA\n",
       "ECDIABAgyAAQIMgAECDIABAgyAAQIMgAECDIABAgyAAQIMgAECDIABAgyAAQIMgAECDIABAgyAAQ\n",
       "IMgAECDIABAgyAAQIMgAECDIABAgyAAQIMgAECDIABAgyAAQIMgAECDIABAgyAAQIMgAECDIABAg\n",
       "yAAQIMgAECDIABAgyAAQIMgAECDIABAgyAAQIMgAECDIABAgyAAQIMgAECDIABAgyAAQIMgAECDI\n",
       "ABAgyAAQIMgAECDIABAgyAAQIMgAECDIABAgyAAQIMgAECDIABAgyAAQIMgAECDIABAgyAAQIMgA\n",
       "ECDIABAgyAAQIMgAECDIABAgyAAQIMgAECDIABAgyAAQIMgAECDIABAgyAAQIMgAECDIABAgyAAQ\n",
       "IMgAECDIABAgyAAQIMgAECDIABAgyAAQIMgAECDIABAgyAAQIMgAECDIABAgyAAQIMgAECDIABAg\n",
       "yAAQIMgAECDIABAgyAAQIMgAECDIABAgyAAQIMgAECDIABAgyAAQIMgAECDIABAgyAAQIMgAECDI\n",
       "ABAgyAAQIMgAECDIABAgyAAQIMgAECDIABAgyAAQIMgAECDIABAgyAAQIMgAECDIABAgyAAQIMgA\n",
       "ECDIABAgyAAQIMgAECDIABAgyAAQIMgAECDIABAgyAAQIMgAECDIABAgyAAQIMgAECDIABAgyAAQ\n",
       "IMgAECDIABAgyAAQIMgAECDIABAgyAAQIMgAECDIABAgyAAQIMgAECDIABAgyAAQIMgAECDIABAg\n",
       "yAAQIMgAECDIABAgyAAQIMgAECDIABAgyAAQIMgAECDIABAgyAAQIMgAECDIABAgyAAQIMgAECDI\n",
       "ABDw2x7AOTOzPeF53/dtT3ieO+B1fsgAECDIABAgyAAQIMgAECDIABAgyAAQIMgAECDIABAgyAAQ\n",
       "IMgAECDIABAgyAAQIMgAECDIABAgyAAQIMgAECDIABAgyAAQIMgAECDIABAgyAAQIMgAECDIABAg\n",
       "yAAQIMgAECDIABAgyAAQIMgAECDIABAgyAAQIMgAECDIABAgyAAQIMgAECDIABAgyAAQIMgAECDI\n",
       "ABAgyAAQIMgAECDIABAgyAAQIMgAECDIABAgyAAQIMgAECDIABAgyAAQIMgAECDIABAgyAAQIMgA\n",
       "ECDIABAgyAAQIMgAECDIABAgyAAQIMgAECDIABAgyAAQIMgAECDIABAgyAAQIMgAECDIABAgyAAQ\n",
       "IMgAECDIABAgyAAQIMgAECDIABAgyAAQIMgAECDIABAgyAAQIMgAECDIABAgyAAQIMgAECDIABAg\n",
       "yAAQIMgAECDIABAgyAAQIMgAECDIABAgyAAQIMgAECDIABAgyAAQIMgAECDIABAgyAAQIMgAECDI\n",
       "ABAgyAAQcM85sz3idTOeANh3792e8DQ/ZAAIEGQACBBkAAgQZAAIEGQACBBkAAgQZAAIEGQACBBk\n",
       "AAgQZAAIEGQACBBkAAgQZAAIEGQACBBkAAgQZAAIEGQACBBkAAgQZAAIEGQACBBkAAgQZAAIEGQA\n",
       "CBBkAAgQZAAIEGQACBBkAAgQZAAIEGQACBBkAAgQZAAIEGQACBBkAAgQZAAIEGQACBBkAAgQZAAI\n",
       "EGQACBBkAAgQZAAIEGQACBBkAAgQZAAIEGQACBBkAAgQZAAIEGQACBBkAAgQZAAIEGQACBBkAAgQ\n",
       "ZAAIEGQACBBkAAgQZAAIEGQACBBkAAgQZAAIEGQACBBkAAgQZAAIEGQACBBkAAgQZAAIEGQACBBk\n",
       "AAgQZAAIEGQACBBkAAgQZAAIEGQACBBkAAgQZAAIEGQACBBkAAgQZAAIEGQACBBkAAgQZAAIEGQA\n",
       "CBBkAAgQZAAIEGQACBBkAAgQZAAIEGQACBBkAAgQZAAIEGQACBBkAAgQZAAIEGQACBBkAAgQZAAI\n",
       "EGQACBBkAAj4zcz2hufde7cnABw92OWHDAABggwAAYIMAAGCDAABggwAAYIMAAGCDAABggwAAYIM\n",
       "AAGCDAABggwAAYIMAAGCDAABggwAAYIMAAGCDAABggwAAYIMAAGCDAABggwAAYIMAAGCDAABggwA\n",
       "AYIMAAGCDAABggwAAYIMAAGCDAABggwAAYIMAAGCDAABggwAAYIMAAGCDAABggwAAYIMAAGCDAAB\n",
       "ggwAAYIMAAGCDAABggwAAYIMAAGCDAABggwAAYIMAAGCDAABggwAAYIMAAGCDAABggwAAYIMAAGC\n",
       "DAABggwAAYIMAAGCDAABggwAAYIMAAGCDAABggwAAYIMAAGCDAABggwAAYIMAAGCDAABggwAAYIM\n",
       "AAGCDAABggwAAYIMAAGCDAABggwAAYIMAAGCDAABggwAAYIMAAGCDAABggwAAYIMAAGCDAABggwA\n",
       "AYIMAAGCDAABggwAAYIMAAGCDAABggwAAYIMAAGCDAABggwAAYIMAAGCDAABggwAAYIMAAGCDAAB\n",
       "ggwAAf/8zB9AU5qw8AAAAABJRU5ErkJggg==\n",
       "\" transform=\"translate(69, 47)\"/>\n",
       "</g>\n",
       "</svg>\n"
      ]
     },
     "execution_count": 25,
     "metadata": {},
     "output_type": "execute_result"
    }
   ],
   "source": [
    "B,c = compressao(imagem, 3)\n",
    "plot(Gray.(1 .- B*c'), size=(150,150), axis=nothing)"
   ]
  },
  {
   "cell_type": "code",
   "execution_count": 26,
   "metadata": {},
   "outputs": [
    {
     "data": {
      "image/svg+xml": [
       "<?xml version=\"1.0\" encoding=\"utf-8\"?>\n",
       "<svg xmlns=\"http://www.w3.org/2000/svg\" xmlns:xlink=\"http://www.w3.org/1999/xlink\" width=\"150\" height=\"150\" viewBox=\"0 0 600 600\">\n",
       "<defs>\n",
       "  <clipPath id=\"clip330\">\n",
       "    <rect x=\"0\" y=\"0\" width=\"600\" height=\"600\"/>\n",
       "  </clipPath>\n",
       "</defs>\n",
       "<path clip-path=\"url(#clip330)\" d=\"\n",
       "M0 600 L600 600 L600 0 L0 0  Z\n",
       "  \" fill=\"#ffffff\" fill-rule=\"evenodd\" fill-opacity=\"1\"/>\n",
       "<defs>\n",
       "  <clipPath id=\"clip331\">\n",
       "    <rect x=\"120\" y=\"60\" width=\"421\" height=\"421\"/>\n",
       "  </clipPath>\n",
       "</defs>\n",
       "<path clip-path=\"url(#clip330)\" d=\"\n",
       "M68.9921 531.008 L552.756 531.008 L552.756 47.2441 L68.9921 47.2441  Z\n",
       "  \" fill=\"#ffffff\" fill-rule=\"evenodd\" fill-opacity=\"1\"/>\n",
       "<defs>\n",
       "  <clipPath id=\"clip332\">\n",
       "    <rect x=\"68\" y=\"47\" width=\"485\" height=\"485\"/>\n",
       "  </clipPath>\n",
       "</defs>\n",
       "<polyline clip-path=\"url(#clip330)\" style=\"stroke:#000000; stroke-width:4; stroke-opacity:1; fill:none\" points=\"\n",
       "  68.9921,531.008 552.756,531.008 \n",
       "  \"/>\n",
       "<polyline clip-path=\"url(#clip330)\" style=\"stroke:#000000; stroke-width:4; stroke-opacity:1; fill:none\" points=\"\n",
       "  68.9921,47.2441 68.9921,531.008 \n",
       "  \"/>\n",
       "<g clip-path=\"url(#clip332)\">\n",
       "<image width=\"484\" height=\"484\" xlink:href=\"data:image/png;base64,\n",
       "iVBORw0KGgoAAAANSUhEUgAAAeQAAAHkCAYAAADvrlz5AAAH5ElEQVR4nO3XgYkEMQwEQfu5wDdz\n",
       "fRhqcFUEA0Y0vjMzh1X33u0Jz3MG+9zBPnew6297AAAgyACQIMgAECDIABAgyAAQIMgAECDIABAg\n",
       "yAAQIMgAECDIABAgyAAQIMgAECDIABAgyAAQIMgAECDIABAgyAAQIMgAECDIABAgyAAQIMgAECDI\n",
       "ABAgyAAQIMgAECDIABAgyAAQIMgAECDIABAgyAAQIMgAECDIABAgyAAQIMgAECDIABAgyAAQIMgA\n",
       "ECDIABAgyAAQIMgAECDIABAgyAAQIMgAECDIABAgyAAQIMgAECDIABAgyAAQIMgAECDIABAgyAAQ\n",
       "IMgAECDIABAgyAAQIMgAECDIABAgyAAQIMgAECDIABAgyAAQIMgAECDIABAgyAAQIMgAECDIABAg\n",
       "yAAQIMgAECDIABAgyAAQIMgAECDIABAgyAAQIMgAECDIABAgyAAQIMgAECDIABAgyAAQIMgAECDI\n",
       "ABAgyAAQIMgAECDIABAgyAAQIMgAECDIABAgyAAQIMgAECDIABAgyAAQIMgAECDIABAgyAAQIMgA\n",
       "ECDIABAgyAAQIMgAECDIABAgyAAQIMgAECDIABAgyAAQIMgAECDIABAgyAAQIMgAECDIABAgyAAQ\n",
       "IMgAECDIABAgyAAQIMgAECDIABAgyAAQIMgAECDIABAgyAAQIMgAECDIABAgyAAQIMgAECDIABAg\n",
       "yAAQIMgAECDIABAgyAAQIMgAECDIABAgyAAQIMgAECDIABAgyAAQIMgAECDIABAgyAAQIMgAECDI\n",
       "ABAgyAAQIMgAECDIABAgyAAQIMgAECDIABAgyAAQIMgAECDIABAgyAAQIMgAECDIABAgyAAQIMgA\n",
       "ECDIABAgyAAQIMgAECDIABAgyAAQIMgAECDIABAgyAAQIMgAECDIABAgyAAQIMgAECDIABAgyAAQ\n",
       "IMgAECDIABAgyAAQIMgAECDIABAgyAAQIMgAECDIABAgyAAQIMgAECDIABAgyAAQIMgAECDIABAg\n",
       "yAAQIMgAECDIABAgyAAQIMgAECDIABAgyAAQIMgAECDIABAgyAAQIMgAECDIABAgyAAQIMgAECDI\n",
       "ABDw2x7AOTOzPeF53/dtT3ieO+B1fsgAECDIABAgyAAQIMgAECDIABAgyAAQIMgAECDIABAgyAAQ\n",
       "IMgAECDIABAgyAAQIMgAECDIABAgyAAQIMgAECDIABAgyAAQIMgAECDIABAgyAAQIMgAECDIABAg\n",
       "yAAQIMgAECDIABAgyAAQIMgAECDIABAgyAAQIMgAECDIABAgyAAQIMgAECDIABAgyAAQIMgAECDI\n",
       "ABAgyAAQIMgAECDIABAgyAAQIMgAECDIABAgyAAQIMgAECDIABAgyAAQIMgAECDIABAgyAAQIMgA\n",
       "ECDIABAgyAAQIMgAECDIABAgyAAQIMgAECDIABAgyAAQIMgAECDIABAgyAAQIMgAECDIABAgyAAQ\n",
       "IMgAECDIABAgyAAQIMgAECDIABAgyAAQIMgAECDIABAgyAAQIMgAECDIABAgyAAQIMgAECDIABAg\n",
       "yAAQIMgAECDIABAgyAAQIMgAECDIABAgyAAQIMgAECDIABAgyAAQIMgAECDIABAgyAAQIMgAECDI\n",
       "ABAgyAAQcM85sz3idTOeANh3792e8DQ/ZAAIEGQACBBkAAgQZAAIEGQACBBkAAgQZAAIEGQACBBk\n",
       "AAgQZAAIEGQACBBkAAgQZAAIEGQACBBkAAgQZAAIEGQACBBkAAgQZAAIEGQACBBkAAgQZAAIEGQA\n",
       "CBBkAAgQZAAIEGQACBBkAAgQZAAIEGQACBBkAAgQZAAIEGQACBBkAAgQZAAIEGQACBBkAAgQZAAI\n",
       "EGQACBBkAAgQZAAIEGQACBBkAAgQZAAIEGQACBBkAAgQZAAIEGQACBBkAAgQZAAIEGQACBBkAAgQ\n",
       "ZAAIEGQACBBkAAgQZAAIEGQACBBkAAgQZAAIEGQACBBkAAgQZAAIEGQACBBkAAgQZAAIEGQACBBk\n",
       "AAgQZAAIEGQACBBkAAgQZAAIEGQACBBkAAgQZAAIEGQACBBkAAgQZAAIEGQACBBkAAgQZAAIEGQA\n",
       "CBBkAAgQZAAIEGQACBBkAAgQZAAIEGQACBBkAAgQZAAIEGQACBBkAAgQZAAIEGQACBBkAAgQZAAI\n",
       "EGQACBBkAAj4zcz2hufde7cnABw92OWHDAABggwAAYIMAAGCDAABggwAAYIMAAGCDAABggwAAYIM\n",
       "AAGCDAABggwAAYIMAAGCDAABggwAAYIMAAGCDAABggwAAYIMAAGCDAABggwAAYIMAAGCDAABggwA\n",
       "AYIMAAGCDAABggwAAYIMAAGCDAABggwAAYIMAAGCDAABggwAAYIMAAGCDAABggwAAYIMAAGCDAAB\n",
       "ggwAAYIMAAGCDAABggwAAYIMAAGCDAABggwAAYIMAAGCDAABggwAAYIMAAGCDAABggwAAYIMAAGC\n",
       "DAABggwAAYIMAAGCDAABggwAAYIMAAGCDAABggwAAYIMAAGCDAABggwAAYIMAAGCDAABggwAAYIM\n",
       "AAGCDAABggwAAYIMAAGCDAABggwAAYIMAAGCDAABggwAAYIMAAGCDAABggwAAYIMAAGCDAABggwA\n",
       "AYIMAAGCDAABggwAAYIMAAGCDAABggwAAYIMAAGCDAABggwAAYIMAAGCDAABggwAAYIMAAGCDAAB\n",
       "ggwAAf9NrR89MrOKMAAAAABJRU5ErkJggg==\n",
       "\" transform=\"translate(69, 47)\"/>\n",
       "</g>\n",
       "</svg>\n"
      ]
     },
     "execution_count": 26,
     "metadata": {},
     "output_type": "execute_result"
    }
   ],
   "source": [
    "B,c = compressao(imagem, 4)\n",
    "plot(Gray.(1 .- B*c'), size=(150,150), axis=nothing)"
   ]
  },
  {
   "cell_type": "code",
   "execution_count": 27,
   "metadata": {},
   "outputs": [
    {
     "data": {
      "image/svg+xml": [
       "<?xml version=\"1.0\" encoding=\"utf-8\"?>\n",
       "<svg xmlns=\"http://www.w3.org/2000/svg\" xmlns:xlink=\"http://www.w3.org/1999/xlink\" width=\"150\" height=\"150\" viewBox=\"0 0 600 600\">\n",
       "<defs>\n",
       "  <clipPath id=\"clip370\">\n",
       "    <rect x=\"0\" y=\"0\" width=\"600\" height=\"600\"/>\n",
       "  </clipPath>\n",
       "</defs>\n",
       "<path clip-path=\"url(#clip370)\" d=\"\n",
       "M0 600 L600 600 L600 0 L0 0  Z\n",
       "  \" fill=\"#ffffff\" fill-rule=\"evenodd\" fill-opacity=\"1\"/>\n",
       "<defs>\n",
       "  <clipPath id=\"clip371\">\n",
       "    <rect x=\"120\" y=\"60\" width=\"421\" height=\"421\"/>\n",
       "  </clipPath>\n",
       "</defs>\n",
       "<path clip-path=\"url(#clip370)\" d=\"\n",
       "M68.9921 531.008 L552.756 531.008 L552.756 47.2441 L68.9921 47.2441  Z\n",
       "  \" fill=\"#ffffff\" fill-rule=\"evenodd\" fill-opacity=\"1\"/>\n",
       "<defs>\n",
       "  <clipPath id=\"clip372\">\n",
       "    <rect x=\"68\" y=\"47\" width=\"485\" height=\"485\"/>\n",
       "  </clipPath>\n",
       "</defs>\n",
       "<polyline clip-path=\"url(#clip370)\" style=\"stroke:#000000; stroke-width:4; stroke-opacity:1; fill:none\" points=\"\n",
       "  68.9921,531.008 552.756,531.008 \n",
       "  \"/>\n",
       "<polyline clip-path=\"url(#clip370)\" style=\"stroke:#000000; stroke-width:4; stroke-opacity:1; fill:none\" points=\"\n",
       "  68.9921,47.2441 68.9921,531.008 \n",
       "  \"/>\n",
       "<g clip-path=\"url(#clip372)\">\n",
       "<image width=\"484\" height=\"484\" xlink:href=\"data:image/png;base64,\n",
       "iVBORw0KGgoAAAANSUhEUgAAAeQAAAHkCAYAAADvrlz5AAAH5ElEQVR4nO3XgYkEMQwEQfu5xDdy\n",
       "fRhqcFUEA0Y0vjMzh1X33u0Jz3MG+9zBPnew6297AAAgyACQIMgAECDIABAgyAAQIMgAECDIABAg\n",
       "yAAQIMgAECDIABAgyAAQIMgAECDIABAgyAAQIMgAECDIABAgyAAQIMgAECDIABAgyAAQIMgAECDI\n",
       "ABAgyAAQIMgAECDIABAgyAAQIMgAECDIABAgyAAQIMgAECDIABAgyAAQIMgAECDIABAgyAAQIMgA\n",
       "ECDIABAgyAAQIMgAECDIABAgyAAQIMgAECDIABAgyAAQIMgAECDIABAgyAAQIMgAECDIABAgyAAQ\n",
       "IMgAECDIABAgyAAQIMgAECDIABAgyAAQIMgAECDIABAgyAAQIMgAECDIABAgyAAQIMgAECDIABAg\n",
       "yAAQIMgAECDIABAgyAAQIMgAECDIABAgyAAQIMgAECDIABAgyAAQIMgAECDIABAgyAAQIMgAECDI\n",
       "ABAgyAAQIMgAECDIABAgyAAQIMgAECDIABAgyAAQIMgAECDIABAgyAAQIMgAECDIABAgyAAQIMgA\n",
       "ECDIABAgyAAQIMgAECDIABAgyAAQIMgAECDIABAgyAAQIMgAECDIABAgyAAQIMgAECDIABAgyAAQ\n",
       "IMgAECDIABAgyAAQIMgAECDIABAgyAAQIMgAECDIABAgyAAQIMgAECDIABAgyAAQIMgAECDIABAg\n",
       "yAAQIMgAECDIABAgyAAQIMgAECDIABAgyAAQIMgAECDIABAgyAAQIMgAECDIABAgyAAQIMgAECDI\n",
       "ABAgyAAQIMgAECDIABAgyAAQIMgAECDIABAgyAAQIMgAECDIABAgyAAQIMgAECDIABAgyAAQIMgA\n",
       "ECDIABAgyAAQIMgAECDIABAgyAAQIMgAECDIABAgyAAQIMgAECDIABAgyAAQIMgAECDIABAgyAAQ\n",
       "IMgAECDIABAgyAAQIMgAECDIABAgyAAQIMgAECDIABAgyAAQIMgAECDIABAgyAAQIMgAECDIABAg\n",
       "yAAQIMgAECDIABAgyAAQIMgAECDIABAgyAAQIMgAECDIABAgyAAQIMgAECDIABAgyAAQIMgAECDI\n",
       "ABDw2x7AOTOzPeF53/dtT3ieO+B1fsgAECDIABAgyAAQIMgAECDIABAgyAAQIMgAECDIABAgyAAQ\n",
       "IMgAECDIABAgyAAQIMgAECDIABAgyAAQIMgAECDIABAgyAAQIMgAECDIABAgyAAQIMgAECDIABAg\n",
       "yAAQIMgAECDIABAgyAAQIMgAECDIABAgyAAQIMgAECDIABAgyAAQIMgAECDIABAgyAAQIMgAECDI\n",
       "ABAgyAAQIMgAECDIABAgyAAQIMgAECDIABAgyAAQIMgAECDIABAgyAAQIMgAECDIABAgyAAQIMgA\n",
       "ECDIABAgyAAQIMgAECDIABAgyAAQIMgAECDIABAgyAAQIMgAECDIABAgyAAQIMgAECDIABAgyAAQ\n",
       "IMgAECDIABAgyAAQIMgAECDIABAgyAAQIMgAECDIABAgyAAQIMgAECDIABAgyAAQIMgAECDIABAg\n",
       "yAAQIMgAECDIABAgyAAQIMgAECDIABAgyAAQIMgAECDIABAgyAAQIMgAECDIABAgyAAQIMgAECDI\n",
       "ABAgyAAQcM85sz3idTOeANh3792e8DQ/ZAAIEGQACBBkAAgQZAAIEGQACBBkAAgQZAAIEGQACBBk\n",
       "AAgQZAAIEGQACBBkAAgQZAAIEGQACBBkAAgQZAAIEGQACBBkAAgQZAAIEGQACBBkAAgQZAAIEGQA\n",
       "CBBkAAgQZAAIEGQACBBkAAgQZAAIEGQACBBkAAgQZAAIEGQACBBkAAgQZAAIEGQACBBkAAgQZAAI\n",
       "EGQACBBkAAgQZAAIEGQACBBkAAgQZAAIEGQACBBkAAgQZAAIEGQACBBkAAgQZAAIEGQACBBkAAgQ\n",
       "ZAAIEGQACBBkAAgQZAAIEGQACBBkAAgQZAAIEGQACBBkAAgQZAAIEGQACBBkAAgQZAAIEGQACBBk\n",
       "AAgQZAAIEGQACBBkAAgQZAAIEGQACBBkAAgQZAAIEGQACBBkAAgQZAAIEGQACBBkAAgQZAAIEGQA\n",
       "CBBkAAgQZAAIEGQACBBkAAgQZAAIEGQACBBkAAgQZAAIEGQACBBkAAgQZAAIEGQACBBkAAgQZAAI\n",
       "EGQACBBkAAj4zcz2hufde7cnABw92OWHDAABggwAAYIMAAGCDAABggwAAYIMAAGCDAABggwAAYIM\n",
       "AAGCDAABggwAAYIMAAGCDAABggwAAYIMAAGCDAABggwAAYIMAAGCDAABggwAAYIMAAGCDAABggwA\n",
       "AYIMAAGCDAABggwAAYIMAAGCDAABggwAAYIMAAGCDAABggwAAYIMAAGCDAABggwAAYIMAAGCDAAB\n",
       "ggwAAYIMAAGCDAABggwAAYIMAAGCDAABggwAAYIMAAGCDAABggwAAYIMAAGCDAABggwAAYIMAAGC\n",
       "DAABggwAAYIMAAGCDAABggwAAYIMAAGCDAABggwAAYIMAAGCDAABggwAAYIMAAGCDAABggwAAYIM\n",
       "AAGCDAABggwAAYIMAAGCDAABggwAAYIMAAGCDAABggwAAYIMAAGCDAABggwAAYIMAAGCDAABggwA\n",
       "AYIMAAGCDAABggwAAYIMAAGCDAABggwAAYIMAAGCDAABggwAAYIMAAGCDAABggwAAYIMAAGCDAAB\n",
       "ggwAAf/8zB9AU5qw8AAAAABJRU5ErkJggg==\n",
       "\" transform=\"translate(69, 47)\"/>\n",
       "</g>\n",
       "</svg>\n"
      ]
     },
     "execution_count": 27,
     "metadata": {},
     "output_type": "execute_result"
    }
   ],
   "source": [
    "B,c = compressao(imagem, 5)\n",
    "plot(Gray.(1 .- B*c'), size=(150,150), axis=nothing)"
   ]
  },
  {
   "attachments": {
    "image-2.png": {
     "image/png": "[encoded data removed]"
    },
    "image.png": {
     "image/png": "[encoded data removed]"
    }
   },
   "cell_type": "markdown",
   "metadata": {},
   "source": [
    "## Questão 8. (Luan) \n",
    "\n",
    "### Encontre (ou desenhe) uma imagem A, com mais ou menos $200 × 200$ pixels (pode ser um pouco maior), que\n",
    "\n",
    "#### (a) exija um nível de compressão maior que 3 e menor que 6 para recuperar pelo menos 99% de sua norma total.\n",
    "\n",
    "![image.png](attachment:image.png)\n",
    "\n",
    "#### (b) exija um nível de compressão maior que 40 para recuperar pelo menos 99% de sua norma total.\n",
    "\n",
    "![image-2.png](attachment:image-2.png)"
   ]
  },
  {
   "cell_type": "code",
   "execution_count": null,
   "metadata": {},
   "outputs": [],
   "source": []
  }
 ],
 "metadata": {
  "kernelspec": {
   "display_name": "Julia 1.6.0",
   "language": "julia",
   "name": "julia-1.6"
  },
  "language_info": {
   "file_extension": ".jl",
   "mimetype": "application/julia",
   "name": "julia",
   "version": "1.6.0"
  }
 },
 "nbformat": 4,
 "nbformat_minor": 5
}
