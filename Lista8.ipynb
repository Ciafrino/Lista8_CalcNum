{
 "cells": [
  {
   "cell_type": "markdown",
   "id": "e1b39f78-0327-48f7-bebb-ff6cd6c72e2f",
   "metadata": {},
   "source": [
    "# Lista 8 de Cálculo Numérico"
   ]
  },
  {
   "cell_type": "markdown",
   "id": "17f45cd8-a7cb-40fe-be3d-90328a24e368",
   "metadata": {},
   "source": [
    "## Questão 1."
   ]
  },
  {
   "cell_type": "markdown",
   "id": "1c5a0bab-d1fe-4694-8944-a823fad30624",
   "metadata": {},
   "source": [
    "### a. Compressão (Thierry)"
   ]
  },
  {
   "cell_type": "code",
   "execution_count": null,
   "id": "260a9f6f-04b2-49e5-b323-3c92608f00b5",
   "metadata": {},
   "outputs": [],
   "source": []
  },
  {
   "cell_type": "markdown",
   "id": "ac7a365a-994c-4ca5-a755-b5e877791f94",
   "metadata": {},
   "source": [
    "### b. Gauss-Jacobi (Vinicius)"
   ]
  },
  {
   "cell_type": "code",
   "execution_count": null,
   "id": "5afac649-47cb-4248-86ae-0a065b308de9",
   "metadata": {},
   "outputs": [],
   "source": []
  },
  {
   "cell_type": "markdown",
   "id": "e5eae266-441a-4b63-896f-c587ec541135",
   "metadata": {},
   "source": [
    "### c. Gauss-Seidel (Vinicius)"
   ]
  },
  {
   "cell_type": "code",
   "execution_count": null,
   "id": "e956ae88-b4ec-4702-964b-0bf6c30ce84a",
   "metadata": {},
   "outputs": [],
   "source": []
  },
  {
   "cell_type": "markdown",
   "id": "5d16f807-1900-4260-a08c-82c7fe664a6b",
   "metadata": {},
   "source": [
    "## Questão 2. (Thierry)"
   ]
  },
  {
   "cell_type": "code",
   "execution_count": null,
   "id": "a2944a48-5ab7-4db8-b5ad-a0a04f784bc7",
   "metadata": {},
   "outputs": [],
   "source": []
  },
  {
   "cell_type": "markdown",
   "id": "9a9e5837-8c9d-49d8-91bc-a8117640f407",
   "metadata": {},
   "source": [
    "## Questão 3. (Chris)"
   ]
  },
  {
   "cell_type": "code",
   "execution_count": null,
   "id": "00d8e73a-759c-46db-a7a1-8f40d65dd97a",
   "metadata": {},
   "outputs": [],
   "source": []
  },
  {
   "cell_type": "markdown",
   "id": "2c21b572-8ce1-40dc-b65b-4518353f7c3f",
   "metadata": {},
   "source": [
    "## Questão 4. (Thierry)"
   ]
  },
  {
   "cell_type": "code",
   "execution_count": null,
   "id": "3f2d2537-261e-4efc-ac39-45d055824852",
   "metadata": {},
   "outputs": [],
   "source": []
  },
  {
   "cell_type": "markdown",
   "id": "7c98c462-0df9-4ef9-9572-862f071d6205",
   "metadata": {},
   "source": [
    "## Questão 5. (Chris)"
   ]
  },
  {
   "cell_type": "code",
   "execution_count": null,
   "id": "6488f649-e96b-4899-893e-570383a8193e",
   "metadata": {},
   "outputs": [],
   "source": []
  },
  {
   "cell_type": "markdown",
   "id": "b6e17838-20e6-451c-bc5e-45b3352b52c7",
   "metadata": {},
   "source": [
    "## Questão 6. (Luan)"
   ]
  },
  {
   "cell_type": "code",
   "execution_count": null,
   "id": "a5f27da9-d32a-45c4-9492-60223dc1ca31",
   "metadata": {},
   "outputs": [],
   "source": []
  },
  {
   "cell_type": "markdown",
   "id": "58f6ced8-cbce-4e6a-8fa7-1599871035cb",
   "metadata": {},
   "source": [
    "## Questão 7. (Vinicius)"
   ]
  },
  {
   "cell_type": "code",
   "execution_count": null,
   "id": "aa3bb315-56f5-4bc9-a31e-2726b40b35b0",
   "metadata": {},
   "outputs": [],
   "source": []
  },
  {
   "cell_type": "markdown",
   "id": "8f0feed2-8066-40b7-b0db-5d8251493dc4",
   "metadata": {},
   "source": [
    "## Questão 8. (Luan)"
   ]
  },
  {
   "cell_type": "code",
   "execution_count": null,
   "id": "10aa6cc2-90d8-463c-903c-5cc6eb4c7a14",
   "metadata": {},
   "outputs": [],
   "source": []
  }
 ],
 "metadata": {
  "kernelspec": {
   "display_name": "Julia 1.5.4",
   "language": "julia",
   "name": "julia-1.5"
  },
  "language_info": {
   "file_extension": ".jl",
   "mimetype": "application/julia",
   "name": "julia",
   "version": "1.5.4"
  }
 },
 "nbformat": 4,
 "nbformat_minor": 5
}
