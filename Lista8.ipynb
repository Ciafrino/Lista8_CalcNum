{
 "cells": [
  {
   "cell_type": "markdown",
   "metadata": {},
   "source": [
    "# Lista 8 de Cálculo Numérico"
   ]
  },
  {
   "cell_type": "code",
   "execution_count": 8,
   "metadata": {},
   "outputs": [],
   "source": [
    "using LinearAlgebra # Para uso da função norm"
   ]
  },
  {
   "cell_type": "markdown",
   "metadata": {},
   "source": [
    "## Questão 1."
   ]
  },
  {
   "cell_type": "markdown",
   "metadata": {},
   "source": [
    "### a. Compressão (Thierry)"
   ]
  },
  {
   "cell_type": "markdown",
   "metadata": {},
   "source": [
    "### Compressão de Dados em Matrizes"
   ]
  },
  {
   "cell_type": "markdown",
   "metadata": {},
   "source": [
    "A ideia da compressão de dados é encontrarmos vetores base dentro da matriz tal que forneçam uma base para a composição de todos os dados. Porém, na vida real precisamos encontrar aproximações, visto que o uso de números reais acabam dificultando uma base L.I de poucos vetores representarem muitos dados.\n",
    "\n",
    "Na ideia simples, transformamos a matriz em uma multiplicação de duas matrizes, tal que a primeira seja os vetores base e a segunda os coeficientes das combinações lineares.\n",
    "\n",
    "Com a preocupação de se adequar aos números reais, começamos a analisar isso pelo erro da matriz original com a nova multiplicação das duas matrizes. Para quantificar o erro, usamos a ideia de norma de matriz, que é dada pela soma das normas de cada vetor (colunas) da matriz.\n",
    "\n",
    "Então, temos que dado a matriz A e o vetor b, precisamos determinar c tal que \n",
    "\n",
    "$$min ||A - [b][c^T]|| \\longrightarrow min ||[(a_1)(a_2)...(a_n)] - [c_1(b) c_2(b) ... c_n(b)]|| \\longrightarrow ||(a_1 - c_1b)(a_2-c_2b)...(a_n-c_nb)||$$\n",
    "\n",
    "Visto que $e_n = a_n - c_nb \\space \\bot \\space c_nb$, pelo produto interno temos que $e_n^Tc_nb = 0 \\longrightarrow (a_n - c_nb)^Tc_nb = 0$. Aplicando a transposta tal que $(M.Q)^T = Q^T.M^T$ e $(M - Q)^T = M^T - Q^T$ obtemos:\n",
    "\n",
    "$$(a_n - c_nb)^Tc_nb = 0 \\longrightarrow (a_n^T - (c_nb)^T)c_nb = 0 \\longrightarrow a_n^Tc_nb - c_n^2b^Tb = 0 \\longrightarrow a_n^Tc_nb = c_n^2b^Tb $$\n",
    "\n",
    "Desconsiderando o caso em que $c_n = 0$ pois é um caso muito trivial, podemos dividir a equação em ambos os lados por $c_n$, resultando em:\n",
    "\n",
    "$$a_n^Tb = c_nb^Tb \\longrightarrow c_n = \\frac{a_n^Tb}{b^Tb}$$\n",
    "\n",
    "A partir da análise feita acima podemos escrever um código em Julia para achar o vetor c:"
   ]
  },
  {
   "cell_type": "code",
   "execution_count": 2,
   "metadata": {},
   "outputs": [
    {
     "data": {
      "text/plain": [
       "melhores_coords (generic function with 1 method)"
      ]
     },
     "execution_count": 2,
     "metadata": {},
     "output_type": "execute_result"
    }
   ],
   "source": [
    "function melhores_coords(A,b) #retorna c tal que norm(A-b*c') é mínima\n",
    "    m, n = size(A)\n",
    "    A = 1.0 * A # multiplica-se por 1.0 para evitar erros de operações matriciais entre inteiros e float's.\n",
    "    c = zeros(n)    \n",
    "    c = A'*(b/(b'*b)) # Operação para achar o vetor c que minimiza a distância perpendicular à reta.\n",
    "    return c\n",
    "end"
   ]
  },
  {
   "cell_type": "code",
   "execution_count": 3,
   "metadata": {},
   "outputs": [
    {
     "data": {
      "text/plain": [
       "3×3 Matrix{Float64}:\n",
       " 1.0001  10.001  3.0\n",
       " 2.01    20.3    6.0\n",
       " 3.003   30.0    9.0"
      ]
     },
     "execution_count": 3,
     "metadata": {},
     "output_type": "execute_result"
    }
   ],
   "source": [
    "A=[1.0001 10.001 3;2.01 20.3 6;3.003 30 9]"
   ]
  },
  {
   "cell_type": "code",
   "execution_count": 4,
   "metadata": {},
   "outputs": [
    {
     "data": {
      "text/plain": [
       "3-element Vector{Int64}:\n",
       " 1\n",
       " 2\n",
       " 3"
      ]
     },
     "execution_count": 4,
     "metadata": {},
     "output_type": "execute_result"
    }
   ],
   "source": [
    "b=[1;2;3]"
   ]
  },
  {
   "cell_type": "code",
   "execution_count": 5,
   "metadata": {},
   "outputs": [
    {
     "data": {
      "text/plain": [
       "3-element Vector{Float64}:\n",
       "  1.0020785714285714\n",
       " 10.04292857142857\n",
       "  3.0"
      ]
     },
     "execution_count": 5,
     "metadata": {},
     "output_type": "execute_result"
    }
   ],
   "source": [
    "c=melhores_coords(A,b)"
   ]
  },
  {
   "cell_type": "code",
   "execution_count": 9,
   "metadata": {},
   "outputs": [
    {
     "data": {
      "text/plain": [
       "0.2534747564213406"
      ]
     },
     "execution_count": 9,
     "metadata": {},
     "output_type": "execute_result"
    }
   ],
   "source": [
    "norm(A-b*c')"
   ]
  },
  {
   "cell_type": "code",
   "execution_count": 10,
   "metadata": {},
   "outputs": [
    {
     "data": {
      "text/plain": [
       "acha_melhor_minimizacao (generic function with 1 method)"
      ]
     },
     "execution_count": 10,
     "metadata": {},
     "output_type": "execute_result"
    }
   ],
   "source": [
    "function acha_melhor_minimizacao(A)\n",
    "    n,m = size(A)\n",
    "\n",
    "    bv = randn(n)\n",
    "    cv = randn(m)\n",
    "    \n",
    "    bw = zeros(m)\n",
    "    cw = zeros(n)\n",
    "    \n",
    "    for i in 1:50\n",
    "        cv=melhores_coords(A, bv)\n",
    "        bw=cv\n",
    "        cw=melhores_coords(A', bw)\n",
    "        bv=cw\n",
    "    end\n",
    "    \n",
    "    return bv,cv\n",
    "end"
   ]
  },
  {
   "cell_type": "code",
   "execution_count": 11,
   "metadata": {},
   "outputs": [
    {
     "data": {
      "text/plain": [
       "compressao (generic function with 1 method)"
      ]
     },
     "execution_count": 11,
     "metadata": {},
     "output_type": "execute_result"
    }
   ],
   "source": [
    "function compressao(A,nível)\n",
    "    m,n=size(A)\n",
    "    B=zeros(m,nível)\n",
    "    C=zeros(n,nível)\n",
    "    \n",
    "    for i=1:nível\n",
    "        B[:,i], C[:,i] = acha_melhor_minimizacao(A)\n",
    "        A= A - B[:,i]*C[:,i]'\n",
    "    end\n",
    "    return B,C\n",
    "end"
   ]
  },
  {
   "cell_type": "code",
   "execution_count": 12,
   "metadata": {},
   "outputs": [
    {
     "data": {
      "text/plain": [
       "3×4 Matrix{Float64}:\n",
       " -0.160816   2.31884    -0.435174  0.392454\n",
       " -1.75984   -1.01735    -0.3824    0.224054\n",
       "  0.872807  -0.0267881  -0.105852  2.90635"
      ]
     },
     "execution_count": 12,
     "metadata": {},
     "output_type": "execute_result"
    }
   ],
   "source": [
    "A = randn(3,4)"
   ]
  },
  {
   "cell_type": "code",
   "execution_count": 13,
   "metadata": {},
   "outputs": [
    {
     "data": {
      "text/plain": [
       "([-0.5662597655101601 -0.797658084119734 2.7735692711193933; 0.42058161168373775 0.5268095302073903 4.114842035801667; -1.554043288436568 0.4332235000686877 0.10299984005737532], [-0.6885533763638839 -0.3819492758450379 -0.3084043681711147; -0.5834376457095105 -2.17636199699255 0.091025958433934; 0.08586521400937591 0.09061557608269888 -0.11330933272319452; -1.5946615140750595 0.9660637667964911 0.09376006549304033])"
      ]
     },
     "execution_count": 13,
     "metadata": {},
     "output_type": "execute_result"
    }
   ],
   "source": [
    "B,C = compressao(A,3)"
   ]
  },
  {
   "cell_type": "code",
   "execution_count": 14,
   "metadata": {},
   "outputs": [
    {
     "data": {
      "text/plain": [
       "5.110461207377096e-16"
      ]
     },
     "execution_count": 14,
     "metadata": {},
     "output_type": "execute_result"
    }
   ],
   "source": [
    "norm(A-B*C')"
   ]
  },
  {
   "cell_type": "code",
   "execution_count": 15,
   "metadata": {},
   "outputs": [
    {
     "name": "stdout",
     "output_type": "stream",
     "text": [
      "1: 17.74264414821714\n",
      "2: 15.981264749704538\n",
      "3: 14.45888837473977\n",
      "4: 12.926533969059475\n",
      "5: 11.407449193163298\n",
      "6: 10.157298165931056\n",
      "7: 9.041313255542105\n",
      "8: 7.884793950698458\n",
      "9: 6.922988960680465\n",
      "10: 5.870362946719035\n",
      "11: 5.047332584439586\n",
      "12: 4.144838076839678\n",
      "13: 3.246690352481172\n",
      "14: 2.381988228048469\n",
      "15: 1.5442076968775071\n",
      "16: 1.0953321105055063\n",
      "17: 0.7508102837520597\n",
      "18: 0.33170693393622214\n",
      "19: 0.08747632377829191\n",
      "20: 4.950096130911357e-15\n"
     ]
    }
   ],
   "source": [
    "# Chance pequena de existirem colunas Linearmente Dependentes\n",
    "N = 20\n",
    "A = randn(N, N)\n",
    "for i in 1:N\n",
    "    B,C = compressao(A, i)\n",
    "    print(i, \": \", norm(A-B*C'), \"\\n\")\n",
    "end"
   ]
  },
  {
   "cell_type": "code",
   "execution_count": 16,
   "metadata": {},
   "outputs": [
    {
     "name": "stdout",
     "output_type": "stream",
     "text": [
      "3.445628625312982e-14\n",
      "0.0\n",
      "0.0\n",
      "NaN\n",
      "NaN\n",
      "NaN\n",
      "NaN\n",
      "0.0\n",
      "NaN\n",
      "NaN\n"
     ]
    }
   ],
   "source": [
    "N = 20\n",
    "A = zeros(N, N)\n",
    "for i in 1:N\n",
    "    A[:, i] .= i\n",
    "end\n",
    "for i in 1:10\n",
    "    B,C = compressao(A, i)\n",
    "    print(norm(A-B*C'), \"\\n\")\n",
    "end"
   ]
  },
  {
   "cell_type": "markdown",
   "metadata": {},
   "source": [
    "### b. Gauss-Jacobi (Vinicius)"
   ]
  },
  {
   "cell_type": "code",
   "execution_count": null,
   "metadata": {},
   "outputs": [],
   "source": []
  },
  {
   "cell_type": "markdown",
   "metadata": {},
   "source": [
    "### c. Gauss-Seidel (Vinicius)"
   ]
  },
  {
   "cell_type": "code",
   "execution_count": null,
   "metadata": {},
   "outputs": [],
   "source": []
  },
  {
   "cell_type": "markdown",
   "metadata": {},
   "source": [
    "## Questão 2. (Thierry)"
   ]
  },
  {
   "cell_type": "code",
   "execution_count": null,
   "metadata": {},
   "outputs": [],
   "source": []
  },
  {
   "cell_type": "markdown",
   "metadata": {},
   "source": [
    "## Questão 3. (Chris)"
   ]
  },
  {
   "cell_type": "code",
   "execution_count": null,
   "metadata": {},
   "outputs": [],
   "source": []
  },
  {
   "cell_type": "markdown",
   "metadata": {},
   "source": [
    "## Questão 4. (Thierry)"
   ]
  },
  {
   "cell_type": "code",
   "execution_count": null,
   "metadata": {},
   "outputs": [],
   "source": []
  },
  {
   "cell_type": "markdown",
   "metadata": {},
   "source": [
    "## Questão 5. (Chris)"
   ]
  },
  {
   "cell_type": "code",
   "execution_count": null,
   "metadata": {},
   "outputs": [],
   "source": []
  },
  {
   "cell_type": "markdown",
   "metadata": {},
   "source": [
    "## Questão 6. (Luan)"
   ]
  },
  {
   "cell_type": "code",
   "execution_count": null,
   "metadata": {},
   "outputs": [],
   "source": []
  },
  {
   "cell_type": "markdown",
   "metadata": {},
   "source": [
    "## Questão 7. (Vinicius)"
   ]
  },
  {
   "cell_type": "code",
   "execution_count": null,
   "metadata": {},
   "outputs": [],
   "source": []
  },
  {
   "cell_type": "markdown",
   "metadata": {},
   "source": [
    "## Questão 8. (Luan)"
   ]
  },
  {
   "cell_type": "code",
   "execution_count": null,
   "metadata": {},
   "outputs": [],
   "source": []
  }
 ],
 "metadata": {
  "kernelspec": {
   "display_name": "Julia 1.6.0",
   "language": "julia",
   "name": "julia-1.6"
  },
  "language_info": {
   "file_extension": ".jl",
   "mimetype": "application/julia",
   "name": "julia",
   "version": "1.6.0"
  }
 },
 "nbformat": 4,
 "nbformat_minor": 5
}
